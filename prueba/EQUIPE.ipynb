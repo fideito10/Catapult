{
 "cells": [
  {
   "cell_type": "code",
   "execution_count": 1,
   "id": "4d6fae9d",
   "metadata": {},
   "outputs": [
    {
     "name": "stdout",
     "output_type": "stream",
     "text": [
      "         Date Session Title       Player Name Split Name      Tags  \\\n",
      "0  15/04/2025   martes 15-4   Orrico Santiago        all  training   \n",
      "1  15/04/2025   martes 15-4     Espinosa Fede        all  training   \n",
      "2  15/04/2025   martes 15-4  Rivera Cano Blas        all  training   \n",
      "3  15/04/2025   martes 15-4  Esquerren Fermin        all  training   \n",
      "4  15/04/2025   martes 15-4    Urrejola Fabio        all  training   \n",
      "\n",
      "  Split Start Time Split End Time  Duration  Distance (km)  \\\n",
      "0       45762,8417     45762,9045      5426              6   \n",
      "1       45762,8383     45762,9316      8058              6   \n",
      "2        45762,788     45762,9321     12457              7   \n",
      "3       45762,8383     45762,9329      8175              6   \n",
      "4       45762,8383     45762,9091      6115              5   \n",
      "\n",
      "   Sprint Distance (m)  ...  Accelerations Zone Count: 2 - 3 m/s/s  \\\n",
      "0                 2033  ...                                      0   \n",
      "1                 2108  ...                                      0   \n",
      "2                 1142  ...                                      0   \n",
      "3                 1795  ...                                      0   \n",
      "4                  586  ...                                      0   \n",
      "\n",
      "   Accelerations Zone Count: 3 - 4 m/s/s  Accelerations Zone Count: > 4 m/s/s  \\\n",
      "0                                     17                                   14   \n",
      "1                                     26                                   32   \n",
      "2                                     30                                   32   \n",
      "3                                     60                                   29   \n",
      "4                                     45                                   32   \n",
      "\n",
      "   Deceleration Zone Count: 0 - 1 m/s/s  Deceleration Zone Count: 1 - 2 m/s/s  \\\n",
      "0                                    38                                    24   \n",
      "1                                    37                                    38   \n",
      "2                                    55                                    15   \n",
      "3                                    50                                    19   \n",
      "4                                    42                                     2   \n",
      "\n",
      "   Deceleration Zone Count: 2 - 3 m/s/s  Deceleration Zone Count: 3 - 4 m/s/s  \\\n",
      "0                                     0                                    19   \n",
      "1                                     0                                    41   \n",
      "2                                     0                                    44   \n",
      "3                                     0                                    66   \n",
      "4                                     0                                    56   \n",
      "\n",
      "   Deceleration Zone Count: > 4 m/s/s  Unnamed: 98  Unnamed: 99  \n",
      "0                                  42            3           27  \n",
      "1                                  49           21           14  \n",
      "2                                  42           25            9  \n",
      "3                                  55           20           16  \n",
      "4                                  56            9            0  \n",
      "\n",
      "[5 rows x 100 columns]\n"
     ]
    }
   ],
   "source": [
    "# Método alternativo usando pandas directamente\n",
    "import pandas as pd\n",
    "\n",
    "# URL en formato CSV (adaptamos la URL del documento)\n",
    "sheet_id = \"1kajUuZwL9l1suipRNy7t2g_SGJUcDVh6MeTu66yK-Z4\"\n",
    "url = f\"https://docs.google.com/spreadsheets/d/{sheet_id}/export?format=csv\"\n",
    "\n",
    "try:\n",
    "    # Leer directamente como DataFrame\n",
    "    df = pd.read_csv(url)\n",
    "    \n",
    "    # Mostrar primeros registros\n",
    "    print(df.head())\n",
    "except Exception as e:\n",
    "    print(f\"Error al acceder al documento: {e}\")\n",
    "    print(\"Nota: Este método solo funciona si la hoja es pública o tienes permisos de acceso.\")"
   ]
  },
  {
   "cell_type": "code",
   "execution_count": 2,
   "id": "2babbd96",
   "metadata": {},
   "outputs": [
    {
     "data": {
      "text/html": [
       "<div>\n",
       "<style scoped>\n",
       "    .dataframe tbody tr th:only-of-type {\n",
       "        vertical-align: middle;\n",
       "    }\n",
       "\n",
       "    .dataframe tbody tr th {\n",
       "        vertical-align: top;\n",
       "    }\n",
       "\n",
       "    .dataframe thead th {\n",
       "        text-align: right;\n",
       "    }\n",
       "</style>\n",
       "<table border=\"1\" class=\"dataframe\">\n",
       "  <thead>\n",
       "    <tr style=\"text-align: right;\">\n",
       "      <th></th>\n",
       "      <th>Date</th>\n",
       "      <th>Session Title</th>\n",
       "      <th>Player Name</th>\n",
       "      <th>Split Name</th>\n",
       "      <th>Tags</th>\n",
       "      <th>Split Start Time</th>\n",
       "      <th>Split End Time</th>\n",
       "      <th>Duration</th>\n",
       "      <th>Distance (km)</th>\n",
       "      <th>Sprint Distance (m)</th>\n",
       "      <th>...</th>\n",
       "      <th>Accelerations Zone Count: 2 - 3 m/s/s</th>\n",
       "      <th>Accelerations Zone Count: 3 - 4 m/s/s</th>\n",
       "      <th>Accelerations Zone Count: &gt; 4 m/s/s</th>\n",
       "      <th>Deceleration Zone Count: 0 - 1 m/s/s</th>\n",
       "      <th>Deceleration Zone Count: 1 - 2 m/s/s</th>\n",
       "      <th>Deceleration Zone Count: 2 - 3 m/s/s</th>\n",
       "      <th>Deceleration Zone Count: 3 - 4 m/s/s</th>\n",
       "      <th>Deceleration Zone Count: &gt; 4 m/s/s</th>\n",
       "      <th>Unnamed: 98</th>\n",
       "      <th>Unnamed: 99</th>\n",
       "    </tr>\n",
       "  </thead>\n",
       "  <tbody>\n",
       "    <tr>\n",
       "      <th>0</th>\n",
       "      <td>15/04/2025</td>\n",
       "      <td>martes 15-4</td>\n",
       "      <td>Orrico Santiago</td>\n",
       "      <td>all</td>\n",
       "      <td>training</td>\n",
       "      <td>45762,8417</td>\n",
       "      <td>45762,9045</td>\n",
       "      <td>5426</td>\n",
       "      <td>6</td>\n",
       "      <td>2033</td>\n",
       "      <td>...</td>\n",
       "      <td>0</td>\n",
       "      <td>17</td>\n",
       "      <td>14</td>\n",
       "      <td>38</td>\n",
       "      <td>24</td>\n",
       "      <td>0</td>\n",
       "      <td>19</td>\n",
       "      <td>42</td>\n",
       "      <td>3</td>\n",
       "      <td>27</td>\n",
       "    </tr>\n",
       "    <tr>\n",
       "      <th>1</th>\n",
       "      <td>15/04/2025</td>\n",
       "      <td>martes 15-4</td>\n",
       "      <td>Espinosa Fede</td>\n",
       "      <td>all</td>\n",
       "      <td>training</td>\n",
       "      <td>45762,8383</td>\n",
       "      <td>45762,9316</td>\n",
       "      <td>8058</td>\n",
       "      <td>6</td>\n",
       "      <td>2108</td>\n",
       "      <td>...</td>\n",
       "      <td>0</td>\n",
       "      <td>26</td>\n",
       "      <td>32</td>\n",
       "      <td>37</td>\n",
       "      <td>38</td>\n",
       "      <td>0</td>\n",
       "      <td>41</td>\n",
       "      <td>49</td>\n",
       "      <td>21</td>\n",
       "      <td>14</td>\n",
       "    </tr>\n",
       "    <tr>\n",
       "      <th>2</th>\n",
       "      <td>15/04/2025</td>\n",
       "      <td>martes 15-4</td>\n",
       "      <td>Rivera Cano Blas</td>\n",
       "      <td>all</td>\n",
       "      <td>training</td>\n",
       "      <td>45762,788</td>\n",
       "      <td>45762,9321</td>\n",
       "      <td>12457</td>\n",
       "      <td>7</td>\n",
       "      <td>1142</td>\n",
       "      <td>...</td>\n",
       "      <td>0</td>\n",
       "      <td>30</td>\n",
       "      <td>32</td>\n",
       "      <td>55</td>\n",
       "      <td>15</td>\n",
       "      <td>0</td>\n",
       "      <td>44</td>\n",
       "      <td>42</td>\n",
       "      <td>25</td>\n",
       "      <td>9</td>\n",
       "    </tr>\n",
       "    <tr>\n",
       "      <th>3</th>\n",
       "      <td>15/04/2025</td>\n",
       "      <td>martes 15-4</td>\n",
       "      <td>Esquerren Fermin</td>\n",
       "      <td>all</td>\n",
       "      <td>training</td>\n",
       "      <td>45762,8383</td>\n",
       "      <td>45762,9329</td>\n",
       "      <td>8175</td>\n",
       "      <td>6</td>\n",
       "      <td>1795</td>\n",
       "      <td>...</td>\n",
       "      <td>0</td>\n",
       "      <td>60</td>\n",
       "      <td>29</td>\n",
       "      <td>50</td>\n",
       "      <td>19</td>\n",
       "      <td>0</td>\n",
       "      <td>66</td>\n",
       "      <td>55</td>\n",
       "      <td>20</td>\n",
       "      <td>16</td>\n",
       "    </tr>\n",
       "    <tr>\n",
       "      <th>4</th>\n",
       "      <td>15/04/2025</td>\n",
       "      <td>martes 15-4</td>\n",
       "      <td>Urrejola Fabio</td>\n",
       "      <td>all</td>\n",
       "      <td>training</td>\n",
       "      <td>45762,8383</td>\n",
       "      <td>45762,9091</td>\n",
       "      <td>6115</td>\n",
       "      <td>5</td>\n",
       "      <td>586</td>\n",
       "      <td>...</td>\n",
       "      <td>0</td>\n",
       "      <td>45</td>\n",
       "      <td>32</td>\n",
       "      <td>42</td>\n",
       "      <td>2</td>\n",
       "      <td>0</td>\n",
       "      <td>56</td>\n",
       "      <td>56</td>\n",
       "      <td>9</td>\n",
       "      <td>0</td>\n",
       "    </tr>\n",
       "    <tr>\n",
       "      <th>5</th>\n",
       "      <td>15/04/2025</td>\n",
       "      <td>martes 15-4</td>\n",
       "      <td>Lorito</td>\n",
       "      <td>all</td>\n",
       "      <td>training</td>\n",
       "      <td>45762,8389</td>\n",
       "      <td>45762,9312</td>\n",
       "      <td>7974</td>\n",
       "      <td>6</td>\n",
       "      <td>682</td>\n",
       "      <td>...</td>\n",
       "      <td>0</td>\n",
       "      <td>46</td>\n",
       "      <td>51</td>\n",
       "      <td>26</td>\n",
       "      <td>24</td>\n",
       "      <td>0</td>\n",
       "      <td>87</td>\n",
       "      <td>52</td>\n",
       "      <td>26</td>\n",
       "      <td>6</td>\n",
       "    </tr>\n",
       "    <tr>\n",
       "      <th>6</th>\n",
       "      <td>15/04/2025</td>\n",
       "      <td>martes 15-4</td>\n",
       "      <td>Cechi Mateo</td>\n",
       "      <td>all</td>\n",
       "      <td>training</td>\n",
       "      <td>45762,842</td>\n",
       "      <td>45762,9314</td>\n",
       "      <td>7719</td>\n",
       "      <td>7</td>\n",
       "      <td>2467</td>\n",
       "      <td>...</td>\n",
       "      <td>0</td>\n",
       "      <td>40</td>\n",
       "      <td>29</td>\n",
       "      <td>47</td>\n",
       "      <td>28</td>\n",
       "      <td>0</td>\n",
       "      <td>41</td>\n",
       "      <td>55</td>\n",
       "      <td>19</td>\n",
       "      <td>17</td>\n",
       "    </tr>\n",
       "    <tr>\n",
       "      <th>7</th>\n",
       "      <td>15/04/2025</td>\n",
       "      <td>martes 15-4</td>\n",
       "      <td>Fer Fernandez</td>\n",
       "      <td>all</td>\n",
       "      <td>training</td>\n",
       "      <td>45762,8413</td>\n",
       "      <td>45762,9502</td>\n",
       "      <td>9411</td>\n",
       "      <td>7</td>\n",
       "      <td>2143</td>\n",
       "      <td>...</td>\n",
       "      <td>0</td>\n",
       "      <td>50</td>\n",
       "      <td>27</td>\n",
       "      <td>48</td>\n",
       "      <td>36</td>\n",
       "      <td>0</td>\n",
       "      <td>58</td>\n",
       "      <td>45</td>\n",
       "      <td>20</td>\n",
       "      <td>26</td>\n",
       "    </tr>\n",
       "    <tr>\n",
       "      <th>8</th>\n",
       "      <td>22/04/2025</td>\n",
       "      <td>martes 22-4</td>\n",
       "      <td>Espinosa Fede</td>\n",
       "      <td>all</td>\n",
       "      <td>training</td>\n",
       "      <td>45769,8485</td>\n",
       "      <td>45769,9239</td>\n",
       "      <td>6511</td>\n",
       "      <td>6</td>\n",
       "      <td>1003</td>\n",
       "      <td>...</td>\n",
       "      <td>0</td>\n",
       "      <td>48</td>\n",
       "      <td>48</td>\n",
       "      <td>32</td>\n",
       "      <td>20</td>\n",
       "      <td>0</td>\n",
       "      <td>62</td>\n",
       "      <td>53</td>\n",
       "      <td>23</td>\n",
       "      <td>9</td>\n",
       "    </tr>\n",
       "    <tr>\n",
       "      <th>9</th>\n",
       "      <td>22/04/2025</td>\n",
       "      <td>martes 22-4</td>\n",
       "      <td>Orrico Santiago</td>\n",
       "      <td>all</td>\n",
       "      <td>training</td>\n",
       "      <td>45769,8535</td>\n",
       "      <td>45769,9244</td>\n",
       "      <td>6126</td>\n",
       "      <td>6</td>\n",
       "      <td>1023</td>\n",
       "      <td>...</td>\n",
       "      <td>0</td>\n",
       "      <td>61</td>\n",
       "      <td>43</td>\n",
       "      <td>34</td>\n",
       "      <td>19</td>\n",
       "      <td>0</td>\n",
       "      <td>65</td>\n",
       "      <td>56</td>\n",
       "      <td>23</td>\n",
       "      <td>13</td>\n",
       "    </tr>\n",
       "  </tbody>\n",
       "</table>\n",
       "<p>10 rows × 100 columns</p>\n",
       "</div>"
      ],
      "text/plain": [
       "         Date Session Title       Player Name Split Name      Tags  \\\n",
       "0  15/04/2025   martes 15-4   Orrico Santiago        all  training   \n",
       "1  15/04/2025   martes 15-4     Espinosa Fede        all  training   \n",
       "2  15/04/2025   martes 15-4  Rivera Cano Blas        all  training   \n",
       "3  15/04/2025   martes 15-4  Esquerren Fermin        all  training   \n",
       "4  15/04/2025   martes 15-4    Urrejola Fabio        all  training   \n",
       "5  15/04/2025   martes 15-4            Lorito        all  training   \n",
       "6  15/04/2025   martes 15-4       Cechi Mateo        all  training   \n",
       "7  15/04/2025   martes 15-4     Fer Fernandez        all  training   \n",
       "8  22/04/2025   martes 22-4     Espinosa Fede        all  training   \n",
       "9  22/04/2025   martes 22-4   Orrico Santiago        all  training   \n",
       "\n",
       "  Split Start Time Split End Time  Duration  Distance (km)  \\\n",
       "0       45762,8417     45762,9045      5426              6   \n",
       "1       45762,8383     45762,9316      8058              6   \n",
       "2        45762,788     45762,9321     12457              7   \n",
       "3       45762,8383     45762,9329      8175              6   \n",
       "4       45762,8383     45762,9091      6115              5   \n",
       "5       45762,8389     45762,9312      7974              6   \n",
       "6        45762,842     45762,9314      7719              7   \n",
       "7       45762,8413     45762,9502      9411              7   \n",
       "8       45769,8485     45769,9239      6511              6   \n",
       "9       45769,8535     45769,9244      6126              6   \n",
       "\n",
       "   Sprint Distance (m)  ...  Accelerations Zone Count: 2 - 3 m/s/s  \\\n",
       "0                 2033  ...                                      0   \n",
       "1                 2108  ...                                      0   \n",
       "2                 1142  ...                                      0   \n",
       "3                 1795  ...                                      0   \n",
       "4                  586  ...                                      0   \n",
       "5                  682  ...                                      0   \n",
       "6                 2467  ...                                      0   \n",
       "7                 2143  ...                                      0   \n",
       "8                 1003  ...                                      0   \n",
       "9                 1023  ...                                      0   \n",
       "\n",
       "   Accelerations Zone Count: 3 - 4 m/s/s  Accelerations Zone Count: > 4 m/s/s  \\\n",
       "0                                     17                                   14   \n",
       "1                                     26                                   32   \n",
       "2                                     30                                   32   \n",
       "3                                     60                                   29   \n",
       "4                                     45                                   32   \n",
       "5                                     46                                   51   \n",
       "6                                     40                                   29   \n",
       "7                                     50                                   27   \n",
       "8                                     48                                   48   \n",
       "9                                     61                                   43   \n",
       "\n",
       "   Deceleration Zone Count: 0 - 1 m/s/s  Deceleration Zone Count: 1 - 2 m/s/s  \\\n",
       "0                                    38                                    24   \n",
       "1                                    37                                    38   \n",
       "2                                    55                                    15   \n",
       "3                                    50                                    19   \n",
       "4                                    42                                     2   \n",
       "5                                    26                                    24   \n",
       "6                                    47                                    28   \n",
       "7                                    48                                    36   \n",
       "8                                    32                                    20   \n",
       "9                                    34                                    19   \n",
       "\n",
       "   Deceleration Zone Count: 2 - 3 m/s/s  Deceleration Zone Count: 3 - 4 m/s/s  \\\n",
       "0                                     0                                    19   \n",
       "1                                     0                                    41   \n",
       "2                                     0                                    44   \n",
       "3                                     0                                    66   \n",
       "4                                     0                                    56   \n",
       "5                                     0                                    87   \n",
       "6                                     0                                    41   \n",
       "7                                     0                                    58   \n",
       "8                                     0                                    62   \n",
       "9                                     0                                    65   \n",
       "\n",
       "   Deceleration Zone Count: > 4 m/s/s  Unnamed: 98  Unnamed: 99  \n",
       "0                                  42            3           27  \n",
       "1                                  49           21           14  \n",
       "2                                  42           25            9  \n",
       "3                                  55           20           16  \n",
       "4                                  56            9            0  \n",
       "5                                  52           26            6  \n",
       "6                                  55           19           17  \n",
       "7                                  45           20           26  \n",
       "8                                  53           23            9  \n",
       "9                                  56           23           13  \n",
       "\n",
       "[10 rows x 100 columns]"
      ]
     },
     "execution_count": 2,
     "metadata": {},
     "output_type": "execute_result"
    }
   ],
   "source": [
    "df.head(10)"
   ]
  },
  {
   "cell_type": "code",
   "execution_count": 3,
   "id": "8c5818e4",
   "metadata": {},
   "outputs": [
    {
     "name": "stdout",
     "output_type": "stream",
     "text": [
      "No se pudieron calcular los resultados o no hay suficientes datos.\n"
     ]
    },
    {
     "name": "stderr",
     "output_type": "stream",
     "text": [
      "C:\\Users\\dell\\AppData\\Local\\Temp\\ipykernel_12152\\907127137.py:29: UserWarning: Parsing dates in %d/%m/%Y format when dayfirst=False (the default) was specified. Pass `dayfirst=True` or specify a format to silence this warning.\n",
      "  dataframe[fecha_columna] = pd.to_datetime(dataframe[fecha_columna])\n"
     ]
    }
   ],
   "source": [
    "# Importar bibliotecas necesarias\n",
    "import pandas as pd\n",
    "import matplotlib.pyplot as plt\n",
    "import numpy as np\n",
    "import datetime as dt\n",
    "import matplotlib.dates as mdates\n",
    "from matplotlib.ticker import MaxNLocator\n",
    "\n",
    "# Función para calcular el ratio Agudo:Crónico\n",
    "def calcular_ratio_AC(dataframe, fecha_columna='Date', distancia_columna='Distance (km)', \n",
    "                       agudo_ventana=7, cronico_ventana=28, session_columna='Session Title'):\n",
    "    \"\"\"\n",
    "    Calcula el ratio Agudo:Crónico (AC) basado en la distancia recorrida.\n",
    "    \n",
    "    Parámetros:\n",
    "    - dataframe: DataFrame con los datos\n",
    "    - fecha_columna: Nombre de la columna con las fechas\n",
    "    - distancia_columna: Nombre de la columna con las distancias en km\n",
    "    - agudo_ventana: Ventana para calcular la carga aguda (por defecto: 7 días)\n",
    "    - cronico_ventana: Ventana para calcular la carga crónica (por defecto: 28 días)\n",
    "    - session_columna: Nombre de la columna con el título de la sesión/partido\n",
    "    \n",
    "    Retorna:\n",
    "    - DataFrame con fechas, distancias por partido, carga aguda, carga crónica y ratio A:C\n",
    "    \"\"\"\n",
    "    # Asegurarse que la fecha esté en formato datetime\n",
    "    try:\n",
    "        if isinstance(dataframe[fecha_columna].iloc[0], str):\n",
    "            dataframe[fecha_columna] = pd.to_datetime(dataframe[fecha_columna])\n",
    "    except:\n",
    "        print(\"Error al convertir las fechas. Asegúrate que el formato sea correcto.\")\n",
    "        return None\n",
    "    \n",
    "    # Agrupar por fecha y partido, sumando las distancias\n",
    "    df_agrupado = dataframe.groupby([fecha_columna, session_columna])[distancia_columna].sum().reset_index()\n",
    "    \n",
    "    # Ordenar por fecha\n",
    "    df_agrupado = df_agrupado.sort_values(by=fecha_columna)\n",
    "    \n",
    "    # Crear una lista para guardar los resultados\n",
    "    resultados = []\n",
    "    \n",
    "    # Para cada fecha a partir de la ventana crónica\n",
    "    fechas_unicas = sorted(df_agrupado[fecha_columna].unique())\n",
    "    \n",
    "    for i in range(cronico_ventana, len(fechas_unicas) + 1):\n",
    "        fecha_actual = fechas_unicas[i-1]\n",
    "        \n",
    "        # Filtrar datos para la fecha actual\n",
    "        datos_fecha_actual = df_agrupado[df_agrupado[fecha_columna] == fecha_actual]\n",
    "        \n",
    "        # Obtener distancia total del partido actual\n",
    "        distancia_partido = datos_fecha_actual[distancia_columna].sum()\n",
    "        \n",
    "        # Datos para ventana aguda (últimos 7 días/partidos)\n",
    "        indice_inicio_agudo = max(0, i - agudo_ventana)\n",
    "        fechas_agudo = fechas_unicas[indice_inicio_agudo:i]\n",
    "        datos_agudo = df_agrupado[df_agrupado[fecha_columna].isin(fechas_agudo)]\n",
    "        \n",
    "        # Datos para ventana crónica (últimos 28 días/partidos)\n",
    "        indice_inicio_cronico = max(0, i - cronico_ventana)\n",
    "        fechas_cronico = fechas_unicas[indice_inicio_cronico:i]\n",
    "        datos_cronico = df_agrupado[df_agrupado[fecha_columna].isin(fechas_cronico)]\n",
    "        \n",
    "        # Calcular carga aguda y crónica\n",
    "        carga_aguda = datos_agudo[distancia_columna].mean()\n",
    "        carga_cronica = datos_cronico[distancia_columna].mean()\n",
    "        \n",
    "        # Calcular ratio A:C\n",
    "        ratio_ac = carga_aguda / carga_cronica if carga_cronica > 0 else 0\n",
    "        \n",
    "        # Guardar resultados\n",
    "        resultados.append({\n",
    "            'Fecha': fecha_actual,\n",
    "            'Partido': ', '.join(datos_fecha_actual[session_columna]),\n",
    "            'Distancia (km)': distancia_partido,\n",
    "            'Carga Aguda': carga_aguda,\n",
    "            'Carga Crónica': carga_cronica,\n",
    "            'Ratio A:C': ratio_ac\n",
    "        })\n",
    "    \n",
    "    # Convertir resultados a DataFrame\n",
    "    df_resultados = pd.DataFrame(resultados)\n",
    "    \n",
    "    return df_resultados\n",
    "\n",
    "# Función para graficar el ratio A:C\n",
    "def graficar_ratio_ac(df_resultados):\n",
    "    \"\"\"\n",
    "    Grafica el ratio A:C con anotaciones\n",
    "    \n",
    "    Parámetros:\n",
    "    - df_resultados: DataFrame con los resultados del ratio A:C\n",
    "    \"\"\"\n",
    "    plt.figure(figsize=(12, 8))\n",
    "    \n",
    "    # Crear figura principal\n",
    "    fig, ax1 = plt.subplots(figsize=(14, 8))\n",
    "    \n",
    "    # Graficar Carga Aguda y Crónica\n",
    "    ax1.plot(df_resultados['Fecha'], df_resultados['Carga Aguda'], 'b-', label='Carga Aguda (7 días)')\n",
    "    ax1.plot(df_resultados['Fecha'], df_resultados['Carga Crónica'], 'g-', label='Carga Crónica (28 días)')\n",
    "    ax1.set_xlabel('Fecha')\n",
    "    ax1.set_ylabel('Distancia Media (km)', color='black')\n",
    "    ax1.tick_params(axis='y', labelcolor='black')\n",
    "    \n",
    "    # Crear segundo eje Y para el ratio A:C\n",
    "    ax2 = ax1.twinx()\n",
    "    ratio_line = ax2.plot(df_resultados['Fecha'], df_resultados['Ratio A:C'], 'r-', label='Ratio A:C')\n",
    "    ax2.set_ylabel('Ratio A:C', color='red')\n",
    "    ax2.tick_params(axis='y', labelcolor='red')\n",
    "    \n",
    "    # Añadir líneas horizontales para zonas de seguridad\n",
    "    ax2.axhline(y=0.8, color='orange', linestyle='--', alpha=0.7)\n",
    "    ax2.axhline(y=1.3, color='orange', linestyle='--', alpha=0.7)\n",
    "    ax2.fill_between(df_resultados['Fecha'], 0.8, 1.3, alpha=0.1, color='green', label='Zona Óptima (0.8-1.3)')\n",
    "    \n",
    "    # Añadir anotaciones para partidos\n",
    "    for i, row in df_resultados.iterrows():\n",
    "        if i % 2 == 0:  # Para no saturar el gráfico, anotar cada 2 partidos\n",
    "            ax1.annotate(f\"{row['Partido']}\\n{row['Distancia (km)']:.1f}km\",\n",
    "                         (row['Fecha'], row['Carga Aguda']),\n",
    "                         textcoords=\"offset points\",\n",
    "                         xytext=(0,10), \n",
    "                         ha='center',\n",
    "                         fontsize=8,\n",
    "                         arrowprops=dict(arrowstyle='->', color='gray'))\n",
    "    \n",
    "    # Configurar formato de fecha en eje X\n",
    "    date_format = mdates.DateFormatter('%d-%m-%Y')\n",
    "    ax1.xaxis.set_major_formatter(date_format)\n",
    "    plt.xticks(rotation=45)\n",
    "    \n",
    "    # Unir leyendas de ambos ejes\n",
    "    lines1, labels1 = ax1.get_legend_handles_labels()\n",
    "    lines2, labels2 = ax2.get_legend_handles_labels()\n",
    "    ax1.legend(lines1 + lines2, labels1 + labels2, loc='upper left')\n",
    "    \n",
    "    plt.title('Evolución del Ratio Agudo:Crónico y Cargas de Trabajo', fontsize=14)\n",
    "    plt.grid(True, alpha=0.3)\n",
    "    plt.tight_layout()\n",
    "    \n",
    "    return fig\n",
    "\n",
    "# Ejecutar el análisis\n",
    "try:\n",
    "    # Primero verificar si hay datos y las columnas existen\n",
    "    if 'df' not in globals() or df is None:\n",
    "        print(\"No hay datos cargados o el DataFrame 'df' no existe.\")\n",
    "    else:\n",
    "        # Verificar columnas necesarias\n",
    "        columnas_necesarias = ['Date', 'Session Title', 'Distance (km)']\n",
    "        columnas_faltantes = [col for col in columnas_necesarias if col not in df.columns]\n",
    "        \n",
    "        if columnas_faltantes:\n",
    "            print(f\"Faltan las siguientes columnas en el DataFrame: {columnas_faltantes}\")\n",
    "            print(\"Columnas disponibles:\", df.columns.tolist())\n",
    "        else:\n",
    "            # Calcular ratio A:C\n",
    "            df_ratio_ac = calcular_ratio_AC(df)\n",
    "            \n",
    "            if df_ratio_ac is not None and not df_ratio_ac.empty:\n",
    "                # Mostrar tabla de resultados\n",
    "                print(\"Tabla de Resultados:\")\n",
    "                print(df_ratio_ac)\n",
    "                \n",
    "                # Graficar\n",
    "                fig = graficar_ratio_ac(df_ratio_ac)\n",
    "                plt.show()\n",
    "            else:\n",
    "                print(\"No se pudieron calcular los resultados o no hay suficientes datos.\")\n",
    "\n",
    "except Exception as e:\n",
    "    print(f\"Error durante el análisis: {e}\")"
   ]
  },
  {
   "cell_type": "markdown",
   "id": "02f730c0",
   "metadata": {},
   "source": [
    "# Cálculo de Promedio de Distancia por Equipo\n",
    "\n",
    "Esta sección contiene funciones para calcular el promedio de distancia recorrida por el equipo en diferentes sesiones y fechas."
   ]
  },
  {
   "cell_type": "code",
   "execution_count": 4,
   "id": "381f117a",
   "metadata": {},
   "outputs": [
    {
     "name": "stdout",
     "output_type": "stream",
     "text": [
      "Promedio de distancia por tipo de sesión:\n",
      "       Tipo de Sesión  Promedio Distancia (km)  Desviación Estándar (km)  \\\n",
      "0  Partido San Andres                 6.454545                  1.213560   \n",
      "1         martes 15-4                 6.250000                  0.707107   \n",
      "2         martes 22-4                 4.800000                  1.032796   \n",
      "\n",
      "   Número de Registros  \n",
      "0                   11  \n",
      "1                    8  \n",
      "2                   10  \n",
      "\n",
      "Los primeros 5 registros del promedio por fecha y tipo de sesión:\n",
      "        Fecha      Tipo de Sesión  Promedio Distancia (km)  \\\n",
      "0  2025-04-15         martes 15-4                 6.250000   \n",
      "1  2025-04-22         martes 22-4                 4.800000   \n",
      "2  2025-04-26  Partido San Andres                 6.454545   \n",
      "\n",
      "   Desviación Estándar (km)  Número de Jugadores  \n",
      "0                  0.707107                    8  \n",
      "1                  1.032796                   10  \n",
      "2                  1.213560                   11  \n",
      "\n",
      "Promedio de distancia por jugador (Top 10):\n",
      "             Jugador  Promedio Distancia (km)  Desviación Estándar (km)  \\\n",
      "6      Franco Suarez                 8.000000                       NaN   \n",
      "1        Cechi Mateo                 6.666667                  0.577350   \n",
      "0       Cachaza Pato                 6.500000                  2.121320   \n",
      "12  Rivera Cano Blas                 6.333333                  2.081666   \n",
      "2   Damioli Bautista                 6.000000                       NaN   \n",
      "3      Espinosa Fede                 6.000000                  0.000000   \n",
      "4   Esquerren Fermin                 6.000000                       NaN   \n",
      "8     Nicolas Morena                 6.000000                       NaN   \n",
      "5      Fer Fernandez                 5.666667                  1.154701   \n",
      "7             Lorito                 5.666667                  0.577350   \n",
      "\n",
      "    Número de Registros  \n",
      "6                     1  \n",
      "1                     3  \n",
      "0                     2  \n",
      "12                    3  \n",
      "2                     1  \n",
      "3                     2  \n",
      "4                     1  \n",
      "8                     1  \n",
      "5                     3  \n",
      "7                     3  \n"
     ]
    }
   ],
   "source": [
    "def calcular_promedio_distancia_equipo(df):\n",
    "    \"\"\"\n",
    "    Calcula el promedio de distancia recorrida por el equipo agrupado por fecha y tipo de sesión.\n",
    "    \n",
    "    Parámetros:\n",
    "    - df: DataFrame con los datos de Catapult\n",
    "    \n",
    "    Retorna:\n",
    "    - DataFrame con los promedios de distancia por fecha y tipo de sesión\n",
    "    \"\"\"\n",
    "    # Verificar si el DataFrame es válido\n",
    "    if df is None or df.empty:\n",
    "        print(\"No hay datos disponibles para analizar.\")\n",
    "        return None\n",
    "        \n",
    "    # Convertir la columna de distancia a numérica (reemplazando comas por puntos)\n",
    "    # Primero crear una copia para no modificar el df original\n",
    "    df_dist = df.copy()\n",
    "    \n",
    "    try:\n",
    "        # Convertir la columna 'Distance (km)' a numérica\n",
    "        if 'Distance (km)' in df_dist.columns:\n",
    "            # Reemplazar comas por puntos si es necesario\n",
    "            if isinstance(df_dist['Distance (km)'].iloc[0], str):\n",
    "                df_dist['Distance (km)'] = df_dist['Distance (km)'].str.replace(',', '.').astype(float)\n",
    "            elif not pd.api.types.is_numeric_dtype(df_dist['Distance (km)']):\n",
    "                df_dist['Distance (km)'] = pd.to_numeric(df_dist['Distance (km)'], errors='coerce')\n",
    "        else:\n",
    "            print(\"La columna 'Distance (km)' no existe en el DataFrame.\")\n",
    "            return None\n",
    "        \n",
    "        # Convertir la fecha a datetime si es necesario\n",
    "        if 'Date' in df_dist.columns:\n",
    "            if not pd.api.types.is_datetime64_dtype(df_dist['Date']):\n",
    "                df_dist['Date'] = pd.to_datetime(df_dist['Date'], errors='coerce')\n",
    "        else:\n",
    "            print(\"La columna 'Date' no existe en el DataFrame.\")\n",
    "            return None\n",
    "    \n",
    "    except Exception as e:\n",
    "        print(f\"Error al convertir los datos: {e}\")\n",
    "        return None\n",
    "    \n",
    "    # Calcular el promedio de distancia por fecha y tipo de sesión\n",
    "    promedio_por_fecha_sesion = df_dist.groupby([df_dist['Date'].dt.date, 'Session Title'])['Distance (km)'].agg(['mean', 'std', 'count']).reset_index()\n",
    "    promedio_por_fecha_sesion.columns = ['Fecha', 'Tipo de Sesión', 'Promedio Distancia (km)', 'Desviación Estándar (km)', 'Número de Jugadores']\n",
    "    \n",
    "    # Calcular el promedio general por tipo de sesión\n",
    "    promedio_por_sesion = df_dist.groupby('Session Title')['Distance (km)'].agg(['mean', 'std', 'count']).reset_index()\n",
    "    promedio_por_sesion.columns = ['Tipo de Sesión', 'Promedio Distancia (km)', 'Desviación Estándar (km)', 'Número de Registros']\n",
    "    \n",
    "    # Calcular el promedio por jugador\n",
    "    promedio_por_jugador = df_dist.groupby('Player Name')['Distance (km)'].agg(['mean', 'std', 'count']).reset_index()\n",
    "    promedio_por_jugador.columns = ['Jugador', 'Promedio Distancia (km)', 'Desviación Estándar (km)', 'Número de Registros']\n",
    "    promedio_por_jugador = promedio_por_jugador.sort_values(by='Promedio Distancia (km)', ascending=False)\n",
    "    \n",
    "    # Crear un diccionario con todos los resultados\n",
    "    resultados = {\n",
    "        'promedio_por_fecha_sesion': promedio_por_fecha_sesion,\n",
    "        'promedio_por_sesion': promedio_por_sesion,\n",
    "        'promedio_por_jugador': promedio_por_jugador\n",
    "    }\n",
    "    \n",
    "    return resultados\n",
    "\n",
    "# Ejecutar el cálculo del promedio de distancia\n",
    "try:\n",
    "    resultados_distancia = calcular_promedio_distancia_equipo(df)\n",
    "    \n",
    "    if resultados_distancia:\n",
    "        print(\"Promedio de distancia por tipo de sesión:\")\n",
    "        print(resultados_distancia['promedio_por_sesion'])\n",
    "        print(\"\\nLos primeros 5 registros del promedio por fecha y tipo de sesión:\")\n",
    "        print(resultados_distancia['promedio_por_fecha_sesion'].head())\n",
    "        print(\"\\nPromedio de distancia por jugador (Top 10):\")\n",
    "        print(resultados_distancia['promedio_por_jugador'].head(10))\n",
    "except Exception as e:\n",
    "    print(f\"Error al calcular los promedios: {e}\")"
   ]
  },
  {
   "cell_type": "markdown",
   "id": "84b3c2fd",
   "metadata": {},
   "source": [
    "# Visualización de Datos de Distancia\n",
    "\n",
    "Esta sección presenta visualizaciones de los promedios de distancia recorrida por tipo de sesión y por jugador."
   ]
  },
  {
   "cell_type": "code",
   "execution_count": 5,
   "id": "bd3adaf6",
   "metadata": {},
   "outputs": [
    {
     "name": "stdout",
     "output_type": "stream",
     "text": [
      "Se encontraron 1 registros de partidos\n"
     ]
    },
    {
     "data": {
      "application/vnd.jupyter.widget-view+json": {
       "model_id": "4115e66e2b9b4e60bb5a84f64adebfc6",
       "version_major": 2,
       "version_minor": 0
      },
      "text/plain": [
       "interactive(children=(IntSlider(value=1, description='N° Partidos:', max=1, min=1, style=SliderStyle(descripti…"
      ]
     },
     "metadata": {},
     "output_type": "display_data"
    },
    {
     "data": {
      "application/vnd.jupyter.widget-view+json": {
       "model_id": "a56c774b2f81456e85b3aea0d00cb91a",
       "version_major": 2,
       "version_minor": 0
      },
      "text/plain": [
       "VBox(children=(IntSlider(value=1, description='N° Partidos:', max=1, min=1, style=SliderStyle(description_widt…"
      ]
     },
     "metadata": {},
     "output_type": "display_data"
    }
   ],
   "source": [
    "# Visualización de partidos en escala de grises con línea de tendencia\n",
    "import matplotlib.pyplot as plt\n",
    "import seaborn as sns\n",
    "import plotly.express as px\n",
    "import plotly.graph_objects as go\n",
    "import pandas as pd\n",
    "from ipywidgets import interact, IntSlider, HBox, VBox, Output, Layout\n",
    "import ipywidgets as widgets\n",
    "\n",
    "def visualizar_solo_partidos(df, max_fechas=None):\n",
    "    \"\"\"\n",
    "    Visualiza datos solo de partidos con esquema de colores negro y gris\n",
    "    \n",
    "    Parámetros:\n",
    "    - df: DataFrame con los datos\n",
    "    - max_fechas: Número máximo de fechas a mostrar (None para mostrar todas)\n",
    "    \"\"\"\n",
    "    # Verificar si el DataFrame es válido\n",
    "    if df is None or df.empty:\n",
    "        print(\"No hay datos disponibles para analizar.\")\n",
    "        return None\n",
    "    \n",
    "    # Filtrar solo los registros que corresponden a partidos\n",
    "    partidos_df = df[df['Session Title'].str.contains('Partido', case=False, na=False)].copy()\n",
    "    \n",
    "    if partidos_df.empty:\n",
    "        print(\"No se encontraron registros de partidos en los datos.\")\n",
    "        return None\n",
    "    \n",
    "    # Convertir columnas necesarias\n",
    "    try:\n",
    "        # Convertir fecha a datetime si no lo está\n",
    "        if not pd.api.types.is_datetime64_dtype(partidos_df['Date']):\n",
    "            partidos_df['Date'] = pd.to_datetime(partidos_df['Date'], errors='coerce')\n",
    "        \n",
    "        # Convertir distancia a numérica\n",
    "        if isinstance(partidos_df['Distance (km)'].iloc[0], str):\n",
    "            partidos_df['Distance (km)'] = partidos_df['Distance (km)'].str.replace(',', '.').astype(float)\n",
    "        elif not pd.api.types.is_numeric_dtype(partidos_df['Distance (km)']):\n",
    "            partidos_df['Distance (km)'] = pd.to_numeric(partidos_df['Distance (km)'], errors='coerce')\n",
    "    \n",
    "    except Exception as e:\n",
    "        print(f\"Error al convertir datos: {e}\")\n",
    "        return None\n",
    "    \n",
    "    # Agrupar por fecha y obtener estadísticas\n",
    "    partidos_stats = partidos_df.groupby([partidos_df['Date'].dt.date, 'Session Title'])['Distance (km)'].agg(\n",
    "        ['mean', 'std', 'count', 'sum']).reset_index()\n",
    "    partidos_stats.columns = ['Fecha', 'Partido', 'Distancia Media (km)', \n",
    "                              'Desviación Estándar (km)', 'N° Jugadores', 'Distancia Total (km)']\n",
    "    \n",
    "    # Ordenar por fecha ascendente (partidos más antiguos primero)\n",
    "    partidos_stats = partidos_stats.sort_values('Fecha', ascending=True)\n",
    "    \n",
    "    # Limitar por cantidad de fechas si se especifica\n",
    "    if max_fechas and max_fechas > 0 and max_fechas < len(partidos_stats):\n",
    "        # Tomar los últimos N partidos (los más recientes)\n",
    "        partidos_stats = partidos_stats.tail(max_fechas)\n",
    "    \n",
    "    return partidos_stats\n",
    "\n",
    "def generar_visualizacion_interactiva(df):\n",
    "    \"\"\"Genera gráficos interactivos para visualizar datos de partidos\"\"\"\n",
    "    \n",
    "    output = Output()\n",
    "    \n",
    "    # Widget para seleccionar número de partidos\n",
    "    n_partidos_slider = IntSlider(\n",
    "        value=5, \n",
    "        min=1, \n",
    "        max=min(20, len(df) if df is not None else 10), \n",
    "        step=1, \n",
    "        description='N° Partidos:',\n",
    "        style={'description_width': 'initial'}\n",
    "    )\n",
    "    \n",
    "    # Función para actualizar el gráfico\n",
    "    def update_graph(n_partidos):\n",
    "        with output:\n",
    "            output.clear_output()\n",
    "            \n",
    "            if df is None or df.empty:\n",
    "                print(\"No hay datos para visualizar\")\n",
    "                return\n",
    "            \n",
    "            # Limitar cantidad de partidos a mostrar\n",
    "            # Tomamos los últimos n_partidos (más recientes)\n",
    "            df_plot = df.tail(n_partidos).copy()\n",
    "            \n",
    "            # Convertir fecha a string para mejor visualización\n",
    "            df_plot['Fecha'] = df_plot['Fecha'].astype(str)\n",
    "            \n",
    "            # Crear figura con Plotly\n",
    "            fig = go.Figure()\n",
    "            \n",
    "            # Añadir línea de tendencia que conecte todos los puntos\n",
    "            fig.add_trace(go.Scatter(\n",
    "                x=df_plot['Fecha'] + ' - ' + df_plot['Partido'],\n",
    "                y=df_plot['Distancia Media (km)'],\n",
    "                name='Tendencia',\n",
    "                mode='lines',\n",
    "                line=dict(color='rgb(30, 30, 30)', width=2, shape='spline'),\n",
    "                hoverinfo='skip'\n",
    "            ))\n",
    "            \n",
    "            # Añadir barras para distancia media\n",
    "            fig.add_trace(go.Bar(\n",
    "                x=df_plot['Fecha'] + ' - ' + df_plot['Partido'],\n",
    "                y=df_plot['Distancia Media (km)'],\n",
    "                name='Distancia Media',\n",
    "                marker_color='rgb(70, 70, 70)',\n",
    "                text=df_plot['Distancia Media (km)'].round(2),\n",
    "                textposition='outside',\n",
    "                hovertemplate='<b>%{x}</b><br>Distancia Media: %{y:.2f} km<br>N° Jugadores: %{customdata[0]}<br>Total: %{customdata[1]:.2f} km<extra></extra>',\n",
    "                customdata=df_plot[['N° Jugadores', 'Distancia Total (km)']]\n",
    "            ))\n",
    "            \n",
    "            # Añadir marcadores para cada punto con líneas de error\n",
    "            fig.add_trace(go.Scatter(\n",
    "                x=df_plot['Fecha'] + ' - ' + df_plot['Partido'],\n",
    "                y=df_plot['Distancia Media (km)'],\n",
    "                error_y=dict(\n",
    "                    type='data',\n",
    "                    array=df_plot['Desviación Estándar (km)'],\n",
    "                    visible=True,\n",
    "                    color='rgb(20, 20, 20)',\n",
    "                    thickness=1.5,\n",
    "                    width=3\n",
    "                ),\n",
    "                mode='markers',\n",
    "                marker=dict(color='rgb(40, 40, 40)', size=8),\n",
    "                name='Desviación Estándar',\n",
    "                hovertemplate='<b>%{x}</b><br>Desv. Estándar: %{error_y.array:.2f} km<extra></extra>'\n",
    "            ))\n",
    "            \n",
    "            # Actualizar diseño\n",
    "            fig.update_layout(\n",
    "                title='Distancia  por Partido',\n",
    "                xaxis=dict(\n",
    "                    title='Fecha y Partido',\n",
    "                    tickangle=-45\n",
    "                ),\n",
    "                yaxis=dict(\n",
    "                    title='Distancia (km)',\n",
    "                    gridcolor='rgb(220, 220, 220)'\n",
    "                ),\n",
    "                plot_bgcolor='rgb(250, 250, 250)',\n",
    "                paper_bgcolor='rgb(250, 250, 250)',\n",
    "                font=dict(color='rgb(20, 20, 20)'),\n",
    "                barmode='group',\n",
    "                bargap=0.15,\n",
    "                bargroupgap=0.1,\n",
    "                legend=dict(orientation='h', yanchor='bottom', y=1.02, xanchor='right', x=1),\n",
    "                margin=dict(t=80, b=120, l=60, r=40),\n",
    "                height=600\n",
    "            )\n",
    "            \n",
    "            fig.show()\n",
    "    \n",
    "    # Crear la interfaz interactiva\n",
    "    interact(update_graph, n_partidos=n_partidos_slider)\n",
    "    \n",
    "    return VBox([n_partidos_slider, output])\n",
    "\n",
    "# Ejecutar la visualización\n",
    "try:\n",
    "    if 'df' in globals() and df is not None:\n",
    "        partidos_stats = visualizar_solo_partidos(df)\n",
    "        \n",
    "        if partidos_stats is not None and not partidos_stats.empty:\n",
    "            print(f\"Se encontraron {len(partidos_stats)} registros de partidos\")\n",
    "            display(generar_visualizacion_interactiva(partidos_stats))\n",
    "        else:\n",
    "            print(\"No se encontraron datos de partidos para visualizar\")\n",
    "    else:\n",
    "        print(\"No se encontraron datos cargados. Ejecute primero la celda para cargar los datos.\")\n",
    "except Exception as e:\n",
    "    import traceback\n",
    "    print(f\"Error al visualizar los datos: {e}\")\n",
    "    print(traceback.format_exc())"
   ]
  },
  {
   "cell_type": "code",
   "execution_count": 6,
   "id": "e5a7afe8",
   "metadata": {},
   "outputs": [
    {
     "name": "stdout",
     "output_type": "stream",
     "text": [
      "Se encontraron 1 registros de partidos\n"
     ]
    },
    {
     "data": {
      "application/vnd.jupyter.widget-view+json": {
       "model_id": "e8a7c6aa3a56487c9702499bb6ba00f3",
       "version_major": 2,
       "version_minor": 0
      },
      "text/plain": [
       "interactive(children=(IntSlider(value=1, description='N° Partidos:', max=1, min=1, style=SliderStyle(descripti…"
      ]
     },
     "metadata": {},
     "output_type": "display_data"
    },
    {
     "data": {
      "application/vnd.jupyter.widget-view+json": {
       "model_id": "ba99647425c041afb3acadc9f11a7cc9",
       "version_major": 2,
       "version_minor": 0
      },
      "text/plain": [
       "VBox(children=(IntSlider(value=1, description='N° Partidos:', max=1, min=1, style=SliderStyle(description_widt…"
      ]
     },
     "metadata": {},
     "output_type": "display_data"
    }
   ],
   "source": [
    "# Visualización de partidos en escala de grises - Corregida para mostrar por fecha\n",
    "import matplotlib.pyplot as plt\n",
    "import seaborn as sns\n",
    "import plotly.express as px\n",
    "import plotly.graph_objects as go\n",
    "import pandas as pd\n",
    "from ipywidgets import interact, IntSlider, HBox, VBox, Output, Layout\n",
    "import ipywidgets as widgets\n",
    "\n",
    "def visualizar_solo_partidos(df, max_fechas=None):\n",
    "    \"\"\"\n",
    "    Visualiza datos solo de partidos con esquema de colores negro y gris\n",
    "    \n",
    "    Parámetros:\n",
    "    - df: DataFrame con los datos\n",
    "    - max_fechas: Número máximo de fechas a mostrar (None para mostrar todas)\n",
    "    \"\"\"\n",
    "    # Verificar si el DataFrame es válido\n",
    "    if df is None or df.empty:\n",
    "        print(\"No hay datos disponibles para analizar.\")\n",
    "        return None\n",
    "    \n",
    "    # Filtrar solo los registros que corresponden a partidos\n",
    "    partidos_df = df[df['Session Title'].str.contains('Partido', case=False, na=False)].copy()\n",
    "    \n",
    "    if partidos_df.empty:\n",
    "        print(\"No se encontraron registros de partidos en los datos.\")\n",
    "        return None\n",
    "    \n",
    "    # Convertir columnas necesarias\n",
    "    try:\n",
    "        # Convertir fecha a datetime si no lo está\n",
    "        if not pd.api.types.is_datetime64_dtype(partidos_df['Date']):\n",
    "            partidos_df['Date'] = pd.to_datetime(partidos_df['Date'], errors='coerce')\n",
    "        \n",
    "        # Convertir distancia a numérica\n",
    "        if isinstance(partidos_df['Distance (km)'].iloc[0], str):\n",
    "            partidos_df['Distance (km)'] = partidos_df['Distance (km)'].str.replace(',', '.').astype(float)\n",
    "        elif not pd.api.types.is_numeric_dtype(partidos_df['Distance (km)']):\n",
    "            partidos_df['Distance (km)'] = pd.to_numeric(partidos_df['Distance (km)'], errors='coerce')\n",
    "    \n",
    "    except Exception as e:\n",
    "        print(f\"Error al convertir datos: {e}\")\n",
    "        return None\n",
    "    \n",
    "    # Agrupar por fecha y obtener estadísticas\n",
    "    # IMPORTANTE: Mantenemos la fecha y el título del partido separados para preservar la identidad única\n",
    "    partidos_stats = partidos_df.groupby([partidos_df['Date'].dt.date, 'Session Title'])['Distance (km)'].agg(\n",
    "        ['mean', 'std', 'count', 'sum']).reset_index()\n",
    "    partidos_stats.columns = ['Fecha', 'Partido', 'Distancia Media (km)', \n",
    "                              'Desviación Estándar (km)', 'N° Jugadores', 'Distancia Total (km)']\n",
    "    \n",
    "    # Ordenar por fecha ascendente (partidos más antiguos primero)\n",
    "    partidos_stats = partidos_stats.sort_values('Fecha', ascending=True)\n",
    "    \n",
    "    # Crear una columna de identificación única que combine fecha y partido\n",
    "    partidos_stats['Fecha_Partido'] = partidos_stats['Fecha'].astype(str) + ' - ' + partidos_stats['Partido']\n",
    "    \n",
    "    # Limitar por cantidad de fechas si se especifica\n",
    "    if max_fechas and max_fechas > 0 and max_fechas < len(partidos_stats):\n",
    "        # Tomar los últimos N partidos (los más recientes)\n",
    "        partidos_stats = partidos_stats.tail(max_fechas)\n",
    "    \n",
    "    return partidos_stats\n",
    "\n",
    "def generar_visualizacion_interactiva(df):\n",
    "    \"\"\"Genera gráficos interactivos para visualizar datos de partidos\"\"\"\n",
    "    \n",
    "    output = Output()\n",
    "    \n",
    "    # Widget para seleccionar número de partidos\n",
    "    n_partidos_slider = IntSlider(\n",
    "        value=5, \n",
    "        min=1, \n",
    "        max=min(20, len(df) if df is not None else 10), \n",
    "        step=1, \n",
    "        description='N° Partidos:',\n",
    "        style={'description_width': 'initial'}\n",
    "    )\n",
    "    \n",
    "    # Función para actualizar el gráfico\n",
    "    def update_graph(n_partidos):\n",
    "        with output:\n",
    "            output.clear_output()\n",
    "            \n",
    "            if df is None or df.empty:\n",
    "                print(\"No hay datos para visualizar\")\n",
    "                return\n",
    "            \n",
    "            # Limitar cantidad de partidos a mostrar\n",
    "            # Tomamos los últimos n_partidos (más recientes)\n",
    "            df_plot = df.tail(n_partidos).copy()\n",
    "            \n",
    "            # Crear figura con Plotly\n",
    "            fig = go.Figure()\n",
    "            \n",
    "            # Añadir barras para distancia media\n",
    "            fig.add_trace(go.Bar(\n",
    "                x=df_plot['Fecha_Partido'],  # Usamos la combinación única de fecha y partido\n",
    "                y=df_plot['Distancia Media (km)'],\n",
    "                name='Distancia Media',\n",
    "                marker_color='rgb(70, 70, 70)',\n",
    "                text=df_plot['Distancia Media (km)'].round(2),\n",
    "                textposition='outside',\n",
    "                hovertemplate='<b>%{x}</b><br>Distancia Media: %{y:.2f} km<br>N° Jugadores: %{customdata[0]}<br>Total: %{customdata[1]:.2f} km<extra></extra>',\n",
    "                customdata=df_plot[['N° Jugadores', 'Distancia Total (km)']]\n",
    "            ))\n",
    "            \n",
    "            # Añadir marcadores para cada punto con líneas de error\n",
    "            fig.add_trace(go.Scatter(\n",
    "                x=df_plot['Fecha_Partido'],  # Usamos la combinación única de fecha y partido\n",
    "                y=df_plot['Distancia Media (km)'],\n",
    "                error_y=dict(\n",
    "                    type='data',\n",
    "                    array=df_plot['Desviación Estándar (km)'],\n",
    "                    visible=True,\n",
    "                    color='rgb(20, 20, 20)',\n",
    "                    thickness=1.5,\n",
    "                    width=3\n",
    "                ),\n",
    "                mode='markers',\n",
    "                marker=dict(color='rgb(40, 40, 40)', size=8),\n",
    "                name='Desviación Estándar',\n",
    "                hovertemplate='<b>%{x}</b><br>Desv. Estándar: %{error_y.array:.2f} km<extra></extra>'\n",
    "            ))\n",
    "            \n",
    "            # Actualizar diseño\n",
    "            fig.update_layout(\n",
    "                title='Distancia por Partido',\n",
    "                xaxis=dict(\n",
    "                    title='Fecha y Partido',\n",
    "                    tickangle=-45\n",
    "                ),\n",
    "                yaxis=dict(\n",
    "                    title='Distancia (km)',\n",
    "                    gridcolor='rgb(220, 220, 220)'\n",
    "                ),\n",
    "                plot_bgcolor='rgb(250, 250, 250)',\n",
    "                paper_bgcolor='rgb(250, 250, 250)',\n",
    "                font=dict(color='rgb(20, 20, 20)'),\n",
    "                barmode='group',\n",
    "                bargap=0.15,\n",
    "                bargroupgap=0.1,\n",
    "                legend=dict(orientation='h', yanchor='bottom', y=1.02, xanchor='right', x=1),\n",
    "                margin=dict(t=80, b=120, l=60, r=40),\n",
    "                height=600\n",
    "            )\n",
    "            \n",
    "            fig.show()\n",
    "    \n",
    "    # Crear la interfaz interactiva\n",
    "    interact(update_graph, n_partidos=n_partidos_slider)\n",
    "    \n",
    "    return VBox([n_partidos_slider, output])\n",
    "\n",
    "# Ejecutar la visualización\n",
    "try:\n",
    "    if 'df' in globals() and df is not None:\n",
    "        partidos_stats = visualizar_solo_partidos(df)\n",
    "        \n",
    "        if partidos_stats is not None and not partidos_stats.empty:\n",
    "            print(f\"Se encontraron {len(partidos_stats)} registros de partidos\")\n",
    "            display(generar_visualizacion_interactiva(partidos_stats))\n",
    "        else:\n",
    "            print(\"No se encontraron datos de partidos para visualizar\")\n",
    "    else:\n",
    "        print(\"No se encontraron datos cargados. Ejecute primero la celda para cargar los datos.\")\n",
    "except Exception as e:\n",
    "    import traceback\n",
    "    print(f\"Error al visualizar los datos: {e}\")\n",
    "    print(traceback.format_exc())"
   ]
  },
  {
   "cell_type": "code",
   "execution_count": 7,
   "id": "ac088191",
   "metadata": {},
   "outputs": [
    {
     "name": "stdout",
     "output_type": "stream",
     "text": [
      "Se encontraron 1 registros de partidos\n"
     ]
    },
    {
     "data": {
      "application/vnd.jupyter.widget-view+json": {
       "model_id": "c5ea531be6694bf2aa47f2d3ed96ff11",
       "version_major": 2,
       "version_minor": 0
      },
      "text/plain": [
       "interactive(children=(IntSlider(value=1, description='N° Partidos:', max=1, min=1, style=SliderStyle(descripti…"
      ]
     },
     "metadata": {},
     "output_type": "display_data"
    },
    {
     "data": {
      "application/vnd.jupyter.widget-view+json": {
       "model_id": "52b5f3588c454ab09d89eff7cac394db",
       "version_major": 2,
       "version_minor": 0
      },
      "text/plain": [
       "VBox(children=(IntSlider(value=1, description='N° Partidos:', max=1, min=1, style=SliderStyle(description_widt…"
      ]
     },
     "metadata": {},
     "output_type": "display_data"
    }
   ],
   "source": [
    "# Visualización de partidos en escala de grises - Con línea de tendencia y sin desviación estándar\n",
    "import matplotlib.pyplot as plt\n",
    "import seaborn as sns\n",
    "import plotly.express as px\n",
    "import plotly.graph_objects as go\n",
    "import pandas as pd\n",
    "from ipywidgets import interact, IntSlider, HBox, VBox, Output, Layout\n",
    "import ipywidgets as widgets\n",
    "import numpy as np\n",
    "\n",
    "def visualizar_solo_partidos(df, max_fechas=None):\n",
    "    \"\"\"\n",
    "    Visualiza datos solo de partidos con esquema de colores negro y gris\n",
    "    \n",
    "    Parámetros:\n",
    "    - df: DataFrame con los datos\n",
    "    - max_fechas: Número máximo de fechas a mostrar (None para mostrar todas)\n",
    "    \"\"\"\n",
    "    # Verificar si el DataFrame es válido\n",
    "    if df is None or df.empty:\n",
    "        print(\"No hay datos disponibles para analizar.\")\n",
    "        return None\n",
    "    \n",
    "    # Filtrar solo los registros que corresponden a partidos\n",
    "    partidos_df = df[df['Session Title'].str.contains('Partido', case=False, na=False)].copy()\n",
    "    \n",
    "    if partidos_df.empty:\n",
    "        print(\"No se encontraron registros de partidos en los datos.\")\n",
    "        return None\n",
    "    \n",
    "    # Convertir columnas necesarias\n",
    "    try:\n",
    "        # Convertir fecha a datetime si no lo está\n",
    "        if not pd.api.types.is_datetime64_dtype(partidos_df['Date']):\n",
    "            partidos_df['Date'] = pd.to_datetime(partidos_df['Date'], errors='coerce')\n",
    "        \n",
    "        # Convertir distancia a numérica\n",
    "        if isinstance(partidos_df['Distance (km)'].iloc[0], str):\n",
    "            partidos_df['Distance (km)'] = partidos_df['Distance (km)'].str.replace(',', '.').astype(float)\n",
    "        elif not pd.api.types.is_numeric_dtype(partidos_df['Distance (km)']):\n",
    "            partidos_df['Distance (km)'] = pd.to_numeric(partidos_df['Distance (km)'], errors='coerce')\n",
    "    \n",
    "    except Exception as e:\n",
    "        print(f\"Error al convertir datos: {e}\")\n",
    "        return None\n",
    "    \n",
    "    # Agrupar por fecha y obtener estadísticas\n",
    "    # IMPORTANTE: Mantenemos la fecha y el título del partido separados para preservar la identidad única\n",
    "    partidos_stats = partidos_df.groupby([partidos_df['Date'].dt.date, 'Session Title'])['Distance (km)'].agg(\n",
    "        ['mean', 'count', 'sum']).reset_index()  # Eliminamos 'std' del agregado\n",
    "    partidos_stats.columns = ['Fecha', 'Partido', 'Distancia Media (km)', \n",
    "                              'N° Jugadores', 'Distancia Total (km)']\n",
    "    \n",
    "    # Ordenar por fecha ascendente (partidos más antiguos primero)\n",
    "    partidos_stats = partidos_stats.sort_values('Fecha', ascending=True)\n",
    "    \n",
    "    # Crear una columna de identificación única que combine fecha y partido\n",
    "    partidos_stats['Fecha_Partido'] = partidos_stats['Fecha'].astype(str) + ' - ' + partidos_stats['Partido']\n",
    "    \n",
    "    # Limitar por cantidad de fechas si se especifica\n",
    "    if max_fechas and max_fechas > 0 and max_fechas < len(partidos_stats):\n",
    "        # Tomar los últimos N partidos (los más recientes)\n",
    "        partidos_stats = partidos_stats.tail(max_fechas)\n",
    "    \n",
    "    return partidos_stats\n",
    "\n",
    "def generar_visualizacion_interactiva(df):\n",
    "    \"\"\"Genera gráficos interactivos para visualizar datos de partidos\"\"\"\n",
    "    \n",
    "    output = Output()\n",
    "    \n",
    "    # Widget para seleccionar número de partidos\n",
    "    n_partidos_slider = IntSlider(\n",
    "        value=5, \n",
    "        min=1, \n",
    "        max=min(20, len(df) if df is not None else 10), \n",
    "        step=1, \n",
    "        description='N° Partidos:',\n",
    "        style={'description_width': 'initial'}\n",
    "    )\n",
    "    \n",
    "    # Función para actualizar el gráfico\n",
    "    def update_graph(n_partidos):\n",
    "        with output:\n",
    "            output.clear_output()\n",
    "            \n",
    "            if df is None or df.empty:\n",
    "                print(\"No hay datos para visualizar\")\n",
    "                return\n",
    "            \n",
    "            # Limitar cantidad de partidos a mostrar\n",
    "            # Tomamos los últimos n_partidos (más recientes)\n",
    "            df_plot = df.tail(n_partidos).copy()\n",
    "            \n",
    "            # Crear figura con Plotly\n",
    "            fig = go.Figure()\n",
    "            \n",
    "            # Añadir barras para distancia media\n",
    "            fig.add_trace(go.Bar(\n",
    "                x=df_plot['Fecha_Partido'],  # Usamos la combinación única de fecha y partido\n",
    "                y=df_plot['Distancia Media (km)'],\n",
    "                name='Distancia Media',\n",
    "                marker_color='rgb(70, 70, 70)',\n",
    "                text=df_plot['Distancia Media (km)'].round(2),\n",
    "                textposition='outside',\n",
    "                hovertemplate='<b>%{x}</b><br>Distancia Media: %{y:.2f} km<br>N° Jugadores: %{customdata[0]}<br>Total: %{customdata[1]:.2f} km<extra></extra>',\n",
    "                customdata=df_plot[['N° Jugadores', 'Distancia Total (km)']]\n",
    "            ))\n",
    "            \n",
    "            # Agregar línea de tendencia que conecte todos los puntos\n",
    "            fig.add_trace(go.Scatter(\n",
    "                x=df_plot['Fecha_Partido'],\n",
    "                y=df_plot['Distancia Media (km)'],\n",
    "                name='Tendencia',\n",
    "                mode='lines',\n",
    "                line=dict(color='rgb(30, 30, 30)', width=3, shape='spline'),\n",
    "                hovertemplate='<b>%{x}</b><br>Tendencia: %{y:.2f} km<extra></extra>'\n",
    "            ))\n",
    "            \n",
    "            # Actualizar diseño\n",
    "            fig.update_layout(\n",
    "                title='Distancia por Partido',\n",
    "                xaxis=dict(\n",
    "                    title='Fecha y Partido',\n",
    "                    tickangle=-45\n",
    "                ),\n",
    "                yaxis=dict(\n",
    "                    title='Distancia (km)',\n",
    "                    gridcolor='rgb(220, 220, 220)'\n",
    "                ),\n",
    "                plot_bgcolor='rgb(250, 250, 250)',\n",
    "                paper_bgcolor='rgb(250, 250, 250)',\n",
    "                font=dict(color='rgb(20, 20, 20)'),\n",
    "                barmode='group',\n",
    "                bargap=0.15,\n",
    "                bargroupgap=0.1,\n",
    "                legend=dict(orientation='h', yanchor='bottom', y=1.02, xanchor='right', x=1),\n",
    "                margin=dict(t=80, b=120, l=60, r=40),\n",
    "                height=600\n",
    "            )\n",
    "            \n",
    "            fig.show()\n",
    "    \n",
    "    # Crear la interfaz interactiva\n",
    "    interact(update_graph, n_partidos=n_partidos_slider)\n",
    "    \n",
    "    return VBox([n_partidos_slider, output])\n",
    "\n",
    "# Ejecutar la visualización\n",
    "try:\n",
    "    if 'df' in globals() and df is not None:\n",
    "        partidos_stats = visualizar_solo_partidos(df)\n",
    "        \n",
    "        if partidos_stats is not None and not partidos_stats.empty:\n",
    "            print(f\"Se encontraron {len(partidos_stats)} registros de partidos\")\n",
    "            display(generar_visualizacion_interactiva(partidos_stats))\n",
    "        else:\n",
    "            print(\"No se encontraron datos de partidos para visualizar\")\n",
    "    else:\n",
    "        print(\"No se encontraron datos cargados. Ejecute primero la celda para cargar los datos.\")\n",
    "except Exception as e:\n",
    "    import traceback\n",
    "    print(f\"Error al visualizar los datos: {e}\")\n",
    "    print(traceback.format_exc())"
   ]
  },
  {
   "cell_type": "code",
   "execution_count": 8,
   "id": "16f8e337",
   "metadata": {},
   "outputs": [
    {
     "name": "stdout",
     "output_type": "stream",
     "text": [
      "['Date', 'Session Title', 'Player Name', 'Split Name', 'Tags', 'Split Start Time', 'Split End Time', 'Duration', 'Distance (km)', 'Sprint Distance (m)', 'Power Plays', 'Energy (kcal)', 'Impacts', 'Hr Load', 'Time In Red Zone (min)', 'Player Load (estres mecanico)', 'Top Speed (m/s)', 'Distance Per Min (m/min)', 'Power Score (w/kg)', 'Work Ratio', 'Hr Max (bpm)', 'Distance in Speed Zone 1 (km)', 'Distance in Speed Zone 2 (km)', 'Distance in Speed Zone 3 (km)', 'Distance in Speed Zone 4 (km)', 'Distance in Speed Zone 5 (km)', 'Time in Speed Zone 1 (secs)', 'Time in Speed Zone 2 (secs)', 'Time in Speed Zone 3 (secs)', 'Time in Speed Zone 4 (secs)', 'Time in Speed Zone 5 (secs)', 'Impact Zones: 3 - 5 G (Impacts)', 'Impact Zones: 5 - 10 G (Impacts)', 'Impact Zones: 10 - 15 G (Impacts)', 'Impact Zones: 15 - 20 G (Impacts)', 'Impact Zones: > 20 G (Impacts)', 'Power Play Duration Zones: 0 - 2.5 s (Power Plays)', 'Power Play Duration Zones: 2.5 - 5 s (Power Plays)', 'Power Play Duration Zones: 5 - 7.5 s (Power Plays)', 'Power Play Duration Zones: 7.5 - 10 s (Power Plays)', 'Power Play Duration Zones: > 10 s (Power Plays)', 'Distance in Deceleration Zones: 0 - 1 m/s/s (km)', 'Distance in Deceleration Zones: 1 - 2 m/s/s (km)', 'Distance in Deceleration Zones: 2 - 3 m/s/s (km)', 'Distance in Deceleration Zones: 3 - 4 m/s/s (km)', 'Distance in Deceleration Zones: > 4 m/s/s (km)', 'Time in Deceleration Zones: 0 - 1 m/s/s (secs)', 'Time in Deceleration Zones: 1 - 2 m/s/s (secs)', 'Time in Deceleration Zones: 2 - 3 m/s/s (secs)', 'Time in Deceleration Zones: 3 - 4 m/s/s (secs)', 'Time in Deceleration Zones: > 4 m/s/s (secs)', 'Distance in Acceleration Zones: 0 - 1 m/s/s (km)', 'Distance in Acceleration Zones: 1 - 2 m/s/s (km)', 'Distance in Acceleration Zones: 2 - 3 m/s/s (km)', 'Distance in Acceleration Zones: 3 - 4 m/s/s (km)', 'Distance in Acceleration Zones: > 4 m/s/s (km)', 'Time in Acceleration Zones: 0 - 1 m/s/s (secs)', 'Time in Acceleration Zones: 1 - 2 m/s/s (secs)', 'Time in Acceleration Zones: 2 - 3 m/s/s (secs)', 'Time in Acceleration Zones: 3 - 4 m/s/s (secs)', 'Time in Acceleration Zones: > 4 m/s/s (secs)', 'Distance in Power Zone: 0 - 5 w/kg (km)', 'Distance in Power Zone: 5 - 10 w/kg (km)', 'Distance in Power Zone: 10 - 15 w/kg (km)', 'Distance in Power Zone: 15 - 20 w/kg (km)', 'Distance in Power Zone: 20 - 25 w/kg (km)', 'Distance in Power Zone: 25 - 30 w/kg (km)', 'Distance in Power Zone: 30 - 35 w/kg (km)', 'Distance in Power Zone: 35 - 40 w/kg (km)', 'Distance in Power Zone: 40 - 45 w/kg (km)', 'Distance in Power Zone: 45 - 50 w/kg (km)', 'Distance in Power Zone: > 50 w/kg (km)', 'Time in Power Zone: 0 - 5 w/kg (secs)', 'Time in Power Zone: 5 - 10 w/kg (secs)', 'Time in Power Zone: 10 - 15 w/kg (secs)', 'Time in Power Zone: 15 - 20 w/kg (secs)', 'Time in Power Zone: 20 - 25 w/kg (secs)', 'Time in Power Zone: 25 - 30 w/kg (secs)', 'Time in Power Zone: 30 - 35 w/kg (secs)', 'Time in Power Zone: 35 - 40 w/kg (secs)', 'Time in Power Zone: 40 - 45 w/kg (secs)', 'Time in Power Zone: 45 - 50 w/kg (secs)', 'Time in Power Zone: > 50 w/kg (secs)', 'Time in HR Load Zone 0% - 60% Max HR(secs)', 'Time in HR Load Zone 60% - 75% Max HR (secs)', 'Time in HR Load Zone 75% - 85% Max HR (secs)', 'Time in HR Load Zone 85% - 96% Max HR (secs)', 'Time in HR Load Zone 96% - 100% Max HR (secs)', 'Accelerations Zone Count: 0 - 1 m/s/s', 'Accelerations Zone Count: 1 - 2 m/s/s', 'Accelerations Zone Count: 2 - 3 m/s/s', 'Accelerations Zone Count: 3 - 4 m/s/s', 'Accelerations Zone Count: > 4 m/s/s', 'Deceleration Zone Count: 0 - 1 m/s/s', 'Deceleration Zone Count: 1 - 2 m/s/s', 'Deceleration Zone Count: 2 - 3 m/s/s', 'Deceleration Zone Count: 3 - 4 m/s/s', 'Deceleration Zone Count: > 4 m/s/s', 'Unnamed: 98', 'Unnamed: 99']\n"
     ]
    }
   ],
   "source": [
    "print(df.columns.tolist())"
   ]
  },
  {
   "cell_type": "code",
   "execution_count": 9,
   "id": "54bd4f76",
   "metadata": {},
   "outputs": [
    {
     "ename": "SyntaxError",
     "evalue": "invalid syntax (2306952459.py, line 1)",
     "output_type": "error",
     "traceback": [
      "\u001b[1;36m  Cell \u001b[1;32mIn[9], line 1\u001b[1;36m\u001b[0m\n\u001b[1;33m    ['Date', 'Session Title', 'Player Name', 'Split Name', 'Tags', 'Split Start Time', 'Split End Time', 'Duration', 'Distance (km)', 'Sprint Distance (m)', 'Power Plays', 'Energy (kcal)', 'Impacts', 'Hr Load', 'Time In Red Zone (min)', 'Player Load (estres mecanico)', 'Top Speed (m/s)', 'Distance Per Min (m/min)', 'Power Score (w/kg)', 'Work Ratio', 'Hr Max (bpm)', 'Distance in Speed Zone 1 (km)', 'Distance in Speed Zone 2 (km)'/, 'Distance in Speed Zone 3 (km)', 'Distance in Speed Zone 4 (km)', 'Distance in Speed Zone 5 (km)', 'Time in Speed Zone 1 (secs)', 'Time in Speed Zone 2 (secs)', 'Time in Speed Zone 3 (secs)', 'Time in Speed Zone 4 (secs)', 'Time in Speed Zone 5 (secs)', 'Impact Zones: 3 - 5 G (Impacts)', 'Impact Zones: 5 - 10 G (Impacts)', 'Impact Zones: 10 - 15 G (Impacts)', 'Impact Zones: 15 - 20 G (Impacts)', 'Impact Zones: > 20 G (Impacts)', 'Power Play Duration Zones: 0 - 2.5 s (Power Plays)', 'Power Play Duration Zones: 2.5 - 5 s (Power Plays)', 'Power Play Duration Zones: 5 - 7.5 s (Power Plays)', 'Power Play Duration Zones: 7.5 - 10 s (Power Plays)', 'Power Play Duration Zones: > 10 s (Power Plays)', 'Distance in Deceleration Zones: 0 - 1 m/s/s (km)', 'Distance in Deceleration Zones: 1 - 2 m/s/s (km)', 'Distance in Deceleration Zones: 2 - 3 m/s/s (km)', 'Distance in Deceleration Zones: 3 - 4 m/s/s (km)', 'Distance in Deceleration Zones: > 4 m/s/s (km)', 'Time in Deceleration Zones: 0 - 1 m/s/s (secs)', 'Time in Deceleration Zones: 1 - 2 m/s/s (secs)', 'Time in Deceleration Zones: 2 - 3 m/s/s (secs)', 'Time in Deceleration Zones: 3 - 4 m/s/s (secs)', 'Time in Deceleration Zones: > 4 m/s/s (secs)', 'Distance in Acceleration Zones: 0 - 1 m/s/s (km)', 'Distance in Acceleration Zones: 1 - 2 m/s/s (km)', 'Distance in Acceleration Zones: 2 - 3 m/s/s (km)', 'Distance in Acceleration Zones: 3 - 4 m/s/s (km)', 'Distance in Acceleration Zones: > 4 m/s/s (km)', 'Time in Acceleration Zones: 0 - 1 m/s/s (secs)', 'Time in Acceleration Zones: 1 - 2 m/s/s (secs)', 'Time in Acceleration Zones: 2 - 3 m/s/s (secs)', 'Time in Acceleration Zones: 3 - 4 m/s/s (secs)', 'Time in Acceleration Zones: > 4 m/s/s (secs)', 'Distance in Power Zone: 0 - 5 w/kg (km)', 'Distance in Power Zone: 5 - 10 w/kg (km)', 'Distance in Power Zone: 10 - 15 w/kg (km)', 'Distance in Power Zone: 15 - 20 w/kg (km)', 'Distance in Power Zone: 20 - 25 w/kg (km)', 'Distance in Power Zone: 25 - 30 w/kg (km)', 'Distance in Power Zone: 30 - 35 w/kg (km)', 'Distance in Power Zone: 35 - 40 w/kg (km)', 'Distance in Power Zone: 40 - 45 w/kg (km)', 'Distance in Power Zone: 45 - 50 w/kg (km)', 'Distance in Power Zone: > 50 w/kg (km)', 'Time in Power Zone: 0 - 5 w/kg (secs)', 'Time in Power Zone: 5 - 10 w/kg (secs)', 'Time in Power Zone: 10 - 15 w/kg (secs)', 'Time in Power Zone: 15 - 20 w/kg (secs)', 'Time in Power Zone: 20 - 25 w/kg (secs)', 'Time in Power Zone: 25 - 30 w/kg (secs)', 'Time in Power Zone: 30 - 35 w/kg (secs)', 'Time in Power Zone: 35 - 40 w/kg (secs)', 'Time in Power Zone: 40 - 45 w/kg (secs)', 'Time in Power Zone: 45 - 50 w/kg (secs)', 'Time in Power Zone: > 50 w/kg (secs)', 'Time in HR Load Zone 0% - 60% Max HR(secs)', 'Time in HR Load Zone 60% - 75% Max HR (secs)', 'Time in HR Load Zone 75% - 85% Max HR (secs)', 'Time in HR Load Zone 85% - 96% Max HR (secs)', 'Time in HR Load Zone 96% - 100% Max HR (secs)', 'Accelerations Zone Count: 0 - 1 m/s/s', 'Accelerations Zone Count: 1 - 2 m/s/s', 'Accelerations Zone Count: 2 - 3 m/s/s', 'Accelerations Zone Count: 3 - 4 m/s/s', 'Accelerations Zone Count: > 4 m/s/s', 'Deceleration Zone Count: 0 - 1 m/s/s', 'Deceleration Zone Count: 1 - 2 m/s/s', 'Deceleration Zone Count: 2 - 3 m/s/s', 'Deceleration Zone Count: 3 - 4 m/ss', 'Deceleration Zone Count: > 4 m/s/s', 'Unnamed: 98', 'Unnamed: 99']\u001b[0m\n\u001b[1;37m                                                                                                                                                                                                                                                                                                                                                                                                                                                  ^\u001b[0m\n\u001b[1;31mSyntaxError\u001b[0m\u001b[1;31m:\u001b[0m invalid syntax\n"
     ]
    }
   ],
   "source": [
    "['Date', 'Session Title', 'Player Name', 'Split Name', 'Tags', 'Split Start Time', 'Split End Time', 'Duration', 'Distance (km)', 'Sprint Distance (m)', 'Power Plays', 'Energy (kcal)', 'Impacts', 'Hr Load', 'Time In Red Zone (min)', 'Player Load (estres mecanico)', 'Top Speed (m/s)', 'Distance Per Min (m/min)', 'Power Score (w/kg)', 'Work Ratio', 'Hr Max (bpm)', 'Distance in Speed Zone 1 (km)', 'Distance in Speed Zone 2 (km)'/, 'Distance in Speed Zone 3 (km)', 'Distance in Speed Zone 4 (km)', 'Distance in Speed Zone 5 (km)', 'Time in Speed Zone 1 (secs)', 'Time in Speed Zone 2 (secs)', 'Time in Speed Zone 3 (secs)', 'Time in Speed Zone 4 (secs)', 'Time in Speed Zone 5 (secs)', 'Impact Zones: 3 - 5 G (Impacts)', 'Impact Zones: 5 - 10 G (Impacts)', 'Impact Zones: 10 - 15 G (Impacts)', 'Impact Zones: 15 - 20 G (Impacts)', 'Impact Zones: > 20 G (Impacts)', 'Power Play Duration Zones: 0 - 2.5 s (Power Plays)', 'Power Play Duration Zones: 2.5 - 5 s (Power Plays)', 'Power Play Duration Zones: 5 - 7.5 s (Power Plays)', 'Power Play Duration Zones: 7.5 - 10 s (Power Plays)', 'Power Play Duration Zones: > 10 s (Power Plays)', 'Distance in Deceleration Zones: 0 - 1 m/s/s (km)', 'Distance in Deceleration Zones: 1 - 2 m/s/s (km)', 'Distance in Deceleration Zones: 2 - 3 m/s/s (km)', 'Distance in Deceleration Zones: 3 - 4 m/s/s (km)', 'Distance in Deceleration Zones: > 4 m/s/s (km)', 'Time in Deceleration Zones: 0 - 1 m/s/s (secs)', 'Time in Deceleration Zones: 1 - 2 m/s/s (secs)', 'Time in Deceleration Zones: 2 - 3 m/s/s (secs)', 'Time in Deceleration Zones: 3 - 4 m/s/s (secs)', 'Time in Deceleration Zones: > 4 m/s/s (secs)', 'Distance in Acceleration Zones: 0 - 1 m/s/s (km)', 'Distance in Acceleration Zones: 1 - 2 m/s/s (km)', 'Distance in Acceleration Zones: 2 - 3 m/s/s (km)', 'Distance in Acceleration Zones: 3 - 4 m/s/s (km)', 'Distance in Acceleration Zones: > 4 m/s/s (km)', 'Time in Acceleration Zones: 0 - 1 m/s/s (secs)', 'Time in Acceleration Zones: 1 - 2 m/s/s (secs)', 'Time in Acceleration Zones: 2 - 3 m/s/s (secs)', 'Time in Acceleration Zones: 3 - 4 m/s/s (secs)', 'Time in Acceleration Zones: > 4 m/s/s (secs)', 'Distance in Power Zone: 0 - 5 w/kg (km)', 'Distance in Power Zone: 5 - 10 w/kg (km)', 'Distance in Power Zone: 10 - 15 w/kg (km)', 'Distance in Power Zone: 15 - 20 w/kg (km)', 'Distance in Power Zone: 20 - 25 w/kg (km)', 'Distance in Power Zone: 25 - 30 w/kg (km)', 'Distance in Power Zone: 30 - 35 w/kg (km)', 'Distance in Power Zone: 35 - 40 w/kg (km)', 'Distance in Power Zone: 40 - 45 w/kg (km)', 'Distance in Power Zone: 45 - 50 w/kg (km)', 'Distance in Power Zone: > 50 w/kg (km)', 'Time in Power Zone: 0 - 5 w/kg (secs)', 'Time in Power Zone: 5 - 10 w/kg (secs)', 'Time in Power Zone: 10 - 15 w/kg (secs)', 'Time in Power Zone: 15 - 20 w/kg (secs)', 'Time in Power Zone: 20 - 25 w/kg (secs)', 'Time in Power Zone: 25 - 30 w/kg (secs)', 'Time in Power Zone: 30 - 35 w/kg (secs)', 'Time in Power Zone: 35 - 40 w/kg (secs)', 'Time in Power Zone: 40 - 45 w/kg (secs)', 'Time in Power Zone: 45 - 50 w/kg (secs)', 'Time in Power Zone: > 50 w/kg (secs)', 'Time in HR Load Zone 0% - 60% Max HR(secs)', 'Time in HR Load Zone 60% - 75% Max HR (secs)', 'Time in HR Load Zone 75% - 85% Max HR (secs)', 'Time in HR Load Zone 85% - 96% Max HR (secs)', 'Time in HR Load Zone 96% - 100% Max HR (secs)', 'Accelerations Zone Count: 0 - 1 m/s/s', 'Accelerations Zone Count: 1 - 2 m/s/s', 'Accelerations Zone Count: 2 - 3 m/s/s', 'Accelerations Zone Count: 3 - 4 m/s/s', 'Accelerations Zone Count: > 4 m/s/s', 'Deceleration Zone Count: 0 - 1 m/s/s', 'Deceleration Zone Count: 1 - 2 m/s/s', 'Deceleration Zone Count: 2 - 3 m/s/s', 'Deceleration Zone Count: 3 - 4 m/ss', 'Deceleration Zone Count: > 4 m/s/s', 'Unnamed: 98', 'Unnamed: 99']"
   ]
  },
  {
   "cell_type": "code",
   "execution_count": null,
   "id": "a3c61224",
   "metadata": {},
   "outputs": [
    {
     "name": "stdout",
     "output_type": "stream",
     "text": [
      "Calculando datos de velocidad por equipo...\n"
     ]
    },
    {
     "data": {
      "application/vnd.plotly.v1+json": {
       "config": {
        "plotlyServerURL": "https://plot.ly"
       },
       "data": [
        {
         "customdata": {
          "bdata": "AAAAAAAAAEDNzMzMzMzcPwAAAAAAAABAw/UoXI/CB0AAAAAAAAAAQK5H4XoUrgFAAAAAAAAAAEApXI/C9Sj0PwAAAAAAAAhAMzMzMzMzHEAAAAAAAADwPxSuR+F6FOY/AAAAAAAAAEAqXI/C9SgKQAAAAAAAAABAAAAAAAAA9D8AAAAAAAAAQLgehetRuAhAAAAAAAAA8D+amZmZmZkPQAAAAAAAAPA/MzMzMzMzC0AAAAAAAADwP/YoXI/C9QpAAAAAAAAA8D8pXI/C9SgKQAAAAAAAAPA/SOF6FK5H6T8AAAAAAADwPylcj8L1KBNAAAAAAAAA8D9cj8L1KFz7PwAAAAAAAPA/uB6F61G4+j8AAAAAAADwPz0K16NwPQZAAAAAAAAA8D+F61G4HoXzPwAAAAAAAPA/hetRuB6F4z8AAAAAAADwP3oUrkfhevY/AAAAAAAA8D9oke18P7UJQAAAAAAAAPA/HA3gLZAgD0AAAAAAAADwP09AE2HDszNA",
          "dtype": "f8",
          "shape": "24, 2"
         },
         "hovertemplate": "<b>%{x}</b><br>Promedio Alta Velocidad: %{y:.2f} km<br>N° Jugadores: %{customdata[0]}<br>Total Equipo: %{customdata[1]:.2f} km<extra></extra>",
         "marker": {
          "color": "rgb(70, 70, 70)"
         },
         "text": {
          "bdata": "KVyPwvUozD+uR+F6FK73P5qZmZmZmfE/KVyPwvUo5D/NzMzMzMwCQBSuR+F6FOY/PQrXo3A9+j/Xo3A9CtfjP6RwPQrXo/g/mpmZmZmZD0AzMzMzMzMLQPYoXI/C9QpAKVyPwvUoCkBI4XoUrkfpPylcj8L1KBNAXI/C9Shc+z+4HoXrUbj6Pz0K16NwPQZAhetRuB6F8z+F61G4HoXjP2ZmZmZmZvY/rkfhehSuCUAfhetRuB4PQDMzMzMzszNA",
          "dtype": "f8"
         },
         "textposition": "outside",
         "type": "bar",
         "x": [
          "2021-08-16",
          "2021-08-17",
          "2021-08-19",
          "2021-09-13",
          "2021-09-14",
          "2021-09-18",
          "2021-10-16",
          "2021-10-23",
          "2021-10-30",
          "2022-02-01",
          "2022-02-07",
          "2022-02-10",
          "2022-02-14",
          "2022-02-19",
          "2022-02-22",
          "2022-03-19",
          "2022-03-26",
          "2022-04-05",
          "2022-04-09",
          "2022-04-25",
          "2022-06-07",
          "2022-06-11",
          "2022-06-25",
          "2023-05-06"
         ],
         "y": {
          "bdata": "zczMzMzMzD/D9Shcj8L3P65H4XoUrvE/KVyPwvUo5D/NzMzMzMwCQBSuR+F6FOY/KlyPwvUo+j8AAAAAAADkP7gehetRuPg/mpmZmZmZD0AzMzMzMzMLQPYoXI/C9QpAKVyPwvUoCkBI4XoUrkfpPylcj8L1KBNAXI/C9Shc+z+4HoXrUbj6Pz0K16NwPQZAhetRuB6F8z+F61G4HoXjP3oUrkfhevY/aJHtfD+1CUAcDeAtkCAPQE9AE2HDszNA",
          "dtype": "f8"
         }
        }
       ],
       "layout": {
        "bargap": 0.15,
        "bargroupgap": 0.1,
        "barmode": "group",
        "font": {
         "color": "rgb(20, 20, 20)"
        },
        "height": 600,
        "margin": {
         "b": 120,
         "l": 60,
         "r": 40,
         "t": 80
        },
        "paper_bgcolor": "rgb(250, 250, 250)",
        "plot_bgcolor": "rgb(250, 250, 250)",
        "showlegend": false,
        "template": {
         "data": {
          "bar": [
           {
            "error_x": {
             "color": "#2a3f5f"
            },
            "error_y": {
             "color": "#2a3f5f"
            },
            "marker": {
             "line": {
              "color": "#E5ECF6",
              "width": 0.5
             },
             "pattern": {
              "fillmode": "overlay",
              "size": 10,
              "solidity": 0.2
             }
            },
            "type": "bar"
           }
          ],
          "barpolar": [
           {
            "marker": {
             "line": {
              "color": "#E5ECF6",
              "width": 0.5
             },
             "pattern": {
              "fillmode": "overlay",
              "size": 10,
              "solidity": 0.2
             }
            },
            "type": "barpolar"
           }
          ],
          "carpet": [
           {
            "aaxis": {
             "endlinecolor": "#2a3f5f",
             "gridcolor": "white",
             "linecolor": "white",
             "minorgridcolor": "white",
             "startlinecolor": "#2a3f5f"
            },
            "baxis": {
             "endlinecolor": "#2a3f5f",
             "gridcolor": "white",
             "linecolor": "white",
             "minorgridcolor": "white",
             "startlinecolor": "#2a3f5f"
            },
            "type": "carpet"
           }
          ],
          "choropleth": [
           {
            "colorbar": {
             "outlinewidth": 0,
             "ticks": ""
            },
            "type": "choropleth"
           }
          ],
          "contour": [
           {
            "colorbar": {
             "outlinewidth": 0,
             "ticks": ""
            },
            "colorscale": [
             [
              0,
              "#0d0887"
             ],
             [
              0.1111111111111111,
              "#46039f"
             ],
             [
              0.2222222222222222,
              "#7201a8"
             ],
             [
              0.3333333333333333,
              "#9c179e"
             ],
             [
              0.4444444444444444,
              "#bd3786"
             ],
             [
              0.5555555555555556,
              "#d8576b"
             ],
             [
              0.6666666666666666,
              "#ed7953"
             ],
             [
              0.7777777777777778,
              "#fb9f3a"
             ],
             [
              0.8888888888888888,
              "#fdca26"
             ],
             [
              1,
              "#f0f921"
             ]
            ],
            "type": "contour"
           }
          ],
          "contourcarpet": [
           {
            "colorbar": {
             "outlinewidth": 0,
             "ticks": ""
            },
            "type": "contourcarpet"
           }
          ],
          "heatmap": [
           {
            "colorbar": {
             "outlinewidth": 0,
             "ticks": ""
            },
            "colorscale": [
             [
              0,
              "#0d0887"
             ],
             [
              0.1111111111111111,
              "#46039f"
             ],
             [
              0.2222222222222222,
              "#7201a8"
             ],
             [
              0.3333333333333333,
              "#9c179e"
             ],
             [
              0.4444444444444444,
              "#bd3786"
             ],
             [
              0.5555555555555556,
              "#d8576b"
             ],
             [
              0.6666666666666666,
              "#ed7953"
             ],
             [
              0.7777777777777778,
              "#fb9f3a"
             ],
             [
              0.8888888888888888,
              "#fdca26"
             ],
             [
              1,
              "#f0f921"
             ]
            ],
            "type": "heatmap"
           }
          ],
          "histogram": [
           {
            "marker": {
             "pattern": {
              "fillmode": "overlay",
              "size": 10,
              "solidity": 0.2
             }
            },
            "type": "histogram"
           }
          ],
          "histogram2d": [
           {
            "colorbar": {
             "outlinewidth": 0,
             "ticks": ""
            },
            "colorscale": [
             [
              0,
              "#0d0887"
             ],
             [
              0.1111111111111111,
              "#46039f"
             ],
             [
              0.2222222222222222,
              "#7201a8"
             ],
             [
              0.3333333333333333,
              "#9c179e"
             ],
             [
              0.4444444444444444,
              "#bd3786"
             ],
             [
              0.5555555555555556,
              "#d8576b"
             ],
             [
              0.6666666666666666,
              "#ed7953"
             ],
             [
              0.7777777777777778,
              "#fb9f3a"
             ],
             [
              0.8888888888888888,
              "#fdca26"
             ],
             [
              1,
              "#f0f921"
             ]
            ],
            "type": "histogram2d"
           }
          ],
          "histogram2dcontour": [
           {
            "colorbar": {
             "outlinewidth": 0,
             "ticks": ""
            },
            "colorscale": [
             [
              0,
              "#0d0887"
             ],
             [
              0.1111111111111111,
              "#46039f"
             ],
             [
              0.2222222222222222,
              "#7201a8"
             ],
             [
              0.3333333333333333,
              "#9c179e"
             ],
             [
              0.4444444444444444,
              "#bd3786"
             ],
             [
              0.5555555555555556,
              "#d8576b"
             ],
             [
              0.6666666666666666,
              "#ed7953"
             ],
             [
              0.7777777777777778,
              "#fb9f3a"
             ],
             [
              0.8888888888888888,
              "#fdca26"
             ],
             [
              1,
              "#f0f921"
             ]
            ],
            "type": "histogram2dcontour"
           }
          ],
          "mesh3d": [
           {
            "colorbar": {
             "outlinewidth": 0,
             "ticks": ""
            },
            "type": "mesh3d"
           }
          ],
          "parcoords": [
           {
            "line": {
             "colorbar": {
              "outlinewidth": 0,
              "ticks": ""
             }
            },
            "type": "parcoords"
           }
          ],
          "pie": [
           {
            "automargin": true,
            "type": "pie"
           }
          ],
          "scatter": [
           {
            "fillpattern": {
             "fillmode": "overlay",
             "size": 10,
             "solidity": 0.2
            },
            "type": "scatter"
           }
          ],
          "scatter3d": [
           {
            "line": {
             "colorbar": {
              "outlinewidth": 0,
              "ticks": ""
             }
            },
            "marker": {
             "colorbar": {
              "outlinewidth": 0,
              "ticks": ""
             }
            },
            "type": "scatter3d"
           }
          ],
          "scattercarpet": [
           {
            "marker": {
             "colorbar": {
              "outlinewidth": 0,
              "ticks": ""
             }
            },
            "type": "scattercarpet"
           }
          ],
          "scattergeo": [
           {
            "marker": {
             "colorbar": {
              "outlinewidth": 0,
              "ticks": ""
             }
            },
            "type": "scattergeo"
           }
          ],
          "scattergl": [
           {
            "marker": {
             "colorbar": {
              "outlinewidth": 0,
              "ticks": ""
             }
            },
            "type": "scattergl"
           }
          ],
          "scattermap": [
           {
            "marker": {
             "colorbar": {
              "outlinewidth": 0,
              "ticks": ""
             }
            },
            "type": "scattermap"
           }
          ],
          "scattermapbox": [
           {
            "marker": {
             "colorbar": {
              "outlinewidth": 0,
              "ticks": ""
             }
            },
            "type": "scattermapbox"
           }
          ],
          "scatterpolar": [
           {
            "marker": {
             "colorbar": {
              "outlinewidth": 0,
              "ticks": ""
             }
            },
            "type": "scatterpolar"
           }
          ],
          "scatterpolargl": [
           {
            "marker": {
             "colorbar": {
              "outlinewidth": 0,
              "ticks": ""
             }
            },
            "type": "scatterpolargl"
           }
          ],
          "scatterternary": [
           {
            "marker": {
             "colorbar": {
              "outlinewidth": 0,
              "ticks": ""
             }
            },
            "type": "scatterternary"
           }
          ],
          "surface": [
           {
            "colorbar": {
             "outlinewidth": 0,
             "ticks": ""
            },
            "colorscale": [
             [
              0,
              "#0d0887"
             ],
             [
              0.1111111111111111,
              "#46039f"
             ],
             [
              0.2222222222222222,
              "#7201a8"
             ],
             [
              0.3333333333333333,
              "#9c179e"
             ],
             [
              0.4444444444444444,
              "#bd3786"
             ],
             [
              0.5555555555555556,
              "#d8576b"
             ],
             [
              0.6666666666666666,
              "#ed7953"
             ],
             [
              0.7777777777777778,
              "#fb9f3a"
             ],
             [
              0.8888888888888888,
              "#fdca26"
             ],
             [
              1,
              "#f0f921"
             ]
            ],
            "type": "surface"
           }
          ],
          "table": [
           {
            "cells": {
             "fill": {
              "color": "#EBF0F8"
             },
             "line": {
              "color": "white"
             }
            },
            "header": {
             "fill": {
              "color": "#C8D4E3"
             },
             "line": {
              "color": "white"
             }
            },
            "type": "table"
           }
          ]
         },
         "layout": {
          "annotationdefaults": {
           "arrowcolor": "#2a3f5f",
           "arrowhead": 0,
           "arrowwidth": 1
          },
          "autotypenumbers": "strict",
          "coloraxis": {
           "colorbar": {
            "outlinewidth": 0,
            "ticks": ""
           }
          },
          "colorscale": {
           "diverging": [
            [
             0,
             "#8e0152"
            ],
            [
             0.1,
             "#c51b7d"
            ],
            [
             0.2,
             "#de77ae"
            ],
            [
             0.3,
             "#f1b6da"
            ],
            [
             0.4,
             "#fde0ef"
            ],
            [
             0.5,
             "#f7f7f7"
            ],
            [
             0.6,
             "#e6f5d0"
            ],
            [
             0.7,
             "#b8e186"
            ],
            [
             0.8,
             "#7fbc41"
            ],
            [
             0.9,
             "#4d9221"
            ],
            [
             1,
             "#276419"
            ]
           ],
           "sequential": [
            [
             0,
             "#0d0887"
            ],
            [
             0.1111111111111111,
             "#46039f"
            ],
            [
             0.2222222222222222,
             "#7201a8"
            ],
            [
             0.3333333333333333,
             "#9c179e"
            ],
            [
             0.4444444444444444,
             "#bd3786"
            ],
            [
             0.5555555555555556,
             "#d8576b"
            ],
            [
             0.6666666666666666,
             "#ed7953"
            ],
            [
             0.7777777777777778,
             "#fb9f3a"
            ],
            [
             0.8888888888888888,
             "#fdca26"
            ],
            [
             1,
             "#f0f921"
            ]
           ],
           "sequentialminus": [
            [
             0,
             "#0d0887"
            ],
            [
             0.1111111111111111,
             "#46039f"
            ],
            [
             0.2222222222222222,
             "#7201a8"
            ],
            [
             0.3333333333333333,
             "#9c179e"
            ],
            [
             0.4444444444444444,
             "#bd3786"
            ],
            [
             0.5555555555555556,
             "#d8576b"
            ],
            [
             0.6666666666666666,
             "#ed7953"
            ],
            [
             0.7777777777777778,
             "#fb9f3a"
            ],
            [
             0.8888888888888888,
             "#fdca26"
            ],
            [
             1,
             "#f0f921"
            ]
           ]
          },
          "colorway": [
           "#636efa",
           "#EF553B",
           "#00cc96",
           "#ab63fa",
           "#FFA15A",
           "#19d3f3",
           "#FF6692",
           "#B6E880",
           "#FF97FF",
           "#FECB52"
          ],
          "font": {
           "color": "#2a3f5f"
          },
          "geo": {
           "bgcolor": "white",
           "lakecolor": "white",
           "landcolor": "#E5ECF6",
           "showlakes": true,
           "showland": true,
           "subunitcolor": "white"
          },
          "hoverlabel": {
           "align": "left"
          },
          "hovermode": "closest",
          "mapbox": {
           "style": "light"
          },
          "paper_bgcolor": "white",
          "plot_bgcolor": "#E5ECF6",
          "polar": {
           "angularaxis": {
            "gridcolor": "white",
            "linecolor": "white",
            "ticks": ""
           },
           "bgcolor": "#E5ECF6",
           "radialaxis": {
            "gridcolor": "white",
            "linecolor": "white",
            "ticks": ""
           }
          },
          "scene": {
           "xaxis": {
            "backgroundcolor": "#E5ECF6",
            "gridcolor": "white",
            "gridwidth": 2,
            "linecolor": "white",
            "showbackground": true,
            "ticks": "",
            "zerolinecolor": "white"
           },
           "yaxis": {
            "backgroundcolor": "#E5ECF6",
            "gridcolor": "white",
            "gridwidth": 2,
            "linecolor": "white",
            "showbackground": true,
            "ticks": "",
            "zerolinecolor": "white"
           },
           "zaxis": {
            "backgroundcolor": "#E5ECF6",
            "gridcolor": "white",
            "gridwidth": 2,
            "linecolor": "white",
            "showbackground": true,
            "ticks": "",
            "zerolinecolor": "white"
           }
          },
          "shapedefaults": {
           "line": {
            "color": "#2a3f5f"
           }
          },
          "ternary": {
           "aaxis": {
            "gridcolor": "white",
            "linecolor": "white",
            "ticks": ""
           },
           "baxis": {
            "gridcolor": "white",
            "linecolor": "white",
            "ticks": ""
           },
           "bgcolor": "#E5ECF6",
           "caxis": {
            "gridcolor": "white",
            "linecolor": "white",
            "ticks": ""
           }
          },
          "title": {
           "x": 0.05
          },
          "xaxis": {
           "automargin": true,
           "gridcolor": "white",
           "linecolor": "white",
           "ticks": "",
           "title": {
            "standoff": 15
           },
           "zerolinecolor": "white",
           "zerolinewidth": 2
          },
          "yaxis": {
           "automargin": true,
           "gridcolor": "white",
           "linecolor": "white",
           "ticks": "",
           "title": {
            "standoff": 15
           },
           "zerolinecolor": "white",
           "zerolinewidth": 2
          }
         }
        },
        "title": {
         "text": "Promedio de Distancia en Alta Velocidad por Jugador"
        },
        "xaxis": {
         "tickangle": -45,
         "title": {
          "text": "Fecha"
         }
        },
        "yaxis": {
         "gridcolor": "rgb(220, 220, 220)",
         "title": {
          "text": "Distancia (km)"
         }
        }
       }
      }
     },
     "metadata": {},
     "output_type": "display_data"
    },
    {
     "name": "stdout",
     "output_type": "stream",
     "text": [
      "Se encontraron datos para 24 fechas diferentes\n",
      "\n",
      "Primeros registros:\n",
      "         Date  Suma Zonas Alta Velocidad (km)  Player Name  \\\n",
      "0  2021-08-16                            0.45            2   \n",
      "1  2021-08-17                            2.97            2   \n",
      "2  2021-08-19                            2.21            2   \n",
      "3  2021-09-13                            1.26            2   \n",
      "4  2021-09-14                            7.05            3   \n",
      "\n",
      "   Promedio Alta Velocidad por Jugador (km)  \n",
      "0                                     0.225  \n",
      "1                                     1.485  \n",
      "2                                     1.105  \n",
      "3                                     0.630  \n",
      "4                                     2.350  \n"
     ]
    }
   ],
   "source": [
    "def visualizar_velocidad_equipo(df):\n",
    "    \"\"\"\n",
    "    Visualiza la suma de distancias en zonas de velocidad 3, 4 y 5 dividida por la cantidad de jugadores,\n",
    "    agrupado por fecha.\n",
    "    \n",
    "    Parámetros:\n",
    "    - df: DataFrame con los datos de Catapult\n",
    "    \"\"\"\n",
    "    # Verificar si el DataFrame es válido\n",
    "    if df is None or df.empty:\n",
    "        print(\"No hay datos disponibles para analizar.\")\n",
    "        return None\n",
    "    \n",
    "    # Convertir columnas necesarias\n",
    "    try:\n",
    "        # Crear una copia del dataframe para no modificar el original\n",
    "        df_copy = df.copy()\n",
    "        \n",
    "        # Convertir fecha a datetime\n",
    "        if not pd.api.types.is_datetime64_dtype(df_copy['Date']):\n",
    "            df_copy['Date'] = pd.to_datetime(df_copy['Date'], errors='coerce')\n",
    "        \n",
    "        # Convertir columnas de distancia a numéricas\n",
    "        distance_columns = [\n",
    "            'Distance in Speed Zone 3 (km)', \n",
    "            'Distance in Speed Zone 4 (km)', \n",
    "            'Distance in Speed Zone 5 (km)'\n",
    "        ]\n",
    "        \n",
    "        for col in distance_columns:\n",
    "            if col in df_copy.columns:\n",
    "                if isinstance(df_copy[col].iloc[0], str):\n",
    "                    df_copy[col] = df_copy[col].str.replace(',', '.').astype(float)\n",
    "                elif not pd.api.types.is_numeric_dtype(df_copy[col]):\n",
    "                    df_copy[col] = pd.to_numeric(df_copy[col], errors='coerce')\n",
    "            else:\n",
    "                print(f\"La columna {col} no existe en el DataFrame.\")\n",
    "                return None\n",
    "    \n",
    "    except Exception as e:\n",
    "        print(f\"Error al convertir los datos: {e}\")\n",
    "        return None\n",
    "    \n",
    "    # Crear una columna con la suma de las distancias en zonas 3, 4 y 5\n",
    "    df_copy['Suma Zonas Alta Velocidad (km)'] = df_copy[distance_columns].sum(axis=1)\n",
    "    \n",
    "    # Agrupar por fecha\n",
    "    velocidades_por_fecha = df_copy.groupby(df_copy['Date'].dt.date).agg({\n",
    "        'Suma Zonas Alta Velocidad (km)': 'sum',\n",
    "        'Player Name': 'nunique'  # Contar jugadores únicos por fecha\n",
    "    }).reset_index()\n",
    "    \n",
    "    # Calcular promedio por jugador\n",
    "    velocidades_por_fecha['Promedio Alta Velocidad por Jugador (km)'] = (\n",
    "        velocidades_por_fecha['Suma Zonas Alta Velocidad (km)'] / \n",
    "        velocidades_por_fecha['Player Name']\n",
    "    )\n",
    "    \n",
    "    # Ordenar por fecha (más antiguo primero)\n",
    "    velocidades_por_fecha = velocidades_por_fecha.sort_values('Date', ascending=True)\n",
    "    \n",
    "    # Crear figura con Plotly\n",
    "    fig = go.Figure()\n",
    "    \n",
    "    # Añadir barras para el promedio por jugador\n",
    "    fig.add_trace(go.Bar(\n",
    "        x=velocidades_por_fecha['Date'].astype(str),\n",
    "        y=velocidades_por_fecha['Promedio Alta Velocidad por Jugador (km)'],\n",
    "        text=velocidades_por_fecha['Promedio Alta Velocidad por Jugador (km)'].round(2),\n",
    "        textposition='outside',\n",
    "        marker_color='rgb(70, 70, 70)',\n",
    "        hovertemplate='<b>%{x}</b><br>Promedio Alta Velocidad: %{y:.2f} km<br>N° Jugadores: %{customdata[0]}<br>Total Equipo: %{customdata[1]:.2f} km<extra></extra>',\n",
    "        customdata=velocidades_por_fecha[['Player Name', 'Suma Zonas Alta Velocidad (km)']]\n",
    "    ))\n",
    "    \n",
    "    # Actualizar diseño con los parámetros especificados\n",
    "    fig.update_layout(\n",
    "        title='Promedio de Distancia en Alta Velocidad por Jugador',\n",
    "        xaxis=dict(\n",
    "            title='Fecha',\n",
    "            tickangle=-45\n",
    "        ),\n",
    "        yaxis=dict(\n",
    "            title='Distancia (km)',\n",
    "            gridcolor='rgb(220, 220, 220)'\n",
    "        ),\n",
    "        plot_bgcolor='rgb(250, 250, 250)',\n",
    "        paper_bgcolor='rgb(250, 250, 250)',\n",
    "        font=dict(color='rgb(20, 20, 20)'),\n",
    "        barmode='group',\n",
    "        bargap=0.15,\n",
    "        bargroupgap=0.1,\n",
    "        showlegend=False,\n",
    "        margin=dict(t=80, b=120, l=60, r=40),\n",
    "        height=600\n",
    "    )\n",
    "    \n",
    "    # Mostrar el gráfico\n",
    "    fig.show()\n",
    "    \n",
    "    return velocidades_por_fecha\n",
    "\n",
    "# Ejecutar la visualización\n",
    "try:\n",
    "    if 'df' in globals() and df is not None:\n",
    "        print(\"Calculando datos de velocidad por equipo...\")\n",
    "        resultados = visualizar_velocidad_equipo(df)\n",
    "        \n",
    "        if resultados is not None:\n",
    "            print(f\"Se encontraron datos para {len(resultados)} fechas diferentes\")\n",
    "            print(\"\\nPrimeros registros:\")\n",
    "            print(resultados.head())\n",
    "        else:\n",
    "            print(\"No se pudieron calcular los resultados.\")\n",
    "    else:\n",
    "        print(\"No se encontraron datos cargados. Ejecute primero la celda para cargar los datos.\")\n",
    "except Exception as e:\n",
    "    import traceback\n",
    "    print(f\"Error al visualizar los datos: {e}\")\n",
    "    print(traceback.format_exc())"
   ]
  },
  {
   "cell_type": "code",
   "execution_count": null,
   "id": "0e651c9c",
   "metadata": {},
   "outputs": [
    {
     "name": "stdout",
     "output_type": "stream",
     "text": [
      "Calculando datos de velocidad por equipo...\n"
     ]
    },
    {
     "data": {
      "application/vnd.plotly.v1+json": {
       "config": {
        "plotlyServerURL": "https://plot.ly"
       },
       "data": [
        {
         "customdata": {
          "bdata": "AAAAAAAA8D8pXI/C9SgTQAAAAAAAAPA/XI/C9Shc+z8AAAAAAADwP7gehetRuPo/AAAAAAAA8D89CtejcD0GQAAAAAAAAPA/hetRuB6F8z8AAAAAAADwP4XrUbgeheM/AAAAAAAA8D96FK5H4Xr2PwAAAAAAAPA/aJHtfD+1CUAAAAAAAADwPxwN4C2QIA9AAAAAAAAA8D9PQBNhw7MzQA==",
          "dtype": "f8",
          "shape": "10, 2"
         },
         "hovertemplate": "<b>%{x}</b><br>Promedio Alta Velocidad: %{y:.2f} km<br>N° Jugadores: %{customdata[0]}<br>Total Equipo: %{customdata[1]:.2f} km<extra></extra>",
         "marker": {
          "color": "rgb(70, 70, 70)"
         },
         "text": {
          "bdata": "KVyPwvUoE0Bcj8L1KFz7P7gehetRuPo/PQrXo3A9BkCF61G4HoXzP4XrUbgeheM/ZmZmZmZm9j+uR+F6FK4JQB+F61G4Hg9AMzMzMzOzM0A=",
          "dtype": "f8"
         },
         "textposition": "outside",
         "type": "bar",
         "x": [
          "2022-02-22",
          "2022-03-19",
          "2022-03-26",
          "2022-04-05",
          "2022-04-09",
          "2022-04-25",
          "2022-06-07",
          "2022-06-11",
          "2022-06-25",
          "2023-05-06"
         ],
         "y": {
          "bdata": "KVyPwvUoE0Bcj8L1KFz7P7gehetRuPo/PQrXo3A9BkCF61G4HoXzP4XrUbgeheM/ehSuR+F69j9oke18P7UJQBwN4C2QIA9AT0ATYcOzM0A=",
          "dtype": "f8"
         }
        }
       ],
       "layout": {
        "bargap": 0.15,
        "bargroupgap": 0.1,
        "barmode": "group",
        "font": {
         "color": "rgb(20, 20, 20)"
        },
        "height": 600,
        "margin": {
         "b": 120,
         "l": 60,
         "r": 40,
         "t": 80
        },
        "paper_bgcolor": "rgb(250, 250, 250)",
        "plot_bgcolor": "rgb(250, 250, 250)",
        "showlegend": false,
        "template": {
         "data": {
          "bar": [
           {
            "error_x": {
             "color": "#2a3f5f"
            },
            "error_y": {
             "color": "#2a3f5f"
            },
            "marker": {
             "line": {
              "color": "#E5ECF6",
              "width": 0.5
             },
             "pattern": {
              "fillmode": "overlay",
              "size": 10,
              "solidity": 0.2
             }
            },
            "type": "bar"
           }
          ],
          "barpolar": [
           {
            "marker": {
             "line": {
              "color": "#E5ECF6",
              "width": 0.5
             },
             "pattern": {
              "fillmode": "overlay",
              "size": 10,
              "solidity": 0.2
             }
            },
            "type": "barpolar"
           }
          ],
          "carpet": [
           {
            "aaxis": {
             "endlinecolor": "#2a3f5f",
             "gridcolor": "white",
             "linecolor": "white",
             "minorgridcolor": "white",
             "startlinecolor": "#2a3f5f"
            },
            "baxis": {
             "endlinecolor": "#2a3f5f",
             "gridcolor": "white",
             "linecolor": "white",
             "minorgridcolor": "white",
             "startlinecolor": "#2a3f5f"
            },
            "type": "carpet"
           }
          ],
          "choropleth": [
           {
            "colorbar": {
             "outlinewidth": 0,
             "ticks": ""
            },
            "type": "choropleth"
           }
          ],
          "contour": [
           {
            "colorbar": {
             "outlinewidth": 0,
             "ticks": ""
            },
            "colorscale": [
             [
              0,
              "#0d0887"
             ],
             [
              0.1111111111111111,
              "#46039f"
             ],
             [
              0.2222222222222222,
              "#7201a8"
             ],
             [
              0.3333333333333333,
              "#9c179e"
             ],
             [
              0.4444444444444444,
              "#bd3786"
             ],
             [
              0.5555555555555556,
              "#d8576b"
             ],
             [
              0.6666666666666666,
              "#ed7953"
             ],
             [
              0.7777777777777778,
              "#fb9f3a"
             ],
             [
              0.8888888888888888,
              "#fdca26"
             ],
             [
              1,
              "#f0f921"
             ]
            ],
            "type": "contour"
           }
          ],
          "contourcarpet": [
           {
            "colorbar": {
             "outlinewidth": 0,
             "ticks": ""
            },
            "type": "contourcarpet"
           }
          ],
          "heatmap": [
           {
            "colorbar": {
             "outlinewidth": 0,
             "ticks": ""
            },
            "colorscale": [
             [
              0,
              "#0d0887"
             ],
             [
              0.1111111111111111,
              "#46039f"
             ],
             [
              0.2222222222222222,
              "#7201a8"
             ],
             [
              0.3333333333333333,
              "#9c179e"
             ],
             [
              0.4444444444444444,
              "#bd3786"
             ],
             [
              0.5555555555555556,
              "#d8576b"
             ],
             [
              0.6666666666666666,
              "#ed7953"
             ],
             [
              0.7777777777777778,
              "#fb9f3a"
             ],
             [
              0.8888888888888888,
              "#fdca26"
             ],
             [
              1,
              "#f0f921"
             ]
            ],
            "type": "heatmap"
           }
          ],
          "histogram": [
           {
            "marker": {
             "pattern": {
              "fillmode": "overlay",
              "size": 10,
              "solidity": 0.2
             }
            },
            "type": "histogram"
           }
          ],
          "histogram2d": [
           {
            "colorbar": {
             "outlinewidth": 0,
             "ticks": ""
            },
            "colorscale": [
             [
              0,
              "#0d0887"
             ],
             [
              0.1111111111111111,
              "#46039f"
             ],
             [
              0.2222222222222222,
              "#7201a8"
             ],
             [
              0.3333333333333333,
              "#9c179e"
             ],
             [
              0.4444444444444444,
              "#bd3786"
             ],
             [
              0.5555555555555556,
              "#d8576b"
             ],
             [
              0.6666666666666666,
              "#ed7953"
             ],
             [
              0.7777777777777778,
              "#fb9f3a"
             ],
             [
              0.8888888888888888,
              "#fdca26"
             ],
             [
              1,
              "#f0f921"
             ]
            ],
            "type": "histogram2d"
           }
          ],
          "histogram2dcontour": [
           {
            "colorbar": {
             "outlinewidth": 0,
             "ticks": ""
            },
            "colorscale": [
             [
              0,
              "#0d0887"
             ],
             [
              0.1111111111111111,
              "#46039f"
             ],
             [
              0.2222222222222222,
              "#7201a8"
             ],
             [
              0.3333333333333333,
              "#9c179e"
             ],
             [
              0.4444444444444444,
              "#bd3786"
             ],
             [
              0.5555555555555556,
              "#d8576b"
             ],
             [
              0.6666666666666666,
              "#ed7953"
             ],
             [
              0.7777777777777778,
              "#fb9f3a"
             ],
             [
              0.8888888888888888,
              "#fdca26"
             ],
             [
              1,
              "#f0f921"
             ]
            ],
            "type": "histogram2dcontour"
           }
          ],
          "mesh3d": [
           {
            "colorbar": {
             "outlinewidth": 0,
             "ticks": ""
            },
            "type": "mesh3d"
           }
          ],
          "parcoords": [
           {
            "line": {
             "colorbar": {
              "outlinewidth": 0,
              "ticks": ""
             }
            },
            "type": "parcoords"
           }
          ],
          "pie": [
           {
            "automargin": true,
            "type": "pie"
           }
          ],
          "scatter": [
           {
            "fillpattern": {
             "fillmode": "overlay",
             "size": 10,
             "solidity": 0.2
            },
            "type": "scatter"
           }
          ],
          "scatter3d": [
           {
            "line": {
             "colorbar": {
              "outlinewidth": 0,
              "ticks": ""
             }
            },
            "marker": {
             "colorbar": {
              "outlinewidth": 0,
              "ticks": ""
             }
            },
            "type": "scatter3d"
           }
          ],
          "scattercarpet": [
           {
            "marker": {
             "colorbar": {
              "outlinewidth": 0,
              "ticks": ""
             }
            },
            "type": "scattercarpet"
           }
          ],
          "scattergeo": [
           {
            "marker": {
             "colorbar": {
              "outlinewidth": 0,
              "ticks": ""
             }
            },
            "type": "scattergeo"
           }
          ],
          "scattergl": [
           {
            "marker": {
             "colorbar": {
              "outlinewidth": 0,
              "ticks": ""
             }
            },
            "type": "scattergl"
           }
          ],
          "scattermap": [
           {
            "marker": {
             "colorbar": {
              "outlinewidth": 0,
              "ticks": ""
             }
            },
            "type": "scattermap"
           }
          ],
          "scattermapbox": [
           {
            "marker": {
             "colorbar": {
              "outlinewidth": 0,
              "ticks": ""
             }
            },
            "type": "scattermapbox"
           }
          ],
          "scatterpolar": [
           {
            "marker": {
             "colorbar": {
              "outlinewidth": 0,
              "ticks": ""
             }
            },
            "type": "scatterpolar"
           }
          ],
          "scatterpolargl": [
           {
            "marker": {
             "colorbar": {
              "outlinewidth": 0,
              "ticks": ""
             }
            },
            "type": "scatterpolargl"
           }
          ],
          "scatterternary": [
           {
            "marker": {
             "colorbar": {
              "outlinewidth": 0,
              "ticks": ""
             }
            },
            "type": "scatterternary"
           }
          ],
          "surface": [
           {
            "colorbar": {
             "outlinewidth": 0,
             "ticks": ""
            },
            "colorscale": [
             [
              0,
              "#0d0887"
             ],
             [
              0.1111111111111111,
              "#46039f"
             ],
             [
              0.2222222222222222,
              "#7201a8"
             ],
             [
              0.3333333333333333,
              "#9c179e"
             ],
             [
              0.4444444444444444,
              "#bd3786"
             ],
             [
              0.5555555555555556,
              "#d8576b"
             ],
             [
              0.6666666666666666,
              "#ed7953"
             ],
             [
              0.7777777777777778,
              "#fb9f3a"
             ],
             [
              0.8888888888888888,
              "#fdca26"
             ],
             [
              1,
              "#f0f921"
             ]
            ],
            "type": "surface"
           }
          ],
          "table": [
           {
            "cells": {
             "fill": {
              "color": "#EBF0F8"
             },
             "line": {
              "color": "white"
             }
            },
            "header": {
             "fill": {
              "color": "#C8D4E3"
             },
             "line": {
              "color": "white"
             }
            },
            "type": "table"
           }
          ]
         },
         "layout": {
          "annotationdefaults": {
           "arrowcolor": "#2a3f5f",
           "arrowhead": 0,
           "arrowwidth": 1
          },
          "autotypenumbers": "strict",
          "coloraxis": {
           "colorbar": {
            "outlinewidth": 0,
            "ticks": ""
           }
          },
          "colorscale": {
           "diverging": [
            [
             0,
             "#8e0152"
            ],
            [
             0.1,
             "#c51b7d"
            ],
            [
             0.2,
             "#de77ae"
            ],
            [
             0.3,
             "#f1b6da"
            ],
            [
             0.4,
             "#fde0ef"
            ],
            [
             0.5,
             "#f7f7f7"
            ],
            [
             0.6,
             "#e6f5d0"
            ],
            [
             0.7,
             "#b8e186"
            ],
            [
             0.8,
             "#7fbc41"
            ],
            [
             0.9,
             "#4d9221"
            ],
            [
             1,
             "#276419"
            ]
           ],
           "sequential": [
            [
             0,
             "#0d0887"
            ],
            [
             0.1111111111111111,
             "#46039f"
            ],
            [
             0.2222222222222222,
             "#7201a8"
            ],
            [
             0.3333333333333333,
             "#9c179e"
            ],
            [
             0.4444444444444444,
             "#bd3786"
            ],
            [
             0.5555555555555556,
             "#d8576b"
            ],
            [
             0.6666666666666666,
             "#ed7953"
            ],
            [
             0.7777777777777778,
             "#fb9f3a"
            ],
            [
             0.8888888888888888,
             "#fdca26"
            ],
            [
             1,
             "#f0f921"
            ]
           ],
           "sequentialminus": [
            [
             0,
             "#0d0887"
            ],
            [
             0.1111111111111111,
             "#46039f"
            ],
            [
             0.2222222222222222,
             "#7201a8"
            ],
            [
             0.3333333333333333,
             "#9c179e"
            ],
            [
             0.4444444444444444,
             "#bd3786"
            ],
            [
             0.5555555555555556,
             "#d8576b"
            ],
            [
             0.6666666666666666,
             "#ed7953"
            ],
            [
             0.7777777777777778,
             "#fb9f3a"
            ],
            [
             0.8888888888888888,
             "#fdca26"
            ],
            [
             1,
             "#f0f921"
            ]
           ]
          },
          "colorway": [
           "#636efa",
           "#EF553B",
           "#00cc96",
           "#ab63fa",
           "#FFA15A",
           "#19d3f3",
           "#FF6692",
           "#B6E880",
           "#FF97FF",
           "#FECB52"
          ],
          "font": {
           "color": "#2a3f5f"
          },
          "geo": {
           "bgcolor": "white",
           "lakecolor": "white",
           "landcolor": "#E5ECF6",
           "showlakes": true,
           "showland": true,
           "subunitcolor": "white"
          },
          "hoverlabel": {
           "align": "left"
          },
          "hovermode": "closest",
          "mapbox": {
           "style": "light"
          },
          "paper_bgcolor": "white",
          "plot_bgcolor": "#E5ECF6",
          "polar": {
           "angularaxis": {
            "gridcolor": "white",
            "linecolor": "white",
            "ticks": ""
           },
           "bgcolor": "#E5ECF6",
           "radialaxis": {
            "gridcolor": "white",
            "linecolor": "white",
            "ticks": ""
           }
          },
          "scene": {
           "xaxis": {
            "backgroundcolor": "#E5ECF6",
            "gridcolor": "white",
            "gridwidth": 2,
            "linecolor": "white",
            "showbackground": true,
            "ticks": "",
            "zerolinecolor": "white"
           },
           "yaxis": {
            "backgroundcolor": "#E5ECF6",
            "gridcolor": "white",
            "gridwidth": 2,
            "linecolor": "white",
            "showbackground": true,
            "ticks": "",
            "zerolinecolor": "white"
           },
           "zaxis": {
            "backgroundcolor": "#E5ECF6",
            "gridcolor": "white",
            "gridwidth": 2,
            "linecolor": "white",
            "showbackground": true,
            "ticks": "",
            "zerolinecolor": "white"
           }
          },
          "shapedefaults": {
           "line": {
            "color": "#2a3f5f"
           }
          },
          "ternary": {
           "aaxis": {
            "gridcolor": "white",
            "linecolor": "white",
            "ticks": ""
           },
           "baxis": {
            "gridcolor": "white",
            "linecolor": "white",
            "ticks": ""
           },
           "bgcolor": "#E5ECF6",
           "caxis": {
            "gridcolor": "white",
            "linecolor": "white",
            "ticks": ""
           }
          },
          "title": {
           "x": 0.05
          },
          "xaxis": {
           "automargin": true,
           "gridcolor": "white",
           "linecolor": "white",
           "ticks": "",
           "title": {
            "standoff": 15
           },
           "zerolinecolor": "white",
           "zerolinewidth": 2
          },
          "yaxis": {
           "automargin": true,
           "gridcolor": "white",
           "linecolor": "white",
           "ticks": "",
           "title": {
            "standoff": 15
           },
           "zerolinecolor": "white",
           "zerolinewidth": 2
          }
         }
        },
        "title": {
         "text": "Promedio de Distancia en Alta Velocidad por Jugador"
        },
        "xaxis": {
         "tickangle": -45,
         "title": {
          "text": "Fecha"
         }
        },
        "yaxis": {
         "gridcolor": "rgb(220, 220, 220)",
         "title": {
          "text": "Distancia (km)"
         }
        }
       }
      }
     },
     "metadata": {},
     "output_type": "display_data"
    },
    {
     "name": "stdout",
     "output_type": "stream",
     "text": [
      "Se muestran los datos de las últimas 10 fechas\n",
      "\n",
      "Registros visualizados (de más antigua a más reciente):\n",
      "          Date  Suma Zonas Alta Velocidad (km)  Player Name  \\\n",
      "14  2022-02-22                          4.7900            1   \n",
      "15  2022-03-19                          1.7100            1   \n",
      "16  2022-03-26                          1.6700            1   \n",
      "17  2022-04-05                          2.7800            1   \n",
      "18  2022-04-09                          1.2200            1   \n",
      "19  2022-04-25                          0.6100            1   \n",
      "20  2022-06-07                          1.4050            1   \n",
      "21  2022-06-11                          3.2135            1   \n",
      "22  2022-06-25                          3.8909            1   \n",
      "23  2023-05-06                         19.7022            1   \n",
      "\n",
      "    Promedio Alta Velocidad por Jugador (km)  \n",
      "14                                    4.7900  \n",
      "15                                    1.7100  \n",
      "16                                    1.6700  \n",
      "17                                    2.7800  \n",
      "18                                    1.2200  \n",
      "19                                    0.6100  \n",
      "20                                    1.4050  \n",
      "21                                    3.2135  \n",
      "22                                    3.8909  \n",
      "23                                   19.7022  \n"
     ]
    }
   ],
   "source": [
    "def visualizar_velocidad_equipo(df):\n",
    "    \"\"\"\n",
    "    Visualiza la suma de distancias en zonas de velocidad 3, 4 y 5 dividida por la cantidad de jugadores,\n",
    "    agrupado por fecha. Muestra las fechas de la más reciente a la más antigua.\n",
    "    \n",
    "    Parámetros:\n",
    "    - df: DataFrame con los datos de Catapult\n",
    "    \"\"\"\n",
    "    # Verificar si el DataFrame es válido\n",
    "    if df is None or df.empty:\n",
    "        print(\"No hay datos disponibles para analizar.\")\n",
    "        return None\n",
    "    \n",
    "    # Convertir columnas necesarias\n",
    "    try:\n",
    "        # Crear una copia del dataframe para no modificar el original\n",
    "        df_copy = df.copy()\n",
    "        \n",
    "        # Convertir fecha a datetime\n",
    "        if not pd.api.types.is_datetime64_dtype(df_copy['Date']):\n",
    "            df_copy['Date'] = pd.to_datetime(df_copy['Date'], errors='coerce')\n",
    "        \n",
    "        # Convertir columnas de distancia a numéricas\n",
    "        distance_columns = [\n",
    "            'Distance in Speed Zone 3 (km)', \n",
    "            'Distance in Speed Zone 4 (km)', \n",
    "            'Distance in Speed Zone 5 (km)'\n",
    "        ]\n",
    "        \n",
    "        for col in distance_columns:\n",
    "            if col in df_copy.columns:\n",
    "                if isinstance(df_copy[col].iloc[0], str):\n",
    "                    df_copy[col] = df_copy[col].str.replace(',', '.').astype(float)\n",
    "                elif not pd.api.types.is_numeric_dtype(df_copy[col]):\n",
    "                    df_copy[col] = pd.to_numeric(df_copy[col], errors='coerce')\n",
    "            else:\n",
    "                print(f\"La columna {col} no existe en el DataFrame.\")\n",
    "                return None\n",
    "    \n",
    "    except Exception as e:\n",
    "        print(f\"Error al convertir los datos: {e}\")\n",
    "        return None\n",
    "    \n",
    "    # Crear una columna con la suma de las distancias en zonas 3, 4 y 5\n",
    "    df_copy['Suma Zonas Alta Velocidad (km)'] = df_copy[distance_columns].sum(axis=1)\n",
    "    \n",
    "    # Agrupar por fecha\n",
    "    velocidades_por_fecha = df_copy.groupby(df_copy['Date'].dt.date).agg({\n",
    "        'Suma Zonas Alta Velocidad (km)': 'sum',\n",
    "        'Player Name': 'nunique'  # Contar jugadores únicos por fecha\n",
    "    }).reset_index()\n",
    "    \n",
    "    # Calcular promedio por jugador\n",
    "    velocidades_por_fecha['Promedio Alta Velocidad por Jugador (km)'] = (\n",
    "        velocidades_por_fecha['Suma Zonas Alta Velocidad (km)'] / \n",
    "        velocidades_por_fecha['Player Name']\n",
    "    )\n",
    "    \n",
    "    # Ordenar por fecha descendente (más reciente primero)\n",
    "    velocidades_por_fecha = velocidades_por_fecha.sort_values('Date', ascending=False)\n",
    "    \n",
    "    # Limitar a los últimos 10 registros (que ahora son los más recientes)\n",
    "    velocidades_por_fecha = velocidades_por_fecha.head(10)\n",
    "    \n",
    "    # Invertir el orden para la visualización (más reciente a la derecha)\n",
    "    velocidades_por_fecha = velocidades_por_fecha.iloc[::-1]\n",
    "    \n",
    "    # Crear figura con Plotly\n",
    "    fig = go.Figure()\n",
    "    \n",
    "    # Añadir barras para el promedio por jugador\n",
    "    fig.add_trace(go.Bar(\n",
    "        x=velocidades_por_fecha['Date'].astype(str),\n",
    "        y=velocidades_por_fecha['Promedio Alta Velocidad por Jugador (km)'],\n",
    "        text=velocidades_por_fecha['Promedio Alta Velocidad por Jugador (km)'].round(2),\n",
    "        textposition='outside',\n",
    "        marker_color='rgb(70, 70, 70)',\n",
    "        hovertemplate='<b>%{x}</b><br>Promedio Alta Velocidad: %{y:.2f} km<br>N° Jugadores: %{customdata[0]}<br>Total Equipo: %{customdata[1]:.2f} km<extra></extra>',\n",
    "        customdata=velocidades_por_fecha[['Player Name', 'Suma Zonas Alta Velocidad (km)']]\n",
    "    ))\n",
    "    \n",
    "    # Actualizar diseño con los parámetros especificados\n",
    "    fig.update_layout(\n",
    "        title='Promedio de Distancia en Alta Velocidad por Jugador',\n",
    "        xaxis=dict(\n",
    "            title='Fecha',\n",
    "            tickangle=-45\n",
    "        ),\n",
    "        yaxis=dict(\n",
    "            title='Distancia (km)',\n",
    "            gridcolor='rgb(220, 220, 220)'\n",
    "        ),\n",
    "        plot_bgcolor='rgb(250, 250, 250)',\n",
    "        paper_bgcolor='rgb(250, 250, 250)',\n",
    "        font=dict(color='rgb(20, 20, 20)'),\n",
    "        barmode='group',\n",
    "        bargap=0.15,\n",
    "        bargroupgap=0.1,\n",
    "        showlegend=False,\n",
    "        margin=dict(t=80, b=120, l=60, r=40),\n",
    "        height=600\n",
    "    )\n",
    "    \n",
    "    # Mostrar el gráfico\n",
    "    fig.show()\n",
    "    \n",
    "    return velocidades_por_fecha\n",
    "\n",
    "# Ejecutar la visualización\n",
    "try:\n",
    "    if 'df' in globals() and df is not None:\n",
    "        print(\"Calculando datos de velocidad por equipo...\")\n",
    "        resultados = visualizar_velocidad_equipo(df)\n",
    "        \n",
    "        if resultados is not None:\n",
    "            print(f\"Se muestran los datos de las últimas 10 fechas\")\n",
    "            print(\"\\nRegistros visualizados (de más antigua a más reciente):\")\n",
    "            print(resultados)\n",
    "        else:\n",
    "            print(\"No se pudieron calcular los resultados.\")\n",
    "    else:\n",
    "        print(\"No se encontraron datos cargados. Ejecute primero la celda para cargar los datos.\")\n",
    "except Exception as e:\n",
    "    import traceback\n",
    "    print(f\"Error al visualizar los datos: {e}\")\n",
    "    print(traceback.format_exc())"
   ]
  },
  {
   "cell_type": "code",
   "execution_count": null,
   "id": "11814288",
   "metadata": {},
   "outputs": [],
   "source": [
    "def visualizar_velocidad_equipo(df):\n",
    "    \"\"\"\n",
    "    Visualiza la suma de distancias en zonas de velocidad 3, 4 y 5 dividida por la cantidad de jugadores,\n",
    "    agrupado por fecha. Muestra las fechas de la más reciente a la más antigua.\n",
    "    Solo considera sesiones de tipo \"Partido\".\n",
    "    \n",
    "    Parámetros:\n",
    "    - df: DataFrame con los datos de Catapult\n",
    "    \"\"\"\n",
    "    # Verificar si el DataFrame es válido\n",
    "    if df is None or df.empty:\n",
    "        print(\"No hay datos disponibles para analizar.\")\n",
    "        return None\n",
    "    \n",
    "    # Convertir columnas necesarias\n",
    "    try:\n",
    "        # Crear una copia del dataframe para no modificar el original\n",
    "        df_copy = df.copy()\n",
    "        \n",
    "        # Convertir fecha a datetime\n",
    "        if not pd.api.types.is_datetime64_dtype(df_copy['Date']):\n",
    "            df_copy['Date'] = pd.to_datetime(df_copy['Date'], errors='coerce')\n",
    "        \n",
    "        # Filtrar solo los registros que corresponden a partidos\n",
    "        df_copy = df_copy[df_copy['Session Title'].str.contains('Partido', case=False, na=False)]\n",
    "        \n",
    "        if df_copy.empty:\n",
    "            print(\"No se encontraron registros de partidos en los datos.\")\n",
    "            return None\n",
    "        \n",
    "        # Convertir columnas de distancia a numéricas\n",
    "        distance_columns = [\n",
    "            'Distance in Speed Zone 3 (km)', \n",
    "            'Distance in Speed Zone 4 (km)', \n",
    "            'Distance in Speed Zone 5 (km)'\n",
    "        ]\n",
    "        \n",
    "        for col in distance_columns:\n",
    "            if col in df_copy.columns:\n",
    "                if isinstance(df_copy[col].iloc[0], str):\n",
    "                    df_copy[col] = df_copy[col].str.replace(',', '.').astype(float)\n",
    "                elif not pd.api.types.is_numeric_dtype(df_copy[col]):\n",
    "                    df_copy[col] = pd.to_numeric(df_copy[col], errors='coerce')\n",
    "            else:\n",
    "                print(f\"La columna {col} no existe en el DataFrame.\")\n",
    "                return None\n",
    "    \n",
    "    except Exception as e:\n",
    "        print(f\"Error al convertir los datos: {e}\")\n",
    "        return None\n",
    "    \n",
    "    # Crear una columna con la suma de las distancias en zonas 3, 4 y 5\n",
    "    df_copy['Suma Zonas Alta Velocidad (km)'] = df_copy[distance_columns].sum(axis=1)\n",
    "    \n",
    "    # Agrupar por fecha\n",
    "    velocidades_por_fecha = df_copy.groupby(df_copy['Date'].dt.date).agg({\n",
    "        'Suma Zonas Alta Velocidad (km)': 'sum',\n",
    "        'Player Name': 'nunique',  # Contar jugadores únicos por fecha\n",
    "        'Session Title': lambda x: ', '.join(pd.unique(x))  # Guardar los tipos de sesión\n",
    "    }).reset_index()\n",
    "    \n",
    "    # Calcular promedio por jugador\n",
    "    velocidades_por_fecha['Promedio Alta Velocidad por Jugador (km)'] = (\n",
    "        velocidades_por_fecha['Suma Zonas Alta Velocidad (km)'] / \n",
    "        velocidades_por_fecha['Player Name']\n",
    "    )\n",
    "    \n",
    "    # Ordenar por fecha descendente (más reciente primero)\n",
    "    velocidades_por_fecha = velocidades_por_fecha.sort_values('Date', ascending=False)\n",
    "    \n",
    "    # Limitar a los últimos 10 registros (que ahora son los más recientes)\n",
    "    velocidades_por_fecha = velocidades_por_fecha.head(10)\n",
    "    \n",
    "    # Invertir el orden para la visualización (más reciente a la derecha)\n",
    "    velocidades_por_fecha = velocidades_por_fecha.iloc[::-1]\n",
    "    \n",
    "    # Crear figura con Plotly\n",
    "    fig = go.Figure()\n",
    "    \n",
    "    # Añadir barras para el promedio por jugador\n",
    "    fig.add_trace(go.Bar(\n",
    "        x=velocidades_por_fecha['Date'].astype(str),\n",
    "        y=velocidades_por_fecha['Promedio Alta Velocidad por Jugador (km)'],\n",
    "        text=velocidades_por_fecha['Promedio Alta Velocidad por Jugador (km)'].round(2),\n",
    "        textposition='outside',\n",
    "        marker_color='rgb(70, 70, 70)',\n",
    "        hovertemplate='<b>%{x}</b><br>Partido: %{customdata[2]}<br>Promedio Alta Velocidad: %{y:.2f} km<br>N° Jugadores: %{customdata[0]}<br>Total Equipo: %{customdata[1]:.2f} km<extra></extra>',\n",
    "        customdata=velocidades_por_fecha[['Player Name', 'Suma Zonas Alta Velocidad (km)', 'Session Title']]\n",
    "    ))\n",
    "    \n",
    "    # Actualizar diseño con los parámetros especificados\n",
    "    fig.update_layout(\n",
    "        title='Promedio de Distancia en Alta Velocidad por Jugador (Solo Partidos)',\n",
    "        xaxis=dict(\n",
    "            title='Fecha',\n",
    "            tickangle=-45\n",
    "        ),\n",
    "        yaxis=dict(\n",
    "            title='Distancia (km)',\n",
    "            gridcolor='rgb(220, 220, 220)'\n",
    "        ),\n",
    "        plot_bgcolor='rgb(250, 250, 250)',\n",
    "        paper_bgcolor='rgb(250, 250, 250)',\n",
    "        font=dict(color='rgb(20, 20, 20)'),\n",
    "        barmode='group',\n",
    "        bargap=0.15,\n",
    "        bargroupgap=0.1,\n",
    "        showlegend=False,\n",
    "        margin=dict(t=80, b=120, l=60, r=40),\n",
    "        height=600\n",
    "    )\n",
    "    \n",
    "    # Mostrar el gráfico\n",
    "    fig.show()\n",
    "    \n",
    "    return velocidades_por_fecha"
   ]
  },
  {
   "cell_type": "code",
   "execution_count": null,
   "id": "07999ab8",
   "metadata": {},
   "outputs": [
    {
     "data": {
      "application/vnd.jupyter.widget-view+json": {
       "model_id": "8164c9835fe54c99be7b425a4fec5f99",
       "version_major": 2,
       "version_minor": 0
      },
      "text/plain": [
       "interactive(children=(IntSlider(value=5, description='N° Partidos:', max=10, min=1, style=SliderStyle(descript…"
      ]
     },
     "metadata": {},
     "output_type": "display_data"
    },
    {
     "data": {
      "application/vnd.jupyter.widget-view+json": {
       "model_id": "26df869ca0b74e93b47e140be321e338",
       "version_major": 2,
       "version_minor": 0
      },
      "text/plain": [
       "VBox(children=(IntSlider(value=5, description='N° Partidos:', max=10, min=1, style=SliderStyle(description_wid…"
      ]
     },
     "metadata": {},
     "output_type": "display_data"
    }
   ],
   "source": [
    "from ipywidgets import interact, IntSlider, HBox, VBox, Output, Layout\n",
    "import ipywidgets as widgets\n",
    "\n",
    "def probar_visualizacion_interactiva(df, max_partidos=10):\n",
    "    output = Output()\n",
    "    \n",
    "    # Widget para seleccionar número de partidos\n",
    "    n_partidos_slider = IntSlider(\n",
    "        value=5, \n",
    "        min=1, \n",
    "        max=max_partidos, \n",
    "        step=1, \n",
    "        description='N° Partidos:',\n",
    "        style={'description_width': 'initial'}\n",
    "    )\n",
    "    \n",
    "    # Función para actualizar la visualización\n",
    "    def update_visualization(n_partidos):\n",
    "        with output:\n",
    "            output.clear_output()\n",
    "            try:\n",
    "                print(f\"Analizando los últimos {n_partidos} partidos...\")\n",
    "                resultados = visualizar_velocidad_equipo(df)\n",
    "                \n",
    "                if resultados is not None:\n",
    "                    subset = resultados.tail(n_partidos)\n",
    "                    print(f\"Promedio total de alta velocidad: {subset['Promedio Alta Velocidad por Jugador (km)'].mean():.2f} km\")\n",
    "            except Exception as e:\n",
    "                print(f\"Error en la visualización: {e}\")\n",
    "    \n",
    "    # Conectar el widget con la función de actualización\n",
    "    interact(update_visualization, n_partidos=n_partidos_slider)\n",
    "    \n",
    "    return VBox([n_partidos_slider, output])\n",
    "\n",
    "# Ejecutar la prueba interactiva\n",
    "if 'df' in globals() and df is not None:\n",
    "    display(probar_visualizacion_interactiva(df))\n",
    "else:\n",
    "    print(\"DataFrame no disponible. Por favor, cargue los datos primero.\")"
   ]
  },
  {
   "cell_type": "code",
   "execution_count": null,
   "id": "1995d5ce",
   "metadata": {},
   "outputs": [],
   "source": [
    "# Agrupar por fecha y obtener estadísticas para zonas de velocidad alta\n",
    "def obtener_estadisticas_velocidad(partidos_df):\n",
    "    # Primero asegurar que las columnas de velocidad sean numéricas\n",
    "    columnas_velocidad = [\n",
    "        'Distance in Speed Zone 3 (km)',\n",
    "        'Distance in Speed Zone 4 (km)',\n",
    "        'Distance in Speed Zone 5 (km)'\n",
    "    ]\n",
    "    \n",
    "    # Convertir las columnas a numéricas si es necesario\n",
    "    for col in columnas_velocidad:\n",
    "        if isinstance(partidos_df[col].iloc[0], str):\n",
    "            partidos_df[col] = partidos_df[col].str.replace(',', '.').astype(float)\n",
    "        elif not pd.api.types.is_numeric_dtype(partidos_df[col]):\n",
    "            partidos_df[col] = pd.to_numeric(partidos_df[col], errors='coerce')\n",
    "    \n",
    "    # Crear columna con la suma de las zonas de velocidad alta\n",
    "    partidos_df['Alta Velocidad (km)'] = partidos_df[columnas_velocidad].sum(axis=1)\n",
    "    \n",
    "    # Agrupar por fecha y obtener estadísticas\n",
    "    velocidad_stats = partidos_df.groupby([partidos_df['Date'].dt.date, 'Session Title'])['Alta Velocidad (km)'].agg(\n",
    "        ['mean', 'std', 'count', 'sum']).reset_index()\n",
    "    \n",
    "    velocidad_stats.columns = ['Fecha', 'Partido', 'Velocidad Alta Media (km)', \n",
    "                              'Desviación Estándar (km)', 'N° Jugadores', 'Velocidad Alta Total (km)']\n",
    "    \n",
    "    # Ordenar por fecha\n",
    "    velocidad_stats = velocidad_stats.sort_values('Fecha', ascending=True)\n",
    "    \n",
    "    return velocidad_stats"
   ]
  },
  {
   "cell_type": "code",
   "execution_count": null,
   "id": "1bd2aa82",
   "metadata": {},
   "outputs": [],
   "source": []
  },
  {
   "cell_type": "code",
   "execution_count": null,
   "id": "0b8d9c31",
   "metadata": {},
   "outputs": [
    {
     "name": "stdout",
     "output_type": "stream",
     "text": [
      "Se encontraron datos para 10 partidos\n",
      "\n",
      "Primeros 5 registros:\n",
      "        Fecha                  Partido  Velocidad Alta Media (km)  \\\n",
      "0  2021-10-16     Partido San Fernando                      1.110   \n",
      "1  2021-10-16  Partido vs San Fernando                      2.160   \n",
      "2  2021-10-23        Partido Don Bosco                      0.625   \n",
      "3  2021-10-30         Partido vs SITAS                      1.545   \n",
      "4  2022-03-19    partido Liceo Militar                      1.710   \n",
      "\n",
      "   Desviación Estándar (km)  N° Jugadores  Velocidad Alta Total (km)  \n",
      "0                       NaN             1                       1.11  \n",
      "1                       NaN             1                       2.16  \n",
      "2                  0.247487             2                       1.25  \n",
      "3                  0.233345             2                       3.09  \n",
      "4                       NaN             1                       1.71  \n"
     ]
    },
    {
     "name": "stderr",
     "output_type": "stream",
     "text": [
      "C:\\Users\\dell\\AppData\\Local\\Temp\\ipykernel_12412\\2991409232.py:9: UserWarning:\n",
      "\n",
      "Parsing dates in %d/%m/%Y format when dayfirst=False (the default) was specified. Pass `dayfirst=True` or specify a format to silence this warning.\n",
      "\n"
     ]
    }
   ],
   "source": [
    "try:\n",
    "    if 'df' in globals() and df is not None:\n",
    "        # Primero filtrar solo partidos si es necesario\n",
    "        partidos_df = df[df['Session Title'].str.contains('Partido', case=False, na=False)].copy()\n",
    "        \n",
    "        if not partidos_df.empty:\n",
    "            # Asegurarse que la fecha está en formato datetime\n",
    "            if not pd.api.types.is_datetime64_dtype(partidos_df['Date']):\n",
    "                partidos_df['Date'] = pd.to_datetime(partidos_df['Date'], errors='coerce')\n",
    "                \n",
    "            # Obtener estadísticas de velocidad alta\n",
    "            velocidad_stats = obtener_estadisticas_velocidad(partidos_df)\n",
    "            \n",
    "            print(f\"Se encontraron datos para {len(velocidad_stats)} partidos\")\n",
    "            print(\"\\nPrimeros 5 registros:\")\n",
    "            print(velocidad_stats.head())\n",
    "        else:\n",
    "            print(\"No se encontraron datos de partidos.\")\n",
    "    else:\n",
    "        print(\"No hay datos cargados o el DataFrame 'df' no existe.\")\n",
    "except Exception as e:\n",
    "    print(f\"Error al procesar los datos: {e}\")"
   ]
  },
  {
   "cell_type": "code",
   "execution_count": null,
   "id": "a542b6d0",
   "metadata": {},
   "outputs": [
    {
     "name": "stdout",
     "output_type": "stream",
     "text": [
      "Se encontraron datos para 10 partidos\n",
      "\n",
      "Primeros 5 registros:\n",
      "        Fecha                  Partido  Velocidad Alta Media (km)  \\\n",
      "0  2021-10-16     Partido San Fernando                      1.110   \n",
      "1  2021-10-16  Partido vs San Fernando                      2.160   \n",
      "2  2021-10-23        Partido Don Bosco                      0.625   \n",
      "3  2021-10-30         Partido vs SITAS                      1.545   \n",
      "4  2022-03-19    partido Liceo Militar                      1.710   \n",
      "\n",
      "   Desviación Estándar (km)  N° Jugadores  Velocidad Alta Total (km)  \n",
      "0                       NaN             1                       1.11  \n",
      "1                       NaN             1                       2.16  \n",
      "2                  0.247487             2                       1.25  \n",
      "3                  0.233345             2                       3.09  \n",
      "4                       NaN             1                       1.71  \n"
     ]
    },
    {
     "name": "stderr",
     "output_type": "stream",
     "text": [
      "C:\\Users\\dell\\AppData\\Local\\Temp\\ipykernel_12412\\3830013352.py:9: UserWarning:\n",
      "\n",
      "Parsing dates in %d/%m/%Y format when dayfirst=False (the default) was specified. Pass `dayfirst=True` or specify a format to silence this warning.\n",
      "\n"
     ]
    }
   ],
   "source": [
    "try:\n",
    "    if 'df' in globals() and df is not None:\n",
    "        # Primero filtrar solo partidos si es necesario\n",
    "        partidos_df = df[df['Session Title'].str.contains('Partido', case=False, na=False)].copy()\n",
    "        \n",
    "        if not partidos_df.empty:\n",
    "            # Asegurarse que la fecha está en formato datetime\n",
    "            if not pd.api.types.is_datetime64_dtype(partidos_df['Date']):\n",
    "                partidos_df['Date'] = pd.to_datetime(partidos_df['Date'], errors='coerce')\n",
    "                \n",
    "            # Obtener estadísticas de velocidad alta\n",
    "            velocidad_stats = obtener_estadisticas_velocidad(partidos_df)\n",
    "            \n",
    "            print(f\"Se encontraron datos para {len(velocidad_stats)} partidos\")\n",
    "            print(\"\\nPrimeros 5 registros:\")\n",
    "            print(velocidad_stats.head())\n",
    "        else:\n",
    "            print(\"No se encontraron datos de partidos.\")\n",
    "    else:\n",
    "        print(\"No hay datos cargados o el DataFrame 'df' no existe.\")\n",
    "except Exception as e:\n",
    "    print(f\"Error al procesar los datos: {e}\")\n",
    "    "
   ]
  },
  {
   "cell_type": "code",
   "execution_count": null,
   "id": "1daf9a49",
   "metadata": {},
   "outputs": [],
   "source": [
    "def obtener_estadisticas_velocidad(partidos_df):\n",
    "    # Primero asegurar que las columnas de velocidad sean numéricas\n",
    "    columnas_velocidad = [\n",
    "        'Distance in Speed Zone 3 (km)',\n",
    "        'Distance in Speed Zone 4 (km)',\n",
    "        'Distance in Speed Zone 5 (km)'\n",
    "    ]\n",
    "    \n",
    "    # Convertir las columnas a numéricas si es necesario\n",
    "    for col in columnas_velocidad:\n",
    "        if isinstance(partidos_df[col].iloc[0], str):\n",
    "            partidos_df[col] = partidos_df[col].str.replace(',', '.').astype(float)\n",
    "        elif not pd.api.types.is_numeric_dtype(partidos_df[col]):\n",
    "            partidos_df[col] = pd.to_numeric(partidos_df[col], errors='coerce')\n",
    "    \n",
    "    # Crear columna con la suma de las zonas de velocidad alta\n",
    "    partidos_df['Alta Velocidad (km)'] = partidos_df[columnas_velocidad].sum(axis=1)\n",
    "    \n",
    "    # Agrupar por fecha y obtener estadísticas\n",
    "    velocidad_stats = partidos_df.groupby([partidos_df['Date'].dt.date, 'Session Title'])['Alta Velocidad (km)'].agg(\n",
    "        ['mean', 'std', 'count', 'sum']).reset_index()\n",
    "    \n",
    "    velocidad_stats.columns = ['Fecha', 'Partido', 'Velocidad Alta Media (km)', \n",
    "                              'Desviación Estándar (km)', 'N° Jugadores', 'Velocidad Alta Total (km)']\n",
    "    \n",
    "    # Ordenar por fecha\n",
    "    velocidad_stats = velocidad_stats.sort_values('Fecha', ascending=True)\n",
    "    \n",
    "    return velocidad_stats"
   ]
  },
  {
   "cell_type": "code",
   "execution_count": null,
   "id": "dfd1c375",
   "metadata": {},
   "outputs": [
    {
     "name": "stderr",
     "output_type": "stream",
     "text": [
      "C:\\Users\\dell\\AppData\\Local\\Temp\\ipykernel_12412\\4261746908.py:18: UserWarning:\n",
      "\n",
      "Parsing dates in %d/%m/%Y format when dayfirst=False (the default) was specified. Pass `dayfirst=True` or specify a format to silence this warning.\n",
      "\n"
     ]
    },
    {
     "data": {
      "application/vnd.plotly.v1+json": {
       "config": {
        "plotlyServerURL": "https://plot.ly"
       },
       "data": [
        {
         "customdata": {
          "bdata": "AAAAAAAA8D/D9Shcj8LxPwAAAAAAAPA/SOF6FK5HAUAAAAAAAAAAQAAAAAAAAPQ/AAAAAAAAAEC4HoXrUbgIQAAAAAAAAPA/XI/C9Shc+z8AAAAAAADwP7gehetRuPo/AAAAAAAA8D+F61G4HoXzPwAAAAAAABBAaJHtfD+1CUAAAAAAAAAQQBwN4C2QIA9AAAAAAAAAFEBPQBNhw7MzQA==",
          "dtype": "f8",
          "shape": "10, 2"
         },
         "hovertemplate": "<b>%{x}</b><br>Velocidad Alta Media: %{y:.2f} km<br>N° Jugadores: %{customdata[0]}<br>Total: %{customdata[1]:.2f} km<extra></extra>",
         "marker": {
          "color": "rgb(70, 70, 70)"
         },
         "name": "Velocidad Alta Media",
         "text": {
          "bdata": "w/UoXI/C8T9I4XoUrkcBQNejcD0K1+M/pHA9Ctej+D9cj8L1KFz7P7gehetRuPo/hetRuB6F8z+amZmZmZnpPwrXo3A9Cu8/hetRuB6FD0A=",
          "dtype": "f8"
         },
         "textposition": "outside",
         "type": "bar",
         "x": [
          "2021-10-16 - Partido San Fernando",
          "2021-10-16 - Partido vs San Fernando",
          "2021-10-23 - Partido Don Bosco",
          "2021-10-30 - Partido vs SITAS",
          "2022-03-19 - partido Liceo Militar",
          "2022-03-26 - Partido Don Bosco",
          "2022-04-09 - Partido Sitas",
          "2022-06-11 - Partido Cuidad de Bs As",
          "2022-06-25 - Partido San Martin",
          "2023-05-06 - Partido Don Bosco"
         ],
         "y": {
          "bdata": "w/UoXI/C8T9I4XoUrkcBQAAAAAAAAOQ/uB6F61G4+D9cj8L1KFz7P7gehetRuPo/hetRuB6F8z9oke18P7XpPxwN4C2QIO8/S80eaAWGD0A=",
          "dtype": "f8"
         }
        },
        {
         "hoverinfo": "skip",
         "line": {
          "color": "rgb(30, 30, 30)",
          "width": 2
         },
         "marker": {
          "color": "rgb(30, 30, 30)",
          "size": 8
         },
         "mode": "lines+markers",
         "name": "Tendencia",
         "type": "scatter",
         "x": [
          "2021-10-16 - Partido San Fernando",
          "2021-10-16 - Partido vs San Fernando",
          "2021-10-23 - Partido Don Bosco",
          "2021-10-30 - Partido vs SITAS",
          "2022-03-19 - partido Liceo Militar",
          "2022-03-26 - Partido Don Bosco",
          "2022-04-09 - Partido Sitas",
          "2022-06-11 - Partido Cuidad de Bs As",
          "2022-06-25 - Partido San Martin",
          "2023-05-06 - Partido Don Bosco"
         ],
         "y": {
          "bdata": "w/UoXI/C8T9I4XoUrkcBQAAAAAAAAOQ/uB6F61G4+D9cj8L1KFz7P7gehetRuPo/hetRuB6F8z9oke18P7XpPxwN4C2QIO8/S80eaAWGD0A=",
          "dtype": "f8"
         }
        }
       ],
       "layout": {
        "bargap": 0.15,
        "bargroupgap": 0.1,
        "barmode": "group",
        "font": {
         "color": "rgb(20, 20, 20)"
        },
        "height": 600,
        "legend": {
         "orientation": "h",
         "x": 1,
         "xanchor": "right",
         "y": 1.02,
         "yanchor": "bottom"
        },
        "margin": {
         "b": 120,
         "l": 60,
         "r": 40,
         "t": 80
        },
        "paper_bgcolor": "rgb(250, 250, 250)",
        "plot_bgcolor": "rgb(250, 250, 250)",
        "template": {
         "data": {
          "bar": [
           {
            "error_x": {
             "color": "#2a3f5f"
            },
            "error_y": {
             "color": "#2a3f5f"
            },
            "marker": {
             "line": {
              "color": "#E5ECF6",
              "width": 0.5
             },
             "pattern": {
              "fillmode": "overlay",
              "size": 10,
              "solidity": 0.2
             }
            },
            "type": "bar"
           }
          ],
          "barpolar": [
           {
            "marker": {
             "line": {
              "color": "#E5ECF6",
              "width": 0.5
             },
             "pattern": {
              "fillmode": "overlay",
              "size": 10,
              "solidity": 0.2
             }
            },
            "type": "barpolar"
           }
          ],
          "carpet": [
           {
            "aaxis": {
             "endlinecolor": "#2a3f5f",
             "gridcolor": "white",
             "linecolor": "white",
             "minorgridcolor": "white",
             "startlinecolor": "#2a3f5f"
            },
            "baxis": {
             "endlinecolor": "#2a3f5f",
             "gridcolor": "white",
             "linecolor": "white",
             "minorgridcolor": "white",
             "startlinecolor": "#2a3f5f"
            },
            "type": "carpet"
           }
          ],
          "choropleth": [
           {
            "colorbar": {
             "outlinewidth": 0,
             "ticks": ""
            },
            "type": "choropleth"
           }
          ],
          "contour": [
           {
            "colorbar": {
             "outlinewidth": 0,
             "ticks": ""
            },
            "colorscale": [
             [
              0,
              "#0d0887"
             ],
             [
              0.1111111111111111,
              "#46039f"
             ],
             [
              0.2222222222222222,
              "#7201a8"
             ],
             [
              0.3333333333333333,
              "#9c179e"
             ],
             [
              0.4444444444444444,
              "#bd3786"
             ],
             [
              0.5555555555555556,
              "#d8576b"
             ],
             [
              0.6666666666666666,
              "#ed7953"
             ],
             [
              0.7777777777777778,
              "#fb9f3a"
             ],
             [
              0.8888888888888888,
              "#fdca26"
             ],
             [
              1,
              "#f0f921"
             ]
            ],
            "type": "contour"
           }
          ],
          "contourcarpet": [
           {
            "colorbar": {
             "outlinewidth": 0,
             "ticks": ""
            },
            "type": "contourcarpet"
           }
          ],
          "heatmap": [
           {
            "colorbar": {
             "outlinewidth": 0,
             "ticks": ""
            },
            "colorscale": [
             [
              0,
              "#0d0887"
             ],
             [
              0.1111111111111111,
              "#46039f"
             ],
             [
              0.2222222222222222,
              "#7201a8"
             ],
             [
              0.3333333333333333,
              "#9c179e"
             ],
             [
              0.4444444444444444,
              "#bd3786"
             ],
             [
              0.5555555555555556,
              "#d8576b"
             ],
             [
              0.6666666666666666,
              "#ed7953"
             ],
             [
              0.7777777777777778,
              "#fb9f3a"
             ],
             [
              0.8888888888888888,
              "#fdca26"
             ],
             [
              1,
              "#f0f921"
             ]
            ],
            "type": "heatmap"
           }
          ],
          "histogram": [
           {
            "marker": {
             "pattern": {
              "fillmode": "overlay",
              "size": 10,
              "solidity": 0.2
             }
            },
            "type": "histogram"
           }
          ],
          "histogram2d": [
           {
            "colorbar": {
             "outlinewidth": 0,
             "ticks": ""
            },
            "colorscale": [
             [
              0,
              "#0d0887"
             ],
             [
              0.1111111111111111,
              "#46039f"
             ],
             [
              0.2222222222222222,
              "#7201a8"
             ],
             [
              0.3333333333333333,
              "#9c179e"
             ],
             [
              0.4444444444444444,
              "#bd3786"
             ],
             [
              0.5555555555555556,
              "#d8576b"
             ],
             [
              0.6666666666666666,
              "#ed7953"
             ],
             [
              0.7777777777777778,
              "#fb9f3a"
             ],
             [
              0.8888888888888888,
              "#fdca26"
             ],
             [
              1,
              "#f0f921"
             ]
            ],
            "type": "histogram2d"
           }
          ],
          "histogram2dcontour": [
           {
            "colorbar": {
             "outlinewidth": 0,
             "ticks": ""
            },
            "colorscale": [
             [
              0,
              "#0d0887"
             ],
             [
              0.1111111111111111,
              "#46039f"
             ],
             [
              0.2222222222222222,
              "#7201a8"
             ],
             [
              0.3333333333333333,
              "#9c179e"
             ],
             [
              0.4444444444444444,
              "#bd3786"
             ],
             [
              0.5555555555555556,
              "#d8576b"
             ],
             [
              0.6666666666666666,
              "#ed7953"
             ],
             [
              0.7777777777777778,
              "#fb9f3a"
             ],
             [
              0.8888888888888888,
              "#fdca26"
             ],
             [
              1,
              "#f0f921"
             ]
            ],
            "type": "histogram2dcontour"
           }
          ],
          "mesh3d": [
           {
            "colorbar": {
             "outlinewidth": 0,
             "ticks": ""
            },
            "type": "mesh3d"
           }
          ],
          "parcoords": [
           {
            "line": {
             "colorbar": {
              "outlinewidth": 0,
              "ticks": ""
             }
            },
            "type": "parcoords"
           }
          ],
          "pie": [
           {
            "automargin": true,
            "type": "pie"
           }
          ],
          "scatter": [
           {
            "fillpattern": {
             "fillmode": "overlay",
             "size": 10,
             "solidity": 0.2
            },
            "type": "scatter"
           }
          ],
          "scatter3d": [
           {
            "line": {
             "colorbar": {
              "outlinewidth": 0,
              "ticks": ""
             }
            },
            "marker": {
             "colorbar": {
              "outlinewidth": 0,
              "ticks": ""
             }
            },
            "type": "scatter3d"
           }
          ],
          "scattercarpet": [
           {
            "marker": {
             "colorbar": {
              "outlinewidth": 0,
              "ticks": ""
             }
            },
            "type": "scattercarpet"
           }
          ],
          "scattergeo": [
           {
            "marker": {
             "colorbar": {
              "outlinewidth": 0,
              "ticks": ""
             }
            },
            "type": "scattergeo"
           }
          ],
          "scattergl": [
           {
            "marker": {
             "colorbar": {
              "outlinewidth": 0,
              "ticks": ""
             }
            },
            "type": "scattergl"
           }
          ],
          "scattermap": [
           {
            "marker": {
             "colorbar": {
              "outlinewidth": 0,
              "ticks": ""
             }
            },
            "type": "scattermap"
           }
          ],
          "scattermapbox": [
           {
            "marker": {
             "colorbar": {
              "outlinewidth": 0,
              "ticks": ""
             }
            },
            "type": "scattermapbox"
           }
          ],
          "scatterpolar": [
           {
            "marker": {
             "colorbar": {
              "outlinewidth": 0,
              "ticks": ""
             }
            },
            "type": "scatterpolar"
           }
          ],
          "scatterpolargl": [
           {
            "marker": {
             "colorbar": {
              "outlinewidth": 0,
              "ticks": ""
             }
            },
            "type": "scatterpolargl"
           }
          ],
          "scatterternary": [
           {
            "marker": {
             "colorbar": {
              "outlinewidth": 0,
              "ticks": ""
             }
            },
            "type": "scatterternary"
           }
          ],
          "surface": [
           {
            "colorbar": {
             "outlinewidth": 0,
             "ticks": ""
            },
            "colorscale": [
             [
              0,
              "#0d0887"
             ],
             [
              0.1111111111111111,
              "#46039f"
             ],
             [
              0.2222222222222222,
              "#7201a8"
             ],
             [
              0.3333333333333333,
              "#9c179e"
             ],
             [
              0.4444444444444444,
              "#bd3786"
             ],
             [
              0.5555555555555556,
              "#d8576b"
             ],
             [
              0.6666666666666666,
              "#ed7953"
             ],
             [
              0.7777777777777778,
              "#fb9f3a"
             ],
             [
              0.8888888888888888,
              "#fdca26"
             ],
             [
              1,
              "#f0f921"
             ]
            ],
            "type": "surface"
           }
          ],
          "table": [
           {
            "cells": {
             "fill": {
              "color": "#EBF0F8"
             },
             "line": {
              "color": "white"
             }
            },
            "header": {
             "fill": {
              "color": "#C8D4E3"
             },
             "line": {
              "color": "white"
             }
            },
            "type": "table"
           }
          ]
         },
         "layout": {
          "annotationdefaults": {
           "arrowcolor": "#2a3f5f",
           "arrowhead": 0,
           "arrowwidth": 1
          },
          "autotypenumbers": "strict",
          "coloraxis": {
           "colorbar": {
            "outlinewidth": 0,
            "ticks": ""
           }
          },
          "colorscale": {
           "diverging": [
            [
             0,
             "#8e0152"
            ],
            [
             0.1,
             "#c51b7d"
            ],
            [
             0.2,
             "#de77ae"
            ],
            [
             0.3,
             "#f1b6da"
            ],
            [
             0.4,
             "#fde0ef"
            ],
            [
             0.5,
             "#f7f7f7"
            ],
            [
             0.6,
             "#e6f5d0"
            ],
            [
             0.7,
             "#b8e186"
            ],
            [
             0.8,
             "#7fbc41"
            ],
            [
             0.9,
             "#4d9221"
            ],
            [
             1,
             "#276419"
            ]
           ],
           "sequential": [
            [
             0,
             "#0d0887"
            ],
            [
             0.1111111111111111,
             "#46039f"
            ],
            [
             0.2222222222222222,
             "#7201a8"
            ],
            [
             0.3333333333333333,
             "#9c179e"
            ],
            [
             0.4444444444444444,
             "#bd3786"
            ],
            [
             0.5555555555555556,
             "#d8576b"
            ],
            [
             0.6666666666666666,
             "#ed7953"
            ],
            [
             0.7777777777777778,
             "#fb9f3a"
            ],
            [
             0.8888888888888888,
             "#fdca26"
            ],
            [
             1,
             "#f0f921"
            ]
           ],
           "sequentialminus": [
            [
             0,
             "#0d0887"
            ],
            [
             0.1111111111111111,
             "#46039f"
            ],
            [
             0.2222222222222222,
             "#7201a8"
            ],
            [
             0.3333333333333333,
             "#9c179e"
            ],
            [
             0.4444444444444444,
             "#bd3786"
            ],
            [
             0.5555555555555556,
             "#d8576b"
            ],
            [
             0.6666666666666666,
             "#ed7953"
            ],
            [
             0.7777777777777778,
             "#fb9f3a"
            ],
            [
             0.8888888888888888,
             "#fdca26"
            ],
            [
             1,
             "#f0f921"
            ]
           ]
          },
          "colorway": [
           "#636efa",
           "#EF553B",
           "#00cc96",
           "#ab63fa",
           "#FFA15A",
           "#19d3f3",
           "#FF6692",
           "#B6E880",
           "#FF97FF",
           "#FECB52"
          ],
          "font": {
           "color": "#2a3f5f"
          },
          "geo": {
           "bgcolor": "white",
           "lakecolor": "white",
           "landcolor": "#E5ECF6",
           "showlakes": true,
           "showland": true,
           "subunitcolor": "white"
          },
          "hoverlabel": {
           "align": "left"
          },
          "hovermode": "closest",
          "mapbox": {
           "style": "light"
          },
          "paper_bgcolor": "white",
          "plot_bgcolor": "#E5ECF6",
          "polar": {
           "angularaxis": {
            "gridcolor": "white",
            "linecolor": "white",
            "ticks": ""
           },
           "bgcolor": "#E5ECF6",
           "radialaxis": {
            "gridcolor": "white",
            "linecolor": "white",
            "ticks": ""
           }
          },
          "scene": {
           "xaxis": {
            "backgroundcolor": "#E5ECF6",
            "gridcolor": "white",
            "gridwidth": 2,
            "linecolor": "white",
            "showbackground": true,
            "ticks": "",
            "zerolinecolor": "white"
           },
           "yaxis": {
            "backgroundcolor": "#E5ECF6",
            "gridcolor": "white",
            "gridwidth": 2,
            "linecolor": "white",
            "showbackground": true,
            "ticks": "",
            "zerolinecolor": "white"
           },
           "zaxis": {
            "backgroundcolor": "#E5ECF6",
            "gridcolor": "white",
            "gridwidth": 2,
            "linecolor": "white",
            "showbackground": true,
            "ticks": "",
            "zerolinecolor": "white"
           }
          },
          "shapedefaults": {
           "line": {
            "color": "#2a3f5f"
           }
          },
          "ternary": {
           "aaxis": {
            "gridcolor": "white",
            "linecolor": "white",
            "ticks": ""
           },
           "baxis": {
            "gridcolor": "white",
            "linecolor": "white",
            "ticks": ""
           },
           "bgcolor": "#E5ECF6",
           "caxis": {
            "gridcolor": "white",
            "linecolor": "white",
            "ticks": ""
           }
          },
          "title": {
           "x": 0.05
          },
          "xaxis": {
           "automargin": true,
           "gridcolor": "white",
           "linecolor": "white",
           "ticks": "",
           "title": {
            "standoff": 15
           },
           "zerolinecolor": "white",
           "zerolinewidth": 2
          },
          "yaxis": {
           "automargin": true,
           "gridcolor": "white",
           "linecolor": "white",
           "ticks": "",
           "title": {
            "standoff": 15
           },
           "zerolinecolor": "white",
           "zerolinewidth": 2
          }
         }
        },
        "title": {
         "text": "Velocidad Alta Media por Partido"
        },
        "xaxis": {
         "tickangle": -45,
         "title": {
          "text": "Partido"
         }
        },
        "yaxis": {
         "gridcolor": "rgb(220, 220, 220)",
         "title": {
          "text": "Velocidad Alta Media (km)"
         }
        }
       }
      }
     },
     "metadata": {},
     "output_type": "display_data"
    },
    {
     "name": "stdout",
     "output_type": "stream",
     "text": [
      "Se visualizaron datos para 10 partidos\n"
     ]
    }
   ],
   "source": [
    "def visualizar_estadisticas_velocidad(df):\n",
    "    \"\"\"\n",
    "    Visualiza las estadísticas de velocidad alta en un gráfico de barras.\n",
    "    \n",
    "    Parámetros:\n",
    "    - df: DataFrame con los datos de Catapult\n",
    "    \"\"\"\n",
    "    try:\n",
    "        # Primero filtrar solo partidos\n",
    "        partidos_df = df[df['Session Title'].str.contains('Partido', case=False, na=False)].copy()\n",
    "        \n",
    "        if partidos_df.empty:\n",
    "            print(\"No se encontraron datos de partidos para visualizar.\")\n",
    "            return None\n",
    "        \n",
    "        # Convertir fecha a datetime si no lo está\n",
    "        if not pd.api.types.is_datetime64_dtype(partidos_df['Date']):\n",
    "            partidos_df['Date'] = pd.to_datetime(partidos_df['Date'], errors='coerce')\n",
    "        \n",
    "        # Obtener estadísticas de velocidad\n",
    "        velocidad_stats = obtener_estadisticas_velocidad(partidos_df)\n",
    "        \n",
    "        # Crear identificador único para cada partido (fecha + nombre)\n",
    "        velocidad_stats['ID_Partido'] = velocidad_stats['Fecha'].astype(str) + ' - ' + velocidad_stats['Partido']\n",
    "        \n",
    "        # Limitar a los últimos 10 partidos para mejor visualización\n",
    "        if len(velocidad_stats) > 10:\n",
    "            velocidad_stats = velocidad_stats.tail(10)\n",
    "        \n",
    "        # Crear gráfico de barras con Plotly\n",
    "        fig = go.Figure()\n",
    "        \n",
    "        # Añadir barras para la velocidad alta media\n",
    "        fig.add_trace(go.Bar(\n",
    "            x=velocidad_stats['ID_Partido'],\n",
    "            y=velocidad_stats['Velocidad Alta Media (km)'],\n",
    "            name='Velocidad Alta Media',\n",
    "            marker_color='rgb(70, 70, 70)',\n",
    "            text=velocidad_stats['Velocidad Alta Media (km)'].round(2),\n",
    "            textposition='outside',\n",
    "            hovertemplate='<b>%{x}</b><br>Velocidad Alta Media: %{y:.2f} km<br>N° Jugadores: %{customdata[0]}<br>Total: %{customdata[1]:.2f} km<extra></extra>',\n",
    "            customdata=velocidad_stats[['N° Jugadores', 'Velocidad Alta Total (km)']]\n",
    "        ))\n",
    "        \n",
    "        # Añadir línea de tendencia\n",
    "        fig.add_trace(go.Scatter(\n",
    "            x=velocidad_stats['ID_Partido'],\n",
    "            y=velocidad_stats['Velocidad Alta Media (km)'],\n",
    "            name='Tendencia',\n",
    "            mode='lines+markers',\n",
    "            line=dict(color='rgb(30, 30, 30)', width=2),\n",
    "            marker=dict(color='rgb(30, 30, 30)', size=8),\n",
    "            hoverinfo='skip'\n",
    "        ))\n",
    "        \n",
    "        # Configurar diseño\n",
    "        fig.update_layout(\n",
    "            title='Velocidad Alta Media por Partido',\n",
    "            xaxis=dict(\n",
    "                title='Partido',\n",
    "                tickangle=-45\n",
    "            ),\n",
    "            yaxis=dict(\n",
    "                title='Velocidad Alta Media (km)',\n",
    "                gridcolor='rgb(220, 220, 220)'\n",
    "            ),\n",
    "            plot_bgcolor='rgb(250, 250, 250)',\n",
    "            paper_bgcolor='rgb(250, 250, 250)',\n",
    "            font=dict(color='rgb(20, 20, 20)'),\n",
    "            barmode='group',\n",
    "            bargap=0.15,\n",
    "            bargroupgap=0.1,\n",
    "            legend=dict(orientation='h', yanchor='bottom', y=1.02, xanchor='right', x=1),\n",
    "            margin=dict(t=80, b=120, l=60, r=40),\n",
    "            height=600\n",
    "        )\n",
    "        \n",
    "        # Mostrar gráfico\n",
    "        fig.show()\n",
    "        \n",
    "        return velocidad_stats\n",
    "    \n",
    "    except Exception as e:\n",
    "        import traceback\n",
    "        print(f\"Error al visualizar las estadísticas: {e}\")\n",
    "        print(traceback.format_exc())\n",
    "        return None\n",
    "\n",
    "# Ejecutar la visualización\n",
    "try:\n",
    "    if 'df' in globals() and df is not None:\n",
    "        resultados = visualizar_estadisticas_velocidad(df)\n",
    "        if resultados is not None:\n",
    "            print(f\"Se visualizaron datos para {len(resultados)} partidos\")\n",
    "    else:\n",
    "        print(\"No se encontraron datos cargados. Ejecute primero la celda para cargar los datos.\")\n",
    "except Exception as e:\n",
    "    print(f\"Error: {e}\")"
   ]
  },
  {
   "cell_type": "code",
   "execution_count": null,
   "id": "b7d4498f",
   "metadata": {},
   "outputs": [
    {
     "name": "stderr",
     "output_type": "stream",
     "text": [
      "C:\\Users\\dell\\AppData\\Local\\Temp\\ipykernel_12412\\4177670914.py:18: UserWarning:\n",
      "\n",
      "Parsing dates in %d/%m/%Y format when dayfirst=False (the default) was specified. Pass `dayfirst=True` or specify a format to silence this warning.\n",
      "\n"
     ]
    },
    {
     "data": {
      "application/vnd.plotly.v1+json": {
       "config": {
        "plotlyServerURL": "https://plot.ly"
       },
       "data": [
        {
         "customdata": {
          "bdata": "AAAAAAAA8D/D9Shcj8LxPwAAAAAAAPA/SOF6FK5HAUAAAAAAAAAAQAAAAAAAAPQ/AAAAAAAAAEC4HoXrUbgIQAAAAAAAAPA/XI/C9Shc+z8AAAAAAADwP7gehetRuPo/AAAAAAAA8D+F61G4HoXzPwAAAAAAABBAaJHtfD+1CUAAAAAAAAAQQBwN4C2QIA9AAAAAAAAAFEBPQBNhw7MzQA==",
          "dtype": "f8",
          "shape": "10, 2"
         },
         "hovertemplate": "<b>%{x}</b><br>Sprint: %{y:.2f} km<br>N° Jugadores: %{customdata[0]}<br>Total: %{customdata[1]:.2f} km<extra></extra>",
         "marker": {
          "color": "rgb(70, 70, 70)"
         },
         "name": "Sprint",
         "text": {
          "bdata": "w/UoXI/C8T9I4XoUrkcBQNejcD0K1+M/pHA9Ctej+D9cj8L1KFz7P7gehetRuPo/hetRuB6F8z+amZmZmZnpPwrXo3A9Cu8/hetRuB6FD0A=",
          "dtype": "f8"
         },
         "textposition": "outside",
         "type": "bar",
         "x": [
          "Partido San Fernando",
          "Partido vs San Fernando",
          "Partido Don Bosco",
          "Partido vs SITAS",
          "partido Liceo Militar",
          "Partido Don Bosco",
          "Partido Sitas",
          "Partido Cuidad de Bs As",
          "Partido San Martin",
          "Partido Don Bosco"
         ],
         "y": {
          "bdata": "w/UoXI/C8T9I4XoUrkcBQAAAAAAAAOQ/uB6F61G4+D9cj8L1KFz7P7gehetRuPo/hetRuB6F8z9oke18P7XpPxwN4C2QIO8/S80eaAWGD0A=",
          "dtype": "f8"
         }
        },
        {
         "hoverinfo": "skip",
         "line": {
          "color": "rgb(30, 30, 30)",
          "width": 2
         },
         "marker": {
          "color": "rgb(30, 30, 30)",
          "size": 8
         },
         "mode": "lines+markers",
         "name": "Tendencia",
         "type": "scatter",
         "x": [
          "Partido San Fernando",
          "Partido vs San Fernando",
          "Partido Don Bosco",
          "Partido vs SITAS",
          "partido Liceo Militar",
          "Partido Don Bosco",
          "Partido Sitas",
          "Partido Cuidad de Bs As",
          "Partido San Martin",
          "Partido Don Bosco"
         ],
         "y": {
          "bdata": "w/UoXI/C8T9I4XoUrkcBQAAAAAAAAOQ/uB6F61G4+D9cj8L1KFz7P7gehetRuPo/hetRuB6F8z9oke18P7XpPxwN4C2QIO8/S80eaAWGD0A=",
          "dtype": "f8"
         }
        }
       ],
       "layout": {
        "bargap": 0.15,
        "bargroupgap": 0.1,
        "barmode": "group",
        "font": {
         "color": "rgb(20, 20, 20)"
        },
        "height": 600,
        "legend": {
         "orientation": "h",
         "x": 1,
         "xanchor": "right",
         "y": 1.02,
         "yanchor": "bottom"
        },
        "margin": {
         "b": 120,
         "l": 60,
         "r": 40,
         "t": 80
        },
        "paper_bgcolor": "rgb(250, 250, 250)",
        "plot_bgcolor": "rgb(250, 250, 250)",
        "template": {
         "data": {
          "bar": [
           {
            "error_x": {
             "color": "#2a3f5f"
            },
            "error_y": {
             "color": "#2a3f5f"
            },
            "marker": {
             "line": {
              "color": "#E5ECF6",
              "width": 0.5
             },
             "pattern": {
              "fillmode": "overlay",
              "size": 10,
              "solidity": 0.2
             }
            },
            "type": "bar"
           }
          ],
          "barpolar": [
           {
            "marker": {
             "line": {
              "color": "#E5ECF6",
              "width": 0.5
             },
             "pattern": {
              "fillmode": "overlay",
              "size": 10,
              "solidity": 0.2
             }
            },
            "type": "barpolar"
           }
          ],
          "carpet": [
           {
            "aaxis": {
             "endlinecolor": "#2a3f5f",
             "gridcolor": "white",
             "linecolor": "white",
             "minorgridcolor": "white",
             "startlinecolor": "#2a3f5f"
            },
            "baxis": {
             "endlinecolor": "#2a3f5f",
             "gridcolor": "white",
             "linecolor": "white",
             "minorgridcolor": "white",
             "startlinecolor": "#2a3f5f"
            },
            "type": "carpet"
           }
          ],
          "choropleth": [
           {
            "colorbar": {
             "outlinewidth": 0,
             "ticks": ""
            },
            "type": "choropleth"
           }
          ],
          "contour": [
           {
            "colorbar": {
             "outlinewidth": 0,
             "ticks": ""
            },
            "colorscale": [
             [
              0,
              "#0d0887"
             ],
             [
              0.1111111111111111,
              "#46039f"
             ],
             [
              0.2222222222222222,
              "#7201a8"
             ],
             [
              0.3333333333333333,
              "#9c179e"
             ],
             [
              0.4444444444444444,
              "#bd3786"
             ],
             [
              0.5555555555555556,
              "#d8576b"
             ],
             [
              0.6666666666666666,
              "#ed7953"
             ],
             [
              0.7777777777777778,
              "#fb9f3a"
             ],
             [
              0.8888888888888888,
              "#fdca26"
             ],
             [
              1,
              "#f0f921"
             ]
            ],
            "type": "contour"
           }
          ],
          "contourcarpet": [
           {
            "colorbar": {
             "outlinewidth": 0,
             "ticks": ""
            },
            "type": "contourcarpet"
           }
          ],
          "heatmap": [
           {
            "colorbar": {
             "outlinewidth": 0,
             "ticks": ""
            },
            "colorscale": [
             [
              0,
              "#0d0887"
             ],
             [
              0.1111111111111111,
              "#46039f"
             ],
             [
              0.2222222222222222,
              "#7201a8"
             ],
             [
              0.3333333333333333,
              "#9c179e"
             ],
             [
              0.4444444444444444,
              "#bd3786"
             ],
             [
              0.5555555555555556,
              "#d8576b"
             ],
             [
              0.6666666666666666,
              "#ed7953"
             ],
             [
              0.7777777777777778,
              "#fb9f3a"
             ],
             [
              0.8888888888888888,
              "#fdca26"
             ],
             [
              1,
              "#f0f921"
             ]
            ],
            "type": "heatmap"
           }
          ],
          "histogram": [
           {
            "marker": {
             "pattern": {
              "fillmode": "overlay",
              "size": 10,
              "solidity": 0.2
             }
            },
            "type": "histogram"
           }
          ],
          "histogram2d": [
           {
            "colorbar": {
             "outlinewidth": 0,
             "ticks": ""
            },
            "colorscale": [
             [
              0,
              "#0d0887"
             ],
             [
              0.1111111111111111,
              "#46039f"
             ],
             [
              0.2222222222222222,
              "#7201a8"
             ],
             [
              0.3333333333333333,
              "#9c179e"
             ],
             [
              0.4444444444444444,
              "#bd3786"
             ],
             [
              0.5555555555555556,
              "#d8576b"
             ],
             [
              0.6666666666666666,
              "#ed7953"
             ],
             [
              0.7777777777777778,
              "#fb9f3a"
             ],
             [
              0.8888888888888888,
              "#fdca26"
             ],
             [
              1,
              "#f0f921"
             ]
            ],
            "type": "histogram2d"
           }
          ],
          "histogram2dcontour": [
           {
            "colorbar": {
             "outlinewidth": 0,
             "ticks": ""
            },
            "colorscale": [
             [
              0,
              "#0d0887"
             ],
             [
              0.1111111111111111,
              "#46039f"
             ],
             [
              0.2222222222222222,
              "#7201a8"
             ],
             [
              0.3333333333333333,
              "#9c179e"
             ],
             [
              0.4444444444444444,
              "#bd3786"
             ],
             [
              0.5555555555555556,
              "#d8576b"
             ],
             [
              0.6666666666666666,
              "#ed7953"
             ],
             [
              0.7777777777777778,
              "#fb9f3a"
             ],
             [
              0.8888888888888888,
              "#fdca26"
             ],
             [
              1,
              "#f0f921"
             ]
            ],
            "type": "histogram2dcontour"
           }
          ],
          "mesh3d": [
           {
            "colorbar": {
             "outlinewidth": 0,
             "ticks": ""
            },
            "type": "mesh3d"
           }
          ],
          "parcoords": [
           {
            "line": {
             "colorbar": {
              "outlinewidth": 0,
              "ticks": ""
             }
            },
            "type": "parcoords"
           }
          ],
          "pie": [
           {
            "automargin": true,
            "type": "pie"
           }
          ],
          "scatter": [
           {
            "fillpattern": {
             "fillmode": "overlay",
             "size": 10,
             "solidity": 0.2
            },
            "type": "scatter"
           }
          ],
          "scatter3d": [
           {
            "line": {
             "colorbar": {
              "outlinewidth": 0,
              "ticks": ""
             }
            },
            "marker": {
             "colorbar": {
              "outlinewidth": 0,
              "ticks": ""
             }
            },
            "type": "scatter3d"
           }
          ],
          "scattercarpet": [
           {
            "marker": {
             "colorbar": {
              "outlinewidth": 0,
              "ticks": ""
             }
            },
            "type": "scattercarpet"
           }
          ],
          "scattergeo": [
           {
            "marker": {
             "colorbar": {
              "outlinewidth": 0,
              "ticks": ""
             }
            },
            "type": "scattergeo"
           }
          ],
          "scattergl": [
           {
            "marker": {
             "colorbar": {
              "outlinewidth": 0,
              "ticks": ""
             }
            },
            "type": "scattergl"
           }
          ],
          "scattermap": [
           {
            "marker": {
             "colorbar": {
              "outlinewidth": 0,
              "ticks": ""
             }
            },
            "type": "scattermap"
           }
          ],
          "scattermapbox": [
           {
            "marker": {
             "colorbar": {
              "outlinewidth": 0,
              "ticks": ""
             }
            },
            "type": "scattermapbox"
           }
          ],
          "scatterpolar": [
           {
            "marker": {
             "colorbar": {
              "outlinewidth": 0,
              "ticks": ""
             }
            },
            "type": "scatterpolar"
           }
          ],
          "scatterpolargl": [
           {
            "marker": {
             "colorbar": {
              "outlinewidth": 0,
              "ticks": ""
             }
            },
            "type": "scatterpolargl"
           }
          ],
          "scatterternary": [
           {
            "marker": {
             "colorbar": {
              "outlinewidth": 0,
              "ticks": ""
             }
            },
            "type": "scatterternary"
           }
          ],
          "surface": [
           {
            "colorbar": {
             "outlinewidth": 0,
             "ticks": ""
            },
            "colorscale": [
             [
              0,
              "#0d0887"
             ],
             [
              0.1111111111111111,
              "#46039f"
             ],
             [
              0.2222222222222222,
              "#7201a8"
             ],
             [
              0.3333333333333333,
              "#9c179e"
             ],
             [
              0.4444444444444444,
              "#bd3786"
             ],
             [
              0.5555555555555556,
              "#d8576b"
             ],
             [
              0.6666666666666666,
              "#ed7953"
             ],
             [
              0.7777777777777778,
              "#fb9f3a"
             ],
             [
              0.8888888888888888,
              "#fdca26"
             ],
             [
              1,
              "#f0f921"
             ]
            ],
            "type": "surface"
           }
          ],
          "table": [
           {
            "cells": {
             "fill": {
              "color": "#EBF0F8"
             },
             "line": {
              "color": "white"
             }
            },
            "header": {
             "fill": {
              "color": "#C8D4E3"
             },
             "line": {
              "color": "white"
             }
            },
            "type": "table"
           }
          ]
         },
         "layout": {
          "annotationdefaults": {
           "arrowcolor": "#2a3f5f",
           "arrowhead": 0,
           "arrowwidth": 1
          },
          "autotypenumbers": "strict",
          "coloraxis": {
           "colorbar": {
            "outlinewidth": 0,
            "ticks": ""
           }
          },
          "colorscale": {
           "diverging": [
            [
             0,
             "#8e0152"
            ],
            [
             0.1,
             "#c51b7d"
            ],
            [
             0.2,
             "#de77ae"
            ],
            [
             0.3,
             "#f1b6da"
            ],
            [
             0.4,
             "#fde0ef"
            ],
            [
             0.5,
             "#f7f7f7"
            ],
            [
             0.6,
             "#e6f5d0"
            ],
            [
             0.7,
             "#b8e186"
            ],
            [
             0.8,
             "#7fbc41"
            ],
            [
             0.9,
             "#4d9221"
            ],
            [
             1,
             "#276419"
            ]
           ],
           "sequential": [
            [
             0,
             "#0d0887"
            ],
            [
             0.1111111111111111,
             "#46039f"
            ],
            [
             0.2222222222222222,
             "#7201a8"
            ],
            [
             0.3333333333333333,
             "#9c179e"
            ],
            [
             0.4444444444444444,
             "#bd3786"
            ],
            [
             0.5555555555555556,
             "#d8576b"
            ],
            [
             0.6666666666666666,
             "#ed7953"
            ],
            [
             0.7777777777777778,
             "#fb9f3a"
            ],
            [
             0.8888888888888888,
             "#fdca26"
            ],
            [
             1,
             "#f0f921"
            ]
           ],
           "sequentialminus": [
            [
             0,
             "#0d0887"
            ],
            [
             0.1111111111111111,
             "#46039f"
            ],
            [
             0.2222222222222222,
             "#7201a8"
            ],
            [
             0.3333333333333333,
             "#9c179e"
            ],
            [
             0.4444444444444444,
             "#bd3786"
            ],
            [
             0.5555555555555556,
             "#d8576b"
            ],
            [
             0.6666666666666666,
             "#ed7953"
            ],
            [
             0.7777777777777778,
             "#fb9f3a"
            ],
            [
             0.8888888888888888,
             "#fdca26"
            ],
            [
             1,
             "#f0f921"
            ]
           ]
          },
          "colorway": [
           "#636efa",
           "#EF553B",
           "#00cc96",
           "#ab63fa",
           "#FFA15A",
           "#19d3f3",
           "#FF6692",
           "#B6E880",
           "#FF97FF",
           "#FECB52"
          ],
          "font": {
           "color": "#2a3f5f"
          },
          "geo": {
           "bgcolor": "white",
           "lakecolor": "white",
           "landcolor": "#E5ECF6",
           "showlakes": true,
           "showland": true,
           "subunitcolor": "white"
          },
          "hoverlabel": {
           "align": "left"
          },
          "hovermode": "closest",
          "mapbox": {
           "style": "light"
          },
          "paper_bgcolor": "white",
          "plot_bgcolor": "#E5ECF6",
          "polar": {
           "angularaxis": {
            "gridcolor": "white",
            "linecolor": "white",
            "ticks": ""
           },
           "bgcolor": "#E5ECF6",
           "radialaxis": {
            "gridcolor": "white",
            "linecolor": "white",
            "ticks": ""
           }
          },
          "scene": {
           "xaxis": {
            "backgroundcolor": "#E5ECF6",
            "gridcolor": "white",
            "gridwidth": 2,
            "linecolor": "white",
            "showbackground": true,
            "ticks": "",
            "zerolinecolor": "white"
           },
           "yaxis": {
            "backgroundcolor": "#E5ECF6",
            "gridcolor": "white",
            "gridwidth": 2,
            "linecolor": "white",
            "showbackground": true,
            "ticks": "",
            "zerolinecolor": "white"
           },
           "zaxis": {
            "backgroundcolor": "#E5ECF6",
            "gridcolor": "white",
            "gridwidth": 2,
            "linecolor": "white",
            "showbackground": true,
            "ticks": "",
            "zerolinecolor": "white"
           }
          },
          "shapedefaults": {
           "line": {
            "color": "#2a3f5f"
           }
          },
          "ternary": {
           "aaxis": {
            "gridcolor": "white",
            "linecolor": "white",
            "ticks": ""
           },
           "baxis": {
            "gridcolor": "white",
            "linecolor": "white",
            "ticks": ""
           },
           "bgcolor": "#E5ECF6",
           "caxis": {
            "gridcolor": "white",
            "linecolor": "white",
            "ticks": ""
           }
          },
          "title": {
           "x": 0.05
          },
          "xaxis": {
           "automargin": true,
           "gridcolor": "white",
           "linecolor": "white",
           "ticks": "",
           "title": {
            "standoff": 15
           },
           "zerolinecolor": "white",
           "zerolinewidth": 2
          },
          "yaxis": {
           "automargin": true,
           "gridcolor": "white",
           "linecolor": "white",
           "ticks": "",
           "title": {
            "standoff": 15
           },
           "zerolinecolor": "white",
           "zerolinewidth": 2
          }
         }
        },
        "title": {
         "text": "Sprint Por Partido"
        },
        "xaxis": {
         "tickangle": -45,
         "title": {
          "text": "Partido"
         }
        },
        "yaxis": {
         "gridcolor": "rgb(220, 220, 220)",
         "title": {
          "text": "Sprint (km)"
         }
        }
       }
      }
     },
     "metadata": {},
     "output_type": "display_data"
    },
    {
     "name": "stdout",
     "output_type": "stream",
     "text": [
      "Se visualizaron datos para 10 partidos\n"
     ]
    }
   ],
   "source": [
    "def visualizar_estadisticas_velocidad(df):\n",
    "    \"\"\"\n",
    "    Visualiza las estadísticas de velocidad alta en un gráfico de barras.\n",
    "    \n",
    "    Parámetros:\n",
    "    - df: DataFrame con los datos de Catapult\n",
    "    \"\"\"\n",
    "    try:\n",
    "        # Primero filtrar solo partidos\n",
    "        partidos_df = df[df['Session Title'].str.contains('Partido', case=False, na=False)].copy()\n",
    "        \n",
    "        if partidos_df.empty:\n",
    "            print(\"No se encontraron datos de partidos para visualizar.\")\n",
    "            return None\n",
    "        \n",
    "        # Convertir fecha a datetime si no lo está\n",
    "        if not pd.api.types.is_datetime64_dtype(partidos_df['Date']):\n",
    "            partidos_df['Date'] = pd.to_datetime(partidos_df['Date'], errors='coerce')\n",
    "        \n",
    "        # Obtener estadísticas de velocidad\n",
    "        velocidad_stats = obtener_estadisticas_velocidad(partidos_df)\n",
    "        \n",
    "        # Limitar a los últimos 10 partidos para mejor visualización\n",
    "        if len(velocidad_stats) > 10:\n",
    "            velocidad_stats = velocidad_stats.tail(10)\n",
    "        \n",
    "        # Crear gráfico de barras con Plotly\n",
    "        fig = go.Figure()\n",
    "        \n",
    "        # Añadir barras para la velocidad alta media (ahora llamada Sprint)\n",
    "        fig.add_trace(go.Bar(\n",
    "            x=velocidad_stats['Partido'],  # Solo mostrar el nombre de la sesión/partido\n",
    "            y=velocidad_stats['Velocidad Alta Media (km)'],\n",
    "            name='Sprint',\n",
    "            marker_color='rgb(70, 70, 70)',\n",
    "            text=velocidad_stats['Velocidad Alta Media (km)'].round(2),\n",
    "            textposition='outside',\n",
    "            hovertemplate='<b>%{x}</b><br>Sprint: %{y:.2f} km<br>N° Jugadores: %{customdata[0]}<br>Total: %{customdata[1]:.2f} km<extra></extra>',\n",
    "            customdata=velocidad_stats[['N° Jugadores', 'Velocidad Alta Total (km)']]\n",
    "        ))\n",
    "        \n",
    "        # Añadir línea de tendencia\n",
    "        fig.add_trace(go.Scatter(\n",
    "            x=velocidad_stats['Partido'],  # Solo mostrar el nombre de la sesión/partido\n",
    "            y=velocidad_stats['Velocidad Alta Media (km)'],\n",
    "            name='Tendencia',\n",
    "            mode='lines+markers',\n",
    "            line=dict(color='rgb(30, 30, 30)', width=2),\n",
    "            marker=dict(color='rgb(30, 30, 30)', size=8),\n",
    "            hoverinfo='skip'\n",
    "        ))\n",
    "        \n",
    "        # Configurar diseño con nuevo título\n",
    "        fig.update_layout(\n",
    "            title='Sprint Por Partido',  # Cambiar a Sprint Por Partido\n",
    "            xaxis=dict(\n",
    "                title='Partido',\n",
    "                tickangle=-45\n",
    "            ),\n",
    "            yaxis=dict(\n",
    "                title='Sprint (km)',  # Actualizado para consistencia\n",
    "                gridcolor='rgb(220, 220, 220)'\n",
    "            ),\n",
    "            plot_bgcolor='rgb(250, 250, 250)',\n",
    "            paper_bgcolor='rgb(250, 250, 250)',\n",
    "            font=dict(color='rgb(20, 20, 20)'),\n",
    "            barmode='group',\n",
    "            bargap=0.15,\n",
    "            bargroupgap=0.1,\n",
    "            legend=dict(orientation='h', yanchor='bottom', y=1.02, xanchor='right', x=1),\n",
    "            margin=dict(t=80, b=120, l=60, r=40),\n",
    "            height=600\n",
    "        )\n",
    "        \n",
    "        # Mostrar gráfico\n",
    "        fig.show()\n",
    "        \n",
    "        return velocidad_stats\n",
    "    \n",
    "    except Exception as e:\n",
    "        import traceback\n",
    "        print(f\"Error al visualizar las estadísticas: {e}\")\n",
    "        print(traceback.format_exc())\n",
    "        return None\n",
    "\n",
    "# Ejecutar la visualización\n",
    "try:\n",
    "    if 'df' in globals() and df is not None:\n",
    "        resultados = visualizar_estadisticas_velocidad(df)\n",
    "        if resultados is not None:\n",
    "            print(f\"Se visualizaron datos para {len(resultados)} partidos\")\n",
    "    else:\n",
    "        print(\"No se encontraron datos cargados. Ejecute primero la celda para cargar los datos.\")\n",
    "except Exception as e:\n",
    "    print(f\"Error: {e}\")\n"
   ]
  },
  {
   "cell_type": "code",
   "execution_count": null,
   "id": "4fb35883",
   "metadata": {},
   "outputs": [
    {
     "name": "stderr",
     "output_type": "stream",
     "text": [
      "C:\\Users\\dell\\AppData\\Local\\Temp\\ipykernel_12412\\2223414768.py:35: UserWarning:\n",
      "\n",
      "Parsing dates in %d/%m/%Y format when dayfirst=False (the default) was specified. Pass `dayfirst=True` or specify a format to silence this warning.\n",
      "\n"
     ]
    },
    {
     "data": {
      "application/vnd.plotly.v1+json": {
       "config": {
        "plotlyServerURL": "https://plot.ly"
       },
       "data": [
        {
         "hovertemplate": "<b>%{x}</b><br>Zona 3: %{y:.2f} km<extra></extra>",
         "marker": {
          "color": "rgb(120, 120, 120)"
         },
         "name": "Zona 3",
         "type": "bar",
         "x": [
          "Duclock Juan",
          "Lorito",
          "Alejo Vergel",
          "Nico Morena",
          "Olivero Esteban",
          "Wolcan Juan",
          "Orrico Santi",
          "Astor",
          "Urrejola Lisandro",
          "Orrico Santiago"
         ],
         "y": {
          "bdata": "0ZFc/kN+cUAaUdobfClJQBdIUPwYH1xAPE7RkVxeKUDEsS5uo4EDQGZmZmZmZgJAXkvIBz2b+z9j7lpCPuj5P8RCrWne8QNASOF6FK5H4T8=",
          "dtype": "f8"
         }
        },
        {
         "hovertemplate": "<b>%{x}</b><br>Zona 4: %{y:.2f} km<extra></extra>",
         "marker": {
          "color": "rgb(80, 80, 80)"
         },
         "name": "Zona 4",
         "type": "bar",
         "x": [
          "Duclock Juan",
          "Lorito",
          "Alejo Vergel",
          "Nico Morena",
          "Olivero Esteban",
          "Wolcan Juan",
          "Orrico Santi",
          "Astor",
          "Urrejola Lisandro",
          "Orrico Santiago"
         ],
         "y": {
          "bdata": "zczMzMy+aUCad5yiI51bQJCg+DHm9k1AoWez6nOFPUAmUwWjkjrzPxSuR+F6FO4/AAAAAAAA8D9hw9MrZRnuP8RCrWneccI/rkfhehSu5z8=",
          "dtype": "f8"
         }
        },
        {
         "hovertemplate": "<b>%{x}</b><br>Zona 5: %{y:.2f} km<extra></extra>",
         "marker": {
          "color": "rgb(40, 40, 40)"
         },
         "name": "Zona 5",
         "type": "bar",
         "x": [
          "Duclock Juan",
          "Lorito",
          "Alejo Vergel",
          "Nico Morena",
          "Olivero Esteban",
          "Wolcan Juan",
          "Orrico Santi",
          "Astor",
          "Urrejola Lisandro",
          "Orrico Santiago"
         ],
         "y": {
          "bdata": "PQrXo3A9SUAN4C2QoHBNQHL5D+m3jzRAoWez6nNVJ0B8YTJVMCrBP+xRuB6F68E/dEaU9gZfyD9ZF7fRAN7SPzQRNjy9UqY/hetRuB6F2z8=",
          "dtype": "f8"
         }
        },
        {
         "customdata": {
          "bdata": "hgA/ADQADgACAAIAAQABAAIAAQA=",
          "dtype": "i2"
         },
         "hovertemplate": "<b>%{x}</b><br>Promedio por partido: %{y:.2f} km<br>Partidos: %{customdata}<extra></extra>",
         "line": {
          "color": "rgb(0, 0, 0)",
          "width": 2
         },
         "marker": {
          "color": "rgb(0, 0, 0)",
          "size": 8,
          "symbol": "circle"
         },
         "mode": "lines+markers",
         "name": "Promedio por Partido",
         "type": "scatter",
         "x": [
          "Duclock Juan",
          "Lorito",
          "Alejo Vergel",
          "Nico Morena",
          "Olivero Esteban",
          "Wolcan Juan",
          "Orrico Santi",
          "Astor",
          "Urrejola Lisandro",
          "Orrico Santiago"
         ],
         "y": {
          "bdata": "Z8dtmY0CEED7OPyqq+QLQBFJRR1LsA1AwJPV8sbIDkBwgQTFjzH+PwrXo3A9Cvs/FmpN845TB0D1SlmGONYGQDXvOEVHcvU/XI/C9Shc+z8=",
          "dtype": "f8"
         },
         "yaxis": "y2"
        }
       ],
       "layout": {
        "barmode": "stack",
        "font": {
         "color": "rgb(20, 20, 20)"
        },
        "height": 600,
        "legend": {
         "orientation": "h",
         "x": 1,
         "xanchor": "right",
         "y": 1.02,
         "yanchor": "bottom"
        },
        "margin": {
         "b": 120,
         "l": 60,
         "r": 80,
         "t": 80
        },
        "paper_bgcolor": "rgb(250, 250, 250)",
        "plot_bgcolor": "rgb(250, 250, 250)",
        "template": {
         "data": {
          "bar": [
           {
            "error_x": {
             "color": "#2a3f5f"
            },
            "error_y": {
             "color": "#2a3f5f"
            },
            "marker": {
             "line": {
              "color": "#E5ECF6",
              "width": 0.5
             },
             "pattern": {
              "fillmode": "overlay",
              "size": 10,
              "solidity": 0.2
             }
            },
            "type": "bar"
           }
          ],
          "barpolar": [
           {
            "marker": {
             "line": {
              "color": "#E5ECF6",
              "width": 0.5
             },
             "pattern": {
              "fillmode": "overlay",
              "size": 10,
              "solidity": 0.2
             }
            },
            "type": "barpolar"
           }
          ],
          "carpet": [
           {
            "aaxis": {
             "endlinecolor": "#2a3f5f",
             "gridcolor": "white",
             "linecolor": "white",
             "minorgridcolor": "white",
             "startlinecolor": "#2a3f5f"
            },
            "baxis": {
             "endlinecolor": "#2a3f5f",
             "gridcolor": "white",
             "linecolor": "white",
             "minorgridcolor": "white",
             "startlinecolor": "#2a3f5f"
            },
            "type": "carpet"
           }
          ],
          "choropleth": [
           {
            "colorbar": {
             "outlinewidth": 0,
             "ticks": ""
            },
            "type": "choropleth"
           }
          ],
          "contour": [
           {
            "colorbar": {
             "outlinewidth": 0,
             "ticks": ""
            },
            "colorscale": [
             [
              0,
              "#0d0887"
             ],
             [
              0.1111111111111111,
              "#46039f"
             ],
             [
              0.2222222222222222,
              "#7201a8"
             ],
             [
              0.3333333333333333,
              "#9c179e"
             ],
             [
              0.4444444444444444,
              "#bd3786"
             ],
             [
              0.5555555555555556,
              "#d8576b"
             ],
             [
              0.6666666666666666,
              "#ed7953"
             ],
             [
              0.7777777777777778,
              "#fb9f3a"
             ],
             [
              0.8888888888888888,
              "#fdca26"
             ],
             [
              1,
              "#f0f921"
             ]
            ],
            "type": "contour"
           }
          ],
          "contourcarpet": [
           {
            "colorbar": {
             "outlinewidth": 0,
             "ticks": ""
            },
            "type": "contourcarpet"
           }
          ],
          "heatmap": [
           {
            "colorbar": {
             "outlinewidth": 0,
             "ticks": ""
            },
            "colorscale": [
             [
              0,
              "#0d0887"
             ],
             [
              0.1111111111111111,
              "#46039f"
             ],
             [
              0.2222222222222222,
              "#7201a8"
             ],
             [
              0.3333333333333333,
              "#9c179e"
             ],
             [
              0.4444444444444444,
              "#bd3786"
             ],
             [
              0.5555555555555556,
              "#d8576b"
             ],
             [
              0.6666666666666666,
              "#ed7953"
             ],
             [
              0.7777777777777778,
              "#fb9f3a"
             ],
             [
              0.8888888888888888,
              "#fdca26"
             ],
             [
              1,
              "#f0f921"
             ]
            ],
            "type": "heatmap"
           }
          ],
          "histogram": [
           {
            "marker": {
             "pattern": {
              "fillmode": "overlay",
              "size": 10,
              "solidity": 0.2
             }
            },
            "type": "histogram"
           }
          ],
          "histogram2d": [
           {
            "colorbar": {
             "outlinewidth": 0,
             "ticks": ""
            },
            "colorscale": [
             [
              0,
              "#0d0887"
             ],
             [
              0.1111111111111111,
              "#46039f"
             ],
             [
              0.2222222222222222,
              "#7201a8"
             ],
             [
              0.3333333333333333,
              "#9c179e"
             ],
             [
              0.4444444444444444,
              "#bd3786"
             ],
             [
              0.5555555555555556,
              "#d8576b"
             ],
             [
              0.6666666666666666,
              "#ed7953"
             ],
             [
              0.7777777777777778,
              "#fb9f3a"
             ],
             [
              0.8888888888888888,
              "#fdca26"
             ],
             [
              1,
              "#f0f921"
             ]
            ],
            "type": "histogram2d"
           }
          ],
          "histogram2dcontour": [
           {
            "colorbar": {
             "outlinewidth": 0,
             "ticks": ""
            },
            "colorscale": [
             [
              0,
              "#0d0887"
             ],
             [
              0.1111111111111111,
              "#46039f"
             ],
             [
              0.2222222222222222,
              "#7201a8"
             ],
             [
              0.3333333333333333,
              "#9c179e"
             ],
             [
              0.4444444444444444,
              "#bd3786"
             ],
             [
              0.5555555555555556,
              "#d8576b"
             ],
             [
              0.6666666666666666,
              "#ed7953"
             ],
             [
              0.7777777777777778,
              "#fb9f3a"
             ],
             [
              0.8888888888888888,
              "#fdca26"
             ],
             [
              1,
              "#f0f921"
             ]
            ],
            "type": "histogram2dcontour"
           }
          ],
          "mesh3d": [
           {
            "colorbar": {
             "outlinewidth": 0,
             "ticks": ""
            },
            "type": "mesh3d"
           }
          ],
          "parcoords": [
           {
            "line": {
             "colorbar": {
              "outlinewidth": 0,
              "ticks": ""
             }
            },
            "type": "parcoords"
           }
          ],
          "pie": [
           {
            "automargin": true,
            "type": "pie"
           }
          ],
          "scatter": [
           {
            "fillpattern": {
             "fillmode": "overlay",
             "size": 10,
             "solidity": 0.2
            },
            "type": "scatter"
           }
          ],
          "scatter3d": [
           {
            "line": {
             "colorbar": {
              "outlinewidth": 0,
              "ticks": ""
             }
            },
            "marker": {
             "colorbar": {
              "outlinewidth": 0,
              "ticks": ""
             }
            },
            "type": "scatter3d"
           }
          ],
          "scattercarpet": [
           {
            "marker": {
             "colorbar": {
              "outlinewidth": 0,
              "ticks": ""
             }
            },
            "type": "scattercarpet"
           }
          ],
          "scattergeo": [
           {
            "marker": {
             "colorbar": {
              "outlinewidth": 0,
              "ticks": ""
             }
            },
            "type": "scattergeo"
           }
          ],
          "scattergl": [
           {
            "marker": {
             "colorbar": {
              "outlinewidth": 0,
              "ticks": ""
             }
            },
            "type": "scattergl"
           }
          ],
          "scattermap": [
           {
            "marker": {
             "colorbar": {
              "outlinewidth": 0,
              "ticks": ""
             }
            },
            "type": "scattermap"
           }
          ],
          "scattermapbox": [
           {
            "marker": {
             "colorbar": {
              "outlinewidth": 0,
              "ticks": ""
             }
            },
            "type": "scattermapbox"
           }
          ],
          "scatterpolar": [
           {
            "marker": {
             "colorbar": {
              "outlinewidth": 0,
              "ticks": ""
             }
            },
            "type": "scatterpolar"
           }
          ],
          "scatterpolargl": [
           {
            "marker": {
             "colorbar": {
              "outlinewidth": 0,
              "ticks": ""
             }
            },
            "type": "scatterpolargl"
           }
          ],
          "scatterternary": [
           {
            "marker": {
             "colorbar": {
              "outlinewidth": 0,
              "ticks": ""
             }
            },
            "type": "scatterternary"
           }
          ],
          "surface": [
           {
            "colorbar": {
             "outlinewidth": 0,
             "ticks": ""
            },
            "colorscale": [
             [
              0,
              "#0d0887"
             ],
             [
              0.1111111111111111,
              "#46039f"
             ],
             [
              0.2222222222222222,
              "#7201a8"
             ],
             [
              0.3333333333333333,
              "#9c179e"
             ],
             [
              0.4444444444444444,
              "#bd3786"
             ],
             [
              0.5555555555555556,
              "#d8576b"
             ],
             [
              0.6666666666666666,
              "#ed7953"
             ],
             [
              0.7777777777777778,
              "#fb9f3a"
             ],
             [
              0.8888888888888888,
              "#fdca26"
             ],
             [
              1,
              "#f0f921"
             ]
            ],
            "type": "surface"
           }
          ],
          "table": [
           {
            "cells": {
             "fill": {
              "color": "#EBF0F8"
             },
             "line": {
              "color": "white"
             }
            },
            "header": {
             "fill": {
              "color": "#C8D4E3"
             },
             "line": {
              "color": "white"
             }
            },
            "type": "table"
           }
          ]
         },
         "layout": {
          "annotationdefaults": {
           "arrowcolor": "#2a3f5f",
           "arrowhead": 0,
           "arrowwidth": 1
          },
          "autotypenumbers": "strict",
          "coloraxis": {
           "colorbar": {
            "outlinewidth": 0,
            "ticks": ""
           }
          },
          "colorscale": {
           "diverging": [
            [
             0,
             "#8e0152"
            ],
            [
             0.1,
             "#c51b7d"
            ],
            [
             0.2,
             "#de77ae"
            ],
            [
             0.3,
             "#f1b6da"
            ],
            [
             0.4,
             "#fde0ef"
            ],
            [
             0.5,
             "#f7f7f7"
            ],
            [
             0.6,
             "#e6f5d0"
            ],
            [
             0.7,
             "#b8e186"
            ],
            [
             0.8,
             "#7fbc41"
            ],
            [
             0.9,
             "#4d9221"
            ],
            [
             1,
             "#276419"
            ]
           ],
           "sequential": [
            [
             0,
             "#0d0887"
            ],
            [
             0.1111111111111111,
             "#46039f"
            ],
            [
             0.2222222222222222,
             "#7201a8"
            ],
            [
             0.3333333333333333,
             "#9c179e"
            ],
            [
             0.4444444444444444,
             "#bd3786"
            ],
            [
             0.5555555555555556,
             "#d8576b"
            ],
            [
             0.6666666666666666,
             "#ed7953"
            ],
            [
             0.7777777777777778,
             "#fb9f3a"
            ],
            [
             0.8888888888888888,
             "#fdca26"
            ],
            [
             1,
             "#f0f921"
            ]
           ],
           "sequentialminus": [
            [
             0,
             "#0d0887"
            ],
            [
             0.1111111111111111,
             "#46039f"
            ],
            [
             0.2222222222222222,
             "#7201a8"
            ],
            [
             0.3333333333333333,
             "#9c179e"
            ],
            [
             0.4444444444444444,
             "#bd3786"
            ],
            [
             0.5555555555555556,
             "#d8576b"
            ],
            [
             0.6666666666666666,
             "#ed7953"
            ],
            [
             0.7777777777777778,
             "#fb9f3a"
            ],
            [
             0.8888888888888888,
             "#fdca26"
            ],
            [
             1,
             "#f0f921"
            ]
           ]
          },
          "colorway": [
           "#636efa",
           "#EF553B",
           "#00cc96",
           "#ab63fa",
           "#FFA15A",
           "#19d3f3",
           "#FF6692",
           "#B6E880",
           "#FF97FF",
           "#FECB52"
          ],
          "font": {
           "color": "#2a3f5f"
          },
          "geo": {
           "bgcolor": "white",
           "lakecolor": "white",
           "landcolor": "#E5ECF6",
           "showlakes": true,
           "showland": true,
           "subunitcolor": "white"
          },
          "hoverlabel": {
           "align": "left"
          },
          "hovermode": "closest",
          "mapbox": {
           "style": "light"
          },
          "paper_bgcolor": "white",
          "plot_bgcolor": "#E5ECF6",
          "polar": {
           "angularaxis": {
            "gridcolor": "white",
            "linecolor": "white",
            "ticks": ""
           },
           "bgcolor": "#E5ECF6",
           "radialaxis": {
            "gridcolor": "white",
            "linecolor": "white",
            "ticks": ""
           }
          },
          "scene": {
           "xaxis": {
            "backgroundcolor": "#E5ECF6",
            "gridcolor": "white",
            "gridwidth": 2,
            "linecolor": "white",
            "showbackground": true,
            "ticks": "",
            "zerolinecolor": "white"
           },
           "yaxis": {
            "backgroundcolor": "#E5ECF6",
            "gridcolor": "white",
            "gridwidth": 2,
            "linecolor": "white",
            "showbackground": true,
            "ticks": "",
            "zerolinecolor": "white"
           },
           "zaxis": {
            "backgroundcolor": "#E5ECF6",
            "gridcolor": "white",
            "gridwidth": 2,
            "linecolor": "white",
            "showbackground": true,
            "ticks": "",
            "zerolinecolor": "white"
           }
          },
          "shapedefaults": {
           "line": {
            "color": "#2a3f5f"
           }
          },
          "ternary": {
           "aaxis": {
            "gridcolor": "white",
            "linecolor": "white",
            "ticks": ""
           },
           "baxis": {
            "gridcolor": "white",
            "linecolor": "white",
            "ticks": ""
           },
           "bgcolor": "#E5ECF6",
           "caxis": {
            "gridcolor": "white",
            "linecolor": "white",
            "ticks": ""
           }
          },
          "title": {
           "x": 0.05
          },
          "xaxis": {
           "automargin": true,
           "gridcolor": "white",
           "linecolor": "white",
           "ticks": "",
           "title": {
            "standoff": 15
           },
           "zerolinecolor": "white",
           "zerolinewidth": 2
          },
          "yaxis": {
           "automargin": true,
           "gridcolor": "white",
           "linecolor": "white",
           "ticks": "",
           "title": {
            "standoff": 15
           },
           "zerolinecolor": "white",
           "zerolinewidth": 2
          }
         }
        },
        "title": {
         "text": "Jugadores con Mayor Distancia en Alta Velocidad (Sprints)"
        },
        "xaxis": {
         "tickangle": -45,
         "title": {
          "text": "Jugador"
         }
        },
        "yaxis": {
         "gridcolor": "rgb(220, 220, 220)",
         "title": {
          "text": "Distancia Total (km)"
         }
        },
        "yaxis2": {
         "overlaying": "y",
         "showgrid": false,
         "side": "right",
         "title": {
          "text": "Promedio por Partido (km)"
         }
        }
       }
      }
     },
     "metadata": {},
     "output_type": "display_data"
    },
    {
     "name": "stdout",
     "output_type": "stream",
     "text": [
      "\n",
      "Top 10 jugadores con mayor distancia en alta velocidad:\n"
     ]
    },
    {
     "data": {
      "text/html": [
       "<div>\n",
       "<style scoped>\n",
       "    .dataframe tbody tr th:only-of-type {\n",
       "        vertical-align: middle;\n",
       "    }\n",
       "\n",
       "    .dataframe tbody tr th {\n",
       "        vertical-align: top;\n",
       "    }\n",
       "\n",
       "    .dataframe thead th {\n",
       "        text-align: right;\n",
       "    }\n",
       "</style>\n",
       "<table border=\"1\" class=\"dataframe\">\n",
       "  <thead>\n",
       "    <tr style=\"text-align: right;\">\n",
       "      <th></th>\n",
       "      <th>Player Name</th>\n",
       "      <th>Alta Velocidad Total (km)</th>\n",
       "      <th>Zona 3 (km)</th>\n",
       "      <th>Zona 4 (km)</th>\n",
       "      <th>Zona 5 (km)</th>\n",
       "      <th>Partidos Jugados</th>\n",
       "      <th>Promedio por Partido (km)</th>\n",
       "    </tr>\n",
       "  </thead>\n",
       "  <tbody>\n",
       "    <tr>\n",
       "      <th>3</th>\n",
       "      <td>Duclock Juan</td>\n",
       "      <td>536.3341</td>\n",
       "      <td>279.8916</td>\n",
       "      <td>205.9625</td>\n",
       "      <td>50.4800</td>\n",
       "      <td>134</td>\n",
       "      <td>4.002493</td>\n",
       "    </tr>\n",
       "    <tr>\n",
       "      <th>5</th>\n",
       "      <td>Lorito</td>\n",
       "      <td>219.6593</td>\n",
       "      <td>50.3241</td>\n",
       "      <td>110.4553</td>\n",
       "      <td>58.8799</td>\n",
       "      <td>63</td>\n",
       "      <td>3.486656</td>\n",
       "    </tr>\n",
       "    <tr>\n",
       "      <th>0</th>\n",
       "      <td>Alejo Vergel</td>\n",
       "      <td>192.9762</td>\n",
       "      <td>112.4859</td>\n",
       "      <td>59.9289</td>\n",
       "      <td>20.5614</td>\n",
       "      <td>52</td>\n",
       "      <td>3.711081</td>\n",
       "    </tr>\n",
       "    <tr>\n",
       "      <th>7</th>\n",
       "      <td>Nico Morena</td>\n",
       "      <td>53.8725</td>\n",
       "      <td>12.6843</td>\n",
       "      <td>29.5213</td>\n",
       "      <td>11.6669</td>\n",
       "      <td>14</td>\n",
       "      <td>3.848036</td>\n",
       "    </tr>\n",
       "    <tr>\n",
       "      <th>8</th>\n",
       "      <td>Olivero Esteban</td>\n",
       "      <td>3.7742</td>\n",
       "      <td>2.4383</td>\n",
       "      <td>1.2018</td>\n",
       "      <td>0.1341</td>\n",
       "      <td>2</td>\n",
       "      <td>1.887100</td>\n",
       "    </tr>\n",
       "    <tr>\n",
       "      <th>13</th>\n",
       "      <td>Wolcan Juan</td>\n",
       "      <td>3.3800</td>\n",
       "      <td>2.3000</td>\n",
       "      <td>0.9400</td>\n",
       "      <td>0.1400</td>\n",
       "      <td>2</td>\n",
       "      <td>1.690000</td>\n",
       "    </tr>\n",
       "    <tr>\n",
       "      <th>9</th>\n",
       "      <td>Orrico Santi</td>\n",
       "      <td>2.9158</td>\n",
       "      <td>1.7254</td>\n",
       "      <td>1.0000</td>\n",
       "      <td>0.1904</td>\n",
       "      <td>1</td>\n",
       "      <td>2.915800</td>\n",
       "    </tr>\n",
       "    <tr>\n",
       "      <th>2</th>\n",
       "      <td>Astor</td>\n",
       "      <td>2.8546</td>\n",
       "      <td>1.6192</td>\n",
       "      <td>0.9406</td>\n",
       "      <td>0.2948</td>\n",
       "      <td>1</td>\n",
       "      <td>2.854600</td>\n",
       "    </tr>\n",
       "    <tr>\n",
       "      <th>12</th>\n",
       "      <td>Urrejola Lisandro</td>\n",
       "      <td>2.6808</td>\n",
       "      <td>2.4931</td>\n",
       "      <td>0.1441</td>\n",
       "      <td>0.0436</td>\n",
       "      <td>2</td>\n",
       "      <td>1.340400</td>\n",
       "    </tr>\n",
       "    <tr>\n",
       "      <th>10</th>\n",
       "      <td>Orrico Santiago</td>\n",
       "      <td>1.7100</td>\n",
       "      <td>0.5400</td>\n",
       "      <td>0.7400</td>\n",
       "      <td>0.4300</td>\n",
       "      <td>1</td>\n",
       "      <td>1.710000</td>\n",
       "    </tr>\n",
       "  </tbody>\n",
       "</table>\n",
       "</div>"
      ],
      "text/plain": [
       "          Player Name  Alta Velocidad Total (km)  Zona 3 (km)  Zona 4 (km)  \\\n",
       "3        Duclock Juan                   536.3341     279.8916     205.9625   \n",
       "5              Lorito                   219.6593      50.3241     110.4553   \n",
       "0        Alejo Vergel                   192.9762     112.4859      59.9289   \n",
       "7         Nico Morena                    53.8725      12.6843      29.5213   \n",
       "8     Olivero Esteban                     3.7742       2.4383       1.2018   \n",
       "13        Wolcan Juan                     3.3800       2.3000       0.9400   \n",
       "9        Orrico Santi                     2.9158       1.7254       1.0000   \n",
       "2               Astor                     2.8546       1.6192       0.9406   \n",
       "12  Urrejola Lisandro                     2.6808       2.4931       0.1441   \n",
       "10    Orrico Santiago                     1.7100       0.5400       0.7400   \n",
       "\n",
       "    Zona 5 (km)  Partidos Jugados  Promedio por Partido (km)  \n",
       "3       50.4800               134                   4.002493  \n",
       "5       58.8799                63                   3.486656  \n",
       "0       20.5614                52                   3.711081  \n",
       "7       11.6669                14                   3.848036  \n",
       "8        0.1341                 2                   1.887100  \n",
       "13       0.1400                 2                   1.690000  \n",
       "9        0.1904                 1                   2.915800  \n",
       "2        0.2948                 1                   2.854600  \n",
       "12       0.0436                 2                   1.340400  \n",
       "10       0.4300                 1                   1.710000  "
      ]
     },
     "metadata": {},
     "output_type": "display_data"
    }
   ],
   "source": [
    "import pandas as pd\n",
    "import matplotlib.pyplot as plt\n",
    "import plotly.express as px\n",
    "import plotly.graph_objects as go\n",
    "\n",
    "def analizar_jugadores_alta_velocidad(df, top_n=10):\n",
    "    \"\"\"\n",
    "    Identifica los jugadores con mayores distancias en zonas de alta velocidad (3, 4 y 5)\n",
    "    en partidos y muestra un gráfico con los resultados.\n",
    "    \n",
    "    Parámetros:\n",
    "    - df: DataFrame con los datos de Catapult\n",
    "    - top_n: Número de jugadores principales a mostrar (default: 10)\n",
    "    \n",
    "    Retorna:\n",
    "    - DataFrame con los jugadores ordenados por distancia total en alta velocidad\n",
    "    \"\"\"\n",
    "    try:\n",
    "        # Filtrar solo partidos\n",
    "        partidos_df = df[df['Session Title'].str.contains('Partido', case=False, na=False)].copy()\n",
    "        \n",
    "        if partidos_df.empty:\n",
    "            print(\"No se encontraron datos de partidos para analizar.\")\n",
    "            return None\n",
    "        \n",
    "        # Columnas de velocidad alta\n",
    "        columnas_velocidad = [\n",
    "            'Distance in Speed Zone 3 (km)',\n",
    "            'Distance in Speed Zone 4 (km)',\n",
    "            'Distance in Speed Zone 5 (km)'\n",
    "        ]\n",
    "        \n",
    "        # Convertir fecha a datetime si no lo está\n",
    "        if not pd.api.types.is_datetime64_dtype(partidos_df['Date']):\n",
    "            partidos_df['Date'] = pd.to_datetime(partidos_df['Date'], errors='coerce')\n",
    "        \n",
    "        # Convertir las columnas a numéricas\n",
    "        for col in columnas_velocidad:\n",
    "            if isinstance(partidos_df[col].iloc[0], str):\n",
    "                partidos_df[col] = partidos_df[col].str.replace(',', '.').astype(float)\n",
    "            elif not pd.api.types.is_numeric_dtype(partidos_df[col]):\n",
    "                partidos_df[col] = pd.to_numeric(partidos_df[col], errors='coerce')\n",
    "        \n",
    "        # Crear columna con la suma total de alta velocidad\n",
    "        partidos_df['Alta Velocidad Total (km)'] = partidos_df[columnas_velocidad].sum(axis=1)\n",
    "        \n",
    "        # También añadir columnas individuales para cada zona\n",
    "        partidos_df['Zona 3 (km)'] = partidos_df['Distance in Speed Zone 3 (km)']\n",
    "        partidos_df['Zona 4 (km)'] = partidos_df['Distance in Speed Zone 4 (km)']\n",
    "        partidos_df['Zona 5 (km)'] = partidos_df['Distance in Speed Zone 5 (km)']\n",
    "        \n",
    "        # Agrupar por jugador y calcular estadísticas\n",
    "        jugadores_stats = partidos_df.groupby('Player Name').agg({\n",
    "            'Alta Velocidad Total (km)': 'sum',\n",
    "            'Zona 3 (km)': 'sum',\n",
    "            'Zona 4 (km)': 'sum', \n",
    "            'Zona 5 (km)': 'sum',\n",
    "            'Session Title': 'count'  # Contar partidos jugados\n",
    "        }).reset_index()\n",
    "        \n",
    "        # Renombrar columna de conteo\n",
    "        jugadores_stats.rename(columns={'Session Title': 'Partidos Jugados'}, inplace=True)\n",
    "        \n",
    "        # Calcular promedio por partido\n",
    "        jugadores_stats['Promedio por Partido (km)'] = jugadores_stats['Alta Velocidad Total (km)'] / jugadores_stats['Partidos Jugados']\n",
    "        \n",
    "        # Ordenar jugadores por distancia total en alta velocidad (descendente)\n",
    "        jugadores_stats = jugadores_stats.sort_values('Alta Velocidad Total (km)', ascending=False)\n",
    "        \n",
    "        # Limitar a los top_n jugadores\n",
    "        top_jugadores = jugadores_stats.head(top_n)\n",
    "        \n",
    "        # Crear gráfico de barras apiladas con Plotly\n",
    "        fig = go.Figure()\n",
    "        \n",
    "        # Añadir barras para cada zona\n",
    "        fig.add_trace(go.Bar(\n",
    "            x=top_jugadores['Player Name'],\n",
    "            y=top_jugadores['Zona 3 (km)'],\n",
    "            name='Zona 3',\n",
    "            marker_color='rgb(120, 120, 120)',\n",
    "            hovertemplate='<b>%{x}</b><br>Zona 3: %{y:.2f} km<extra></extra>'\n",
    "        ))\n",
    "        \n",
    "        fig.add_trace(go.Bar(\n",
    "            x=top_jugadores['Player Name'],\n",
    "            y=top_jugadores['Zona 4 (km)'],\n",
    "            name='Zona 4',\n",
    "            marker_color='rgb(80, 80, 80)',\n",
    "            hovertemplate='<b>%{x}</b><br>Zona 4: %{y:.2f} km<extra></extra>'\n",
    "        ))\n",
    "        \n",
    "        fig.add_trace(go.Bar(\n",
    "            x=top_jugadores['Player Name'],\n",
    "            y=top_jugadores['Zona 5 (km)'],\n",
    "            name='Zona 5',\n",
    "            marker_color='rgb(40, 40, 40)',\n",
    "            hovertemplate='<b>%{x}</b><br>Zona 5: %{y:.2f} km<extra></extra>'\n",
    "        ))\n",
    "        \n",
    "        # Añadir línea para promedio por partido\n",
    "        fig.add_trace(go.Scatter(\n",
    "            x=top_jugadores['Player Name'],\n",
    "            y=top_jugadores['Promedio por Partido (km)'],\n",
    "            name='Promedio por Partido',\n",
    "            mode='lines+markers',\n",
    "            line=dict(color='rgb(0, 0, 0)', width=2),\n",
    "            marker=dict(size=8, symbol='circle', color='rgb(0, 0, 0)'),\n",
    "            yaxis='y2',\n",
    "            hovertemplate='<b>%{x}</b><br>Promedio por partido: %{y:.2f} km<br>Partidos: %{customdata}<extra></extra>',\n",
    "            customdata=top_jugadores['Partidos Jugados']\n",
    "        ))\n",
    "        \n",
    "        # Configurar diseño con eje Y secundario para el promedio\n",
    "        fig.update_layout(\n",
    "            title='Jugadores con Mayor Distancia en Alta Velocidad (Sprints)',\n",
    "            xaxis=dict(\n",
    "                title='Jugador',\n",
    "                tickangle=-45\n",
    "            ),\n",
    "            yaxis=dict(\n",
    "                title='Distancia Total (km)',\n",
    "                gridcolor='rgb(220, 220, 220)'\n",
    "            ),\n",
    "            yaxis2=dict(\n",
    "                title='Promedio por Partido (km)',\n",
    "                overlaying='y',\n",
    "                side='right',\n",
    "                showgrid=False\n",
    "            ),\n",
    "            plot_bgcolor='rgb(250, 250, 250)',\n",
    "            paper_bgcolor='rgb(250, 250, 250)',\n",
    "            font=dict(color='rgb(20, 20, 20)'),\n",
    "            barmode='stack',\n",
    "            legend=dict(orientation='h', yanchor='bottom', y=1.02, xanchor='right', x=1),\n",
    "            margin=dict(t=80, b=120, l=60, r=80),\n",
    "            height=600\n",
    "        )\n",
    "        \n",
    "        # Mostrar gráfico\n",
    "        fig.show()\n",
    "        \n",
    "        # También mostrar tabla con datos completos\n",
    "        print(f\"\\nTop {top_n} jugadores con mayor distancia en alta velocidad:\")\n",
    "        return jugadores_stats.head(top_n)\n",
    "    \n",
    "    except Exception as e:\n",
    "        import traceback\n",
    "        print(f\"Error al analizar los datos: {e}\")\n",
    "        print(traceback.format_exc())\n",
    "        return None\n",
    "\n",
    "# Ejecutar el análisis\n",
    "try:\n",
    "    if 'df' in globals() and df is not None:\n",
    "        top_jugadores = analizar_jugadores_alta_velocidad(df)\n",
    "        if top_jugadores is not None:\n",
    "            display(top_jugadores)\n",
    "    else:\n",
    "        print(\"No se encontraron datos cargados. Ejecute primero la celda para cargar los datos.\")\n",
    "except Exception as e:\n",
    "    print(f\"Error: {e}\")"
   ]
  },
  {
   "cell_type": "code",
   "execution_count": null,
   "id": "ed89350f",
   "metadata": {},
   "outputs": [
    {
     "name": "stderr",
     "output_type": "stream",
     "text": [
      "C:\\Users\\dell\\AppData\\Local\\Temp\\ipykernel_12412\\3199547640.py:37: UserWarning:\n",
      "\n",
      "Parsing dates in %d/%m/%Y format when dayfirst=False (the default) was specified. Pass `dayfirst=True` or specify a format to silence this warning.\n",
      "\n"
     ]
    },
    {
     "data": {
      "application/vnd.jupyter.widget-view+json": {
       "model_id": "613eb3bd31e0472eb4dc222acb9b1ba6",
       "version_major": 2,
       "version_minor": 0
      },
      "text/plain": [
       "interactive(children=(IntSlider(value=0, description='Partido:', max=4, style=SliderStyle(description_width='i…"
      ]
     },
     "metadata": {},
     "output_type": "display_data"
    }
   ],
   "source": [
    "import pandas as pd\n",
    "import matplotlib.pyplot as plt\n",
    "import plotly.express as px\n",
    "import plotly.graph_objects as go\n",
    "from ipywidgets import interact, IntSlider, HBox, VBox, Output, Layout\n",
    "import ipywidgets as widgets\n",
    "\n",
    "def analizar_jugadores_por_partido(df, n_partidos=5, top_jugadores=5):\n",
    "    \"\"\"\n",
    "    Analiza los top jugadores con mayores distancias en alta velocidad en los últimos n partidos.\n",
    "    \n",
    "    Parámetros:\n",
    "    - df: DataFrame con los datos de Catapult\n",
    "    - n_partidos: Número de partidos recientes a analizar (default: 5)\n",
    "    - top_jugadores: Número de mejores jugadores a mostrar por partido (default: 5)\n",
    "    \n",
    "    Retorna:\n",
    "    - Lista de DataFrames con los top jugadores para cada partido\n",
    "    \"\"\"\n",
    "    try:\n",
    "        # Filtrar solo partidos\n",
    "        partidos_df = df[df['Session Title'].str.contains('Partido', case=False, na=False)].copy()\n",
    "        \n",
    "        if partidos_df.empty:\n",
    "            print(\"No se encontraron datos de partidos para analizar.\")\n",
    "            return None\n",
    "        \n",
    "        # Columnas de velocidad alta\n",
    "        columnas_velocidad = [\n",
    "            'Distance in Speed Zone 3 (km)',\n",
    "            'Distance in Speed Zone 4 (km)',\n",
    "            'Distance in Speed Zone 5 (km)'\n",
    "        ]\n",
    "        \n",
    "        # Convertir fecha a datetime si no lo está\n",
    "        if not pd.api.types.is_datetime64_dtype(partidos_df['Date']):\n",
    "            partidos_df['Date'] = pd.to_datetime(partidos_df['Date'], errors='coerce')\n",
    "        \n",
    "        # Convertir las columnas a numéricas\n",
    "        for col in columnas_velocidad:\n",
    "            if isinstance(partidos_df[col].iloc[0], str):\n",
    "                partidos_df[col] = partidos_df[col].str.replace(',', '.').astype(float)\n",
    "            elif not pd.api.types.is_numeric_dtype(partidos_df[col]):\n",
    "                partidos_df[col] = pd.to_numeric(partidos_df[col], errors='coerce')\n",
    "        \n",
    "        # Crear columna con la suma total de alta velocidad\n",
    "        partidos_df['Alta Velocidad (km)'] = partidos_df[columnas_velocidad].sum(axis=1)\n",
    "        \n",
    "        # Obtener los últimos n_partidos únicos\n",
    "        ultimos_partidos = partidos_df.sort_values('Date', ascending=False).drop_duplicates(['Date', 'Session Title']).head(n_partidos)\n",
    "        fechas_partidos = list(zip(ultimos_partidos['Date'], ultimos_partidos['Session Title']))\n",
    "        \n",
    "        # Lista para almacenar resultados\n",
    "        resultados_partidos = []\n",
    "        \n",
    "        # Analizar cada partido por separado\n",
    "        for fecha, partido in fechas_partidos:\n",
    "            # Filtrar datos para este partido específico\n",
    "            partido_data = partidos_df[(partidos_df['Date'] == fecha) & (partidos_df['Session Title'] == partido)]\n",
    "            \n",
    "            # Ordenar por distancia en alta velocidad\n",
    "            partido_data = partido_data.sort_values('Alta Velocidad (km)', ascending=False)\n",
    "            \n",
    "            # Seleccionar los top jugadores\n",
    "            top_data = partido_data.head(top_jugadores)\n",
    "            \n",
    "            # Crear DataFrame con info básica\n",
    "            info_partido = {\n",
    "                'Fecha': fecha.strftime('%d-%m-%Y'),\n",
    "                'Partido': partido,\n",
    "                'Jugadores': len(partido_data),\n",
    "                'Datos': top_data\n",
    "            }\n",
    "            \n",
    "            resultados_partidos.append(info_partido)\n",
    "        \n",
    "        # Visualizar resultados\n",
    "        visualizar_top_jugadores_por_partido(resultados_partidos)\n",
    "        \n",
    "        return resultados_partidos\n",
    "        \n",
    "    except Exception as e:\n",
    "        import traceback\n",
    "        print(f\"Error al analizar los datos: {e}\")\n",
    "        print(traceback.format_exc())\n",
    "        return None\n",
    "\n",
    "def visualizar_top_jugadores_por_partido(resultados_partidos):\n",
    "    \"\"\"\n",
    "    Visualiza los mejores jugadores por sprint en cada partido.\n",
    "    \n",
    "    Parámetros:\n",
    "    - resultados_partidos: Lista de diccionarios con la información de cada partido\n",
    "    \"\"\"\n",
    "    # Crear tabs para cada partido\n",
    "    output = Output()\n",
    "    \n",
    "    # Widget para seleccionar el partido\n",
    "    partido_slider = IntSlider(\n",
    "        value=0,\n",
    "        min=0,\n",
    "        max=len(resultados_partidos)-1,\n",
    "        step=1,\n",
    "        description='Partido:',\n",
    "        style={'description_width': 'initial'}\n",
    "    )\n",
    "    \n",
    "    # Función para actualizar la visualización según el partido seleccionado\n",
    "    def update_visualization(partido_index):\n",
    "        with output:\n",
    "            output.clear_output(wait=True)\n",
    "            \n",
    "            if partido_index < 0 or partido_index >= len(resultados_partidos):\n",
    "                print(\"Índice de partido fuera de rango\")\n",
    "                return\n",
    "            \n",
    "            # Obtener datos del partido\n",
    "            partido_info = resultados_partidos[partido_index]\n",
    "            fecha = partido_info['Fecha']\n",
    "            nombre_partido = partido_info['Partido']\n",
    "            top_data = partido_info['Datos']\n",
    "            \n",
    "            # Crear figura para este partido\n",
    "            fig = go.Figure()\n",
    "            \n",
    "            # Añadir barras para cada zona\n",
    "            for i, zona in enumerate(['Distance in Speed Zone 3 (km)', 'Distance in Speed Zone 4 (km)', 'Distance in Speed Zone 5 (km)']):\n",
    "                fig.add_trace(go.Bar(\n",
    "                    x=top_data['Player Name'],\n",
    "                    y=top_data[zona],\n",
    "                    name=f'Zona {i+3}',\n",
    "                    marker_color=f'rgb({120-i*40}, {120-i*40}, {120-i*40})',\n",
    "                    hovertemplate='<b>%{x}</b><br>Zona {}: %{y:.2f} km<extra></extra>'.format(i+3)\n",
    "                ))\n",
    "            \n",
    "            # Añadir texto para el total sobre las barras\n",
    "            for i, jugador in enumerate(top_data['Player Name']):\n",
    "                total_vel = top_data['Alta Velocidad (km)'].iloc[i]\n",
    "                fig.add_annotation(\n",
    "                    x=jugador,\n",
    "                    y=total_vel,\n",
    "                    text=f\"{total_vel:.2f}\",\n",
    "                    showarrow=False,\n",
    "                    yshift=10,\n",
    "                    font=dict(size=10)\n",
    "                )\n",
    "            \n",
    "            # Configurar diseño\n",
    "            fig.update_layout(\n",
    "                title=f'Top 5 Jugadores en Sprint - {nombre_partido} ({fecha})',\n",
    "                xaxis=dict(\n",
    "                    title='Jugador',\n",
    "                    tickangle=-45\n",
    "                ),\n",
    "                yaxis=dict(\n",
    "                    title='Distancia (km)',\n",
    "                    gridcolor='rgb(220, 220, 220)'\n",
    "                ),\n",
    "                plot_bgcolor='rgb(250, 250, 250)',\n",
    "                paper_bgcolor='rgb(250, 250, 250)',\n",
    "                font=dict(color='rgb(20, 20, 20)'),\n",
    "                barmode='stack',\n",
    "                legend=dict(orientation='h', yanchor='bottom', y=1.02, xanchor='right', x=1),\n",
    "                margin=dict(t=80, b=120, l=60, r=60),\n",
    "                height=600\n",
    "            )\n",
    "            \n",
    "            # Mostrar gráfico\n",
    "            fig.show()\n",
    "            \n",
    "            # Mostrar tabla con datos\n",
    "            display(top_data[['Player Name', 'Alta Velocidad (km)', 'Distance in Speed Zone 3 (km)', \n",
    "                              'Distance in Speed Zone 4 (km)', 'Distance in Speed Zone 5 (km)']])\n",
    "            \n",
    "            print(f\"\\nFecha: {fecha} - {nombre_partido}\")\n",
    "            print(f\"Total jugadores en este partido: {partido_info['Jugadores']}\")\n",
    "            \n",
    "    # Crear la interfaz interactiva\n",
    "    interact(update_visualization, partido_index=partido_slider)\n",
    "    \n",
    "    return VBox([\n",
    "        widgets.HTML(value=\"<h3>Top 5 Jugadores por Sprint en los Últimos 5 Partidos</h3>\"),\n",
    "        partido_slider,\n",
    "        output\n",
    "    ])\n",
    "\n",
    "# Ejecutar el análisis\n",
    "try:\n",
    "    if 'df' in globals() and df is not None:\n",
    "        resultados = analizar_jugadores_por_partido(df)\n",
    "    else:\n",
    "        print(\"No se encontraron datos cargados. Ejecute primero la celda para cargar los datos.\")\n",
    "except Exception as e:\n",
    "    print(f\"Error: {e}\")"
   ]
  },
  {
   "cell_type": "code",
   "execution_count": null,
   "id": "65ef1b98",
   "metadata": {},
   "outputs": [
    {
     "name": "stderr",
     "output_type": "stream",
     "text": [
      "C:\\Users\\dell\\AppData\\Local\\Temp\\ipykernel_12412\\125759914.py:32: UserWarning:\n",
      "\n",
      "Parsing dates in %d/%m/%Y format when dayfirst=False (the default) was specified. Pass `dayfirst=True` or specify a format to silence this warning.\n",
      "\n"
     ]
    },
    {
     "data": {
      "application/vnd.jupyter.widget-view+json": {
       "model_id": "2fa3a057d1ab4f95b0e1f525c690395a",
       "version_major": 2,
       "version_minor": 0
      },
      "text/plain": [
       "VBox(children=(HTML(value='<h3>Top 5 Jugadores por Sprint en los Últimos 5 Partidos</h3>'), Dropdown(descripti…"
      ]
     },
     "metadata": {},
     "output_type": "display_data"
    }
   ],
   "source": [
    "import pandas as pd\n",
    "import matplotlib.pyplot as plt\n",
    "import plotly.graph_objects as go\n",
    "from ipywidgets import interact, IntSlider, VBox, Output\n",
    "import ipywidgets as widgets\n",
    "\n",
    "def analizar_top_5_por_partido(df):\n",
    "    \"\"\"\n",
    "    Muestra los 5 jugadores con mayor distancia en alta velocidad para cada uno\n",
    "    de los últimos 5 partidos, con una interfaz para seleccionar el partido.\n",
    "    \n",
    "    Parámetros:\n",
    "    - df: DataFrame con los datos de Catapult\n",
    "    \"\"\"\n",
    "    try:\n",
    "        # Filtrar solo partidos\n",
    "        partidos_df = df[df['Session Title'].str.contains('Partido', case=False, na=False)].copy()\n",
    "        \n",
    "        if partidos_df.empty:\n",
    "            print(\"No se encontraron datos de partidos para analizar.\")\n",
    "            return\n",
    "        \n",
    "        # Columnas de velocidad alta\n",
    "        columnas_velocidad = [\n",
    "            'Distance in Speed Zone 3 (km)',\n",
    "            'Distance in Speed Zone 4 (km)',\n",
    "            'Distance in Speed Zone 5 (km)'\n",
    "        ]\n",
    "        \n",
    "        # Convertir fecha a datetime si no lo está\n",
    "        if not pd.api.types.is_datetime64_dtype(partidos_df['Date']):\n",
    "            partidos_df['Date'] = pd.to_datetime(partidos_df['Date'], errors='coerce')\n",
    "        \n",
    "        # Convertir las columnas a numéricas\n",
    "        for col in columnas_velocidad:\n",
    "            if isinstance(partidos_df[col].iloc[0], str):\n",
    "                partidos_df[col] = partidos_df[col].str.replace(',', '.').astype(float)\n",
    "            elif not pd.api.types.is_numeric_dtype(partidos_df[col]):\n",
    "                partidos_df[col] = pd.to_numeric(partidos_df[col], errors='coerce')\n",
    "        \n",
    "        # Crear columna con la suma total de alta velocidad\n",
    "        partidos_df['Alta Velocidad (km)'] = partidos_df[columnas_velocidad].sum(axis=1)\n",
    "        \n",
    "        # Obtener los últimos 5 partidos (fechas distintas)\n",
    "        ultimos_partidos = partidos_df.sort_values('Date', ascending=False)\n",
    "        fechas_unicas = ultimos_partidos[['Date', 'Session Title']].drop_duplicates().head(5)\n",
    "        \n",
    "        # Crear componentes interactivos\n",
    "        output = Output()\n",
    "        \n",
    "        # Widget para seleccionar partido\n",
    "        opciones_partidos = [(f\"{fecha.strftime('%d-%m-%Y')} - {titulo}\", i) \n",
    "                            for i, (fecha, titulo) in enumerate(\n",
    "                                zip(fechas_unicas['Date'], fechas_unicas['Session Title']))]\n",
    "        \n",
    "        partido_dropdown = widgets.Dropdown(\n",
    "            options=opciones_partidos,\n",
    "            value=0,\n",
    "            description='Partido:',\n",
    "            style={'description_width': 'initial'},\n",
    "            layout=widgets.Layout(width='50%')\n",
    "        )\n",
    "     "
   ]
  },
  {
   "cell_type": "code",
   "execution_count": null,
   "id": "df9d2408",
   "metadata": {},
   "outputs": [],
   "source": [
    "def procesar_sesiones(df, tipo_sesion='Partido', max_fechas=None):\n",
    "    \"\"\"\n",
    "    Procesa datos de sesiones específicas (Partido, Martes o Jueves)\n",
    "    \n",
    "    Parámetros:\n",
    "    - df: DataFrame con los datos\n",
    "    - tipo_sesion: Tipo de sesión a procesar ('Partido', 'Martes', 'Jueves')\n",
    "    - max_fechas: Número máximo de fechas a mostrar (None para mostrar todas)\n",
    "    \"\"\"\n",
    "    # Verificar si el DataFrame es válido\n",
    "    if df is None or df.empty:\n",
    "        st.warning(\"No hay datos disponibles para analizar.\")\n",
    "        return None\n",
    "    \n",
    "    # Filtrar solo los registros que corresponden al tipo de sesión\n",
    "    sesiones_df = df[df['Session Title'].str.contains(tipo_sesion, case=False, na=False)].copy()\n",
    "    \n",
    "    if sesiones_df.empty:\n",
    "        st.warning(f\"No se encontraron registros de {tipo_sesion} en los datos.\")\n",
    "        return None\n",
    "    \n",
    "    # Convertir columnas necesarias\n",
    "    try:\n",
    "        # Convertir fecha a datetime si no lo está\n",
    "        if not pd.api.types.is_datetime64_dtype(sesiones_df['Date']):\n",
    "            sesiones_df['Date'] = pd.to_datetime(sesiones_df['Date'], errors='coerce')\n",
    "        \n",
    "        # Convertir distancia a numérica\n",
    "        if isinstance(sesiones_df['Distance (km)'].iloc[0], str):\n",
    "            sesiones_df['Distance (km)'] = sesiones_df['Distance (km)'].str.replace(',', '.').astype(float)\n",
    "        elif not pd.api.types.is_numeric_dtype(sesiones_df['Distance (km)']):\n",
    "            sesiones_df['Distance (km)'] = pd.to_numeric(sesiones_df['Distance (km)'], errors='coerce')\n",
    "    \n",
    "    except Exception as e:\n",
    "        st.error(f\"Error al convertir datos: {e}\")\n",
    "        return None\n",
    "    \n",
    "    # Agrupar por fecha y obtener estadísticas\n",
    "    sesiones_stats = sesiones_df.groupby([sesiones_df['Date'].dt.date, 'Session Title'])['Distance (km)'].agg(\n",
    "        ['mean', 'count', 'sum']).reset_index()\n",
    "    \n",
    "    sesiones_stats.columns = ['Fecha', 'Sesión', 'Distancia Media (km)', \n",
    "                              'N° Jugadores', 'Distancia Total (km)']\n",
    "    \n",
    "    # Ordenar por fecha ascendente\n",
    "    sesiones_stats = sesiones_stats.sort_values('Fecha', ascending=True)\n",
    "    \n",
    "    # Crear una columna de identificación única que combine fecha y sesión\n",
    "    sesiones_stats['Fecha_Sesion'] = sesiones_stats['Sesión']  # Solo usar el título de la sesión.astype(str) + ' - ' + sesiones_stats['Sesión']\n",
    "    \n",
    "    # Limitar por cantidad de fechas si se especifica\n",
    "    if max_fechas and max_fechas > 0 and max_fechas < len(sesiones_stats):\n",
    "        # Tomar los últimos N registros (los más recientes)\n",
    "        sesiones_stats = sesiones_stats.tail(max_fechas)\n",
    "    \n",
    "    return sesiones_stats\n",
    "\n",
    "def graficar_distancia_sesion(sesiones_stats, n_sesiones, tipo_sesion):\n",
    "    \"\"\"\n",
    "    Genera el gráfico de distancia por sesiones\n",
    "    \"\"\"\n",
    "    if sesiones_stats is None or sesiones_stats.empty:\n",
    "        st.warning(\"No hay datos para visualizar\")\n",
    "        return\n",
    "    \n",
    "    # Limitar cantidad de sesiones a mostrar\n",
    "    # Tomamos las últimas n_sesiones (más recientes)\n",
    "    df_plot = sesiones_stats.tail(n_sesiones).copy()\n",
    "    \n",
    "    # Crear figura con Plotly\n",
    "    fig = go.Figure()\n",
    "    \n",
    "    # Añadir barras para distancia media\n",
    "    fig.add_trace(go.Bar(\n",
    "        x=df_plot['Fecha_Sesion'],\n",
    "        y=df_plot['Distancia Media (km)'],\n",
    "        name='Distancia Media',\n",
    "        marker_color='rgb(70, 70, 70)',\n",
    "        text=df_plot['Distancia Media (km)'].round(2),\n",
    "        textposition='outside',\n",
    "        hovertemplate='<b>%{x}</b><br>Distancia Media: %{y:.2f} km<br>N° Jugadores: %{customdata[0]}<br>Total: %{customdata[1]:.2f} km<extra></extra>',\n",
    "        customdata=df_plot[['N° Jugadores', 'Distancia Total (km)']]\n",
    "    ))\n",
    "    \n",
    "    # Agregar línea de tendencia\n",
    "    fig.add_trace(go.Scatter(\n",
    "        x=df_plot['Fecha_Sesion'],\n",
    "        y=df_plot['Distancia Media (km)'],\n",
    "        name='Tendencia',\n",
    "        mode='lines',\n",
    "        line=dict(color='rgb(30, 30, 30)', width=3, shape='spline'),\n",
    "        hovertemplate='<b>%{x}</b><br>Tendencia: %{y:.2f} km<extra></extra>'\n",
    "    ))\n",
    "    \n",
    "    # Actualizar diseño\n",
    "    fig.update_layout(\n",
    "    title={\n",
    "        'text': f'Distancia en (km) - {tipo_sesion}',\n",
    "        'font': {'size': 24},\n",
    "        'x': 0.5,\n",
    "        'xanchor': 'center'\n",
    "    },\n",
    "    xaxis=dict(\n",
    "        title='Sesión',\n",
    "        tickangle=-30,  # Ángulo menos pronunciado\n",
    "        tickfont=dict(size=14),  # Texto más grande\n",
    "        title_font=dict(size=16)  # Título más grande\n",
    "    ),\n",
    "    yaxis=dict(\n",
    "        title='Distancia (km)',\n",
    "        gridcolor='rgb(220, 220, 220)'\n",
    "    ),\n",
    "        plot_bgcolor='rgb(250, 250, 250)',\n",
    "        paper_bgcolor='rgb(250, 250, 250)',\n",
    "        font=dict(color='rgb(20, 20, 20)'),\n",
    "        barmode='group',\n",
    "        bargap=0.15,\n",
    "        bargroupgap=0.1,\n",
    "        legend=dict(orientation='h', yanchor='bottom', y=1.02, xanchor='right', x=1),\n",
    "        height=500\n",
    "    )\n",
    "    \n",
    "    return fig"
   ]
  },
  {
   "cell_type": "code",
   "execution_count": null,
   "id": "afc87c42",
   "metadata": {},
   "outputs": [
    {
     "name": "stdout",
     "output_type": "stream",
     "text": [
      "\n",
      "=== Análisis de sesiones: Partido ===\n",
      "\n",
      "Últimas 10 sesiones de Partido:\n",
      "\n",
      "Estadísticas principales:\n",
      "Total de sesiones encontradas: 10\n",
      "Promedio de distancia por sesión: 5401.20 km\n",
      "Promedio de jugadores por sesión: 9.3\n",
      "\n",
      "Detalle de las últimas sesiones:\n"
     ]
    },
    {
     "name": "stderr",
     "output_type": "stream",
     "text": [
      "C:\\Users\\dell\\AppData\\Local\\Temp\\ipykernel_13968\\1502734827.py:26: UserWarning:\n",
      "\n",
      "Parsing dates in %d/%m/%Y format when dayfirst=False (the default) was specified. Pass `dayfirst=True` or specify a format to silence this warning.\n",
      "\n"
     ]
    },
    {
     "data": {
      "text/html": [
       "<div>\n",
       "<style scoped>\n",
       "    .dataframe tbody tr th:only-of-type {\n",
       "        vertical-align: middle;\n",
       "    }\n",
       "\n",
       "    .dataframe tbody tr th {\n",
       "        vertical-align: top;\n",
       "    }\n",
       "\n",
       "    .dataframe thead th {\n",
       "        text-align: right;\n",
       "    }\n",
       "</style>\n",
       "<table border=\"1\" class=\"dataframe\">\n",
       "  <thead>\n",
       "    <tr style=\"text-align: right;\">\n",
       "      <th></th>\n",
       "      <th>Fecha</th>\n",
       "      <th>Sesión</th>\n",
       "      <th>Distancia Media (km)</th>\n",
       "      <th>N° Jugadores</th>\n",
       "      <th>Distancia Total (km)</th>\n",
       "    </tr>\n",
       "  </thead>\n",
       "  <tbody>\n",
       "    <tr>\n",
       "      <th>30</th>\n",
       "      <td>2024-05-18</td>\n",
       "      <td>Partido Banco Nacion 18/5</td>\n",
       "      <td>5.000000</td>\n",
       "      <td>10</td>\n",
       "      <td>50.0</td>\n",
       "    </tr>\n",
       "    <tr>\n",
       "      <th>31</th>\n",
       "      <td>2024-05-25</td>\n",
       "      <td>Partido Italiano</td>\n",
       "      <td>4.600000</td>\n",
       "      <td>10</td>\n",
       "      <td>46.0</td>\n",
       "    </tr>\n",
       "    <tr>\n",
       "      <th>32</th>\n",
       "      <td>2024-06-01</td>\n",
       "      <td>Partido Cuq</td>\n",
       "      <td>3.625000</td>\n",
       "      <td>8</td>\n",
       "      <td>29.0</td>\n",
       "    </tr>\n",
       "    <tr>\n",
       "      <th>33</th>\n",
       "      <td>2024-06-08</td>\n",
       "      <td>Partido Moreno</td>\n",
       "      <td>4.200000</td>\n",
       "      <td>10</td>\n",
       "      <td>42.0</td>\n",
       "    </tr>\n",
       "    <tr>\n",
       "      <th>34</th>\n",
       "      <td>2024-06-22</td>\n",
       "      <td>Partido Liceo Naval</td>\n",
       "      <td>2.000000</td>\n",
       "      <td>10</td>\n",
       "      <td>20.0</td>\n",
       "    </tr>\n",
       "    <tr>\n",
       "      <th>35</th>\n",
       "      <td>2024-06-29</td>\n",
       "      <td>Partido Don Bosco</td>\n",
       "      <td>4.800000</td>\n",
       "      <td>10</td>\n",
       "      <td>48.0</td>\n",
       "    </tr>\n",
       "    <tr>\n",
       "      <th>36</th>\n",
       "      <td>2024-07-06</td>\n",
       "      <td>Partido Liceo Militiar</td>\n",
       "      <td>4.000000</td>\n",
       "      <td>10</td>\n",
       "      <td>40.0</td>\n",
       "    </tr>\n",
       "    <tr>\n",
       "      <th>37</th>\n",
       "      <td>2024-07-14</td>\n",
       "      <td>Partido San Carlos</td>\n",
       "      <td>4.300000</td>\n",
       "      <td>10</td>\n",
       "      <td>43.0</td>\n",
       "    </tr>\n",
       "    <tr>\n",
       "      <th>38</th>\n",
       "      <td>2024-08-10</td>\n",
       "      <td>Partido Delta11/8</td>\n",
       "      <td>8.000000</td>\n",
       "      <td>4</td>\n",
       "      <td>32.0</td>\n",
       "    </tr>\n",
       "    <tr>\n",
       "      <th>39</th>\n",
       "      <td>2025-04-26</td>\n",
       "      <td>Partido San Andres</td>\n",
       "      <td>53971.454545</td>\n",
       "      <td>11</td>\n",
       "      <td>593686.0</td>\n",
       "    </tr>\n",
       "  </tbody>\n",
       "</table>\n",
       "</div>"
      ],
      "text/plain": [
       "         Fecha                     Sesión  Distancia Media (km)  N° Jugadores  \\\n",
       "30  2024-05-18  Partido Banco Nacion 18/5              5.000000            10   \n",
       "31  2024-05-25           Partido Italiano              4.600000            10   \n",
       "32  2024-06-01                Partido Cuq              3.625000             8   \n",
       "33  2024-06-08             Partido Moreno              4.200000            10   \n",
       "34  2024-06-22        Partido Liceo Naval              2.000000            10   \n",
       "35  2024-06-29          Partido Don Bosco              4.800000            10   \n",
       "36  2024-07-06     Partido Liceo Militiar              4.000000            10   \n",
       "37  2024-07-14         Partido San Carlos              4.300000            10   \n",
       "38  2024-08-10          Partido Delta11/8              8.000000             4   \n",
       "39  2025-04-26         Partido San Andres          53971.454545            11   \n",
       "\n",
       "    Distancia Total (km)  \n",
       "30                  50.0  \n",
       "31                  46.0  \n",
       "32                  29.0  \n",
       "33                  42.0  \n",
       "34                  20.0  \n",
       "35                  48.0  \n",
       "36                  40.0  \n",
       "37                  43.0  \n",
       "38                  32.0  \n",
       "39              593686.0  "
      ]
     },
     "metadata": {},
     "output_type": "display_data"
    },
    {
     "data": {
      "application/vnd.plotly.v1+json": {
       "config": {
        "plotlyServerURL": "https://plot.ly"
       },
       "data": [
        {
         "customdata": {
          "bdata": "AAAAAAAAJEAAAAAAAABJQAAAAAAAACRAAAAAAAAAR0AAAAAAAAAgQAAAAAAAAD1AAAAAAAAAJEAAAAAAAABFQAAAAAAAACRAAAAAAAAANEAAAAAAAAAkQAAAAAAAAEhAAAAAAAAAJEAAAAAAAABEQAAAAAAAACRAAAAAAACARUAAAAAAAAAQQAAAAAAAAEBAAAAAAAAAJkAAAAAALB4iQQ==",
          "dtype": "f8",
          "shape": "10, 2"
         },
         "hovertemplate": "<b>%{x}</b><br>Distancia Media: %{y:.2f} km<br>N° Jugadores: %{customdata[0]}<br>Total: %{customdata[1]:.2f} km<extra></extra>",
         "marker": {
          "color": "rgb(70, 70, 70)"
         },
         "name": "Distancia Media",
         "text": {
          "bdata": "AAAAAAAAFEBmZmZmZmYSQPYoXI/C9QxAzczMzMzMEEAAAAAAAAAAQDMzMzMzMxNAAAAAAAAAEEAzMzMzMzMRQAAAAAAAACBAZmZmZm5a6kA=",
          "dtype": "f8"
         },
         "textposition": "outside",
         "type": "bar",
         "x": [
          "Partido Banco Nacion 18/5",
          "Partido Italiano",
          "Partido Cuq",
          "Partido Moreno",
          "Partido Liceo Naval",
          "Partido Don Bosco",
          "Partido Liceo Militiar",
          "Partido San Carlos",
          "Partido Delta11/8",
          "Partido San Andres"
         ],
         "y": {
          "bdata": "AAAAAAAAFEBmZmZmZmYSQAAAAAAAAA1AzczMzMzMEEAAAAAAAAAAQDMzMzMzMxNAAAAAAAAAEEAzMzMzMzMRQAAAAAAAACBAuuiii25a6kA=",
          "dtype": "f8"
         }
        },
        {
         "hovertemplate": "<b>%{x}</b><br>Tendencia: %{y:.2f} km<extra></extra>",
         "line": {
          "color": "rgb(30, 30, 30)",
          "shape": "spline",
          "width": 3
         },
         "mode": "lines",
         "name": "Tendencia",
         "type": "scatter",
         "x": [
          "Partido Banco Nacion 18/5",
          "Partido Italiano",
          "Partido Cuq",
          "Partido Moreno",
          "Partido Liceo Naval",
          "Partido Don Bosco",
          "Partido Liceo Militiar",
          "Partido San Carlos",
          "Partido Delta11/8",
          "Partido San Andres"
         ],
         "y": {
          "bdata": "AAAAAAAAFEBmZmZmZmYSQAAAAAAAAA1AzczMzMzMEEAAAAAAAAAAQDMzMzMzMxNAAAAAAAAAEEAzMzMzMzMRQAAAAAAAACBAuuiii25a6kA=",
          "dtype": "f8"
         }
        }
       ],
       "layout": {
        "bargap": 0.15,
        "bargroupgap": 0.1,
        "barmode": "group",
        "font": {
         "color": "rgb(20, 20, 20)"
        },
        "height": 500,
        "legend": {
         "orientation": "h",
         "x": 1,
         "xanchor": "right",
         "y": 1.02,
         "yanchor": "bottom"
        },
        "paper_bgcolor": "rgb(250, 250, 250)",
        "plot_bgcolor": "rgb(250, 250, 250)",
        "template": {
         "data": {
          "bar": [
           {
            "error_x": {
             "color": "#2a3f5f"
            },
            "error_y": {
             "color": "#2a3f5f"
            },
            "marker": {
             "line": {
              "color": "#E5ECF6",
              "width": 0.5
             },
             "pattern": {
              "fillmode": "overlay",
              "size": 10,
              "solidity": 0.2
             }
            },
            "type": "bar"
           }
          ],
          "barpolar": [
           {
            "marker": {
             "line": {
              "color": "#E5ECF6",
              "width": 0.5
             },
             "pattern": {
              "fillmode": "overlay",
              "size": 10,
              "solidity": 0.2
             }
            },
            "type": "barpolar"
           }
          ],
          "carpet": [
           {
            "aaxis": {
             "endlinecolor": "#2a3f5f",
             "gridcolor": "white",
             "linecolor": "white",
             "minorgridcolor": "white",
             "startlinecolor": "#2a3f5f"
            },
            "baxis": {
             "endlinecolor": "#2a3f5f",
             "gridcolor": "white",
             "linecolor": "white",
             "minorgridcolor": "white",
             "startlinecolor": "#2a3f5f"
            },
            "type": "carpet"
           }
          ],
          "choropleth": [
           {
            "colorbar": {
             "outlinewidth": 0,
             "ticks": ""
            },
            "type": "choropleth"
           }
          ],
          "contour": [
           {
            "colorbar": {
             "outlinewidth": 0,
             "ticks": ""
            },
            "colorscale": [
             [
              0,
              "#0d0887"
             ],
             [
              0.1111111111111111,
              "#46039f"
             ],
             [
              0.2222222222222222,
              "#7201a8"
             ],
             [
              0.3333333333333333,
              "#9c179e"
             ],
             [
              0.4444444444444444,
              "#bd3786"
             ],
             [
              0.5555555555555556,
              "#d8576b"
             ],
             [
              0.6666666666666666,
              "#ed7953"
             ],
             [
              0.7777777777777778,
              "#fb9f3a"
             ],
             [
              0.8888888888888888,
              "#fdca26"
             ],
             [
              1,
              "#f0f921"
             ]
            ],
            "type": "contour"
           }
          ],
          "contourcarpet": [
           {
            "colorbar": {
             "outlinewidth": 0,
             "ticks": ""
            },
            "type": "contourcarpet"
           }
          ],
          "heatmap": [
           {
            "colorbar": {
             "outlinewidth": 0,
             "ticks": ""
            },
            "colorscale": [
             [
              0,
              "#0d0887"
             ],
             [
              0.1111111111111111,
              "#46039f"
             ],
             [
              0.2222222222222222,
              "#7201a8"
             ],
             [
              0.3333333333333333,
              "#9c179e"
             ],
             [
              0.4444444444444444,
              "#bd3786"
             ],
             [
              0.5555555555555556,
              "#d8576b"
             ],
             [
              0.6666666666666666,
              "#ed7953"
             ],
             [
              0.7777777777777778,
              "#fb9f3a"
             ],
             [
              0.8888888888888888,
              "#fdca26"
             ],
             [
              1,
              "#f0f921"
             ]
            ],
            "type": "heatmap"
           }
          ],
          "histogram": [
           {
            "marker": {
             "pattern": {
              "fillmode": "overlay",
              "size": 10,
              "solidity": 0.2
             }
            },
            "type": "histogram"
           }
          ],
          "histogram2d": [
           {
            "colorbar": {
             "outlinewidth": 0,
             "ticks": ""
            },
            "colorscale": [
             [
              0,
              "#0d0887"
             ],
             [
              0.1111111111111111,
              "#46039f"
             ],
             [
              0.2222222222222222,
              "#7201a8"
             ],
             [
              0.3333333333333333,
              "#9c179e"
             ],
             [
              0.4444444444444444,
              "#bd3786"
             ],
             [
              0.5555555555555556,
              "#d8576b"
             ],
             [
              0.6666666666666666,
              "#ed7953"
             ],
             [
              0.7777777777777778,
              "#fb9f3a"
             ],
             [
              0.8888888888888888,
              "#fdca26"
             ],
             [
              1,
              "#f0f921"
             ]
            ],
            "type": "histogram2d"
           }
          ],
          "histogram2dcontour": [
           {
            "colorbar": {
             "outlinewidth": 0,
             "ticks": ""
            },
            "colorscale": [
             [
              0,
              "#0d0887"
             ],
             [
              0.1111111111111111,
              "#46039f"
             ],
             [
              0.2222222222222222,
              "#7201a8"
             ],
             [
              0.3333333333333333,
              "#9c179e"
             ],
             [
              0.4444444444444444,
              "#bd3786"
             ],
             [
              0.5555555555555556,
              "#d8576b"
             ],
             [
              0.6666666666666666,
              "#ed7953"
             ],
             [
              0.7777777777777778,
              "#fb9f3a"
             ],
             [
              0.8888888888888888,
              "#fdca26"
             ],
             [
              1,
              "#f0f921"
             ]
            ],
            "type": "histogram2dcontour"
           }
          ],
          "mesh3d": [
           {
            "colorbar": {
             "outlinewidth": 0,
             "ticks": ""
            },
            "type": "mesh3d"
           }
          ],
          "parcoords": [
           {
            "line": {
             "colorbar": {
              "outlinewidth": 0,
              "ticks": ""
             }
            },
            "type": "parcoords"
           }
          ],
          "pie": [
           {
            "automargin": true,
            "type": "pie"
           }
          ],
          "scatter": [
           {
            "fillpattern": {
             "fillmode": "overlay",
             "size": 10,
             "solidity": 0.2
            },
            "type": "scatter"
           }
          ],
          "scatter3d": [
           {
            "line": {
             "colorbar": {
              "outlinewidth": 0,
              "ticks": ""
             }
            },
            "marker": {
             "colorbar": {
              "outlinewidth": 0,
              "ticks": ""
             }
            },
            "type": "scatter3d"
           }
          ],
          "scattercarpet": [
           {
            "marker": {
             "colorbar": {
              "outlinewidth": 0,
              "ticks": ""
             }
            },
            "type": "scattercarpet"
           }
          ],
          "scattergeo": [
           {
            "marker": {
             "colorbar": {
              "outlinewidth": 0,
              "ticks": ""
             }
            },
            "type": "scattergeo"
           }
          ],
          "scattergl": [
           {
            "marker": {
             "colorbar": {
              "outlinewidth": 0,
              "ticks": ""
             }
            },
            "type": "scattergl"
           }
          ],
          "scattermap": [
           {
            "marker": {
             "colorbar": {
              "outlinewidth": 0,
              "ticks": ""
             }
            },
            "type": "scattermap"
           }
          ],
          "scattermapbox": [
           {
            "marker": {
             "colorbar": {
              "outlinewidth": 0,
              "ticks": ""
             }
            },
            "type": "scattermapbox"
           }
          ],
          "scatterpolar": [
           {
            "marker": {
             "colorbar": {
              "outlinewidth": 0,
              "ticks": ""
             }
            },
            "type": "scatterpolar"
           }
          ],
          "scatterpolargl": [
           {
            "marker": {
             "colorbar": {
              "outlinewidth": 0,
              "ticks": ""
             }
            },
            "type": "scatterpolargl"
           }
          ],
          "scatterternary": [
           {
            "marker": {
             "colorbar": {
              "outlinewidth": 0,
              "ticks": ""
             }
            },
            "type": "scatterternary"
           }
          ],
          "surface": [
           {
            "colorbar": {
             "outlinewidth": 0,
             "ticks": ""
            },
            "colorscale": [
             [
              0,
              "#0d0887"
             ],
             [
              0.1111111111111111,
              "#46039f"
             ],
             [
              0.2222222222222222,
              "#7201a8"
             ],
             [
              0.3333333333333333,
              "#9c179e"
             ],
             [
              0.4444444444444444,
              "#bd3786"
             ],
             [
              0.5555555555555556,
              "#d8576b"
             ],
             [
              0.6666666666666666,
              "#ed7953"
             ],
             [
              0.7777777777777778,
              "#fb9f3a"
             ],
             [
              0.8888888888888888,
              "#fdca26"
             ],
             [
              1,
              "#f0f921"
             ]
            ],
            "type": "surface"
           }
          ],
          "table": [
           {
            "cells": {
             "fill": {
              "color": "#EBF0F8"
             },
             "line": {
              "color": "white"
             }
            },
            "header": {
             "fill": {
              "color": "#C8D4E3"
             },
             "line": {
              "color": "white"
             }
            },
            "type": "table"
           }
          ]
         },
         "layout": {
          "annotationdefaults": {
           "arrowcolor": "#2a3f5f",
           "arrowhead": 0,
           "arrowwidth": 1
          },
          "autotypenumbers": "strict",
          "coloraxis": {
           "colorbar": {
            "outlinewidth": 0,
            "ticks": ""
           }
          },
          "colorscale": {
           "diverging": [
            [
             0,
             "#8e0152"
            ],
            [
             0.1,
             "#c51b7d"
            ],
            [
             0.2,
             "#de77ae"
            ],
            [
             0.3,
             "#f1b6da"
            ],
            [
             0.4,
             "#fde0ef"
            ],
            [
             0.5,
             "#f7f7f7"
            ],
            [
             0.6,
             "#e6f5d0"
            ],
            [
             0.7,
             "#b8e186"
            ],
            [
             0.8,
             "#7fbc41"
            ],
            [
             0.9,
             "#4d9221"
            ],
            [
             1,
             "#276419"
            ]
           ],
           "sequential": [
            [
             0,
             "#0d0887"
            ],
            [
             0.1111111111111111,
             "#46039f"
            ],
            [
             0.2222222222222222,
             "#7201a8"
            ],
            [
             0.3333333333333333,
             "#9c179e"
            ],
            [
             0.4444444444444444,
             "#bd3786"
            ],
            [
             0.5555555555555556,
             "#d8576b"
            ],
            [
             0.6666666666666666,
             "#ed7953"
            ],
            [
             0.7777777777777778,
             "#fb9f3a"
            ],
            [
             0.8888888888888888,
             "#fdca26"
            ],
            [
             1,
             "#f0f921"
            ]
           ],
           "sequentialminus": [
            [
             0,
             "#0d0887"
            ],
            [
             0.1111111111111111,
             "#46039f"
            ],
            [
             0.2222222222222222,
             "#7201a8"
            ],
            [
             0.3333333333333333,
             "#9c179e"
            ],
            [
             0.4444444444444444,
             "#bd3786"
            ],
            [
             0.5555555555555556,
             "#d8576b"
            ],
            [
             0.6666666666666666,
             "#ed7953"
            ],
            [
             0.7777777777777778,
             "#fb9f3a"
            ],
            [
             0.8888888888888888,
             "#fdca26"
            ],
            [
             1,
             "#f0f921"
            ]
           ]
          },
          "colorway": [
           "#636efa",
           "#EF553B",
           "#00cc96",
           "#ab63fa",
           "#FFA15A",
           "#19d3f3",
           "#FF6692",
           "#B6E880",
           "#FF97FF",
           "#FECB52"
          ],
          "font": {
           "color": "#2a3f5f"
          },
          "geo": {
           "bgcolor": "white",
           "lakecolor": "white",
           "landcolor": "#E5ECF6",
           "showlakes": true,
           "showland": true,
           "subunitcolor": "white"
          },
          "hoverlabel": {
           "align": "left"
          },
          "hovermode": "closest",
          "mapbox": {
           "style": "light"
          },
          "paper_bgcolor": "white",
          "plot_bgcolor": "#E5ECF6",
          "polar": {
           "angularaxis": {
            "gridcolor": "white",
            "linecolor": "white",
            "ticks": ""
           },
           "bgcolor": "#E5ECF6",
           "radialaxis": {
            "gridcolor": "white",
            "linecolor": "white",
            "ticks": ""
           }
          },
          "scene": {
           "xaxis": {
            "backgroundcolor": "#E5ECF6",
            "gridcolor": "white",
            "gridwidth": 2,
            "linecolor": "white",
            "showbackground": true,
            "ticks": "",
            "zerolinecolor": "white"
           },
           "yaxis": {
            "backgroundcolor": "#E5ECF6",
            "gridcolor": "white",
            "gridwidth": 2,
            "linecolor": "white",
            "showbackground": true,
            "ticks": "",
            "zerolinecolor": "white"
           },
           "zaxis": {
            "backgroundcolor": "#E5ECF6",
            "gridcolor": "white",
            "gridwidth": 2,
            "linecolor": "white",
            "showbackground": true,
            "ticks": "",
            "zerolinecolor": "white"
           }
          },
          "shapedefaults": {
           "line": {
            "color": "#2a3f5f"
           }
          },
          "ternary": {
           "aaxis": {
            "gridcolor": "white",
            "linecolor": "white",
            "ticks": ""
           },
           "baxis": {
            "gridcolor": "white",
            "linecolor": "white",
            "ticks": ""
           },
           "bgcolor": "#E5ECF6",
           "caxis": {
            "gridcolor": "white",
            "linecolor": "white",
            "ticks": ""
           }
          },
          "title": {
           "x": 0.05
          },
          "xaxis": {
           "automargin": true,
           "gridcolor": "white",
           "linecolor": "white",
           "ticks": "",
           "title": {
            "standoff": 15
           },
           "zerolinecolor": "white",
           "zerolinewidth": 2
          },
          "yaxis": {
           "automargin": true,
           "gridcolor": "white",
           "linecolor": "white",
           "ticks": "",
           "title": {
            "standoff": 15
           },
           "zerolinecolor": "white",
           "zerolinewidth": 2
          }
         }
        },
        "title": {
         "font": {
          "size": 24
         },
         "text": "Distancia en (km) - Partido",
         "x": 0.5,
         "xanchor": "center"
        },
        "xaxis": {
         "tickangle": -30,
         "tickfont": {
          "size": 14
         },
         "title": {
          "font": {
           "size": 16
          },
          "text": "Sesión"
         }
        },
        "yaxis": {
         "gridcolor": "rgb(220, 220, 220)",
         "title": {
          "text": "Distancia (km)"
         }
        }
       }
      }
     },
     "metadata": {},
     "output_type": "display_data"
    },
    {
     "name": "stdout",
     "output_type": "stream",
     "text": [
      "\n",
      "=== Análisis de sesiones: Martes ===\n",
      "\n",
      "Últimas 10 sesiones de Martes:\n",
      "\n",
      "Estadísticas principales:\n",
      "Total de sesiones encontradas: 5\n",
      "Promedio de distancia por sesión: 3.72 km\n",
      "Promedio de jugadores por sesión: 3.4\n",
      "\n",
      "Detalle de las últimas sesiones:\n"
     ]
    },
    {
     "data": {
      "text/html": [
       "<div>\n",
       "<style scoped>\n",
       "    .dataframe tbody tr th:only-of-type {\n",
       "        vertical-align: middle;\n",
       "    }\n",
       "\n",
       "    .dataframe tbody tr th {\n",
       "        vertical-align: top;\n",
       "    }\n",
       "\n",
       "    .dataframe thead th {\n",
       "        text-align: right;\n",
       "    }\n",
       "</style>\n",
       "<table border=\"1\" class=\"dataframe\">\n",
       "  <thead>\n",
       "    <tr style=\"text-align: right;\">\n",
       "      <th></th>\n",
       "      <th>Fecha</th>\n",
       "      <th>Sesión</th>\n",
       "      <th>Distancia Media (km)</th>\n",
       "      <th>N° Jugadores</th>\n",
       "      <th>Distancia Total (km)</th>\n",
       "    </tr>\n",
       "  </thead>\n",
       "  <tbody>\n",
       "    <tr>\n",
       "      <th>0</th>\n",
       "      <td>2022-01-02</td>\n",
       "      <td>Pretemporada Martes</td>\n",
       "      <td>5.48</td>\n",
       "      <td>1</td>\n",
       "      <td>5.48</td>\n",
       "    </tr>\n",
       "    <tr>\n",
       "      <th>1</th>\n",
       "      <td>2022-07-02</td>\n",
       "      <td>Pretemporada Martes</td>\n",
       "      <td>5.38</td>\n",
       "      <td>1</td>\n",
       "      <td>5.38</td>\n",
       "    </tr>\n",
       "    <tr>\n",
       "      <th>2</th>\n",
       "      <td>2022-07-06</td>\n",
       "      <td>Entrenamiento Martes</td>\n",
       "      <td>2.00</td>\n",
       "      <td>3</td>\n",
       "      <td>6.00</td>\n",
       "    </tr>\n",
       "    <tr>\n",
       "      <th>3</th>\n",
       "      <td>2023-04-04</td>\n",
       "      <td>Entrenamiento Martes</td>\n",
       "      <td>3.25</td>\n",
       "      <td>4</td>\n",
       "      <td>13.00</td>\n",
       "    </tr>\n",
       "    <tr>\n",
       "      <th>4</th>\n",
       "      <td>2024-06-08</td>\n",
       "      <td>martes 6/8</td>\n",
       "      <td>2.50</td>\n",
       "      <td>8</td>\n",
       "      <td>20.00</td>\n",
       "    </tr>\n",
       "  </tbody>\n",
       "</table>\n",
       "</div>"
      ],
      "text/plain": [
       "        Fecha                Sesión  Distancia Media (km)  N° Jugadores  \\\n",
       "0  2022-01-02   Pretemporada Martes                  5.48             1   \n",
       "1  2022-07-02   Pretemporada Martes                  5.38             1   \n",
       "2  2022-07-06  Entrenamiento Martes                  2.00             3   \n",
       "3  2023-04-04  Entrenamiento Martes                  3.25             4   \n",
       "4  2024-06-08            martes 6/8                  2.50             8   \n",
       "\n",
       "   Distancia Total (km)  \n",
       "0                  5.48  \n",
       "1                  5.38  \n",
       "2                  6.00  \n",
       "3                 13.00  \n",
       "4                 20.00  "
      ]
     },
     "metadata": {},
     "output_type": "display_data"
    },
    {
     "data": {
      "application/vnd.plotly.v1+json": {
       "config": {
        "plotlyServerURL": "https://plot.ly"
       },
       "data": [
        {
         "customdata": {
          "bdata": "AAAAAAAA8D/sUbgehesVQAAAAAAAAPA/hetRuB6FFUAAAAAAAAAIQAAAAAAAABhAAAAAAAAAEEAAAAAAAAAqQAAAAAAAACBAAAAAAAAANEA=",
          "dtype": "f8",
          "shape": "5, 2"
         },
         "hovertemplate": "<b>%{x}</b><br>Distancia Media: %{y:.2f} km<br>N° Jugadores: %{customdata[0]}<br>Total: %{customdata[1]:.2f} km<extra></extra>",
         "marker": {
          "color": "rgb(70, 70, 70)"
         },
         "name": "Distancia Media",
         "text": {
          "bdata": "7FG4HoXrFUCF61G4HoUVQAAAAAAAAABAAAAAAAAACkAAAAAAAAAEQA==",
          "dtype": "f8"
         },
         "textposition": "outside",
         "type": "bar",
         "x": [
          "Pretemporada Martes",
          "Pretemporada Martes",
          "Entrenamiento Martes",
          "Entrenamiento Martes",
          "martes 6/8"
         ],
         "y": {
          "bdata": "7FG4HoXrFUCF61G4HoUVQAAAAAAAAABAAAAAAAAACkAAAAAAAAAEQA==",
          "dtype": "f8"
         }
        },
        {
         "hovertemplate": "<b>%{x}</b><br>Tendencia: %{y:.2f} km<extra></extra>",
         "line": {
          "color": "rgb(30, 30, 30)",
          "shape": "spline",
          "width": 3
         },
         "mode": "lines",
         "name": "Tendencia",
         "type": "scatter",
         "x": [
          "Pretemporada Martes",
          "Pretemporada Martes",
          "Entrenamiento Martes",
          "Entrenamiento Martes",
          "martes 6/8"
         ],
         "y": {
          "bdata": "7FG4HoXrFUCF61G4HoUVQAAAAAAAAABAAAAAAAAACkAAAAAAAAAEQA==",
          "dtype": "f8"
         }
        }
       ],
       "layout": {
        "bargap": 0.15,
        "bargroupgap": 0.1,
        "barmode": "group",
        "font": {
         "color": "rgb(20, 20, 20)"
        },
        "height": 500,
        "legend": {
         "orientation": "h",
         "x": 1,
         "xanchor": "right",
         "y": 1.02,
         "yanchor": "bottom"
        },
        "paper_bgcolor": "rgb(250, 250, 250)",
        "plot_bgcolor": "rgb(250, 250, 250)",
        "template": {
         "data": {
          "bar": [
           {
            "error_x": {
             "color": "#2a3f5f"
            },
            "error_y": {
             "color": "#2a3f5f"
            },
            "marker": {
             "line": {
              "color": "#E5ECF6",
              "width": 0.5
             },
             "pattern": {
              "fillmode": "overlay",
              "size": 10,
              "solidity": 0.2
             }
            },
            "type": "bar"
           }
          ],
          "barpolar": [
           {
            "marker": {
             "line": {
              "color": "#E5ECF6",
              "width": 0.5
             },
             "pattern": {
              "fillmode": "overlay",
              "size": 10,
              "solidity": 0.2
             }
            },
            "type": "barpolar"
           }
          ],
          "carpet": [
           {
            "aaxis": {
             "endlinecolor": "#2a3f5f",
             "gridcolor": "white",
             "linecolor": "white",
             "minorgridcolor": "white",
             "startlinecolor": "#2a3f5f"
            },
            "baxis": {
             "endlinecolor": "#2a3f5f",
             "gridcolor": "white",
             "linecolor": "white",
             "minorgridcolor": "white",
             "startlinecolor": "#2a3f5f"
            },
            "type": "carpet"
           }
          ],
          "choropleth": [
           {
            "colorbar": {
             "outlinewidth": 0,
             "ticks": ""
            },
            "type": "choropleth"
           }
          ],
          "contour": [
           {
            "colorbar": {
             "outlinewidth": 0,
             "ticks": ""
            },
            "colorscale": [
             [
              0,
              "#0d0887"
             ],
             [
              0.1111111111111111,
              "#46039f"
             ],
             [
              0.2222222222222222,
              "#7201a8"
             ],
             [
              0.3333333333333333,
              "#9c179e"
             ],
             [
              0.4444444444444444,
              "#bd3786"
             ],
             [
              0.5555555555555556,
              "#d8576b"
             ],
             [
              0.6666666666666666,
              "#ed7953"
             ],
             [
              0.7777777777777778,
              "#fb9f3a"
             ],
             [
              0.8888888888888888,
              "#fdca26"
             ],
             [
              1,
              "#f0f921"
             ]
            ],
            "type": "contour"
           }
          ],
          "contourcarpet": [
           {
            "colorbar": {
             "outlinewidth": 0,
             "ticks": ""
            },
            "type": "contourcarpet"
           }
          ],
          "heatmap": [
           {
            "colorbar": {
             "outlinewidth": 0,
             "ticks": ""
            },
            "colorscale": [
             [
              0,
              "#0d0887"
             ],
             [
              0.1111111111111111,
              "#46039f"
             ],
             [
              0.2222222222222222,
              "#7201a8"
             ],
             [
              0.3333333333333333,
              "#9c179e"
             ],
             [
              0.4444444444444444,
              "#bd3786"
             ],
             [
              0.5555555555555556,
              "#d8576b"
             ],
             [
              0.6666666666666666,
              "#ed7953"
             ],
             [
              0.7777777777777778,
              "#fb9f3a"
             ],
             [
              0.8888888888888888,
              "#fdca26"
             ],
             [
              1,
              "#f0f921"
             ]
            ],
            "type": "heatmap"
           }
          ],
          "histogram": [
           {
            "marker": {
             "pattern": {
              "fillmode": "overlay",
              "size": 10,
              "solidity": 0.2
             }
            },
            "type": "histogram"
           }
          ],
          "histogram2d": [
           {
            "colorbar": {
             "outlinewidth": 0,
             "ticks": ""
            },
            "colorscale": [
             [
              0,
              "#0d0887"
             ],
             [
              0.1111111111111111,
              "#46039f"
             ],
             [
              0.2222222222222222,
              "#7201a8"
             ],
             [
              0.3333333333333333,
              "#9c179e"
             ],
             [
              0.4444444444444444,
              "#bd3786"
             ],
             [
              0.5555555555555556,
              "#d8576b"
             ],
             [
              0.6666666666666666,
              "#ed7953"
             ],
             [
              0.7777777777777778,
              "#fb9f3a"
             ],
             [
              0.8888888888888888,
              "#fdca26"
             ],
             [
              1,
              "#f0f921"
             ]
            ],
            "type": "histogram2d"
           }
          ],
          "histogram2dcontour": [
           {
            "colorbar": {
             "outlinewidth": 0,
             "ticks": ""
            },
            "colorscale": [
             [
              0,
              "#0d0887"
             ],
             [
              0.1111111111111111,
              "#46039f"
             ],
             [
              0.2222222222222222,
              "#7201a8"
             ],
             [
              0.3333333333333333,
              "#9c179e"
             ],
             [
              0.4444444444444444,
              "#bd3786"
             ],
             [
              0.5555555555555556,
              "#d8576b"
             ],
             [
              0.6666666666666666,
              "#ed7953"
             ],
             [
              0.7777777777777778,
              "#fb9f3a"
             ],
             [
              0.8888888888888888,
              "#fdca26"
             ],
             [
              1,
              "#f0f921"
             ]
            ],
            "type": "histogram2dcontour"
           }
          ],
          "mesh3d": [
           {
            "colorbar": {
             "outlinewidth": 0,
             "ticks": ""
            },
            "type": "mesh3d"
           }
          ],
          "parcoords": [
           {
            "line": {
             "colorbar": {
              "outlinewidth": 0,
              "ticks": ""
             }
            },
            "type": "parcoords"
           }
          ],
          "pie": [
           {
            "automargin": true,
            "type": "pie"
           }
          ],
          "scatter": [
           {
            "fillpattern": {
             "fillmode": "overlay",
             "size": 10,
             "solidity": 0.2
            },
            "type": "scatter"
           }
          ],
          "scatter3d": [
           {
            "line": {
             "colorbar": {
              "outlinewidth": 0,
              "ticks": ""
             }
            },
            "marker": {
             "colorbar": {
              "outlinewidth": 0,
              "ticks": ""
             }
            },
            "type": "scatter3d"
           }
          ],
          "scattercarpet": [
           {
            "marker": {
             "colorbar": {
              "outlinewidth": 0,
              "ticks": ""
             }
            },
            "type": "scattercarpet"
           }
          ],
          "scattergeo": [
           {
            "marker": {
             "colorbar": {
              "outlinewidth": 0,
              "ticks": ""
             }
            },
            "type": "scattergeo"
           }
          ],
          "scattergl": [
           {
            "marker": {
             "colorbar": {
              "outlinewidth": 0,
              "ticks": ""
             }
            },
            "type": "scattergl"
           }
          ],
          "scattermap": [
           {
            "marker": {
             "colorbar": {
              "outlinewidth": 0,
              "ticks": ""
             }
            },
            "type": "scattermap"
           }
          ],
          "scattermapbox": [
           {
            "marker": {
             "colorbar": {
              "outlinewidth": 0,
              "ticks": ""
             }
            },
            "type": "scattermapbox"
           }
          ],
          "scatterpolar": [
           {
            "marker": {
             "colorbar": {
              "outlinewidth": 0,
              "ticks": ""
             }
            },
            "type": "scatterpolar"
           }
          ],
          "scatterpolargl": [
           {
            "marker": {
             "colorbar": {
              "outlinewidth": 0,
              "ticks": ""
             }
            },
            "type": "scatterpolargl"
           }
          ],
          "scatterternary": [
           {
            "marker": {
             "colorbar": {
              "outlinewidth": 0,
              "ticks": ""
             }
            },
            "type": "scatterternary"
           }
          ],
          "surface": [
           {
            "colorbar": {
             "outlinewidth": 0,
             "ticks": ""
            },
            "colorscale": [
             [
              0,
              "#0d0887"
             ],
             [
              0.1111111111111111,
              "#46039f"
             ],
             [
              0.2222222222222222,
              "#7201a8"
             ],
             [
              0.3333333333333333,
              "#9c179e"
             ],
             [
              0.4444444444444444,
              "#bd3786"
             ],
             [
              0.5555555555555556,
              "#d8576b"
             ],
             [
              0.6666666666666666,
              "#ed7953"
             ],
             [
              0.7777777777777778,
              "#fb9f3a"
             ],
             [
              0.8888888888888888,
              "#fdca26"
             ],
             [
              1,
              "#f0f921"
             ]
            ],
            "type": "surface"
           }
          ],
          "table": [
           {
            "cells": {
             "fill": {
              "color": "#EBF0F8"
             },
             "line": {
              "color": "white"
             }
            },
            "header": {
             "fill": {
              "color": "#C8D4E3"
             },
             "line": {
              "color": "white"
             }
            },
            "type": "table"
           }
          ]
         },
         "layout": {
          "annotationdefaults": {
           "arrowcolor": "#2a3f5f",
           "arrowhead": 0,
           "arrowwidth": 1
          },
          "autotypenumbers": "strict",
          "coloraxis": {
           "colorbar": {
            "outlinewidth": 0,
            "ticks": ""
           }
          },
          "colorscale": {
           "diverging": [
            [
             0,
             "#8e0152"
            ],
            [
             0.1,
             "#c51b7d"
            ],
            [
             0.2,
             "#de77ae"
            ],
            [
             0.3,
             "#f1b6da"
            ],
            [
             0.4,
             "#fde0ef"
            ],
            [
             0.5,
             "#f7f7f7"
            ],
            [
             0.6,
             "#e6f5d0"
            ],
            [
             0.7,
             "#b8e186"
            ],
            [
             0.8,
             "#7fbc41"
            ],
            [
             0.9,
             "#4d9221"
            ],
            [
             1,
             "#276419"
            ]
           ],
           "sequential": [
            [
             0,
             "#0d0887"
            ],
            [
             0.1111111111111111,
             "#46039f"
            ],
            [
             0.2222222222222222,
             "#7201a8"
            ],
            [
             0.3333333333333333,
             "#9c179e"
            ],
            [
             0.4444444444444444,
             "#bd3786"
            ],
            [
             0.5555555555555556,
             "#d8576b"
            ],
            [
             0.6666666666666666,
             "#ed7953"
            ],
            [
             0.7777777777777778,
             "#fb9f3a"
            ],
            [
             0.8888888888888888,
             "#fdca26"
            ],
            [
             1,
             "#f0f921"
            ]
           ],
           "sequentialminus": [
            [
             0,
             "#0d0887"
            ],
            [
             0.1111111111111111,
             "#46039f"
            ],
            [
             0.2222222222222222,
             "#7201a8"
            ],
            [
             0.3333333333333333,
             "#9c179e"
            ],
            [
             0.4444444444444444,
             "#bd3786"
            ],
            [
             0.5555555555555556,
             "#d8576b"
            ],
            [
             0.6666666666666666,
             "#ed7953"
            ],
            [
             0.7777777777777778,
             "#fb9f3a"
            ],
            [
             0.8888888888888888,
             "#fdca26"
            ],
            [
             1,
             "#f0f921"
            ]
           ]
          },
          "colorway": [
           "#636efa",
           "#EF553B",
           "#00cc96",
           "#ab63fa",
           "#FFA15A",
           "#19d3f3",
           "#FF6692",
           "#B6E880",
           "#FF97FF",
           "#FECB52"
          ],
          "font": {
           "color": "#2a3f5f"
          },
          "geo": {
           "bgcolor": "white",
           "lakecolor": "white",
           "landcolor": "#E5ECF6",
           "showlakes": true,
           "showland": true,
           "subunitcolor": "white"
          },
          "hoverlabel": {
           "align": "left"
          },
          "hovermode": "closest",
          "mapbox": {
           "style": "light"
          },
          "paper_bgcolor": "white",
          "plot_bgcolor": "#E5ECF6",
          "polar": {
           "angularaxis": {
            "gridcolor": "white",
            "linecolor": "white",
            "ticks": ""
           },
           "bgcolor": "#E5ECF6",
           "radialaxis": {
            "gridcolor": "white",
            "linecolor": "white",
            "ticks": ""
           }
          },
          "scene": {
           "xaxis": {
            "backgroundcolor": "#E5ECF6",
            "gridcolor": "white",
            "gridwidth": 2,
            "linecolor": "white",
            "showbackground": true,
            "ticks": "",
            "zerolinecolor": "white"
           },
           "yaxis": {
            "backgroundcolor": "#E5ECF6",
            "gridcolor": "white",
            "gridwidth": 2,
            "linecolor": "white",
            "showbackground": true,
            "ticks": "",
            "zerolinecolor": "white"
           },
           "zaxis": {
            "backgroundcolor": "#E5ECF6",
            "gridcolor": "white",
            "gridwidth": 2,
            "linecolor": "white",
            "showbackground": true,
            "ticks": "",
            "zerolinecolor": "white"
           }
          },
          "shapedefaults": {
           "line": {
            "color": "#2a3f5f"
           }
          },
          "ternary": {
           "aaxis": {
            "gridcolor": "white",
            "linecolor": "white",
            "ticks": ""
           },
           "baxis": {
            "gridcolor": "white",
            "linecolor": "white",
            "ticks": ""
           },
           "bgcolor": "#E5ECF6",
           "caxis": {
            "gridcolor": "white",
            "linecolor": "white",
            "ticks": ""
           }
          },
          "title": {
           "x": 0.05
          },
          "xaxis": {
           "automargin": true,
           "gridcolor": "white",
           "linecolor": "white",
           "ticks": "",
           "title": {
            "standoff": 15
           },
           "zerolinecolor": "white",
           "zerolinewidth": 2
          },
          "yaxis": {
           "automargin": true,
           "gridcolor": "white",
           "linecolor": "white",
           "ticks": "",
           "title": {
            "standoff": 15
           },
           "zerolinecolor": "white",
           "zerolinewidth": 2
          }
         }
        },
        "title": {
         "font": {
          "size": 24
         },
         "text": "Distancia en (km) - Martes",
         "x": 0.5,
         "xanchor": "center"
        },
        "xaxis": {
         "tickangle": -30,
         "tickfont": {
          "size": 14
         },
         "title": {
          "font": {
           "size": 16
          },
          "text": "Sesión"
         }
        },
        "yaxis": {
         "gridcolor": "rgb(220, 220, 220)",
         "title": {
          "text": "Distancia (km)"
         }
        }
       }
      }
     },
     "metadata": {},
     "output_type": "display_data"
    },
    {
     "name": "stdout",
     "output_type": "stream",
     "text": [
      "\n",
      "=== Análisis de sesiones: Jueves ===\n",
      "\n",
      "Últimas 10 sesiones de Jueves:\n",
      "\n",
      "Estadísticas principales:\n",
      "Total de sesiones encontradas: 3\n",
      "Promedio de distancia por sesión: 4.19 km\n",
      "Promedio de jugadores por sesión: 1.7\n",
      "\n",
      "Detalle de las últimas sesiones:\n"
     ]
    },
    {
     "data": {
      "text/html": [
       "<div>\n",
       "<style scoped>\n",
       "    .dataframe tbody tr th:only-of-type {\n",
       "        vertical-align: middle;\n",
       "    }\n",
       "\n",
       "    .dataframe tbody tr th {\n",
       "        vertical-align: top;\n",
       "    }\n",
       "\n",
       "    .dataframe thead th {\n",
       "        text-align: right;\n",
       "    }\n",
       "</style>\n",
       "<table border=\"1\" class=\"dataframe\">\n",
       "  <thead>\n",
       "    <tr style=\"text-align: right;\">\n",
       "      <th></th>\n",
       "      <th>Fecha</th>\n",
       "      <th>Sesión</th>\n",
       "      <th>Distancia Media (km)</th>\n",
       "      <th>N° Jugadores</th>\n",
       "      <th>Distancia Total (km)</th>\n",
       "    </tr>\n",
       "  </thead>\n",
       "  <tbody>\n",
       "    <tr>\n",
       "      <th>0</th>\n",
       "      <td>2022-10-02</td>\n",
       "      <td>Pretemporada Jueves</td>\n",
       "      <td>5.900000</td>\n",
       "      <td>1</td>\n",
       "      <td>5.9</td>\n",
       "    </tr>\n",
       "    <tr>\n",
       "      <th>1</th>\n",
       "      <td>2023-02-03</td>\n",
       "      <td>Entrenamiento Jueves</td>\n",
       "      <td>4.000000</td>\n",
       "      <td>1</td>\n",
       "      <td>4.0</td>\n",
       "    </tr>\n",
       "    <tr>\n",
       "      <th>2</th>\n",
       "      <td>2023-06-07</td>\n",
       "      <td>Entrenamiento Jueves 6/7</td>\n",
       "      <td>2.666667</td>\n",
       "      <td>3</td>\n",
       "      <td>8.0</td>\n",
       "    </tr>\n",
       "  </tbody>\n",
       "</table>\n",
       "</div>"
      ],
      "text/plain": [
       "        Fecha                    Sesión  Distancia Media (km)  N° Jugadores  \\\n",
       "0  2022-10-02       Pretemporada Jueves              5.900000             1   \n",
       "1  2023-02-03      Entrenamiento Jueves              4.000000             1   \n",
       "2  2023-06-07  Entrenamiento Jueves 6/7              2.666667             3   \n",
       "\n",
       "   Distancia Total (km)  \n",
       "0                   5.9  \n",
       "1                   4.0  \n",
       "2                   8.0  "
      ]
     },
     "metadata": {},
     "output_type": "display_data"
    },
    {
     "data": {
      "application/vnd.plotly.v1+json": {
       "config": {
        "plotlyServerURL": "https://plot.ly"
       },
       "data": [
        {
         "customdata": {
          "bdata": "AAAAAAAA8D+amZmZmZkXQAAAAAAAAPA/AAAAAAAAEEAAAAAAAAAIQAAAAAAAACBA",
          "dtype": "f8",
          "shape": "3, 2"
         },
         "hovertemplate": "<b>%{x}</b><br>Distancia Media: %{y:.2f} km<br>N° Jugadores: %{customdata[0]}<br>Total: %{customdata[1]:.2f} km<extra></extra>",
         "marker": {
          "color": "rgb(70, 70, 70)"
         },
         "name": "Distancia Media",
         "text": {
          "bdata": "mpmZmZmZF0AAAAAAAAAQQFyPwvUoXAVA",
          "dtype": "f8"
         },
         "textposition": "outside",
         "type": "bar",
         "x": [
          "Pretemporada Jueves",
          "Entrenamiento Jueves",
          "Entrenamiento Jueves 6/7"
         ],
         "y": {
          "bdata": "mpmZmZmZF0AAAAAAAAAQQFVVVVVVVQVA",
          "dtype": "f8"
         }
        },
        {
         "hovertemplate": "<b>%{x}</b><br>Tendencia: %{y:.2f} km<extra></extra>",
         "line": {
          "color": "rgb(30, 30, 30)",
          "shape": "spline",
          "width": 3
         },
         "mode": "lines",
         "name": "Tendencia",
         "type": "scatter",
         "x": [
          "Pretemporada Jueves",
          "Entrenamiento Jueves",
          "Entrenamiento Jueves 6/7"
         ],
         "y": {
          "bdata": "mpmZmZmZF0AAAAAAAAAQQFVVVVVVVQVA",
          "dtype": "f8"
         }
        }
       ],
       "layout": {
        "bargap": 0.15,
        "bargroupgap": 0.1,
        "barmode": "group",
        "font": {
         "color": "rgb(20, 20, 20)"
        },
        "height": 500,
        "legend": {
         "orientation": "h",
         "x": 1,
         "xanchor": "right",
         "y": 1.02,
         "yanchor": "bottom"
        },
        "paper_bgcolor": "rgb(250, 250, 250)",
        "plot_bgcolor": "rgb(250, 250, 250)",
        "template": {
         "data": {
          "bar": [
           {
            "error_x": {
             "color": "#2a3f5f"
            },
            "error_y": {
             "color": "#2a3f5f"
            },
            "marker": {
             "line": {
              "color": "#E5ECF6",
              "width": 0.5
             },
             "pattern": {
              "fillmode": "overlay",
              "size": 10,
              "solidity": 0.2
             }
            },
            "type": "bar"
           }
          ],
          "barpolar": [
           {
            "marker": {
             "line": {
              "color": "#E5ECF6",
              "width": 0.5
             },
             "pattern": {
              "fillmode": "overlay",
              "size": 10,
              "solidity": 0.2
             }
            },
            "type": "barpolar"
           }
          ],
          "carpet": [
           {
            "aaxis": {
             "endlinecolor": "#2a3f5f",
             "gridcolor": "white",
             "linecolor": "white",
             "minorgridcolor": "white",
             "startlinecolor": "#2a3f5f"
            },
            "baxis": {
             "endlinecolor": "#2a3f5f",
             "gridcolor": "white",
             "linecolor": "white",
             "minorgridcolor": "white",
             "startlinecolor": "#2a3f5f"
            },
            "type": "carpet"
           }
          ],
          "choropleth": [
           {
            "colorbar": {
             "outlinewidth": 0,
             "ticks": ""
            },
            "type": "choropleth"
           }
          ],
          "contour": [
           {
            "colorbar": {
             "outlinewidth": 0,
             "ticks": ""
            },
            "colorscale": [
             [
              0,
              "#0d0887"
             ],
             [
              0.1111111111111111,
              "#46039f"
             ],
             [
              0.2222222222222222,
              "#7201a8"
             ],
             [
              0.3333333333333333,
              "#9c179e"
             ],
             [
              0.4444444444444444,
              "#bd3786"
             ],
             [
              0.5555555555555556,
              "#d8576b"
             ],
             [
              0.6666666666666666,
              "#ed7953"
             ],
             [
              0.7777777777777778,
              "#fb9f3a"
             ],
             [
              0.8888888888888888,
              "#fdca26"
             ],
             [
              1,
              "#f0f921"
             ]
            ],
            "type": "contour"
           }
          ],
          "contourcarpet": [
           {
            "colorbar": {
             "outlinewidth": 0,
             "ticks": ""
            },
            "type": "contourcarpet"
           }
          ],
          "heatmap": [
           {
            "colorbar": {
             "outlinewidth": 0,
             "ticks": ""
            },
            "colorscale": [
             [
              0,
              "#0d0887"
             ],
             [
              0.1111111111111111,
              "#46039f"
             ],
             [
              0.2222222222222222,
              "#7201a8"
             ],
             [
              0.3333333333333333,
              "#9c179e"
             ],
             [
              0.4444444444444444,
              "#bd3786"
             ],
             [
              0.5555555555555556,
              "#d8576b"
             ],
             [
              0.6666666666666666,
              "#ed7953"
             ],
             [
              0.7777777777777778,
              "#fb9f3a"
             ],
             [
              0.8888888888888888,
              "#fdca26"
             ],
             [
              1,
              "#f0f921"
             ]
            ],
            "type": "heatmap"
           }
          ],
          "histogram": [
           {
            "marker": {
             "pattern": {
              "fillmode": "overlay",
              "size": 10,
              "solidity": 0.2
             }
            },
            "type": "histogram"
           }
          ],
          "histogram2d": [
           {
            "colorbar": {
             "outlinewidth": 0,
             "ticks": ""
            },
            "colorscale": [
             [
              0,
              "#0d0887"
             ],
             [
              0.1111111111111111,
              "#46039f"
             ],
             [
              0.2222222222222222,
              "#7201a8"
             ],
             [
              0.3333333333333333,
              "#9c179e"
             ],
             [
              0.4444444444444444,
              "#bd3786"
             ],
             [
              0.5555555555555556,
              "#d8576b"
             ],
             [
              0.6666666666666666,
              "#ed7953"
             ],
             [
              0.7777777777777778,
              "#fb9f3a"
             ],
             [
              0.8888888888888888,
              "#fdca26"
             ],
             [
              1,
              "#f0f921"
             ]
            ],
            "type": "histogram2d"
           }
          ],
          "histogram2dcontour": [
           {
            "colorbar": {
             "outlinewidth": 0,
             "ticks": ""
            },
            "colorscale": [
             [
              0,
              "#0d0887"
             ],
             [
              0.1111111111111111,
              "#46039f"
             ],
             [
              0.2222222222222222,
              "#7201a8"
             ],
             [
              0.3333333333333333,
              "#9c179e"
             ],
             [
              0.4444444444444444,
              "#bd3786"
             ],
             [
              0.5555555555555556,
              "#d8576b"
             ],
             [
              0.6666666666666666,
              "#ed7953"
             ],
             [
              0.7777777777777778,
              "#fb9f3a"
             ],
             [
              0.8888888888888888,
              "#fdca26"
             ],
             [
              1,
              "#f0f921"
             ]
            ],
            "type": "histogram2dcontour"
           }
          ],
          "mesh3d": [
           {
            "colorbar": {
             "outlinewidth": 0,
             "ticks": ""
            },
            "type": "mesh3d"
           }
          ],
          "parcoords": [
           {
            "line": {
             "colorbar": {
              "outlinewidth": 0,
              "ticks": ""
             }
            },
            "type": "parcoords"
           }
          ],
          "pie": [
           {
            "automargin": true,
            "type": "pie"
           }
          ],
          "scatter": [
           {
            "fillpattern": {
             "fillmode": "overlay",
             "size": 10,
             "solidity": 0.2
            },
            "type": "scatter"
           }
          ],
          "scatter3d": [
           {
            "line": {
             "colorbar": {
              "outlinewidth": 0,
              "ticks": ""
             }
            },
            "marker": {
             "colorbar": {
              "outlinewidth": 0,
              "ticks": ""
             }
            },
            "type": "scatter3d"
           }
          ],
          "scattercarpet": [
           {
            "marker": {
             "colorbar": {
              "outlinewidth": 0,
              "ticks": ""
             }
            },
            "type": "scattercarpet"
           }
          ],
          "scattergeo": [
           {
            "marker": {
             "colorbar": {
              "outlinewidth": 0,
              "ticks": ""
             }
            },
            "type": "scattergeo"
           }
          ],
          "scattergl": [
           {
            "marker": {
             "colorbar": {
              "outlinewidth": 0,
              "ticks": ""
             }
            },
            "type": "scattergl"
           }
          ],
          "scattermap": [
           {
            "marker": {
             "colorbar": {
              "outlinewidth": 0,
              "ticks": ""
             }
            },
            "type": "scattermap"
           }
          ],
          "scattermapbox": [
           {
            "marker": {
             "colorbar": {
              "outlinewidth": 0,
              "ticks": ""
             }
            },
            "type": "scattermapbox"
           }
          ],
          "scatterpolar": [
           {
            "marker": {
             "colorbar": {
              "outlinewidth": 0,
              "ticks": ""
             }
            },
            "type": "scatterpolar"
           }
          ],
          "scatterpolargl": [
           {
            "marker": {
             "colorbar": {
              "outlinewidth": 0,
              "ticks": ""
             }
            },
            "type": "scatterpolargl"
           }
          ],
          "scatterternary": [
           {
            "marker": {
             "colorbar": {
              "outlinewidth": 0,
              "ticks": ""
             }
            },
            "type": "scatterternary"
           }
          ],
          "surface": [
           {
            "colorbar": {
             "outlinewidth": 0,
             "ticks": ""
            },
            "colorscale": [
             [
              0,
              "#0d0887"
             ],
             [
              0.1111111111111111,
              "#46039f"
             ],
             [
              0.2222222222222222,
              "#7201a8"
             ],
             [
              0.3333333333333333,
              "#9c179e"
             ],
             [
              0.4444444444444444,
              "#bd3786"
             ],
             [
              0.5555555555555556,
              "#d8576b"
             ],
             [
              0.6666666666666666,
              "#ed7953"
             ],
             [
              0.7777777777777778,
              "#fb9f3a"
             ],
             [
              0.8888888888888888,
              "#fdca26"
             ],
             [
              1,
              "#f0f921"
             ]
            ],
            "type": "surface"
           }
          ],
          "table": [
           {
            "cells": {
             "fill": {
              "color": "#EBF0F8"
             },
             "line": {
              "color": "white"
             }
            },
            "header": {
             "fill": {
              "color": "#C8D4E3"
             },
             "line": {
              "color": "white"
             }
            },
            "type": "table"
           }
          ]
         },
         "layout": {
          "annotationdefaults": {
           "arrowcolor": "#2a3f5f",
           "arrowhead": 0,
           "arrowwidth": 1
          },
          "autotypenumbers": "strict",
          "coloraxis": {
           "colorbar": {
            "outlinewidth": 0,
            "ticks": ""
           }
          },
          "colorscale": {
           "diverging": [
            [
             0,
             "#8e0152"
            ],
            [
             0.1,
             "#c51b7d"
            ],
            [
             0.2,
             "#de77ae"
            ],
            [
             0.3,
             "#f1b6da"
            ],
            [
             0.4,
             "#fde0ef"
            ],
            [
             0.5,
             "#f7f7f7"
            ],
            [
             0.6,
             "#e6f5d0"
            ],
            [
             0.7,
             "#b8e186"
            ],
            [
             0.8,
             "#7fbc41"
            ],
            [
             0.9,
             "#4d9221"
            ],
            [
             1,
             "#276419"
            ]
           ],
           "sequential": [
            [
             0,
             "#0d0887"
            ],
            [
             0.1111111111111111,
             "#46039f"
            ],
            [
             0.2222222222222222,
             "#7201a8"
            ],
            [
             0.3333333333333333,
             "#9c179e"
            ],
            [
             0.4444444444444444,
             "#bd3786"
            ],
            [
             0.5555555555555556,
             "#d8576b"
            ],
            [
             0.6666666666666666,
             "#ed7953"
            ],
            [
             0.7777777777777778,
             "#fb9f3a"
            ],
            [
             0.8888888888888888,
             "#fdca26"
            ],
            [
             1,
             "#f0f921"
            ]
           ],
           "sequentialminus": [
            [
             0,
             "#0d0887"
            ],
            [
             0.1111111111111111,
             "#46039f"
            ],
            [
             0.2222222222222222,
             "#7201a8"
            ],
            [
             0.3333333333333333,
             "#9c179e"
            ],
            [
             0.4444444444444444,
             "#bd3786"
            ],
            [
             0.5555555555555556,
             "#d8576b"
            ],
            [
             0.6666666666666666,
             "#ed7953"
            ],
            [
             0.7777777777777778,
             "#fb9f3a"
            ],
            [
             0.8888888888888888,
             "#fdca26"
            ],
            [
             1,
             "#f0f921"
            ]
           ]
          },
          "colorway": [
           "#636efa",
           "#EF553B",
           "#00cc96",
           "#ab63fa",
           "#FFA15A",
           "#19d3f3",
           "#FF6692",
           "#B6E880",
           "#FF97FF",
           "#FECB52"
          ],
          "font": {
           "color": "#2a3f5f"
          },
          "geo": {
           "bgcolor": "white",
           "lakecolor": "white",
           "landcolor": "#E5ECF6",
           "showlakes": true,
           "showland": true,
           "subunitcolor": "white"
          },
          "hoverlabel": {
           "align": "left"
          },
          "hovermode": "closest",
          "mapbox": {
           "style": "light"
          },
          "paper_bgcolor": "white",
          "plot_bgcolor": "#E5ECF6",
          "polar": {
           "angularaxis": {
            "gridcolor": "white",
            "linecolor": "white",
            "ticks": ""
           },
           "bgcolor": "#E5ECF6",
           "radialaxis": {
            "gridcolor": "white",
            "linecolor": "white",
            "ticks": ""
           }
          },
          "scene": {
           "xaxis": {
            "backgroundcolor": "#E5ECF6",
            "gridcolor": "white",
            "gridwidth": 2,
            "linecolor": "white",
            "showbackground": true,
            "ticks": "",
            "zerolinecolor": "white"
           },
           "yaxis": {
            "backgroundcolor": "#E5ECF6",
            "gridcolor": "white",
            "gridwidth": 2,
            "linecolor": "white",
            "showbackground": true,
            "ticks": "",
            "zerolinecolor": "white"
           },
           "zaxis": {
            "backgroundcolor": "#E5ECF6",
            "gridcolor": "white",
            "gridwidth": 2,
            "linecolor": "white",
            "showbackground": true,
            "ticks": "",
            "zerolinecolor": "white"
           }
          },
          "shapedefaults": {
           "line": {
            "color": "#2a3f5f"
           }
          },
          "ternary": {
           "aaxis": {
            "gridcolor": "white",
            "linecolor": "white",
            "ticks": ""
           },
           "baxis": {
            "gridcolor": "white",
            "linecolor": "white",
            "ticks": ""
           },
           "bgcolor": "#E5ECF6",
           "caxis": {
            "gridcolor": "white",
            "linecolor": "white",
            "ticks": ""
           }
          },
          "title": {
           "x": 0.05
          },
          "xaxis": {
           "automargin": true,
           "gridcolor": "white",
           "linecolor": "white",
           "ticks": "",
           "title": {
            "standoff": 15
           },
           "zerolinecolor": "white",
           "zerolinewidth": 2
          },
          "yaxis": {
           "automargin": true,
           "gridcolor": "white",
           "linecolor": "white",
           "ticks": "",
           "title": {
            "standoff": 15
           },
           "zerolinecolor": "white",
           "zerolinewidth": 2
          }
         }
        },
        "title": {
         "font": {
          "size": 24
         },
         "text": "Distancia en (km) - Jueves",
         "x": 0.5,
         "xanchor": "center"
        },
        "xaxis": {
         "tickangle": -30,
         "tickfont": {
          "size": 14
         },
         "title": {
          "font": {
           "size": 16
          },
          "text": "Sesión"
         }
        },
        "yaxis": {
         "gridcolor": "rgb(220, 220, 220)",
         "title": {
          "text": "Distancia (km)"
         }
        }
       }
      }
     },
     "metadata": {},
     "output_type": "display_data"
    }
   ],
   "source": [
    "# Definir los tipos de sesiones a analizar\n",
    "tipos_sesion = ['Partido', 'Martes', 'Jueves']\n",
    "\n",
    "# Procesar y mostrar datos para cada tipo de sesión\n",
    "for tipo_sesion in tipos_sesion:\n",
    "    print(f\"\\n=== Análisis de sesiones: {tipo_sesion} ===\")\n",
    "    \n",
    "    # Procesar datos de la sesión\n",
    "    resultados = procesar_sesiones(df, tipo_sesion=tipo_sesion, max_fechas=10)\n",
    "    \n",
    "    if resultados is not None:\n",
    "        print(f\"\\nÚltimas 10 sesiones de {tipo_sesion}:\")\n",
    "        print(\"\\nEstadísticas principales:\")\n",
    "        print(f\"Total de sesiones encontradas: {len(resultados)}\")\n",
    "        print(f\"Promedio de distancia por sesión: {resultados['Distancia Media (km)'].mean():.2f} km\")\n",
    "        print(f\"Promedio de jugadores por sesión: {resultados['N° Jugadores'].mean():.1f}\")\n",
    "        \n",
    "        # Mostrar tabla con los datos\n",
    "        print(\"\\nDetalle de las últimas sesiones:\")\n",
    "        display(resultados[['Fecha', 'Sesión', 'Distancia Media (km)', 'N° Jugadores', 'Distancia Total (km)']])\n",
    "        \n",
    "        # Crear y mostrar el gráfico\n",
    "        fig = graficar_distancia_sesion(resultados, n_sesiones=10, tipo_sesion=tipo_sesion)\n",
    "        fig.show()\n",
    "    else:\n",
    "        print(f\"No se encontraron datos para sesiones de {tipo_sesion}\")"
   ]
  },
  {
   "cell_type": "code",
   "execution_count": 10,
   "id": "19c28587",
   "metadata": {},
   "outputs": [
    {
     "data": {
      "application/vnd.plotly.v1+json": {
       "config": {
        "plotlyServerURL": "https://plot.ly"
       },
       "data": [
        {
         "hovertemplate": "<b>%{x}</b><br>Velocidad Máxima: %{y:.1f} km/h<br>Sesión: Partido San Andres<extra></extra>",
         "name": "Partido San Andres",
         "text": {
          "bdata": "MzMzMzOzXUDNzMzMzMxcQM3MzMzMzFxAAAAAAAAAW0AAAAAAAABbQA==",
          "dtype": "f8"
         },
         "textposition": "outside",
         "type": "bar",
         "x": [
          "Lorito",
          "Cechi Mateo",
          "Rivera Cano Blas",
          "Orrico Santiago",
          "Portunato Sebastian"
         ],
         "y": {
          "bdata": "MzMzMzOzXUDNzMzMzMxcQM3MzMzMzFxAAAAAAAAAW0AAAAAAAABbQA==",
          "dtype": "f8"
         }
        },
        {
         "hovertemplate": "<b>%{x}</b><br>Velocidad Máxima: %{y:.1f} km/h<br>Sesión: martes 15-4<extra></extra>",
         "name": "martes 15-4",
         "text": {
          "bdata": "mpmZmZkZWkAzMzMzMzNZQDMzMzMzM1lAzczMzMxMWEDNzMzMzExYQA==",
          "dtype": "f8"
         },
         "textposition": "outside",
         "type": "bar",
         "x": [
          "Espinosa Fede",
          "Cechi Mateo",
          "Fer Fernandez",
          "Esquerren Fermin",
          "Orrico Santiago"
         ],
         "y": {
          "bdata": "mpmZmZkZWkAzMzMzMzNZQDMzMzMzM1lAzczMzMxMWEDNzMzMzExYQA==",
          "dtype": "f8"
         }
        },
        {
         "hovertemplate": "<b>%{x}</b><br>Velocidad Máxima: %{y:.1f} km/h<br>Sesión: martes 22-4<extra></extra>",
         "name": "martes 22-4",
         "text": {
          "bdata": "AAAAAAAAW0AAAAAAAABbQJqZmZmZGVpAmpmZmZkZWkAzMzMzMzNZQA==",
          "dtype": "f8"
         },
         "textposition": "outside",
         "type": "bar",
         "x": [
          "Cechi Mateo",
          "Vergel Alejo",
          "Espinosa Fede",
          "Orrico Santiago",
          "Lorito"
         ],
         "y": {
          "bdata": "AAAAAAAAW0AAAAAAAABbQJqZmZmZGVpAmpmZmZkZWkAzMzMzMzNZQA==",
          "dtype": "f8"
         }
        }
       ],
       "layout": {
        "barmode": "group",
        "font": {
         "size": 12
        },
        "height": 600,
        "legend": {
         "title": {
          "text": "Sesión"
         }
        },
        "paper_bgcolor": "rgb(250, 250, 250)",
        "plot_bgcolor": "rgb(250, 250, 250)",
        "showlegend": true,
        "template": {
         "data": {
          "bar": [
           {
            "error_x": {
             "color": "#2a3f5f"
            },
            "error_y": {
             "color": "#2a3f5f"
            },
            "marker": {
             "line": {
              "color": "#E5ECF6",
              "width": 0.5
             },
             "pattern": {
              "fillmode": "overlay",
              "size": 10,
              "solidity": 0.2
             }
            },
            "type": "bar"
           }
          ],
          "barpolar": [
           {
            "marker": {
             "line": {
              "color": "#E5ECF6",
              "width": 0.5
             },
             "pattern": {
              "fillmode": "overlay",
              "size": 10,
              "solidity": 0.2
             }
            },
            "type": "barpolar"
           }
          ],
          "carpet": [
           {
            "aaxis": {
             "endlinecolor": "#2a3f5f",
             "gridcolor": "white",
             "linecolor": "white",
             "minorgridcolor": "white",
             "startlinecolor": "#2a3f5f"
            },
            "baxis": {
             "endlinecolor": "#2a3f5f",
             "gridcolor": "white",
             "linecolor": "white",
             "minorgridcolor": "white",
             "startlinecolor": "#2a3f5f"
            },
            "type": "carpet"
           }
          ],
          "choropleth": [
           {
            "colorbar": {
             "outlinewidth": 0,
             "ticks": ""
            },
            "type": "choropleth"
           }
          ],
          "contour": [
           {
            "colorbar": {
             "outlinewidth": 0,
             "ticks": ""
            },
            "colorscale": [
             [
              0,
              "#0d0887"
             ],
             [
              0.1111111111111111,
              "#46039f"
             ],
             [
              0.2222222222222222,
              "#7201a8"
             ],
             [
              0.3333333333333333,
              "#9c179e"
             ],
             [
              0.4444444444444444,
              "#bd3786"
             ],
             [
              0.5555555555555556,
              "#d8576b"
             ],
             [
              0.6666666666666666,
              "#ed7953"
             ],
             [
              0.7777777777777778,
              "#fb9f3a"
             ],
             [
              0.8888888888888888,
              "#fdca26"
             ],
             [
              1,
              "#f0f921"
             ]
            ],
            "type": "contour"
           }
          ],
          "contourcarpet": [
           {
            "colorbar": {
             "outlinewidth": 0,
             "ticks": ""
            },
            "type": "contourcarpet"
           }
          ],
          "heatmap": [
           {
            "colorbar": {
             "outlinewidth": 0,
             "ticks": ""
            },
            "colorscale": [
             [
              0,
              "#0d0887"
             ],
             [
              0.1111111111111111,
              "#46039f"
             ],
             [
              0.2222222222222222,
              "#7201a8"
             ],
             [
              0.3333333333333333,
              "#9c179e"
             ],
             [
              0.4444444444444444,
              "#bd3786"
             ],
             [
              0.5555555555555556,
              "#d8576b"
             ],
             [
              0.6666666666666666,
              "#ed7953"
             ],
             [
              0.7777777777777778,
              "#fb9f3a"
             ],
             [
              0.8888888888888888,
              "#fdca26"
             ],
             [
              1,
              "#f0f921"
             ]
            ],
            "type": "heatmap"
           }
          ],
          "histogram": [
           {
            "marker": {
             "pattern": {
              "fillmode": "overlay",
              "size": 10,
              "solidity": 0.2
             }
            },
            "type": "histogram"
           }
          ],
          "histogram2d": [
           {
            "colorbar": {
             "outlinewidth": 0,
             "ticks": ""
            },
            "colorscale": [
             [
              0,
              "#0d0887"
             ],
             [
              0.1111111111111111,
              "#46039f"
             ],
             [
              0.2222222222222222,
              "#7201a8"
             ],
             [
              0.3333333333333333,
              "#9c179e"
             ],
             [
              0.4444444444444444,
              "#bd3786"
             ],
             [
              0.5555555555555556,
              "#d8576b"
             ],
             [
              0.6666666666666666,
              "#ed7953"
             ],
             [
              0.7777777777777778,
              "#fb9f3a"
             ],
             [
              0.8888888888888888,
              "#fdca26"
             ],
             [
              1,
              "#f0f921"
             ]
            ],
            "type": "histogram2d"
           }
          ],
          "histogram2dcontour": [
           {
            "colorbar": {
             "outlinewidth": 0,
             "ticks": ""
            },
            "colorscale": [
             [
              0,
              "#0d0887"
             ],
             [
              0.1111111111111111,
              "#46039f"
             ],
             [
              0.2222222222222222,
              "#7201a8"
             ],
             [
              0.3333333333333333,
              "#9c179e"
             ],
             [
              0.4444444444444444,
              "#bd3786"
             ],
             [
              0.5555555555555556,
              "#d8576b"
             ],
             [
              0.6666666666666666,
              "#ed7953"
             ],
             [
              0.7777777777777778,
              "#fb9f3a"
             ],
             [
              0.8888888888888888,
              "#fdca26"
             ],
             [
              1,
              "#f0f921"
             ]
            ],
            "type": "histogram2dcontour"
           }
          ],
          "mesh3d": [
           {
            "colorbar": {
             "outlinewidth": 0,
             "ticks": ""
            },
            "type": "mesh3d"
           }
          ],
          "parcoords": [
           {
            "line": {
             "colorbar": {
              "outlinewidth": 0,
              "ticks": ""
             }
            },
            "type": "parcoords"
           }
          ],
          "pie": [
           {
            "automargin": true,
            "type": "pie"
           }
          ],
          "scatter": [
           {
            "fillpattern": {
             "fillmode": "overlay",
             "size": 10,
             "solidity": 0.2
            },
            "type": "scatter"
           }
          ],
          "scatter3d": [
           {
            "line": {
             "colorbar": {
              "outlinewidth": 0,
              "ticks": ""
             }
            },
            "marker": {
             "colorbar": {
              "outlinewidth": 0,
              "ticks": ""
             }
            },
            "type": "scatter3d"
           }
          ],
          "scattercarpet": [
           {
            "marker": {
             "colorbar": {
              "outlinewidth": 0,
              "ticks": ""
             }
            },
            "type": "scattercarpet"
           }
          ],
          "scattergeo": [
           {
            "marker": {
             "colorbar": {
              "outlinewidth": 0,
              "ticks": ""
             }
            },
            "type": "scattergeo"
           }
          ],
          "scattergl": [
           {
            "marker": {
             "colorbar": {
              "outlinewidth": 0,
              "ticks": ""
             }
            },
            "type": "scattergl"
           }
          ],
          "scattermap": [
           {
            "marker": {
             "colorbar": {
              "outlinewidth": 0,
              "ticks": ""
             }
            },
            "type": "scattermap"
           }
          ],
          "scattermapbox": [
           {
            "marker": {
             "colorbar": {
              "outlinewidth": 0,
              "ticks": ""
             }
            },
            "type": "scattermapbox"
           }
          ],
          "scatterpolar": [
           {
            "marker": {
             "colorbar": {
              "outlinewidth": 0,
              "ticks": ""
             }
            },
            "type": "scatterpolar"
           }
          ],
          "scatterpolargl": [
           {
            "marker": {
             "colorbar": {
              "outlinewidth": 0,
              "ticks": ""
             }
            },
            "type": "scatterpolargl"
           }
          ],
          "scatterternary": [
           {
            "marker": {
             "colorbar": {
              "outlinewidth": 0,
              "ticks": ""
             }
            },
            "type": "scatterternary"
           }
          ],
          "surface": [
           {
            "colorbar": {
             "outlinewidth": 0,
             "ticks": ""
            },
            "colorscale": [
             [
              0,
              "#0d0887"
             ],
             [
              0.1111111111111111,
              "#46039f"
             ],
             [
              0.2222222222222222,
              "#7201a8"
             ],
             [
              0.3333333333333333,
              "#9c179e"
             ],
             [
              0.4444444444444444,
              "#bd3786"
             ],
             [
              0.5555555555555556,
              "#d8576b"
             ],
             [
              0.6666666666666666,
              "#ed7953"
             ],
             [
              0.7777777777777778,
              "#fb9f3a"
             ],
             [
              0.8888888888888888,
              "#fdca26"
             ],
             [
              1,
              "#f0f921"
             ]
            ],
            "type": "surface"
           }
          ],
          "table": [
           {
            "cells": {
             "fill": {
              "color": "#EBF0F8"
             },
             "line": {
              "color": "white"
             }
            },
            "header": {
             "fill": {
              "color": "#C8D4E3"
             },
             "line": {
              "color": "white"
             }
            },
            "type": "table"
           }
          ]
         },
         "layout": {
          "annotationdefaults": {
           "arrowcolor": "#2a3f5f",
           "arrowhead": 0,
           "arrowwidth": 1
          },
          "autotypenumbers": "strict",
          "coloraxis": {
           "colorbar": {
            "outlinewidth": 0,
            "ticks": ""
           }
          },
          "colorscale": {
           "diverging": [
            [
             0,
             "#8e0152"
            ],
            [
             0.1,
             "#c51b7d"
            ],
            [
             0.2,
             "#de77ae"
            ],
            [
             0.3,
             "#f1b6da"
            ],
            [
             0.4,
             "#fde0ef"
            ],
            [
             0.5,
             "#f7f7f7"
            ],
            [
             0.6,
             "#e6f5d0"
            ],
            [
             0.7,
             "#b8e186"
            ],
            [
             0.8,
             "#7fbc41"
            ],
            [
             0.9,
             "#4d9221"
            ],
            [
             1,
             "#276419"
            ]
           ],
           "sequential": [
            [
             0,
             "#0d0887"
            ],
            [
             0.1111111111111111,
             "#46039f"
            ],
            [
             0.2222222222222222,
             "#7201a8"
            ],
            [
             0.3333333333333333,
             "#9c179e"
            ],
            [
             0.4444444444444444,
             "#bd3786"
            ],
            [
             0.5555555555555556,
             "#d8576b"
            ],
            [
             0.6666666666666666,
             "#ed7953"
            ],
            [
             0.7777777777777778,
             "#fb9f3a"
            ],
            [
             0.8888888888888888,
             "#fdca26"
            ],
            [
             1,
             "#f0f921"
            ]
           ],
           "sequentialminus": [
            [
             0,
             "#0d0887"
            ],
            [
             0.1111111111111111,
             "#46039f"
            ],
            [
             0.2222222222222222,
             "#7201a8"
            ],
            [
             0.3333333333333333,
             "#9c179e"
            ],
            [
             0.4444444444444444,
             "#bd3786"
            ],
            [
             0.5555555555555556,
             "#d8576b"
            ],
            [
             0.6666666666666666,
             "#ed7953"
            ],
            [
             0.7777777777777778,
             "#fb9f3a"
            ],
            [
             0.8888888888888888,
             "#fdca26"
            ],
            [
             1,
             "#f0f921"
            ]
           ]
          },
          "colorway": [
           "#636efa",
           "#EF553B",
           "#00cc96",
           "#ab63fa",
           "#FFA15A",
           "#19d3f3",
           "#FF6692",
           "#B6E880",
           "#FF97FF",
           "#FECB52"
          ],
          "font": {
           "color": "#2a3f5f"
          },
          "geo": {
           "bgcolor": "white",
           "lakecolor": "white",
           "landcolor": "#E5ECF6",
           "showlakes": true,
           "showland": true,
           "subunitcolor": "white"
          },
          "hoverlabel": {
           "align": "left"
          },
          "hovermode": "closest",
          "mapbox": {
           "style": "light"
          },
          "paper_bgcolor": "white",
          "plot_bgcolor": "#E5ECF6",
          "polar": {
           "angularaxis": {
            "gridcolor": "white",
            "linecolor": "white",
            "ticks": ""
           },
           "bgcolor": "#E5ECF6",
           "radialaxis": {
            "gridcolor": "white",
            "linecolor": "white",
            "ticks": ""
           }
          },
          "scene": {
           "xaxis": {
            "backgroundcolor": "#E5ECF6",
            "gridcolor": "white",
            "gridwidth": 2,
            "linecolor": "white",
            "showbackground": true,
            "ticks": "",
            "zerolinecolor": "white"
           },
           "yaxis": {
            "backgroundcolor": "#E5ECF6",
            "gridcolor": "white",
            "gridwidth": 2,
            "linecolor": "white",
            "showbackground": true,
            "ticks": "",
            "zerolinecolor": "white"
           },
           "zaxis": {
            "backgroundcolor": "#E5ECF6",
            "gridcolor": "white",
            "gridwidth": 2,
            "linecolor": "white",
            "showbackground": true,
            "ticks": "",
            "zerolinecolor": "white"
           }
          },
          "shapedefaults": {
           "line": {
            "color": "#2a3f5f"
           }
          },
          "ternary": {
           "aaxis": {
            "gridcolor": "white",
            "linecolor": "white",
            "ticks": ""
           },
           "baxis": {
            "gridcolor": "white",
            "linecolor": "white",
            "ticks": ""
           },
           "bgcolor": "#E5ECF6",
           "caxis": {
            "gridcolor": "white",
            "linecolor": "white",
            "ticks": ""
           }
          },
          "title": {
           "x": 0.05
          },
          "xaxis": {
           "automargin": true,
           "gridcolor": "white",
           "linecolor": "white",
           "ticks": "",
           "title": {
            "standoff": 15
           },
           "zerolinecolor": "white",
           "zerolinewidth": 2
          },
          "yaxis": {
           "automargin": true,
           "gridcolor": "white",
           "linecolor": "white",
           "ticks": "",
           "title": {
            "standoff": 15
           },
           "zerolinecolor": "white",
           "zerolinewidth": 2
          }
         }
        },
        "title": {
         "text": "Top 5 Velocidades Máximas por Sesión",
         "x": 0.5,
         "xanchor": "center",
         "y": 0.95,
         "yanchor": "top"
        },
        "xaxis": {
         "title": {
          "text": "Jugador"
         }
        },
        "yaxis": {
         "title": {
          "text": "Velocidad Máxima (km/h)"
         }
        }
       }
      }
     },
     "metadata": {},
     "output_type": "display_data"
    },
    {
     "name": "stdout",
     "output_type": "stream",
     "text": [
      "\n",
      "Velocidades máximas por sesión:\n",
      "\n",
      "=== Partido San Andres ===\n",
      "     Session Title         Player Name  Top Speed (km/h)\n",
      "Partido San Andres              Lorito             118.8\n",
      "Partido San Andres         Cechi Mateo             115.2\n",
      "Partido San Andres    Rivera Cano Blas             115.2\n",
      "Partido San Andres     Orrico Santiago             108.0\n",
      "Partido San Andres Portunato Sebastian             108.0\n",
      "\n",
      "=== martes 15-4 ===\n",
      "Session Title      Player Name  Top Speed (km/h)\n",
      "  martes 15-4    Espinosa Fede             104.4\n",
      "  martes 15-4      Cechi Mateo             100.8\n",
      "  martes 15-4    Fer Fernandez             100.8\n",
      "  martes 15-4 Esquerren Fermin              97.2\n",
      "  martes 15-4  Orrico Santiago              97.2\n",
      "\n",
      "=== martes 22-4 ===\n",
      "Session Title     Player Name  Top Speed (km/h)\n",
      "  martes 22-4     Cechi Mateo             108.0\n",
      "  martes 22-4    Vergel Alejo             108.0\n",
      "  martes 22-4   Espinosa Fede             104.4\n",
      "  martes 22-4 Orrico Santiago             104.4\n",
      "  martes 22-4          Lorito             100.8\n"
     ]
    }
   ],
   "source": [
    "def analizar_velocidad_maxima(df):\n",
    "    \"\"\"\n",
    "    Analiza y visualiza la velocidad máxima de los jugadores por sesión.\n",
    "    \n",
    "    Parámetros:\n",
    "    - df: DataFrame con los datos de Catapult\n",
    "    \"\"\"\n",
    "    try:\n",
    "        # Crear una copia del DataFrame\n",
    "        df_speed = df.copy()\n",
    "        \n",
    "        # Convertir Top Speed de m/s a km/h\n",
    "        df_speed['Top Speed (km/h)'] = df_speed['Top Speed (m/s)'] * 3.6\n",
    "        \n",
    "        # Agrupar por sesión y obtener el jugador más rápido\n",
    "        top_speeds = df_speed.groupby(['Session Title', 'Player Name'])['Top Speed (km/h)'].max().reset_index()\n",
    "        \n",
    "        # Ordenar por velocidad descendente dentro de cada sesión\n",
    "        top_speeds = top_speeds.sort_values(['Session Title', 'Top Speed (km/h)'], ascending=[True, False])\n",
    "        \n",
    "        # Crear figura con Plotly\n",
    "        fig = go.Figure()\n",
    "        \n",
    "        # Obtener sesiones únicas\n",
    "        sesiones = top_speeds['Session Title'].unique()\n",
    "        \n",
    "        # Crear barras para cada sesión\n",
    "        for sesion in sesiones:\n",
    "            datos_sesion = top_speeds[top_speeds['Session Title'] == sesion]\n",
    "            # Tomar los 5 jugadores más rápidos de cada sesión\n",
    "            top_5 = datos_sesion.head(5)\n",
    "            \n",
    "            fig.add_trace(go.Bar(\n",
    "                name=sesion,\n",
    "                x=top_5['Player Name'],\n",
    "                y=top_5['Top Speed (km/h)'],\n",
    "                text=top_5['Top Speed (km/h)'].round(1),\n",
    "                textposition='outside',\n",
    "                hovertemplate='<b>%{x}</b><br>' +\n",
    "                            'Velocidad Máxima: %{y:.1f} km/h<br>' +\n",
    "                            'Sesión: ' + sesion +\n",
    "                            '<extra></extra>'\n",
    "            ))\n",
    "        \n",
    "        # Actualizar diseño\n",
    "        fig.update_layout(\n",
    "            title={\n",
    "                'text': 'Top 5 Velocidades Máximas por Sesión',\n",
    "                'y':0.95,\n",
    "                'x':0.5,\n",
    "                'xanchor': 'center',\n",
    "                'yanchor': 'top'\n",
    "            },\n",
    "            xaxis_title='Jugador',\n",
    "            yaxis_title='Velocidad Máxima (km/h)',\n",
    "            barmode='group',\n",
    "            plot_bgcolor='rgb(250, 250, 250)',\n",
    "            paper_bgcolor='rgb(250, 250, 250)',\n",
    "            font=dict(size=12),\n",
    "            showlegend=True,\n",
    "            legend_title='Sesión',\n",
    "            height=600\n",
    "        )\n",
    "        \n",
    "        # Mostrar gráfico\n",
    "        fig.show()\n",
    "        \n",
    "        # Mostrar tabla con resultados\n",
    "        print(\"\\nVelocidades máximas por sesión:\")\n",
    "        for sesion in sesiones:\n",
    "            print(f\"\\n=== {sesion} ===\")\n",
    "            datos_sesion = top_speeds[top_speeds['Session Title'] == sesion]\n",
    "            print(datos_sesion.head().to_string(index=False))\n",
    "            \n",
    "        return top_speeds\n",
    "        \n",
    "    except Exception as e:\n",
    "        print(f\"Error al analizar las velocidades: {e}\")\n",
    "        return None\n",
    "\n",
    "# Ejecutar el análisis\n",
    "if 'df' in globals() and df is not None:\n",
    "    resultados = analizar_velocidad_maxima(df)\n",
    "else:\n",
    "    print(\"No se encontraron datos cargados. Ejecute primero la celda para cargar los datos.\")"
   ]
  },
  {
   "cell_type": "code",
   "execution_count": 12,
   "id": "1d72409c",
   "metadata": {},
   "outputs": [
    {
     "data": {
      "application/vnd.plotly.v1+json": {
       "config": {
        "plotlyServerURL": "https://plot.ly"
       },
       "data": [
        {
         "hovertemplate": "<b>%{x}</b><br>Velocidad Máxima: %{y:.1f} km/h<extra></extra>",
         "marker": {
          "color": "rgb(70, 70, 70)"
         },
         "text": {
          "bdata": "mpmZmZmZVUAzMzMzMzNZQJqZmZmZGVpAmpmZmZkZWkCamZmZmRlaQJqZmZmZGVpAAAAAAAAAW0AAAAAAAABbQM3MzMzMzFxAzczMzMzMXEAzMzMzM7NdQA==",
          "dtype": "f8"
         },
         "textposition": "outside",
         "type": "bar",
         "x": [
          "Damioli Bautista",
          "Fer Fernandez",
          "Franco Suarez",
          "Olivero Esteban",
          "Cachaza Pato",
          "Nicolas Morena",
          "Orrico Santiago",
          "Portunato Sebastian",
          "Rivera Cano Blas",
          "Cechi Mateo",
          "Lorito"
         ],
         "y": {
          "bdata": "mpmZmZmZVUAzMzMzMzNZQJqZmZmZGVpAmpmZmZkZWkCamZmZmRlaQJqZmZmZGVpAAAAAAAAAW0AAAAAAAABbQM3MzMzMzFxAzczMzMzMXEAzMzMzM7NdQA==",
          "dtype": "f8"
         }
        }
       ],
       "layout": {
        "height": 600,
        "paper_bgcolor": "rgb(250, 250, 250)",
        "plot_bgcolor": "rgb(250, 250, 250)",
        "showlegend": false,
        "template": {
         "data": {
          "bar": [
           {
            "error_x": {
             "color": "#2a3f5f"
            },
            "error_y": {
             "color": "#2a3f5f"
            },
            "marker": {
             "line": {
              "color": "#E5ECF6",
              "width": 0.5
             },
             "pattern": {
              "fillmode": "overlay",
              "size": 10,
              "solidity": 0.2
             }
            },
            "type": "bar"
           }
          ],
          "barpolar": [
           {
            "marker": {
             "line": {
              "color": "#E5ECF6",
              "width": 0.5
             },
             "pattern": {
              "fillmode": "overlay",
              "size": 10,
              "solidity": 0.2
             }
            },
            "type": "barpolar"
           }
          ],
          "carpet": [
           {
            "aaxis": {
             "endlinecolor": "#2a3f5f",
             "gridcolor": "white",
             "linecolor": "white",
             "minorgridcolor": "white",
             "startlinecolor": "#2a3f5f"
            },
            "baxis": {
             "endlinecolor": "#2a3f5f",
             "gridcolor": "white",
             "linecolor": "white",
             "minorgridcolor": "white",
             "startlinecolor": "#2a3f5f"
            },
            "type": "carpet"
           }
          ],
          "choropleth": [
           {
            "colorbar": {
             "outlinewidth": 0,
             "ticks": ""
            },
            "type": "choropleth"
           }
          ],
          "contour": [
           {
            "colorbar": {
             "outlinewidth": 0,
             "ticks": ""
            },
            "colorscale": [
             [
              0,
              "#0d0887"
             ],
             [
              0.1111111111111111,
              "#46039f"
             ],
             [
              0.2222222222222222,
              "#7201a8"
             ],
             [
              0.3333333333333333,
              "#9c179e"
             ],
             [
              0.4444444444444444,
              "#bd3786"
             ],
             [
              0.5555555555555556,
              "#d8576b"
             ],
             [
              0.6666666666666666,
              "#ed7953"
             ],
             [
              0.7777777777777778,
              "#fb9f3a"
             ],
             [
              0.8888888888888888,
              "#fdca26"
             ],
             [
              1,
              "#f0f921"
             ]
            ],
            "type": "contour"
           }
          ],
          "contourcarpet": [
           {
            "colorbar": {
             "outlinewidth": 0,
             "ticks": ""
            },
            "type": "contourcarpet"
           }
          ],
          "heatmap": [
           {
            "colorbar": {
             "outlinewidth": 0,
             "ticks": ""
            },
            "colorscale": [
             [
              0,
              "#0d0887"
             ],
             [
              0.1111111111111111,
              "#46039f"
             ],
             [
              0.2222222222222222,
              "#7201a8"
             ],
             [
              0.3333333333333333,
              "#9c179e"
             ],
             [
              0.4444444444444444,
              "#bd3786"
             ],
             [
              0.5555555555555556,
              "#d8576b"
             ],
             [
              0.6666666666666666,
              "#ed7953"
             ],
             [
              0.7777777777777778,
              "#fb9f3a"
             ],
             [
              0.8888888888888888,
              "#fdca26"
             ],
             [
              1,
              "#f0f921"
             ]
            ],
            "type": "heatmap"
           }
          ],
          "histogram": [
           {
            "marker": {
             "pattern": {
              "fillmode": "overlay",
              "size": 10,
              "solidity": 0.2
             }
            },
            "type": "histogram"
           }
          ],
          "histogram2d": [
           {
            "colorbar": {
             "outlinewidth": 0,
             "ticks": ""
            },
            "colorscale": [
             [
              0,
              "#0d0887"
             ],
             [
              0.1111111111111111,
              "#46039f"
             ],
             [
              0.2222222222222222,
              "#7201a8"
             ],
             [
              0.3333333333333333,
              "#9c179e"
             ],
             [
              0.4444444444444444,
              "#bd3786"
             ],
             [
              0.5555555555555556,
              "#d8576b"
             ],
             [
              0.6666666666666666,
              "#ed7953"
             ],
             [
              0.7777777777777778,
              "#fb9f3a"
             ],
             [
              0.8888888888888888,
              "#fdca26"
             ],
             [
              1,
              "#f0f921"
             ]
            ],
            "type": "histogram2d"
           }
          ],
          "histogram2dcontour": [
           {
            "colorbar": {
             "outlinewidth": 0,
             "ticks": ""
            },
            "colorscale": [
             [
              0,
              "#0d0887"
             ],
             [
              0.1111111111111111,
              "#46039f"
             ],
             [
              0.2222222222222222,
              "#7201a8"
             ],
             [
              0.3333333333333333,
              "#9c179e"
             ],
             [
              0.4444444444444444,
              "#bd3786"
             ],
             [
              0.5555555555555556,
              "#d8576b"
             ],
             [
              0.6666666666666666,
              "#ed7953"
             ],
             [
              0.7777777777777778,
              "#fb9f3a"
             ],
             [
              0.8888888888888888,
              "#fdca26"
             ],
             [
              1,
              "#f0f921"
             ]
            ],
            "type": "histogram2dcontour"
           }
          ],
          "mesh3d": [
           {
            "colorbar": {
             "outlinewidth": 0,
             "ticks": ""
            },
            "type": "mesh3d"
           }
          ],
          "parcoords": [
           {
            "line": {
             "colorbar": {
              "outlinewidth": 0,
              "ticks": ""
             }
            },
            "type": "parcoords"
           }
          ],
          "pie": [
           {
            "automargin": true,
            "type": "pie"
           }
          ],
          "scatter": [
           {
            "fillpattern": {
             "fillmode": "overlay",
             "size": 10,
             "solidity": 0.2
            },
            "type": "scatter"
           }
          ],
          "scatter3d": [
           {
            "line": {
             "colorbar": {
              "outlinewidth": 0,
              "ticks": ""
             }
            },
            "marker": {
             "colorbar": {
              "outlinewidth": 0,
              "ticks": ""
             }
            },
            "type": "scatter3d"
           }
          ],
          "scattercarpet": [
           {
            "marker": {
             "colorbar": {
              "outlinewidth": 0,
              "ticks": ""
             }
            },
            "type": "scattercarpet"
           }
          ],
          "scattergeo": [
           {
            "marker": {
             "colorbar": {
              "outlinewidth": 0,
              "ticks": ""
             }
            },
            "type": "scattergeo"
           }
          ],
          "scattergl": [
           {
            "marker": {
             "colorbar": {
              "outlinewidth": 0,
              "ticks": ""
             }
            },
            "type": "scattergl"
           }
          ],
          "scattermap": [
           {
            "marker": {
             "colorbar": {
              "outlinewidth": 0,
              "ticks": ""
             }
            },
            "type": "scattermap"
           }
          ],
          "scattermapbox": [
           {
            "marker": {
             "colorbar": {
              "outlinewidth": 0,
              "ticks": ""
             }
            },
            "type": "scattermapbox"
           }
          ],
          "scatterpolar": [
           {
            "marker": {
             "colorbar": {
              "outlinewidth": 0,
              "ticks": ""
             }
            },
            "type": "scatterpolar"
           }
          ],
          "scatterpolargl": [
           {
            "marker": {
             "colorbar": {
              "outlinewidth": 0,
              "ticks": ""
             }
            },
            "type": "scatterpolargl"
           }
          ],
          "scatterternary": [
           {
            "marker": {
             "colorbar": {
              "outlinewidth": 0,
              "ticks": ""
             }
            },
            "type": "scatterternary"
           }
          ],
          "surface": [
           {
            "colorbar": {
             "outlinewidth": 0,
             "ticks": ""
            },
            "colorscale": [
             [
              0,
              "#0d0887"
             ],
             [
              0.1111111111111111,
              "#46039f"
             ],
             [
              0.2222222222222222,
              "#7201a8"
             ],
             [
              0.3333333333333333,
              "#9c179e"
             ],
             [
              0.4444444444444444,
              "#bd3786"
             ],
             [
              0.5555555555555556,
              "#d8576b"
             ],
             [
              0.6666666666666666,
              "#ed7953"
             ],
             [
              0.7777777777777778,
              "#fb9f3a"
             ],
             [
              0.8888888888888888,
              "#fdca26"
             ],
             [
              1,
              "#f0f921"
             ]
            ],
            "type": "surface"
           }
          ],
          "table": [
           {
            "cells": {
             "fill": {
              "color": "#EBF0F8"
             },
             "line": {
              "color": "white"
             }
            },
            "header": {
             "fill": {
              "color": "#C8D4E3"
             },
             "line": {
              "color": "white"
             }
            },
            "type": "table"
           }
          ]
         },
         "layout": {
          "annotationdefaults": {
           "arrowcolor": "#2a3f5f",
           "arrowhead": 0,
           "arrowwidth": 1
          },
          "autotypenumbers": "strict",
          "coloraxis": {
           "colorbar": {
            "outlinewidth": 0,
            "ticks": ""
           }
          },
          "colorscale": {
           "diverging": [
            [
             0,
             "#8e0152"
            ],
            [
             0.1,
             "#c51b7d"
            ],
            [
             0.2,
             "#de77ae"
            ],
            [
             0.3,
             "#f1b6da"
            ],
            [
             0.4,
             "#fde0ef"
            ],
            [
             0.5,
             "#f7f7f7"
            ],
            [
             0.6,
             "#e6f5d0"
            ],
            [
             0.7,
             "#b8e186"
            ],
            [
             0.8,
             "#7fbc41"
            ],
            [
             0.9,
             "#4d9221"
            ],
            [
             1,
             "#276419"
            ]
           ],
           "sequential": [
            [
             0,
             "#0d0887"
            ],
            [
             0.1111111111111111,
             "#46039f"
            ],
            [
             0.2222222222222222,
             "#7201a8"
            ],
            [
             0.3333333333333333,
             "#9c179e"
            ],
            [
             0.4444444444444444,
             "#bd3786"
            ],
            [
             0.5555555555555556,
             "#d8576b"
            ],
            [
             0.6666666666666666,
             "#ed7953"
            ],
            [
             0.7777777777777778,
             "#fb9f3a"
            ],
            [
             0.8888888888888888,
             "#fdca26"
            ],
            [
             1,
             "#f0f921"
            ]
           ],
           "sequentialminus": [
            [
             0,
             "#0d0887"
            ],
            [
             0.1111111111111111,
             "#46039f"
            ],
            [
             0.2222222222222222,
             "#7201a8"
            ],
            [
             0.3333333333333333,
             "#9c179e"
            ],
            [
             0.4444444444444444,
             "#bd3786"
            ],
            [
             0.5555555555555556,
             "#d8576b"
            ],
            [
             0.6666666666666666,
             "#ed7953"
            ],
            [
             0.7777777777777778,
             "#fb9f3a"
            ],
            [
             0.8888888888888888,
             "#fdca26"
            ],
            [
             1,
             "#f0f921"
            ]
           ]
          },
          "colorway": [
           "#636efa",
           "#EF553B",
           "#00cc96",
           "#ab63fa",
           "#FFA15A",
           "#19d3f3",
           "#FF6692",
           "#B6E880",
           "#FF97FF",
           "#FECB52"
          ],
          "font": {
           "color": "#2a3f5f"
          },
          "geo": {
           "bgcolor": "white",
           "lakecolor": "white",
           "landcolor": "#E5ECF6",
           "showlakes": true,
           "showland": true,
           "subunitcolor": "white"
          },
          "hoverlabel": {
           "align": "left"
          },
          "hovermode": "closest",
          "mapbox": {
           "style": "light"
          },
          "paper_bgcolor": "white",
          "plot_bgcolor": "#E5ECF6",
          "polar": {
           "angularaxis": {
            "gridcolor": "white",
            "linecolor": "white",
            "ticks": ""
           },
           "bgcolor": "#E5ECF6",
           "radialaxis": {
            "gridcolor": "white",
            "linecolor": "white",
            "ticks": ""
           }
          },
          "scene": {
           "xaxis": {
            "backgroundcolor": "#E5ECF6",
            "gridcolor": "white",
            "gridwidth": 2,
            "linecolor": "white",
            "showbackground": true,
            "ticks": "",
            "zerolinecolor": "white"
           },
           "yaxis": {
            "backgroundcolor": "#E5ECF6",
            "gridcolor": "white",
            "gridwidth": 2,
            "linecolor": "white",
            "showbackground": true,
            "ticks": "",
            "zerolinecolor": "white"
           },
           "zaxis": {
            "backgroundcolor": "#E5ECF6",
            "gridcolor": "white",
            "gridwidth": 2,
            "linecolor": "white",
            "showbackground": true,
            "ticks": "",
            "zerolinecolor": "white"
           }
          },
          "shapedefaults": {
           "line": {
            "color": "#2a3f5f"
           }
          },
          "ternary": {
           "aaxis": {
            "gridcolor": "white",
            "linecolor": "white",
            "ticks": ""
           },
           "baxis": {
            "gridcolor": "white",
            "linecolor": "white",
            "ticks": ""
           },
           "bgcolor": "#E5ECF6",
           "caxis": {
            "gridcolor": "white",
            "linecolor": "white",
            "ticks": ""
           }
          },
          "title": {
           "x": 0.05
          },
          "xaxis": {
           "automargin": true,
           "gridcolor": "white",
           "linecolor": "white",
           "ticks": "",
           "title": {
            "standoff": 15
           },
           "zerolinecolor": "white",
           "zerolinewidth": 2
          },
          "yaxis": {
           "automargin": true,
           "gridcolor": "white",
           "linecolor": "white",
           "ticks": "",
           "title": {
            "standoff": 15
           },
           "zerolinecolor": "white",
           "zerolinewidth": 2
          }
         }
        },
        "title": {
         "text": "Velocidades Máximas - Partido San Andres"
        },
        "xaxis": {
         "tickangle": -45,
         "title": {
          "text": "Jugador"
         }
        },
        "yaxis": {
         "gridcolor": "rgb(220, 220, 220)",
         "title": {
          "text": "Velocidad Máxima (km/h)"
         }
        }
       }
      }
     },
     "metadata": {},
     "output_type": "display_data"
    },
    {
     "data": {
      "text/html": [
       "<div>\n",
       "<style scoped>\n",
       "    .dataframe tbody tr th:only-of-type {\n",
       "        vertical-align: middle;\n",
       "    }\n",
       "\n",
       "    .dataframe tbody tr th {\n",
       "        vertical-align: top;\n",
       "    }\n",
       "\n",
       "    .dataframe thead th {\n",
       "        text-align: right;\n",
       "    }\n",
       "</style>\n",
       "<table border=\"1\" class=\"dataframe\">\n",
       "  <thead>\n",
       "    <tr style=\"text-align: right;\">\n",
       "      <th></th>\n",
       "      <th>Player Name</th>\n",
       "      <th>Top Speed (km/h)</th>\n",
       "    </tr>\n",
       "  </thead>\n",
       "  <tbody>\n",
       "    <tr>\n",
       "      <th>28</th>\n",
       "      <td>Damioli Bautista</td>\n",
       "      <td>86.4</td>\n",
       "    </tr>\n",
       "    <tr>\n",
       "      <th>21</th>\n",
       "      <td>Fer Fernandez</td>\n",
       "      <td>100.8</td>\n",
       "    </tr>\n",
       "    <tr>\n",
       "      <th>18</th>\n",
       "      <td>Franco Suarez</td>\n",
       "      <td>104.4</td>\n",
       "    </tr>\n",
       "    <tr>\n",
       "      <th>19</th>\n",
       "      <td>Olivero Esteban</td>\n",
       "      <td>104.4</td>\n",
       "    </tr>\n",
       "    <tr>\n",
       "      <th>25</th>\n",
       "      <td>Cachaza Pato</td>\n",
       "      <td>104.4</td>\n",
       "    </tr>\n",
       "    <tr>\n",
       "      <th>26</th>\n",
       "      <td>Nicolas Morena</td>\n",
       "      <td>104.4</td>\n",
       "    </tr>\n",
       "    <tr>\n",
       "      <th>20</th>\n",
       "      <td>Orrico Santiago</td>\n",
       "      <td>108.0</td>\n",
       "    </tr>\n",
       "    <tr>\n",
       "      <th>27</th>\n",
       "      <td>Portunato Sebastian</td>\n",
       "      <td>108.0</td>\n",
       "    </tr>\n",
       "    <tr>\n",
       "      <th>23</th>\n",
       "      <td>Rivera Cano Blas</td>\n",
       "      <td>115.2</td>\n",
       "    </tr>\n",
       "    <tr>\n",
       "      <th>24</th>\n",
       "      <td>Cechi Mateo</td>\n",
       "      <td>115.2</td>\n",
       "    </tr>\n",
       "    <tr>\n",
       "      <th>22</th>\n",
       "      <td>Lorito</td>\n",
       "      <td>118.8</td>\n",
       "    </tr>\n",
       "  </tbody>\n",
       "</table>\n",
       "</div>"
      ],
      "text/plain": [
       "            Player Name  Top Speed (km/h)\n",
       "28     Damioli Bautista              86.4\n",
       "21        Fer Fernandez             100.8\n",
       "18        Franco Suarez             104.4\n",
       "19      Olivero Esteban             104.4\n",
       "25         Cachaza Pato             104.4\n",
       "26       Nicolas Morena             104.4\n",
       "20      Orrico Santiago             108.0\n",
       "27  Portunato Sebastian             108.0\n",
       "23     Rivera Cano Blas             115.2\n",
       "24          Cechi Mateo             115.2\n",
       "22               Lorito             118.8"
      ]
     },
     "metadata": {},
     "output_type": "display_data"
    }
   ],
   "source": [
    "# Filtrar el último partido o sesión\n",
    "ultima_sesion = df['Session Title'].iloc[-1]\n",
    "ultima_fecha = df['Date'].iloc[-1]\n",
    "\n",
    "# Filtrar los datos para la última sesión\n",
    "df_ultima_sesion = df[\n",
    "    (df['Session Title'] == ultima_sesion) & \n",
    "    (df['Date'] == ultima_fecha)\n",
    "].copy()\n",
    "\n",
    "# Convertir Top Speed de m/s a km/h \n",
    "df_ultima_sesion['Top Speed (km/h)'] = df_ultima_sesion['Top Speed (m/s)'] * 3.6\n",
    "\n",
    "# Ordenar por velocidad ascendente\n",
    "velocidades_ordenadas = df_ultima_sesion[['Player Name', 'Top Speed (km/h)']] \\\n",
    "    .sort_values('Top Speed (km/h)', ascending=True)\n",
    "\n",
    "# Crear gráfico con Plotly\n",
    "fig = go.Figure()\n",
    "\n",
    "# Añadir barras para velocidades\n",
    "fig.add_trace(go.Bar(\n",
    "    x=velocidades_ordenadas['Player Name'],\n",
    "    y=velocidades_ordenadas['Top Speed (km/h)'],\n",
    "    text=velocidades_ordenadas['Top Speed (km/h)'].round(1),\n",
    "    textposition='outside',\n",
    "    marker_color='rgb(70, 70, 70)',\n",
    "    hovertemplate='<b>%{x}</b><br>Velocidad Máxima: %{y:.1f} km/h<extra></extra>'\n",
    "))\n",
    "\n",
    "# Actualizar diseño\n",
    "fig.update_layout(\n",
    "    title=f'Velocidades Máximas - {ultima_sesion}',\n",
    "    xaxis=dict(\n",
    "        title='Jugador',\n",
    "        tickangle=-45\n",
    "    ),\n",
    "    yaxis=dict(\n",
    "        title='Velocidad Máxima (km/h)',\n",
    "        gridcolor='rgb(220, 220, 220)'\n",
    "    ),\n",
    "    plot_bgcolor='rgb(250, 250, 250)',\n",
    "    paper_bgcolor='rgb(250, 250, 250)',\n",
    "    showlegend=False,\n",
    "    height=600\n",
    ")\n",
    "\n",
    "# Mostrar gráfico\n",
    "fig.show()\n",
    "\n",
    "# Mostrar tabla de resultados\n",
    "display(velocidades_ordenadas)"
   ]
  },
  {
   "cell_type": "code",
   "execution_count": 23,
   "id": "3e3dee2b",
   "metadata": {},
   "outputs": [
    {
     "data": {
      "application/vnd.plotly.v1+json": {
       "config": {
        "plotlyServerURL": "https://plot.ly"
       },
       "data": [
        {
         "hovertemplate": "<b>%{x}</b><br>Velocidad Máxima: %{y:.1f} m/s<extra></extra>",
         "marker": {
          "color": "rgb(70, 70, 70)"
         },
         "text": {
          "bdata": "AAAAAAAAOEAAAAAAAAA8QAAAAAAAAD1AAAAAAAAAPUAAAAAAAAA9QAAAAAAAAD1AAAAAAAAAPkAAAAAAAAA+QAAAAAAAAEBAAAAAAAAAQEAAAAAAAIBAQA==",
          "dtype": "f8"
         },
         "textposition": "outside",
         "type": "bar",
         "x": [
          "Damioli Bautista",
          "Fer Fernandez",
          "Franco Suarez",
          "Olivero Esteban",
          "Cachaza Pato",
          "Nicolas Morena",
          "Orrico Santiago",
          "Portunato Sebastian",
          "Rivera Cano Blas",
          "Cechi Mateo",
          "Lorito"
         ],
         "y": {
          "bdata": "GBwdHR0dHh4gICE=",
          "dtype": "i1"
         }
        }
       ],
       "layout": {
        "height": 600,
        "paper_bgcolor": "rgb(250, 250, 250)",
        "plot_bgcolor": "rgb(250, 250, 250)",
        "showlegend": false,
        "template": {
         "data": {
          "bar": [
           {
            "error_x": {
             "color": "#2a3f5f"
            },
            "error_y": {
             "color": "#2a3f5f"
            },
            "marker": {
             "line": {
              "color": "#E5ECF6",
              "width": 0.5
             },
             "pattern": {
              "fillmode": "overlay",
              "size": 10,
              "solidity": 0.2
             }
            },
            "type": "bar"
           }
          ],
          "barpolar": [
           {
            "marker": {
             "line": {
              "color": "#E5ECF6",
              "width": 0.5
             },
             "pattern": {
              "fillmode": "overlay",
              "size": 10,
              "solidity": 0.2
             }
            },
            "type": "barpolar"
           }
          ],
          "carpet": [
           {
            "aaxis": {
             "endlinecolor": "#2a3f5f",
             "gridcolor": "white",
             "linecolor": "white",
             "minorgridcolor": "white",
             "startlinecolor": "#2a3f5f"
            },
            "baxis": {
             "endlinecolor": "#2a3f5f",
             "gridcolor": "white",
             "linecolor": "white",
             "minorgridcolor": "white",
             "startlinecolor": "#2a3f5f"
            },
            "type": "carpet"
           }
          ],
          "choropleth": [
           {
            "colorbar": {
             "outlinewidth": 0,
             "ticks": ""
            },
            "type": "choropleth"
           }
          ],
          "contour": [
           {
            "colorbar": {
             "outlinewidth": 0,
             "ticks": ""
            },
            "colorscale": [
             [
              0,
              "#0d0887"
             ],
             [
              0.1111111111111111,
              "#46039f"
             ],
             [
              0.2222222222222222,
              "#7201a8"
             ],
             [
              0.3333333333333333,
              "#9c179e"
             ],
             [
              0.4444444444444444,
              "#bd3786"
             ],
             [
              0.5555555555555556,
              "#d8576b"
             ],
             [
              0.6666666666666666,
              "#ed7953"
             ],
             [
              0.7777777777777778,
              "#fb9f3a"
             ],
             [
              0.8888888888888888,
              "#fdca26"
             ],
             [
              1,
              "#f0f921"
             ]
            ],
            "type": "contour"
           }
          ],
          "contourcarpet": [
           {
            "colorbar": {
             "outlinewidth": 0,
             "ticks": ""
            },
            "type": "contourcarpet"
           }
          ],
          "heatmap": [
           {
            "colorbar": {
             "outlinewidth": 0,
             "ticks": ""
            },
            "colorscale": [
             [
              0,
              "#0d0887"
             ],
             [
              0.1111111111111111,
              "#46039f"
             ],
             [
              0.2222222222222222,
              "#7201a8"
             ],
             [
              0.3333333333333333,
              "#9c179e"
             ],
             [
              0.4444444444444444,
              "#bd3786"
             ],
             [
              0.5555555555555556,
              "#d8576b"
             ],
             [
              0.6666666666666666,
              "#ed7953"
             ],
             [
              0.7777777777777778,
              "#fb9f3a"
             ],
             [
              0.8888888888888888,
              "#fdca26"
             ],
             [
              1,
              "#f0f921"
             ]
            ],
            "type": "heatmap"
           }
          ],
          "histogram": [
           {
            "marker": {
             "pattern": {
              "fillmode": "overlay",
              "size": 10,
              "solidity": 0.2
             }
            },
            "type": "histogram"
           }
          ],
          "histogram2d": [
           {
            "colorbar": {
             "outlinewidth": 0,
             "ticks": ""
            },
            "colorscale": [
             [
              0,
              "#0d0887"
             ],
             [
              0.1111111111111111,
              "#46039f"
             ],
             [
              0.2222222222222222,
              "#7201a8"
             ],
             [
              0.3333333333333333,
              "#9c179e"
             ],
             [
              0.4444444444444444,
              "#bd3786"
             ],
             [
              0.5555555555555556,
              "#d8576b"
             ],
             [
              0.6666666666666666,
              "#ed7953"
             ],
             [
              0.7777777777777778,
              "#fb9f3a"
             ],
             [
              0.8888888888888888,
              "#fdca26"
             ],
             [
              1,
              "#f0f921"
             ]
            ],
            "type": "histogram2d"
           }
          ],
          "histogram2dcontour": [
           {
            "colorbar": {
             "outlinewidth": 0,
             "ticks": ""
            },
            "colorscale": [
             [
              0,
              "#0d0887"
             ],
             [
              0.1111111111111111,
              "#46039f"
             ],
             [
              0.2222222222222222,
              "#7201a8"
             ],
             [
              0.3333333333333333,
              "#9c179e"
             ],
             [
              0.4444444444444444,
              "#bd3786"
             ],
             [
              0.5555555555555556,
              "#d8576b"
             ],
             [
              0.6666666666666666,
              "#ed7953"
             ],
             [
              0.7777777777777778,
              "#fb9f3a"
             ],
             [
              0.8888888888888888,
              "#fdca26"
             ],
             [
              1,
              "#f0f921"
             ]
            ],
            "type": "histogram2dcontour"
           }
          ],
          "mesh3d": [
           {
            "colorbar": {
             "outlinewidth": 0,
             "ticks": ""
            },
            "type": "mesh3d"
           }
          ],
          "parcoords": [
           {
            "line": {
             "colorbar": {
              "outlinewidth": 0,
              "ticks": ""
             }
            },
            "type": "parcoords"
           }
          ],
          "pie": [
           {
            "automargin": true,
            "type": "pie"
           }
          ],
          "scatter": [
           {
            "fillpattern": {
             "fillmode": "overlay",
             "size": 10,
             "solidity": 0.2
            },
            "type": "scatter"
           }
          ],
          "scatter3d": [
           {
            "line": {
             "colorbar": {
              "outlinewidth": 0,
              "ticks": ""
             }
            },
            "marker": {
             "colorbar": {
              "outlinewidth": 0,
              "ticks": ""
             }
            },
            "type": "scatter3d"
           }
          ],
          "scattercarpet": [
           {
            "marker": {
             "colorbar": {
              "outlinewidth": 0,
              "ticks": ""
             }
            },
            "type": "scattercarpet"
           }
          ],
          "scattergeo": [
           {
            "marker": {
             "colorbar": {
              "outlinewidth": 0,
              "ticks": ""
             }
            },
            "type": "scattergeo"
           }
          ],
          "scattergl": [
           {
            "marker": {
             "colorbar": {
              "outlinewidth": 0,
              "ticks": ""
             }
            },
            "type": "scattergl"
           }
          ],
          "scattermap": [
           {
            "marker": {
             "colorbar": {
              "outlinewidth": 0,
              "ticks": ""
             }
            },
            "type": "scattermap"
           }
          ],
          "scattermapbox": [
           {
            "marker": {
             "colorbar": {
              "outlinewidth": 0,
              "ticks": ""
             }
            },
            "type": "scattermapbox"
           }
          ],
          "scatterpolar": [
           {
            "marker": {
             "colorbar": {
              "outlinewidth": 0,
              "ticks": ""
             }
            },
            "type": "scatterpolar"
           }
          ],
          "scatterpolargl": [
           {
            "marker": {
             "colorbar": {
              "outlinewidth": 0,
              "ticks": ""
             }
            },
            "type": "scatterpolargl"
           }
          ],
          "scatterternary": [
           {
            "marker": {
             "colorbar": {
              "outlinewidth": 0,
              "ticks": ""
             }
            },
            "type": "scatterternary"
           }
          ],
          "surface": [
           {
            "colorbar": {
             "outlinewidth": 0,
             "ticks": ""
            },
            "colorscale": [
             [
              0,
              "#0d0887"
             ],
             [
              0.1111111111111111,
              "#46039f"
             ],
             [
              0.2222222222222222,
              "#7201a8"
             ],
             [
              0.3333333333333333,
              "#9c179e"
             ],
             [
              0.4444444444444444,
              "#bd3786"
             ],
             [
              0.5555555555555556,
              "#d8576b"
             ],
             [
              0.6666666666666666,
              "#ed7953"
             ],
             [
              0.7777777777777778,
              "#fb9f3a"
             ],
             [
              0.8888888888888888,
              "#fdca26"
             ],
             [
              1,
              "#f0f921"
             ]
            ],
            "type": "surface"
           }
          ],
          "table": [
           {
            "cells": {
             "fill": {
              "color": "#EBF0F8"
             },
             "line": {
              "color": "white"
             }
            },
            "header": {
             "fill": {
              "color": "#C8D4E3"
             },
             "line": {
              "color": "white"
             }
            },
            "type": "table"
           }
          ]
         },
         "layout": {
          "annotationdefaults": {
           "arrowcolor": "#2a3f5f",
           "arrowhead": 0,
           "arrowwidth": 1
          },
          "autotypenumbers": "strict",
          "coloraxis": {
           "colorbar": {
            "outlinewidth": 0,
            "ticks": ""
           }
          },
          "colorscale": {
           "diverging": [
            [
             0,
             "#8e0152"
            ],
            [
             0.1,
             "#c51b7d"
            ],
            [
             0.2,
             "#de77ae"
            ],
            [
             0.3,
             "#f1b6da"
            ],
            [
             0.4,
             "#fde0ef"
            ],
            [
             0.5,
             "#f7f7f7"
            ],
            [
             0.6,
             "#e6f5d0"
            ],
            [
             0.7,
             "#b8e186"
            ],
            [
             0.8,
             "#7fbc41"
            ],
            [
             0.9,
             "#4d9221"
            ],
            [
             1,
             "#276419"
            ]
           ],
           "sequential": [
            [
             0,
             "#0d0887"
            ],
            [
             0.1111111111111111,
             "#46039f"
            ],
            [
             0.2222222222222222,
             "#7201a8"
            ],
            [
             0.3333333333333333,
             "#9c179e"
            ],
            [
             0.4444444444444444,
             "#bd3786"
            ],
            [
             0.5555555555555556,
             "#d8576b"
            ],
            [
             0.6666666666666666,
             "#ed7953"
            ],
            [
             0.7777777777777778,
             "#fb9f3a"
            ],
            [
             0.8888888888888888,
             "#fdca26"
            ],
            [
             1,
             "#f0f921"
            ]
           ],
           "sequentialminus": [
            [
             0,
             "#0d0887"
            ],
            [
             0.1111111111111111,
             "#46039f"
            ],
            [
             0.2222222222222222,
             "#7201a8"
            ],
            [
             0.3333333333333333,
             "#9c179e"
            ],
            [
             0.4444444444444444,
             "#bd3786"
            ],
            [
             0.5555555555555556,
             "#d8576b"
            ],
            [
             0.6666666666666666,
             "#ed7953"
            ],
            [
             0.7777777777777778,
             "#fb9f3a"
            ],
            [
             0.8888888888888888,
             "#fdca26"
            ],
            [
             1,
             "#f0f921"
            ]
           ]
          },
          "colorway": [
           "#636efa",
           "#EF553B",
           "#00cc96",
           "#ab63fa",
           "#FFA15A",
           "#19d3f3",
           "#FF6692",
           "#B6E880",
           "#FF97FF",
           "#FECB52"
          ],
          "font": {
           "color": "#2a3f5f"
          },
          "geo": {
           "bgcolor": "white",
           "lakecolor": "white",
           "landcolor": "#E5ECF6",
           "showlakes": true,
           "showland": true,
           "subunitcolor": "white"
          },
          "hoverlabel": {
           "align": "left"
          },
          "hovermode": "closest",
          "mapbox": {
           "style": "light"
          },
          "paper_bgcolor": "white",
          "plot_bgcolor": "#E5ECF6",
          "polar": {
           "angularaxis": {
            "gridcolor": "white",
            "linecolor": "white",
            "ticks": ""
           },
           "bgcolor": "#E5ECF6",
           "radialaxis": {
            "gridcolor": "white",
            "linecolor": "white",
            "ticks": ""
           }
          },
          "scene": {
           "xaxis": {
            "backgroundcolor": "#E5ECF6",
            "gridcolor": "white",
            "gridwidth": 2,
            "linecolor": "white",
            "showbackground": true,
            "ticks": "",
            "zerolinecolor": "white"
           },
           "yaxis": {
            "backgroundcolor": "#E5ECF6",
            "gridcolor": "white",
            "gridwidth": 2,
            "linecolor": "white",
            "showbackground": true,
            "ticks": "",
            "zerolinecolor": "white"
           },
           "zaxis": {
            "backgroundcolor": "#E5ECF6",
            "gridcolor": "white",
            "gridwidth": 2,
            "linecolor": "white",
            "showbackground": true,
            "ticks": "",
            "zerolinecolor": "white"
           }
          },
          "shapedefaults": {
           "line": {
            "color": "#2a3f5f"
           }
          },
          "ternary": {
           "aaxis": {
            "gridcolor": "white",
            "linecolor": "white",
            "ticks": ""
           },
           "baxis": {
            "gridcolor": "white",
            "linecolor": "white",
            "ticks": ""
           },
           "bgcolor": "#E5ECF6",
           "caxis": {
            "gridcolor": "white",
            "linecolor": "white",
            "ticks": ""
           }
          },
          "title": {
           "x": 0.05
          },
          "xaxis": {
           "automargin": true,
           "gridcolor": "white",
           "linecolor": "white",
           "ticks": "",
           "title": {
            "standoff": 15
           },
           "zerolinecolor": "white",
           "zerolinewidth": 2
          },
          "yaxis": {
           "automargin": true,
           "gridcolor": "white",
           "linecolor": "white",
           "ticks": "",
           "title": {
            "standoff": 15
           },
           "zerolinecolor": "white",
           "zerolinewidth": 2
          }
         }
        },
        "title": {
         "text": "Velocidades Máximas - Partido San Andres"
        },
        "xaxis": {
         "tickangle": -45,
         "title": {
          "text": "Jugador"
         }
        },
        "yaxis": {
         "gridcolor": "rgb(220, 220, 220)",
         "title": {
          "text": "Velocidad Máxima (m/s)"
         }
        }
       }
      }
     },
     "metadata": {},
     "output_type": "display_data"
    },
    {
     "data": {
      "text/html": [
       "<div>\n",
       "<style scoped>\n",
       "    .dataframe tbody tr th:only-of-type {\n",
       "        vertical-align: middle;\n",
       "    }\n",
       "\n",
       "    .dataframe tbody tr th {\n",
       "        vertical-align: top;\n",
       "    }\n",
       "\n",
       "    .dataframe thead th {\n",
       "        text-align: right;\n",
       "    }\n",
       "</style>\n",
       "<table border=\"1\" class=\"dataframe\">\n",
       "  <thead>\n",
       "    <tr style=\"text-align: right;\">\n",
       "      <th></th>\n",
       "      <th>Player Name</th>\n",
       "      <th>Top Speed (m/s)</th>\n",
       "    </tr>\n",
       "  </thead>\n",
       "  <tbody>\n",
       "    <tr>\n",
       "      <th>28</th>\n",
       "      <td>Damioli Bautista</td>\n",
       "      <td>24</td>\n",
       "    </tr>\n",
       "    <tr>\n",
       "      <th>21</th>\n",
       "      <td>Fer Fernandez</td>\n",
       "      <td>28</td>\n",
       "    </tr>\n",
       "    <tr>\n",
       "      <th>18</th>\n",
       "      <td>Franco Suarez</td>\n",
       "      <td>29</td>\n",
       "    </tr>\n",
       "    <tr>\n",
       "      <th>19</th>\n",
       "      <td>Olivero Esteban</td>\n",
       "      <td>29</td>\n",
       "    </tr>\n",
       "    <tr>\n",
       "      <th>25</th>\n",
       "      <td>Cachaza Pato</td>\n",
       "      <td>29</td>\n",
       "    </tr>\n",
       "    <tr>\n",
       "      <th>26</th>\n",
       "      <td>Nicolas Morena</td>\n",
       "      <td>29</td>\n",
       "    </tr>\n",
       "    <tr>\n",
       "      <th>20</th>\n",
       "      <td>Orrico Santiago</td>\n",
       "      <td>30</td>\n",
       "    </tr>\n",
       "    <tr>\n",
       "      <th>27</th>\n",
       "      <td>Portunato Sebastian</td>\n",
       "      <td>30</td>\n",
       "    </tr>\n",
       "    <tr>\n",
       "      <th>23</th>\n",
       "      <td>Rivera Cano Blas</td>\n",
       "      <td>32</td>\n",
       "    </tr>\n",
       "    <tr>\n",
       "      <th>24</th>\n",
       "      <td>Cechi Mateo</td>\n",
       "      <td>32</td>\n",
       "    </tr>\n",
       "    <tr>\n",
       "      <th>22</th>\n",
       "      <td>Lorito</td>\n",
       "      <td>33</td>\n",
       "    </tr>\n",
       "  </tbody>\n",
       "</table>\n",
       "</div>"
      ],
      "text/plain": [
       "            Player Name  Top Speed (m/s)\n",
       "28     Damioli Bautista               24\n",
       "21        Fer Fernandez               28\n",
       "18        Franco Suarez               29\n",
       "19      Olivero Esteban               29\n",
       "25         Cachaza Pato               29\n",
       "26       Nicolas Morena               29\n",
       "20      Orrico Santiago               30\n",
       "27  Portunato Sebastian               30\n",
       "23     Rivera Cano Blas               32\n",
       "24          Cechi Mateo               32\n",
       "22               Lorito               33"
      ]
     },
     "metadata": {},
     "output_type": "display_data"
    }
   ],
   "source": [
    "# Ordenar por velocidad ascendente\n",
    "velocidades_ordenadas = df_ultima_sesion[['Player Name', 'Top Speed (m/s)']] \\\n",
    "    .sort_values('Top Speed (m/s)', ascending=True)\n",
    "\n",
    "# Crear gráfico con Plotly\n",
    "fig = go.Figure()\n",
    "\n",
    "# Añadir barras para velocidades\n",
    "fig.add_trace(go.Bar(\n",
    "    x=velocidades_ordenadas['Player Name'],\n",
    "    y=velocidades_ordenadas['Top Speed (m/s)'],\n",
    "    text=velocidades_ordenadas['Top Speed (m/s)'].round(1),\n",
    "    textposition='outside',\n",
    "    marker_color='rgb(70, 70, 70)',\n",
    "    hovertemplate='<b>%{x}</b><br>Velocidad Máxima: %{y:.1f} m/s<extra></extra>'\n",
    "))\n",
    "\n",
    "# Actualizar diseño\n",
    "fig.update_layout(\n",
    "    title=f'Velocidades Máximas - {ultima_sesion}',\n",
    "    xaxis=dict(\n",
    "        title='Jugador',\n",
    "        tickangle=-45\n",
    "    ),\n",
    "    yaxis=dict(\n",
    "        title='Velocidad Máxima (m/s)',\n",
    "        gridcolor='rgb(220, 220, 220)'\n",
    "    ),\n",
    "    plot_bgcolor='rgb(250, 250, 250)',\n",
    "    paper_bgcolor='rgb(250, 250, 250)',\n",
    "    showlegend=False,\n",
    "    height=600\n",
    ")\n",
    "\n",
    "# Mostrar gráfico\n",
    "fig.show()\n",
    "\n",
    "# Mostrar tabla de resultados\n",
    "display(velocidades_ordenadas)"
   ]
  },
  {
   "cell_type": "code",
   "execution_count": null,
   "id": "16df1bb7",
   "metadata": {},
   "outputs": [],
   "source": []
  },
  {
   "cell_type": "code",
   "execution_count": null,
   "id": "eb50f364",
   "metadata": {},
   "outputs": [],
   "source": []
  },
  {
   "cell_type": "code",
   "execution_count": null,
   "id": "250112c7",
   "metadata": {},
   "outputs": [],
   "source": []
  }
 ],
 "metadata": {
  "kernelspec": {
   "display_name": "Python 3",
   "language": "python",
   "name": "python3"
  },
  "language_info": {
   "codemirror_mode": {
    "name": "ipython",
    "version": 3
   },
   "file_extension": ".py",
   "mimetype": "text/x-python",
   "name": "python",
   "nbconvert_exporter": "python",
   "pygments_lexer": "ipython3",
   "version": "3.11.2"
  }
 },
 "nbformat": 4,
 "nbformat_minor": 5
}
