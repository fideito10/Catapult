{
 "cells": [
  {
   "cell_type": "code",
   "execution_count": 10,
   "id": "98255385",
   "metadata": {},
   "outputs": [
    {
     "name": "stdout",
     "output_type": "stream",
     "text": [
      "         Date  Session Title      Player Name Split Name      Tags  \\\n",
      "0  16/08/2021  Entrenamiento  Orrico Santiago     Fisico  training   \n",
      "1  16/08/2021  Entrenamiento           Lorito     Fisico  training   \n",
      "2  17/08/2021  Entrenamiento           Lorito     Fisico  training   \n",
      "3  17/08/2021  Entrenamiento  Orrico Santiago     Fisico  training   \n",
      "4  19/08/2021  Entrenamiento  Orrico Santiago     Fisico  training   \n",
      "\n",
      "  Split Start Time Split End Time  Duration Distance (km) Sprint Distance (m)  \\\n",
      "0       16/08/2021     16/08/2021      3810          3,05                  89   \n",
      "1       16/08/2021     16/08/2021      3780          2,51                  50   \n",
      "2       17/08/2021     17/08/2021      6622          6,21                 433   \n",
      "3       17/08/2021     17/08/2021      6864          6,78                 932   \n",
      "4       19/08/2021     19/08/2021      5509          5,92                 687   \n",
      "\n",
      "   ...  Accelerations Zone Count: 2 - 3 m/s/s  \\\n",
      "0  ...                                     33   \n",
      "1  ...                                     23   \n",
      "2  ...                                     59   \n",
      "3  ...                                     61   \n",
      "4  ...                                     56   \n",
      "\n",
      "  Accelerations Zone Count: 3 - 4 m/s/s  Accelerations Zone Count: > 4 m/s/s  \\\n",
      "0                                    12                                    3   \n",
      "1                                    14                                    1   \n",
      "2                                    70                                   31   \n",
      "3                                    71                                   51   \n",
      "4                                    35                                   13   \n",
      "\n",
      "   Deceleration Zone Count: 0 - 1 m/s/s  Deceleration Zone Count: 1 - 2 m/s/s  \\\n",
      "0                                     0                                    34   \n",
      "1                                     0                                    35   \n",
      "2                                     0                                    96   \n",
      "3                                     0                                    77   \n",
      "4                                     0                                    66   \n",
      "\n",
      "  Deceleration Zone Count: 2 - 3 m/s/s Deceleration Zone Count: 3 - 4 m/s/s  \\\n",
      "0                                   23                                   10   \n",
      "1                                   32                                    5   \n",
      "2                                   59                                   46   \n",
      "3                                   75                                   36   \n",
      "4                                   52                                   17   \n",
      "\n",
      "  Deceleration Zone Count: > 4 m/s/s Unnamed: 98 Unnamed: 99  \n",
      "0                                  7         NaN         NaN  \n",
      "1                                  4         NaN         NaN  \n",
      "2                                 19         NaN         NaN  \n",
      "3                                 59         NaN         NaN  \n",
      "4                                 10         NaN         NaN  \n",
      "\n",
      "[5 rows x 100 columns]\n"
     ]
    }
   ],
   "source": [
    "# Método alternativo usando pandas directamente\n",
    "import pandas as pd\n",
    "\n",
    "# URL en formato CSV (adaptamos la URL del documento)\n",
    "sheet_id = \"1kajUuZwL9l1suipRNy7t2g_SGJUcDVh6MeTu66yK-Z4\"\n",
    "url = f\"https://docs.google.com/spreadsheets/d/{sheet_id}/export?format=csv\"\n",
    "\n",
    "try:\n",
    "    # Leer directamente como DataFrame\n",
    "    df = pd.read_csv(url)\n",
    "    \n",
    "    # Mostrar primeros registros\n",
    "    print(df.head())\n",
    "except Exception as e:\n",
    "    print(f\"Error al acceder al documento: {e}\")\n",
    "    print(\"Nota: Este método solo funciona si la hoja es pública o tienes permisos de acceso.\")"
   ]
  },
  {
   "cell_type": "code",
   "execution_count": 11,
   "id": "0d1078e6",
   "metadata": {},
   "outputs": [
    {
     "name": "stdout",
     "output_type": "stream",
     "text": [
      "['Date', 'Session Title', 'Player Name', 'Split Name', 'Tags', 'Split Start Time', 'Split End Time', 'Duration', 'Distance (km)', 'Sprint Distance (m)', 'Power Plays', 'Energy (kcal)', 'Impacts', 'Hr Load', 'Time In Red Zone (min)', 'Player Load (estres mecanico)', 'Top Speed (m/s)', 'Distance Per Min (m/min)', 'Power Score (w/kg)', 'Work Ratio', 'Hr Max (bpm)', 'Distance in Speed Zone 1 (km)', 'Distance in Speed Zone 2 (km)', 'Distance in Speed Zone 3 (km)', 'Distance in Speed Zone 4 (km)', 'Distance in Speed Zone 5 (km)', 'Time in Speed Zone 1 (secs)', 'Time in Speed Zone 2 (secs)', 'Time in Speed Zone 3 (secs)', 'Time in Speed Zone 4 (secs)', 'Time in Speed Zone 5 (secs)', 'Impact Zones: 3 - 5 G (Impacts)', 'Impact Zones: 5 - 10 G (Impacts)', 'Impact Zones: 10 - 15 G (Impacts)', 'Impact Zones: 15 - 20 G (Impacts)', 'Impact Zones: > 20 G (Impacts)', 'Power Play Duration Zones: 0 - 2.5 s (Power Plays)', 'Power Play Duration Zones: 2.5 - 5 s (Power Plays)', 'Power Play Duration Zones: 5 - 7.5 s (Power Plays)', 'Power Play Duration Zones: 7.5 - 10 s (Power Plays)', 'Power Play Duration Zones: > 10 s (Power Plays)', 'Distance in Deceleration Zones: 0 - 1 m/s/s (km)', 'Distance in Deceleration Zones: 1 - 2 m/s/s (km)', 'Distance in Deceleration Zones: 2 - 3 m/s/s (km)', 'Distance in Deceleration Zones: 3 - 4 m/s/s (km)', 'Distance in Deceleration Zones: > 4 m/s/s (km)', 'Time in Deceleration Zones: 0 - 1 m/s/s (secs)', 'Time in Deceleration Zones: 1 - 2 m/s/s (secs)', 'Time in Deceleration Zones: 2 - 3 m/s/s (secs)', 'Time in Deceleration Zones: 3 - 4 m/s/s (secs)', 'Time in Deceleration Zones: > 4 m/s/s (secs)', 'Distance in Acceleration Zones: 0 - 1 m/s/s (km)', 'Distance in Acceleration Zones: 1 - 2 m/s/s (km)', 'Distance in Acceleration Zones: 2 - 3 m/s/s (km)', 'Distance in Acceleration Zones: 3 - 4 m/s/s (km)', 'Distance in Acceleration Zones: > 4 m/s/s (km)', 'Time in Acceleration Zones: 0 - 1 m/s/s (secs)', 'Time in Acceleration Zones: 1 - 2 m/s/s (secs)', 'Time in Acceleration Zones: 2 - 3 m/s/s (secs)', 'Time in Acceleration Zones: 3 - 4 m/s/s (secs)', 'Time in Acceleration Zones: > 4 m/s/s (secs)', 'Distance in Power Zone: 0 - 5 w/kg (km)', 'Distance in Power Zone: 5 - 10 w/kg (km)', 'Distance in Power Zone: 10 - 15 w/kg (km)', 'Distance in Power Zone: 15 - 20 w/kg (km)', 'Distance in Power Zone: 20 - 25 w/kg (km)', 'Distance in Power Zone: 25 - 30 w/kg (km)', 'Distance in Power Zone: 30 - 35 w/kg (km)', 'Distance in Power Zone: 35 - 40 w/kg (km)', 'Distance in Power Zone: 40 - 45 w/kg (km)', 'Distance in Power Zone: 45 - 50 w/kg (km)', 'Distance in Power Zone: > 50 w/kg (km)', 'Time in Power Zone: 0 - 5 w/kg (secs)', 'Time in Power Zone: 5 - 10 w/kg (secs)', 'Time in Power Zone: 10 - 15 w/kg (secs)', 'Time in Power Zone: 15 - 20 w/kg (secs)', 'Time in Power Zone: 20 - 25 w/kg (secs)', 'Time in Power Zone: 25 - 30 w/kg (secs)', 'Time in Power Zone: 30 - 35 w/kg (secs)', 'Time in Power Zone: 35 - 40 w/kg (secs)', 'Time in Power Zone: 40 - 45 w/kg (secs)', 'Time in Power Zone: 45 - 50 w/kg (secs)', 'Time in Power Zone: > 50 w/kg (secs)', 'Time in HR Load Zone 0% - 60% Max HR(secs)', 'Time in HR Load Zone 60% - 75% Max HR (secs)', 'Time in HR Load Zone 75% - 85% Max HR (secs)', 'Time in HR Load Zone 85% - 96% Max HR (secs)', 'Time in HR Load Zone 96% - 100% Max HR (secs)', 'Accelerations Zone Count: 0 - 1 m/s/s', 'Accelerations Zone Count: 1 - 2 m/s/s', 'Accelerations Zone Count: 2 - 3 m/s/s', 'Accelerations Zone Count: 3 - 4 m/s/s', 'Accelerations Zone Count: > 4 m/s/s', 'Deceleration Zone Count: 0 - 1 m/s/s', 'Deceleration Zone Count: 1 - 2 m/s/s', 'Deceleration Zone Count: 2 - 3 m/s/s', 'Deceleration Zone Count: 3 - 4 m/s/s', 'Deceleration Zone Count: > 4 m/s/s', 'Unnamed: 98', 'Unnamed: 99']\n"
     ]
    }
   ],
   "source": [
    "# Imprimir las columnas del DataFrame\n",
    "print(df.columns.tolist())"
   ]
  },
  {
   "cell_type": "code",
   "execution_count": null,
   "id": "f81b506f",
   "metadata": {},
   "outputs": [],
   "source": [
    "yer Name', 'Split Name', 'Tags', 'Split Start Time', 'Split End Time', 'Duration', 'Distance (km)', 'Sprint Distance (m)', 'Power Plays', 'Energy (kcal)', 'Impacts', 'Hr Load', 'Time In Red Zone (min)', 'Player Load (estres mecanico)', 'Top Speed (m/s)', 'Distance Per Min (m/min)', 'Power Score (w/kg)', 'Work Ratio', 'Hr Max (bpm)', 'Distance in Speed Zone 1 (km)', 'Distance in Speed Zone 2 (km)', 'Distance in Speed Zone 3 (km)', 'Distance in Speed Zone 4 (km)', 'Distance in Speed Zone 5 (km)', 'Time in Speed Zone 1 (secs)', 'Time in Speed Zone 2 (secs)', 'Time in Speed Zone 3 (secs)', 'Time in Speed Zone 4 (secs)', 'Time in Speed Zone 5 (secs)', 'Impact Zones: 3 - 5 G (Impacts)', 'Impact Zones: 5 - 10 G (Impacts)', 'Impact Zones: 10 - 15 G (Impacts)', 'Impact Zones: 15 - 20 G (Impacts)', 'Impact Zones: > 20 G (Impacts)', 'Power Play Duration Zones: 0 - 2.5 s (Power Plays)', 'Power Play Duration Zones: 2.5 - 5 s (Power Plays)', 'Power Play Duration Zones: 5 - 7.5 s (Power Plays)', 'Power Play Duration Zones: 7.5 - 10 s (Power Plays)', 'Power Play Duration Zones: > 10 s (Power Plays)', 'Distance in Deceleration Zones: 0 - 1 m/s/s (km)', 'Distance in Deceleration Zones: 1 - 2 m/s/s (km)', 'Distance in Deceleration Zones: 2 - 3 m/s/s (km)', 'Distance in Deceleration Zones: 3 - 4 m/s/s (km)', 'Distance in Deceleration Zones: > 4 m/s/s (km)', 'Time in Deceleration Zones: 0 - 1 m/s/s (secs)', 'Time in Deceleration Zones: 1 - 2 m/s/s (secs)', 'Time in Deceleration Zones: 2 - 3 m/s/s (secs)', 'Time in Deceleration Zones: 3 - 4 m/s/s (secs)', 'Time in Deceleration Zones: > 4 m/s/s (secs)', 'Distance in Acceleration Zones: 0 - 1 m/s/s (km)', 'Distance in Acceleration Zones: 1 - 2 m/s/s (km)', 'Distance in Acceleration Zones: 2 - 3 m/s/s (km)', 'Distance in Acceleration Zones: 3 - 4 m/s/s (km)', 'Distance in Acceleration Zones: > 4 m/s/s (km)', 'Time in Acceleration Zones: 0 - 1 m/s/s (secs)', 'Time in Acceleration Zones: 1 - 2 m/s/s (secs)', 'Time in Acceleration Zones: 2 - 3 m/s/s (secs)', 'Time in Acceleration Zones: 3 - 4 m/s/s (secs)', 'Time in Acceleration Zones: > 4 m/s/s (secs)', 'Distance in Power Zone: 0 - 5 w/kg (km)', 'Distance in Power Zone: 5 - 10 w/kg (km)', 'Distance in Power Zone: 10 - 15 w/kg (km)', 'Distance in Power Zone: 15 - 20 w/kg (km)', 'Distance in Power Zone: 20 - 25 w/kg (km)', 'Distance in Power Zone: 25 - 30 w/kg (km)', 'Distance in Power Zone: 30 - 35 w/kg (km)', 'Distance in Power Zone: 35 - 40 w/kg (km)', 'Distance in Power Zone: 40 - 45 w/kg (km)', 'Distance in Power Zone: 45 - 50 w/kg (km)', 'Distance in Power Zone: > 50 w/kg (km)', 'Time in Power Zone: 0 - 5 w/kg (secs)', 'Time in Power Zone: 5 - 10 w/kg (secs)', 'Time in Power Zone: 10 - 15 w/kg (secs)', 'Time in Power Zone: 15 - 20 w/kg (secs)', 'Time in Power Zone: 20 - 25 w/kg (secs)', 'Time in Power Zone: 25 - 30 w/kg (secs)', 'Time in Power Zone: 30 - 35 w/kg (secs)', 'Time in Power Zone: 35 - 40 w/kg (secs)', 'Time in Power Zone: 40 - 45 w/kg (secs)', 'Time in Power Zone: 45 - 50 w/kg (secs)', 'Time in Power Zone: > 50 w/kg (secs)', 'Time in HR Load Zone 0% - 60% Max HR(secs)', 'Time in HR Load Zone 60% - 75% Max HR (secs)', 'Time in HR Load Zone 75% - 85% Max HR (secs)', 'Time in HR Load Zone 85% - 96% Max HR (secs)', 'Time in HR Load Zone 96% - 100% Max HR (secs)', 'Accelerations Zone Count: 0 - 1 m/s/s', 'Accelerations Zone Count: 1 - 2 m/s/s', 'Accelerations Zone Count: 2 - 3 m/s/s', 'Accelerations Zone Count: 3 - 4 m/s/s', 'Accelerations Zone Count: > 4 m/s/s', 'Deceleration Zone Count: 0 - 1 m/s/s', 'Deceleration Zone Count: 1 - 2 m/s/s', 'Deceleration Zone Count: 2 - 3 m/s/s', 'Deceleration Zone Count: 3 - 4 m/s/s', 'Deceleration Zone Count: > 4 m/s/s', 'Unnamed: 98', 'Unnamed: 99']['Date', 'Session Title', 'Pla"
   ]
  },
  {
   "cell_type": "code",
   "execution_count": null,
   "id": "5fa41cd9",
   "metadata": {},
   "outputs": [],
   "source": []
  }
 ],
 "metadata": {
  "kernelspec": {
   "display_name": "Python 3",
   "language": "python",
   "name": "python3"
  },
  "language_info": {
   "codemirror_mode": {
    "name": "ipython",
    "version": 3
   },
   "file_extension": ".py",
   "mimetype": "text/x-python",
   "name": "python",
   "nbconvert_exporter": "python",
   "pygments_lexer": "ipython3",
   "version": "3.13.2"
  }
 },
 "nbformat": 4,
 "nbformat_minor": 5
}
