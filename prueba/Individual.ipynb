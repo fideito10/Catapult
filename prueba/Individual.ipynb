{
 "cells": [
  {
   "cell_type": "code",
   "execution_count": 1,
   "id": "98255385",
   "metadata": {},
   "outputs": [
    {
     "name": "stdout",
     "output_type": "stream",
     "text": [
      "         Date Session Title       Player Name Split Name      Tags  \\\n",
      "0  15/04/2025   martes 15-4   Orrico Santiago        all  training   \n",
      "1  15/04/2025   martes 15-4     Espinosa Fede        all  training   \n",
      "2  15/04/2025   martes 15-4  Rivera Cano Blas        all  training   \n",
      "3  15/04/2025   martes 15-4  Esquerren Fermin        all  training   \n",
      "4  15/04/2025   martes 15-4    Urrejola Fabio        all  training   \n",
      "\n",
      "  Split Start Time Split End Time  Duration Distance (km) Sprint Distance (m)  \\\n",
      "0       45762,8417     45762,9045      5426        5,6323                2033   \n",
      "1       45762,8383     45762,9316      8058        6,4806                2108   \n",
      "2        45762,788     45762,9321     12457        6,7728                1142   \n",
      "3       45762,8383     45762,9329      8175        6,4737                1795   \n",
      "4       45762,8383     45762,9091      6115        4,5099                 586   \n",
      "\n",
      "   ...  Accelerations Zone Count: 2 - 3 m/s/s  \\\n",
      "0  ...                                      0   \n",
      "1  ...                                      0   \n",
      "2  ...                                      0   \n",
      "3  ...                                      0   \n",
      "4  ...                                      0   \n",
      "\n",
      "  Accelerations Zone Count: 3 - 4 m/s/s  Accelerations Zone Count: > 4 m/s/s  \\\n",
      "0                                    17                                   14   \n",
      "1                                    26                                   32   \n",
      "2                                    30                                   32   \n",
      "3                                    60                                   29   \n",
      "4                                    45                                   32   \n",
      "\n",
      "   Deceleration Zone Count: 0 - 1 m/s/s  Deceleration Zone Count: 1 - 2 m/s/s  \\\n",
      "0                                    38                                    24   \n",
      "1                                    37                                    38   \n",
      "2                                    55                                    15   \n",
      "3                                    50                                    19   \n",
      "4                                    42                                     2   \n",
      "\n",
      "  Deceleration Zone Count: 2 - 3 m/s/s Deceleration Zone Count: 3 - 4 m/s/s  \\\n",
      "0                                    0                                   19   \n",
      "1                                    0                                   41   \n",
      "2                                    0                                   44   \n",
      "3                                    0                                   66   \n",
      "4                                    0                                   56   \n",
      "\n",
      "  Deceleration Zone Count: > 4 m/s/s Unnamed: 98 Unnamed: 99  \n",
      "0                                 42           3          27  \n",
      "1                                 49          21          14  \n",
      "2                                 42          25           9  \n",
      "3                                 55          20          16  \n",
      "4                                 56           9           0  \n",
      "\n",
      "[5 rows x 100 columns]\n"
     ]
    }
   ],
   "source": [
    "# Método alternativo usando pandas directamente\n",
    "import pandas as pd\n",
    "\n",
    "# URL en formato CSV (adaptamos la URL del documento)\n",
    "sheet_id = \"1kajUuZwL9l1suipRNy7t2g_SGJUcDVh6MeTu66yK-Z4\"\n",
    "url = f\"https://docs.google.com/spreadsheets/d/{sheet_id}/export?format=csv\"\n",
    "\n",
    "try:\n",
    "    # Leer directamente como DataFrame\n",
    "    df = pd.read_csv(url)\n",
    "    \n",
    "    # Mostrar primeros registros\n",
    "    print(df.head())\n",
    "except Exception as e:\n",
    "    print(f\"Error al acceder al documento: {e}\")\n",
    "    print(\"Nota: Este método solo funciona si la hoja es pública o tienes permisos de acceso.\")"
   ]
  },
  {
   "cell_type": "code",
   "execution_count": 2,
   "id": "0d1078e6",
   "metadata": {},
   "outputs": [
    {
     "name": "stdout",
     "output_type": "stream",
     "text": [
      "['Date', 'Session Title', 'Player Name', 'Split Name', 'Tags', 'Split Start Time', 'Split End Time', 'Duration', 'Distance (km)', 'Sprint Distance (m)', 'Power Plays', 'Energy (kcal)', 'Impacts', 'Hr Load', 'Time In Red Zone (min)', 'Player Load (estres mecanico)', 'Top Speed (m/s)', 'Distance Per Min (m/min)', 'Power Score (w/kg)', 'Work Ratio', 'Hr Max (bpm)', 'Distance in Speed Zone 1 (km)', 'Distance in Speed Zone 2 (km)', 'Distance in Speed Zone 3 (km)', 'Distance in Speed Zone 4 (km)', 'Distance in Speed Zone 5 (km)', 'Time in Speed Zone 1 (secs)', 'Time in Speed Zone 2 (secs)', 'Time in Speed Zone 3 (secs)', 'Time in Speed Zone 4 (secs)', 'Time in Speed Zone 5 (secs)', 'Impact Zones: 3 - 5 G (Impacts)', 'Impact Zones: 5 - 10 G (Impacts)', 'Impact Zones: 10 - 15 G (Impacts)', 'Impact Zones: 15 - 20 G (Impacts)', 'Impact Zones: > 20 G (Impacts)', 'Power Play Duration Zones: 0 - 2.5 s (Power Plays)', 'Power Play Duration Zones: 2.5 - 5 s (Power Plays)', 'Power Play Duration Zones: 5 - 7.5 s (Power Plays)', 'Power Play Duration Zones: 7.5 - 10 s (Power Plays)', 'Power Play Duration Zones: > 10 s (Power Plays)', 'Distance in Deceleration Zones: 0 - 1 m/s/s (km)', 'Distance in Deceleration Zones: 1 - 2 m/s/s (km)', 'Distance in Deceleration Zones: 2 - 3 m/s/s (km)', 'Distance in Deceleration Zones: 3 - 4 m/s/s (km)', 'Distance in Deceleration Zones: > 4 m/s/s (km)', 'Time in Deceleration Zones: 0 - 1 m/s/s (secs)', 'Time in Deceleration Zones: 1 - 2 m/s/s (secs)', 'Time in Deceleration Zones: 2 - 3 m/s/s (secs)', 'Time in Deceleration Zones: 3 - 4 m/s/s (secs)', 'Time in Deceleration Zones: > 4 m/s/s (secs)', 'Distance in Acceleration Zones: 0 - 1 m/s/s (km)', 'Distance in Acceleration Zones: 1 - 2 m/s/s (km)', 'Distance in Acceleration Zones: 2 - 3 m/s/s (km)', 'Distance in Acceleration Zones: 3 - 4 m/s/s (km)', 'Distance in Acceleration Zones: > 4 m/s/s (km)', 'Time in Acceleration Zones: 0 - 1 m/s/s (secs)', 'Time in Acceleration Zones: 1 - 2 m/s/s (secs)', 'Time in Acceleration Zones: 2 - 3 m/s/s (secs)', 'Time in Acceleration Zones: 3 - 4 m/s/s (secs)', 'Time in Acceleration Zones: > 4 m/s/s (secs)', 'Distance in Power Zone: 0 - 5 w/kg (km)', 'Distance in Power Zone: 5 - 10 w/kg (km)', 'Distance in Power Zone: 10 - 15 w/kg (km)', 'Distance in Power Zone: 15 - 20 w/kg (km)', 'Distance in Power Zone: 20 - 25 w/kg (km)', 'Distance in Power Zone: 25 - 30 w/kg (km)', 'Distance in Power Zone: 30 - 35 w/kg (km)', 'Distance in Power Zone: 35 - 40 w/kg (km)', 'Distance in Power Zone: 40 - 45 w/kg (km)', 'Distance in Power Zone: 45 - 50 w/kg (km)', 'Distance in Power Zone: > 50 w/kg (km)', 'Time in Power Zone: 0 - 5 w/kg (secs)', 'Time in Power Zone: 5 - 10 w/kg (secs)', 'Time in Power Zone: 10 - 15 w/kg (secs)', 'Time in Power Zone: 15 - 20 w/kg (secs)', 'Time in Power Zone: 20 - 25 w/kg (secs)', 'Time in Power Zone: 25 - 30 w/kg (secs)', 'Time in Power Zone: 30 - 35 w/kg (secs)', 'Time in Power Zone: 35 - 40 w/kg (secs)', 'Time in Power Zone: 40 - 45 w/kg (secs)', 'Time in Power Zone: 45 - 50 w/kg (secs)', 'Time in Power Zone: > 50 w/kg (secs)', 'Time in HR Load Zone 0% - 60% Max HR(secs)', 'Time in HR Load Zone 60% - 75% Max HR (secs)', 'Time in HR Load Zone 75% - 85% Max HR (secs)', 'Time in HR Load Zone 85% - 96% Max HR (secs)', 'Time in HR Load Zone 96% - 100% Max HR (secs)', 'Accelerations Zone Count: 0 - 1 m/s/s', 'Accelerations Zone Count: 1 - 2 m/s/s', 'Accelerations Zone Count: 2 - 3 m/s/s', 'Accelerations Zone Count: 3 - 4 m/s/s', 'Accelerations Zone Count: > 4 m/s/s', 'Deceleration Zone Count: 0 - 1 m/s/s', 'Deceleration Zone Count: 1 - 2 m/s/s', 'Deceleration Zone Count: 2 - 3 m/s/s', 'Deceleration Zone Count: 3 - 4 m/s/s', 'Deceleration Zone Count: > 4 m/s/s', 'Unnamed: 98', 'Unnamed: 99']\n"
     ]
    }
   ],
   "source": [
    "# Imprimir las columnas del DataFrame\n",
    "print(df.columns.tolist())"
   ]
  },
  {
   "cell_type": "code",
   "execution_count": 3,
   "id": "f81b506f",
   "metadata": {},
   "outputs": [
    {
     "ename": "SyntaxError",
     "evalue": "invalid syntax (81752305.py, line 1)",
     "output_type": "error",
     "traceback": [
      "\u001b[1;36m  Cell \u001b[1;32mIn[3], line 1\u001b[1;36m\u001b[0m\n\u001b[1;33m    yer Name', 'Split Name', 'Tags', 'Split Start Time', 'Split End Time', 'Duration', 'Distance (km)', 'Sprint Distance (m)', 'Power Plays', 'Energy (kcal)', 'Impacts', 'Hr Load', 'Time In Red Zone (min)', 'Player Load (estres mecanico)', 'Top Speed (m/s)', 'Distance Per Min (m/min)', 'Power Score (w/kg)', 'Work Ratio', 'Hr Max (bpm)', 'Distance in Speed Zone 1 (km)', 'Distance in Speed Zone 2 (km)', 'Distance in Speed Zone 3 (km)', 'Distance in Speed Zone 4 (km)', 'Distance in Speed Zone 5 (km)', 'Time in Speed Zone 1 (secs)', 'Time in Speed Zone 2 (secs)', 'Time in Speed Zone 3 (secs)', 'Time in Speed Zone 4 (secs)', 'Time in Speed Zone 5 (secs)', 'Impact Zones: 3 - 5 G (Impacts)', 'Impact Zones: 5 - 10 G (Impacts)', 'Impact Zones: 10 - 15 G (Impacts)', 'Impact Zones: 15 - 20 G (Impacts)', 'Impact Zones: > 20 G (Impacts)', 'Power Play Duration Zones: 0 - 2.5 s (Power Plays)', 'Power Play Duration Zones: 2.5 - 5 s (Power Plays)', 'Power Play Duration Zones: 5 - 7.5 s (Power Plays)', 'Power Play Duration Zones: 7.5 - 10 s (Power Plays)', 'Power Play Duration Zones: > 10 s (Power Plays)', 'Distance in Deceleration Zones: 0 - 1 m/s/s (km)', 'Distance in Deceleration Zones: 1 - 2 m/s/s (km)', 'Distance in Deceleration Zones: 2 - 3 m/s/s (km)', 'Distance in Deceleration Zones: 3 - 4 m/s/s (km)', 'Distance in Deceleration Zones: > 4 m/s/s (km)', 'Time in Deceleration Zones: 0 - 1 m/s/s (secs)', 'Time in Deceleration Zones: 1 - 2 m/s/s (secs)', 'Time in Deceleration Zones: 2 - 3 m/s/s (secs)', 'Time in Deceleration Zones: 3 - 4 m/s/s (secs)', 'Time in Deceleration Zones: > 4 m/s/s (secs)', 'Distance in Acceleration Zones: 0 - 1 m/s/s (km)', 'Distance in Acceleration Zones: 1 - 2 m/s/s (km)', 'Distance in Acceleration Zones: 2 - 3 m/s/s (km)', 'Distance in Acceleration Zones: 3 - 4 m/s/s (km)', 'Distance in Acceleration Zones: > 4 m/s/s (km)', 'Time in Acceleration Zones: 0 - 1 m/s/s (secs)', 'Time in Acceleration Zones: 1 - 2 m/s/s (secs)', 'Time in Acceleration Zones: 2 - 3 m/s/s (secs)', 'Time in Acceleration Zones: 3 - 4 m/s/s (secs)', 'Time in Acceleration Zones: > 4 m/s/s (secs)', 'Distance in Power Zone: 0 - 5 w/kg (km)', 'Distance in Power Zone: 5 - 10 w/kg (km)', 'Distance in Power Zone: 10 - 15 w/kg (km)', 'Distance in Power Zone: 15 - 20 w/kg (km)', 'Distance in Power Zone: 20 - 25 w/kg (km)', 'Distance in Power Zone: 25 - 30 w/kg (km)', 'Distance in Power Zone: 30 - 35 w/kg (km)', 'Distance in Power Zone: 35 - 40 w/kg (km)', 'Distance in Power Zone: 40 - 45 w/kg (km)', 'Distance in Power Zone: 45 - 50 w/kg (km)', 'Distance in Power Zone: > 50 w/kg (km)', 'Time in Power Zone: 0 - 5 w/kg (secs)', 'Time in Power Zone: 5 - 10 w/kg (secs)', 'Time in Power Zone: 10 - 15 w/kg (secs)', 'Time in Power Zone: 15 - 20 w/kg (secs)', 'Time in Power Zone: 20 - 25 w/kg (secs)', 'Time in Power Zone: 25 - 30 w/kg (secs)', 'Time in Power Zone: 30 - 35 w/kg (secs)', 'Time in Power Zone: 35 - 40 w/kg (secs)', 'Time in Power Zone: 40 - 45 w/kg (secs)', 'Time in Power Zone: 45 - 50 w/kg (secs)', 'Time in Power Zone: > 50 w/kg (secs)', 'Time in HR Load Zone 0% - 60% Max HR(secs)', 'Time in HR Load Zone 60% - 75% Max HR (secs)', 'Time in HR Load Zone 75% - 85% Max HR (secs)', 'Time in HR Load Zone 85% - 96% Max HR (secs)', 'Time in HR Load Zone 96% - 100% Max HR (secs)', 'Accelerations Zone Count: 0 - 1 m/s/s', 'Accelerations Zone Count: 1 - 2 m/s/s', 'Accelerations Zone Count: 2 - 3 m/s/s', 'Accelerations Zone Count: 3 - 4 m/s/s', 'Accelerations Zone Count: > 4 m/s/s', 'Deceleration Zone Count: 0 - 1 m/s/s', 'Deceleration Zone Count: 1 - 2 m/s/s', 'Deceleration Zone Count: 2 - 3 m/s/s', 'Deceleration Zone Count: 3 - 4 m/s/s', 'Deceleration Zone Count: > 4 m/s/s', 'Unnamed: 98', 'Unnamed: 99']['Date', 'Session Title', 'Pla\u001b[0m\n\u001b[1;37m        ^\u001b[0m\n\u001b[1;31mSyntaxError\u001b[0m\u001b[1;31m:\u001b[0m invalid syntax\n"
     ]
    }
   ],
   "source": [
    "yer Name', 'Split Name', 'Tags', 'Split Start Time', 'Split End Time', 'Duration', 'Distance (km)', 'Sprint Distance (m)', 'Power Plays', 'Energy (kcal)', 'Impacts', 'Hr Load', 'Time In Red Zone (min)', 'Player Load (estres mecanico)', 'Top Speed (m/s)', 'Distance Per Min (m/min)', 'Power Score (w/kg)', 'Work Ratio', 'Hr Max (bpm)', 'Distance in Speed Zone 1 (km)', 'Distance in Speed Zone 2 (km)', 'Distance in Speed Zone 3 (km)', 'Distance in Speed Zone 4 (km)', 'Distance in Speed Zone 5 (km)', 'Time in Speed Zone 1 (secs)', 'Time in Speed Zone 2 (secs)', 'Time in Speed Zone 3 (secs)', 'Time in Speed Zone 4 (secs)', 'Time in Speed Zone 5 (secs)', 'Impact Zones: 3 - 5 G (Impacts)', 'Impact Zones: 5 - 10 G (Impacts)', 'Impact Zones: 10 - 15 G (Impacts)', 'Impact Zones: 15 - 20 G (Impacts)', 'Impact Zones: > 20 G (Impacts)', 'Power Play Duration Zones: 0 - 2.5 s (Power Plays)', 'Power Play Duration Zones: 2.5 - 5 s (Power Plays)', 'Power Play Duration Zones: 5 - 7.5 s (Power Plays)', 'Power Play Duration Zones: 7.5 - 10 s (Power Plays)', 'Power Play Duration Zones: > 10 s (Power Plays)', 'Distance in Deceleration Zones: 0 - 1 m/s/s (km)', 'Distance in Deceleration Zones: 1 - 2 m/s/s (km)', 'Distance in Deceleration Zones: 2 - 3 m/s/s (km)', 'Distance in Deceleration Zones: 3 - 4 m/s/s (km)', 'Distance in Deceleration Zones: > 4 m/s/s (km)', 'Time in Deceleration Zones: 0 - 1 m/s/s (secs)', 'Time in Deceleration Zones: 1 - 2 m/s/s (secs)', 'Time in Deceleration Zones: 2 - 3 m/s/s (secs)', 'Time in Deceleration Zones: 3 - 4 m/s/s (secs)', 'Time in Deceleration Zones: > 4 m/s/s (secs)', 'Distance in Acceleration Zones: 0 - 1 m/s/s (km)', 'Distance in Acceleration Zones: 1 - 2 m/s/s (km)', 'Distance in Acceleration Zones: 2 - 3 m/s/s (km)', 'Distance in Acceleration Zones: 3 - 4 m/s/s (km)', 'Distance in Acceleration Zones: > 4 m/s/s (km)', 'Time in Acceleration Zones: 0 - 1 m/s/s (secs)', 'Time in Acceleration Zones: 1 - 2 m/s/s (secs)', 'Time in Acceleration Zones: 2 - 3 m/s/s (secs)', 'Time in Acceleration Zones: 3 - 4 m/s/s (secs)', 'Time in Acceleration Zones: > 4 m/s/s (secs)', 'Distance in Power Zone: 0 - 5 w/kg (km)', 'Distance in Power Zone: 5 - 10 w/kg (km)', 'Distance in Power Zone: 10 - 15 w/kg (km)', 'Distance in Power Zone: 15 - 20 w/kg (km)', 'Distance in Power Zone: 20 - 25 w/kg (km)', 'Distance in Power Zone: 25 - 30 w/kg (km)', 'Distance in Power Zone: 30 - 35 w/kg (km)', 'Distance in Power Zone: 35 - 40 w/kg (km)', 'Distance in Power Zone: 40 - 45 w/kg (km)', 'Distance in Power Zone: 45 - 50 w/kg (km)', 'Distance in Power Zone: > 50 w/kg (km)', 'Time in Power Zone: 0 - 5 w/kg (secs)', 'Time in Power Zone: 5 - 10 w/kg (secs)', 'Time in Power Zone: 10 - 15 w/kg (secs)', 'Time in Power Zone: 15 - 20 w/kg (secs)', 'Time in Power Zone: 20 - 25 w/kg (secs)', 'Time in Power Zone: 25 - 30 w/kg (secs)', 'Time in Power Zone: 30 - 35 w/kg (secs)', 'Time in Power Zone: 35 - 40 w/kg (secs)', 'Time in Power Zone: 40 - 45 w/kg (secs)', 'Time in Power Zone: 45 - 50 w/kg (secs)', 'Time in Power Zone: > 50 w/kg (secs)', 'Time in HR Load Zone 0% - 60% Max HR(secs)', 'Time in HR Load Zone 60% - 75% Max HR (secs)', 'Time in HR Load Zone 75% - 85% Max HR (secs)', 'Time in HR Load Zone 85% - 96% Max HR (secs)', 'Time in HR Load Zone 96% - 100% Max HR (secs)', 'Accelerations Zone Count: 0 - 1 m/s/s', 'Accelerations Zone Count: 1 - 2 m/s/s', 'Accelerations Zone Count: 2 - 3 m/s/s', 'Accelerations Zone Count: 3 - 4 m/s/s', 'Accelerations Zone Count: > 4 m/s/s', 'Deceleration Zone Count: 0 - 1 m/s/s', 'Deceleration Zone Count: 1 - 2 m/s/s', 'Deceleration Zone Count: 2 - 3 m/s/s', 'Deceleration Zone Count: 3 - 4 m/s/s', 'Deceleration Zone Count: > 4 m/s/s', 'Unnamed: 98', 'Unnamed: 99']['Date', 'Session Title', 'Pla"
   ]
  },
  {
   "cell_type": "code",
   "execution_count": null,
   "id": "5fa41cd9",
   "metadata": {},
   "outputs": [],
   "source": [
    "def calcular_ratio_AC(datos_jugador, ventana_aguda=7, ventana_cronica=28):\n",
    "    \"\"\"\n",
    "    Calcula el ratio de carga aguda:crónica basado en la distancia recorrida.\n",
    "    \n",
    "    Parámetros:\n",
    "    - datos_jugador: DataFrame con los datos del jugador\n",
    "    - ventana_aguda: Número de días para la carga aguda (por defecto 7 días)\n",
    "    - ventana_cronica: Número de días para la carga crónica (por defecto 28 días)\n",
    "    \n",
    "    Retorna:\n",
    "    - DataFrame con fechas, distancias, carga aguda, carga crónica y ratio A:C\n",
    "    \"\"\"\n",
    "    if datos_jugador is None or datos_jugador.empty or 'Date' not in datos_jugador.columns:\n",
    "        return None\n",
    "    \n",
    "    # Asegurar que la fecha está ordenada cronológicamente\n",
    "    datos_ordenados = datos_jugador.sort_values('Date')\n",
    "    \n",
    "    # Crear lista para almacenar resultados\n",
    "    resultados = []\n",
    "    \n",
    "    # Para cada fecha, calcular cargas y ratio\n",
    "    fechas_unicas = datos_ordenados['Date'].unique()\n",
    "    \n",
    "    for i in range(ventana_cronica, len(fechas_unicas) + 1):\n",
    "        fecha_actual = fechas_unicas[i-1]\n",
    "        \n",
    "        # Datos de la sesión actual\n",
    "        datos_sesion_actual = datos_ordenados[datos_ordenados['Date'] == fecha_actual]\n",
    "        distancia_sesion = datos_sesion_actual['Distance (km)'].sum()\n",
    "        \n",
    "        # Datos para ventana aguda (últimos 7 días)\n",
    "        indice_inicio_agudo = max(0, i - ventana_aguda)\n",
    "        fechas_agudo = fechas_unicas[indice_inicio_agudo:i]\n",
    "        datos_agudo = datos_ordenados[datos_ordenados['Date'].isin(fechas_agudo)]\n",
    "        \n",
    "        # Datos para ventana crónica (últimos 28 días)\n",
    "        indice_inicio_cronico = max(0, i - ventana_cronica)\n",
    "        fechas_cronico = fechas_unicas[indice_inicio_cronico:i]\n",
    "        datos_cronico = datos_ordenados[datos_ordenados['Date'].isin(fechas_cronico)]\n",
    "        \n",
    "        # Calcular carga aguda y crónica (promedios diarios)\n",
    "        carga_aguda = datos_agudo['Distance (km)'].mean()\n",
    "        carga_cronica = datos_cronico['Distance (km)'].mean()\n",
    "        \n",
    "        # Calcular ratio A:C\n",
    "        ratio_ac = carga_aguda / carga_cronica if carga_cronica > 0 else 0\n",
    "        \n",
    "        # Guardar resultados\n",
    "        resultados.append({\n",
    "            'Fecha': fecha_actual,\n",
    "            'Session Title': datos_sesion_actual['Session Title'].iloc[0],\n",
    "            'Distancia (km)': distancia_sesion,\n",
    "            'Carga Aguda': carga_aguda,\n",
    "            'Carga Crónica': carga_cronica,\n",
    "            'Ratio A:C': ratio_ac\n",
    "        })\n",
    "    \n",
    "    # Convertir resultados a DataFrame\n",
    "    if resultados:\n",
    "        df_resultados = pd.DataFrame(resultados)\n",
    "        # Ordenar por fecha descendente para mostrar los más recientes primero\n",
    "        return df_resultados.sort_values('Fecha', ascending=False)\n",
    "    else:\n",
    "        return None\n"
   ]
  },
  {
   "cell_type": "code",
   "execution_count": null,
   "id": "5deef6c4",
   "metadata": {},
   "outputs": [
    {
     "ename": "NameError",
     "evalue": "name 'procesar_datos_jugador' is not defined",
     "output_type": "error",
     "traceback": [
      "\u001b[1;31m---------------------------------------------------------------------------\u001b[0m",
      "\u001b[1;31mNameError\u001b[0m                                 Traceback (most recent call last)",
      "Cell \u001b[1;32mIn[2], line 2\u001b[0m\n\u001b[0;32m      1\u001b[0m \u001b[38;5;66;03m# Procesar datos del jugador seleccionado\u001b[39;00m\n\u001b[1;32m----> 2\u001b[0m datos_jugador \u001b[38;5;241m=\u001b[39m \u001b[43mprocesar_datos_jugador\u001b[49m(df, jugador_seleccionado)\n\u001b[0;32m      4\u001b[0m \u001b[38;5;28;01mif\u001b[39;00m datos_jugador \u001b[38;5;129;01mis\u001b[39;00m \u001b[38;5;129;01mnot\u001b[39;00m \u001b[38;5;28;01mNone\u001b[39;00m \u001b[38;5;129;01mand\u001b[39;00m \u001b[38;5;129;01mnot\u001b[39;00m datos_jugador\u001b[38;5;241m.\u001b[39mempty:\n\u001b[0;32m      5\u001b[0m     st\u001b[38;5;241m.\u001b[39minfo(\u001b[38;5;124mf\u001b[39m\u001b[38;5;124m\"\u001b[39m\u001b[38;5;124mSe encontraron \u001b[39m\u001b[38;5;132;01m{\u001b[39;00m\u001b[38;5;28mlen\u001b[39m(datos_jugador)\u001b[38;5;132;01m}\u001b[39;00m\u001b[38;5;124m registros para \u001b[39m\u001b[38;5;132;01m{\u001b[39;00mjugador_seleccionado\u001b[38;5;132;01m}\u001b[39;00m\u001b[38;5;124m\"\u001b[39m)\n",
      "\u001b[1;31mNameError\u001b[0m: name 'procesar_datos_jugador' is not defined"
     ]
    }
   ],
   "source": [
    "            # Procesar datos del jugador seleccionado\n",
    "            datos_jugador = procesar_datos_jugador(df, jugador_seleccionado)\n",
    "            \n",
    "            if datos_jugador is not None and not datos_jugador.empty:\n",
    "                st.info(f\"Se encontraron {len(datos_jugador)} registros para {jugador_seleccionado}\")\n",
    "                \n",
    "                # Selector para cantidad de sesiones a mostrar en gráficos\n",
    "                n_sesiones = st.slider(\n",
    "                    \"Número de sesiones a mostrar en gráficos\",\n",
    "                    min_value=5,\n",
    "                    max_value=min(30, len(datos_jugador)),\n",
    "                    value=10,\n",
    "                    step=1\n",
    "                )\n",
    "                \n",
    "                # Mostrar métricas recientes\n",
    "                st.markdown(\"## 📊 Métricas Recientes (Últimos 30 días)\")\n",
    "                mostrar_metricas_recientes(datos_jugador)"
   ]
  },
  {
   "cell_type": "code",
   "execution_count": null,
   "id": "d03db38b",
   "metadata": {},
   "outputs": [],
   "source": [
    "def procesar_datos_jugador(df, nombre_jugador):\n",
    "    if df is None or df.empty:\n",
    "        st.warning(\"No hay datos disponibles para analizar.\")\n",
    "        return None\n",
    "    \n",
    "    # Filtrar datos del jugador seleccionado\n",
    "    if 'Player Name' in df.columns:\n",
    "        datos_jugador = df[df['Player Name'] == nombre_jugador].copy()\n",
    "    else:\n",
    "        st.error(\"No se encontró la columna 'Player Name'\")\n",
    "        return None\n",
    "    \n",
    "    if datos_jugador.empty:\n",
    "        st.warning(f\"No se encontraron registros para {nombre_jugador}\")\n",
    "        return None\n",
    "    \n",
    "    # Convertir columnas necesarias\n",
    "    try:\n",
    "        # Convertir fecha a datetime si no lo está\n",
    "        if not pd.api.types.is_datetime64_dtype(datos_jugador['Date']):\n",
    "            datos_jugador['Date'] = pd.to_datetime(datos_jugador['Date'], errors='coerce')\n",
    "        \n",
    "        # Convertir distancia a numérica\n",
    "        if 'Distance (km)' in datos_jugador.columns:\n",
    "            if isinstance(datos_jugador['Distance (km)'].iloc[0], str):\n",
    "                datos_jugador['Distance (km)'] = datos_jugador['Distance (km)'].str.replace(',', '.').astype(float)\n",
    "            elif not pd.api.types.is_numeric_dtype(datos_jugador['Distance (km)']):\n",
    "                datos_jugador['Distance (km)'] = pd.to_numeric(datos_jugador['Distance (km)'], errors='coerce')\n",
    "        \n",
    "        # Procesar métricas de velocidad alta\n",
    "        columnas_velocidad = [\n",
    "            'Distance in Speed Zone 3 (km)',\n",
    "            'Distance in Speed Zone 4 (km)',\n",
    "            'Distance in Speed Zone 5 (km)'\n",
    "        ]\n",
    "        \n",
    "        for col in columnas_velocidad:\n",
    "            if col in datos_jugador.columns:\n",
    "                if isinstance(datos_jugador[col].iloc[0], str):\n",
    "                    datos_jugador[col] = datos_jugador[col].str.replace(',', '.').astype(float)\n",
    "                elif not pd.api.types.is_numeric_dtype(datos_jugador[col]):\n",
    "                    datos_jugador[col] = pd.to_numeric(datos_jugador[col], errors='coerce')\n",
    "        \n",
    "        datos_jugador['Alta Velocidad (km)'] = datos_jugador[columnas_velocidad].sum(axis=1)\n",
    "        \n",
    "        # Procesar métricas de aceleración\n",
    "        columnas_aceleraciones = [\n",
    "            'Accelerations Zone Count: 2 - 3 m/s/s', \n",
    "            'Accelerations Zone Count: 3 - 4 m/s/s', \n",
    "            'Accelerations Zone Count: > 4 m/s/s'\n",
    "        ]\n",
    "        \n",
    "        columnas_desaceleraciones = [\n",
    "            'Deceleration Zone Count: 1 - 2 m/s/s',\n",
    "            'Deceleration Zone Count: 2 - 3 m/s/s',\n",
    "            'Deceleration Zone Count: 3 - 4 m/s/s',\n",
    "            'Deceleration Zone Count: > 4 m/s/s'\n",
    "        ]\n",
    "        \n",
    "        for col in columnas_aceleraciones + columnas_desaceleraciones:\n",
    "            if col in datos_jugador.columns:\n",
    "                if isinstance(datos_jugador[col].iloc[0], str):\n",
    "                    datos_jugador[col] = datos_jugador[col].str.replace(',', '.').astype(float)\n",
    "                elif not pd.api.types.is_numeric_dtype(datos_jugador[col]):\n",
    "                    datos_jugador[col] = pd.to_numeric(datos_jugador[col], errors='coerce')\n",
    "        \n",
    "        datos_jugador['Total Aceleraciones'] = datos_jugador[columnas_aceleraciones].sum(axis=1)\n",
    "        datos_jugador['Total Desaceleraciones'] = datos_jugador[columnas_desaceleraciones].sum(axis=1)\n",
    "        \n",
    "        # Ordenar por fecha\n",
    "        datos_jugador = datos_jugador.sort_values('Date', ascending=True)\n",
    "        \n",
    "        return datos_jugador\n",
    "    \n",
    "    except Exception as e:\n",
    "        st.error(f\"Error al procesar datos del jugador: {e}\")\n",
    "        return None\n"
   ]
  },
  {
   "cell_type": "code",
   "execution_count": null,
   "id": "b9ee6392",
   "metadata": {},
   "outputs": [],
   "source": [
    "def procesar_datos_jugador(df, nombre_jugador):\n",
    "    if df is None or df.empty:\n",
    "        st.warning(\"No hay datos disponibles para analizar.\")\n",
    "        return None\n",
    "    \n",
    "    # Filtrar datos del jugador seleccionado\n",
    "    if 'Player Name' in df.columns:\n",
    "        datos_jugador = df[df['Player Name'] == nombre_jugador].copy()\n",
    "    else:\n",
    "        st.error(\"No se encontró la columna 'Player Name'\")\n",
    "        return None\n",
    "    \n",
    "    if datos_jugador.empty:\n",
    "        st.warning(f\"No se encontraron registros para {nombre_jugador}\")\n",
    "        return None\n",
    "    \n",
    "    # Convertir columnas necesarias\n",
    "    try:\n",
    "        # Convertir fecha a datetime si no lo está\n",
    "        if not pd.api.types.is_datetime64_dtype(datos_jugador['Date']):\n",
    "            datos_jugador['Date'] = pd.to_datetime(datos_jugador['Date'], errors='coerce')\n",
    "        \n",
    "        # Convertir distancia a numérica\n",
    "        if 'Distance (km)' in datos_jugador.columns:\n",
    "            if isinstance(datos_jugador['Distance (km)'].iloc[0], str):\n",
    "                datos_jugador['Distance (km)'] = datos_jugador['Distance (km)'].str.replace(',', '.').astype(float)\n",
    "            elif not pd.api.types.is_numeric_dtype(datos_jugador['Distance (km)']):\n",
    "                datos_jugador['Distance (km)'] = pd.to_numeric(datos_jugador['Distance (km)'], errors='coerce')\n",
    "        \n",
    "        # Procesar Sprint Distance (m) en lugar de las columnas de velocidad anteriores\n",
    "        if 'Sprint Distance (m)' in datos_jugador.columns:\n",
    "            if isinstance(datos_jugador['Sprint Distance (m)'].iloc[0], str):\n",
    "                datos_jugador['Sprint Distance (m)'] = datos_jugador['Sprint Distance (m)'].str.replace(',', '.').astype(float)\n",
    "            elif not pd.api.types.is_numeric_dtype(datos_jugador['Sprint Distance (m)']):\n",
    "                datos_jugador['Sprint Distance (m)'] = pd.to_numeric(datos_jugador['Sprint Distance (m)'], errors='coerce')\n",
    "        \n",
    "        # Ya no sumamos las zonas de velocidad, usamos directamente Sprint Distance\n",
    "        datos_jugador['Alta Velocidad (km)'] = datos_jugador['Sprint Distance (m)'] \n",
    "        \n",
    "        # Procesar métricas de aceleración\n",
    "        columnas_aceleraciones = [\n",
    "            'Accelerations Zone Count: 2 - 3 m/s/s', \n",
    "            'Accelerations Zone Count: 3 - 4 m/s/s', \n",
    "            'Accelerations Zone Count: > 4 m/s/s'\n",
    "        ]\n",
    "        \n",
    "        columnas_desaceleraciones = [\n",
    "            'Deceleration Zone Count: 1 - 2 m/s/s',\n",
    "            'Deceleration Zone Count: 2 - 3 m/s/s',\n",
    "            'Deceleration Zone Count: 3 - 4 m/s/s',\n",
    "            'Deceleration Zone Count: > 4 m/s/s'\n",
    "        ]\n",
    "        \n",
    "        for col in columnas_aceleraciones + columnas_desaceleraciones:\n",
    "            if col in datos_jugador.columns:\n",
    "                if isinstance(datos_jugador[col].iloc[0], str):\n",
    "                    datos_jugador[col] = datos_jugador[col].str.replace(',', '.').astype(float)\n",
    "                elif not pd.api.types.is_numeric_dtype(datos_jugador[col]):\n",
    "                    datos_jugador[col] = pd.to_numeric(datos_jugador[col], errors='coerce')\n",
    "        \n",
    "        datos_jugador['Total Aceleraciones'] = datos_jugador[columnas_aceleraciones].sum(axis=1)\n",
    "        datos_jugador['Total Desaceleraciones'] = datos_jugador[columnas_desaceleraciones].sum(axis=1)\n",
    "        \n",
    "        # Ordenar por fecha\n",
    "        datos_jugador = datos_jugador.sort_values('Date', ascending=True)\n",
    "        \n",
    "        return datos_jugador\n",
    "    \n",
    "    except Exception as e:\n",
    "        st.error(f\"Error al procesar datos del jugador: {e}\")\n",
    "        return None"
   ]
  },
  {
   "cell_type": "code",
   "execution_count": null,
   "id": "7688e8c3",
   "metadata": {},
   "outputs": [],
   "source": [
    "def graficar_velocidad_jugador(datos_jugador, n_sesiones=10):\n",
    "    if datos_jugador is None or datos_jugador.empty or 'Alta Velocidad (km)' not in datos_jugador.columns:\n",
    "        st.warning(\"No hay datos de velocidad alta para visualizar\")\n",
    "        return None\n",
    "    \n",
    "    # Ordenar datos por fecha de más reciente a más antigua\n",
    "    datos_jugador_ordenado = datos_jugador.sort_values('Date', ascending=False)\n",
    "    \n",
    "    # Tomar las últimas n sesiones (ahora serán las más recientes)\n",
    "    if len(datos_jugador_ordenado) > n_sesiones:\n",
    "        datos_plot = datos_jugador_ordenado.head(n_sesiones)\n",
    "    else:\n",
    "        datos_plot = datos_jugador_ordenado.copy()\n",
    "    \n",
    "    # Reordenar para la visualización (de más antigua a más reciente para el eje X)\n",
    "    datos_plot = datos_plot.sort_values('Date')\n",
    "    \n",
    "    # Crear figura con Plotly\n",
    "    fig = go.Figure()\n",
    "    \n",
    "    # Añadir barras para velocidad alta\n",
    "    fig.add_trace(go.Bar(\n",
    "        x=datos_plot['Date'].dt.date,\n",
    "        y=datos_plot['Alta Velocidad (km)'],\n",
    "        name='Velocidad Alta',\n",
    "        marker_color='rgb(65, 105, 225)',  # Azul royal\n",
    "        text=datos_plot['Alta Velocidad (km)'].round(2),\n",
    "        textposition='outside',\n",
    "        hovertemplate='<b>%{x}</b><br>Sesión: %{customdata}<br>Velocidad Alta: %{y:.2f} km<extra></extra>',\n",
    "        customdata=datos_plot['Session Title']\n",
    "    ))\n",
    "    \n",
    "    # Agregar línea de tendencia\n",
    "    fig.add_trace(go.Scatter(\n",
    "        x=datos_plot['Date'].dt.date,\n",
    "        y=datos_plot['Alta Velocidad (km)'],\n",
    "        name='Tendencia',\n",
    "        mode='lines',\n",
    "        line=dict(color='rgb(30, 30, 30)', width=3, shape='spline'),\n",
    "        hovertemplate='<b>%{x}</b><br>Tendencia: %{y:.2f} km<extra></extra>'\n",
    "    ))\n",
    "    \n",
    "    # Actualizar diseño\n",
    "    fig.update_layout(\n",
    "        title={\n",
    "            'text': 'Evolución de Velocidad Alta por Sesión',\n",
    "            'font': {'size': 24},\n",
    "            'x': 0.5,\n",
    "            'xanchor': 'center'\n",
    "        },\n",
    "        xaxis=dict(\n",
    "            title='Fecha',\n",
    "            tickangle=-30,\n",
    "            tickfont=dict(size=14),\n",
    "            title_font=dict(size=16)\n",
    "        ),\n",
    "        yaxis=dict(\n",
    "            title='Velocidad Alta (km)',\n",
    "            gridcolor='rgb(220, 220, 220)'\n",
    "        ),\n",
    "        plot_bgcolor='rgb(250, 250, 250)',\n",
    "        paper_bgcolor='rgb(250, 250, 250)',\n",
    "        font=dict(color='rgb(20, 20, 20)'),\n",
    "        bargap=0.2,\n",
    "        legend=dict(orientation='h', yanchor='bottom', y=1.02, xanchor='right', x=1),\n",
    "        height=500\n",
    "    )\n",
    "    \n",
    "    return fig"
   ]
  },
  {
   "cell_type": "code",
   "execution_count": null,
   "id": "aa1e96b7",
   "metadata": {},
   "outputs": [],
   "source": [
    "# Función para calcular ratio Agudo:Crónico\n",
    "def calcular_ratio_AC(datos_jugador, ventana_aguda=7, ventana_cronica=28):\n",
    "    \"\"\"\n",
    "    Calcula el ratio de carga aguda:crónica basado en la distancia recorrida.\n",
    "    \n",
    "    Parámetros:\n",
    "    - datos_jugador: DataFrame con los datos del jugador\n",
    "    - ventana_aguda: Número de días para la carga aguda (por defecto 7 días)\n",
    "    - ventana_cronica: Número de días para la carga crónica (por defecto 28 días)\n",
    "    \n",
    "    Retorna:\n",
    "    - DataFrame con fechas, distancias, carga aguda, carga crónica y ratio A:C\n",
    "    \"\"\"\n",
    "    if datos_jugador is None or datos_jugador.empty or 'Date' not in datos_jugador.columns:\n",
    "        return None\n",
    "    \n",
    "    # Asegurar que la fecha está ordenada cronológicamente\n",
    "    datos_ordenados = datos_jugador.sort_values('Date')\n",
    "    \n",
    "    # Crear lista para almacenar resultados\n",
    "    resultados = []\n",
    "    \n",
    "    # Para cada fecha, calcular cargas y ratio\n",
    "    fechas_unicas = datos_ordenados['Date'].unique()\n",
    "    \n",
    "    for i in range(ventana_cronica, len(fechas_unicas) + 1):\n",
    "        fecha_actual = fechas_unicas[i-1]\n",
    "        \n",
    "        # Datos de la sesión actual\n",
    "        datos_sesion_actual = datos_ordenados[datos_ordenados['Date'] == fecha_actual]\n",
    "        distancia_sesion = datos_sesion_actual['Distance (km)'].sum()\n",
    "        \n",
    "        # Datos para ventana aguda (últimos 7 días)\n",
    "        indice_inicio_agudo = max(0, i - ventana_aguda)\n",
    "        fechas_agudo = fechas_unicas[indice_inicio_agudo:i]\n",
    "        datos_agudo = datos_ordenados[datos_ordenados['Date'].isin(fechas_agudo)]\n",
    "        \n",
    "        # Datos para ventana crónica (últimos 28 días)\n",
    "        indice_inicio_cronico = max(0, i - ventana_cronica)\n",
    "        fechas_cronico = fechas_unicas[indice_inicio_cronico:i]\n",
    "        datos_cronico = datos_ordenados[datos_ordenados['Date'].isin(fechas_cronico)]\n",
    "        \n",
    "        # Calcular carga aguda y crónica (promedios diarios)\n",
    "        carga_aguda = datos_agudo['Distance (km)'].mean()\n",
    "        carga_cronica = datos_cronico['Distance (km)'].mean()\n",
    "        \n",
    "        # Calcular ratio A:C\n",
    "        ratio_ac = carga_aguda / carga_cronica if carga_cronica > 0 else 0\n",
    "        \n",
    "        # Guardar resultados\n",
    "        resultados.append({\n",
    "            'Fecha': fecha_actual,\n",
    "            'Session Title': datos_sesion_actual['Session Title'].iloc[0],\n",
    "            'Distancia (km)': distancia_sesion,\n",
    "            'Carga Aguda': carga_aguda,\n",
    "            'Carga Crónica': carga_cronica,\n",
    "            'Ratio A:C': ratio_ac\n",
    "        })\n",
    "    \n",
    "    # Convertir resultados a DataFrame\n",
    "    if resultados:\n",
    "        df_resultados = pd.DataFrame(resultados)\n",
    "        # Ordenar por fecha descendente para mostrar los más recientes primero\n",
    "        return df_resultados.sort_values('Fecha', ascending=False)\n",
    "    else:\n",
    "        return None"
   ]
  },
  {
   "cell_type": "code",
   "execution_count": null,
   "id": "c9458344",
   "metadata": {},
   "outputs": [],
   "source": [
    "import pandas as pd\n",
    "\n",
    "def calcular_carga_aguda(datos_jugador, ventana_aguda=7):\n",
    "    \"\"\"\n",
    "    Calcula la carga aguda para un jugador, basada en los últimos 7 días (o días configurables).\n",
    "    Se basa en una carga ponderada de diferentes variables GPS.\n",
    "    \"\"\"\n",
    "\n",
    "    # Ponderación subjetiva para cada variable (ajustable)\n",
    "    pesos = {\n",
    "        'Distance (km)': 1.0,\n",
    "        'Sprint Distance (m)': 0.02,\n",
    "        'Top Speed (m/s)': 10.0,\n",
    "        'Accelerations Zone Count: 2 - 3 m/s/s': 1.5,\n",
    "        'Accelerations Zone Count: 3 - 4 m/s/s': 2.0,\n",
    "        'Accelerations Zone Count: > 4 m/s/s': 2.5,\n",
    "        'Deceleration Zone Count: 2 - 3 m/s/s': 1.5,\n",
    "        'Deceleration Zone Count: 3 - 4 m/s/s': 2.0,\n",
    "        'Deceleration Zone Count: > 4 m/s/s': 2.5\n",
    "    }\n",
    "\n",
    "    # Asegurarse de que las fechas estén en formato datetime\n",
    "    datos_jugador['Date'] = pd.to_datetime(datos_jugador['Date'])\n",
    "\n",
    "    # Ordenar por fecha y aplicar la fórmula de carga diaria\n",
    "    datos_jugador = datos_jugador.sort_values('Date').copy()\n",
    "    datos_jugador['Carga_Diaria'] = 0\n",
    "\n",
    "    for var, peso in pesos.items():\n",
    "        datos_jugador['Carga_Diaria'] += datos_jugador[var] * peso\n",
    "\n",
    "    # Calcular la carga aguda como suma de los últimos 'ventana_aguda' días\n",
    "    carga_aguda = datos_jugador['Carga_Diaria'].tail(ventana_aguda).sum()\n",
    "\n",
    "    return carga_aguda\n"
   ]
  },
  {
   "cell_type": "code",
   "execution_count": null,
   "id": "a9fafad7",
   "metadata": {},
   "outputs": [
    {
     "data": {
      "text/html": [
       "<div>\n",
       "<style scoped>\n",
       "    .dataframe tbody tr th:only-of-type {\n",
       "        vertical-align: middle;\n",
       "    }\n",
       "\n",
       "    .dataframe tbody tr th {\n",
       "        vertical-align: top;\n",
       "    }\n",
       "\n",
       "    .dataframe thead th {\n",
       "        text-align: right;\n",
       "    }\n",
       "</style>\n",
       "<table border=\"1\" class=\"dataframe\">\n",
       "  <thead>\n",
       "    <tr style=\"text-align: right;\">\n",
       "      <th></th>\n",
       "      <th>Date</th>\n",
       "      <th>Session Title</th>\n",
       "      <th>Player Name</th>\n",
       "      <th>Split Name</th>\n",
       "      <th>Tags</th>\n",
       "      <th>Split Start Time</th>\n",
       "      <th>Split End Time</th>\n",
       "      <th>Duration</th>\n",
       "      <th>Distance (km)</th>\n",
       "      <th>Sprint Distance (m)</th>\n",
       "      <th>...</th>\n",
       "      <th>Accelerations Zone Count: 2 - 3 m/s/s</th>\n",
       "      <th>Accelerations Zone Count: 3 - 4 m/s/s</th>\n",
       "      <th>Accelerations Zone Count: &gt; 4 m/s/s</th>\n",
       "      <th>Deceleration Zone Count: 0 - 1 m/s/s</th>\n",
       "      <th>Deceleration Zone Count: 1 - 2 m/s/s</th>\n",
       "      <th>Deceleration Zone Count: 2 - 3 m/s/s</th>\n",
       "      <th>Deceleration Zone Count: 3 - 4 m/s/s</th>\n",
       "      <th>Deceleration Zone Count: &gt; 4 m/s/s</th>\n",
       "      <th>Unnamed: 98</th>\n",
       "      <th>Unnamed: 99</th>\n",
       "    </tr>\n",
       "  </thead>\n",
       "  <tbody>\n",
       "    <tr>\n",
       "      <th>0</th>\n",
       "      <td>15/04/2025</td>\n",
       "      <td>martes 15-4</td>\n",
       "      <td>Orrico Santiago</td>\n",
       "      <td>all</td>\n",
       "      <td>training</td>\n",
       "      <td>45762,8417</td>\n",
       "      <td>45762,9045</td>\n",
       "      <td>5426</td>\n",
       "      <td>5,6323</td>\n",
       "      <td>2033</td>\n",
       "      <td>...</td>\n",
       "      <td>0</td>\n",
       "      <td>17</td>\n",
       "      <td>14</td>\n",
       "      <td>38</td>\n",
       "      <td>24</td>\n",
       "      <td>0</td>\n",
       "      <td>19</td>\n",
       "      <td>42</td>\n",
       "      <td>3</td>\n",
       "      <td>27</td>\n",
       "    </tr>\n",
       "    <tr>\n",
       "      <th>1</th>\n",
       "      <td>15/04/2025</td>\n",
       "      <td>martes 15-4</td>\n",
       "      <td>Espinosa Fede</td>\n",
       "      <td>all</td>\n",
       "      <td>training</td>\n",
       "      <td>45762,8383</td>\n",
       "      <td>45762,9316</td>\n",
       "      <td>8058</td>\n",
       "      <td>6,4806</td>\n",
       "      <td>2108</td>\n",
       "      <td>...</td>\n",
       "      <td>0</td>\n",
       "      <td>26</td>\n",
       "      <td>32</td>\n",
       "      <td>37</td>\n",
       "      <td>38</td>\n",
       "      <td>0</td>\n",
       "      <td>41</td>\n",
       "      <td>49</td>\n",
       "      <td>21</td>\n",
       "      <td>14</td>\n",
       "    </tr>\n",
       "    <tr>\n",
       "      <th>2</th>\n",
       "      <td>15/04/2025</td>\n",
       "      <td>martes 15-4</td>\n",
       "      <td>Rivera Cano Blas</td>\n",
       "      <td>all</td>\n",
       "      <td>training</td>\n",
       "      <td>45762,788</td>\n",
       "      <td>45762,9321</td>\n",
       "      <td>12457</td>\n",
       "      <td>6,7728</td>\n",
       "      <td>1142</td>\n",
       "      <td>...</td>\n",
       "      <td>0</td>\n",
       "      <td>30</td>\n",
       "      <td>32</td>\n",
       "      <td>55</td>\n",
       "      <td>15</td>\n",
       "      <td>0</td>\n",
       "      <td>44</td>\n",
       "      <td>42</td>\n",
       "      <td>25</td>\n",
       "      <td>9</td>\n",
       "    </tr>\n",
       "    <tr>\n",
       "      <th>3</th>\n",
       "      <td>15/04/2025</td>\n",
       "      <td>martes 15-4</td>\n",
       "      <td>Esquerren Fermin</td>\n",
       "      <td>all</td>\n",
       "      <td>training</td>\n",
       "      <td>45762,8383</td>\n",
       "      <td>45762,9329</td>\n",
       "      <td>8175</td>\n",
       "      <td>6,4737</td>\n",
       "      <td>1795</td>\n",
       "      <td>...</td>\n",
       "      <td>0</td>\n",
       "      <td>60</td>\n",
       "      <td>29</td>\n",
       "      <td>50</td>\n",
       "      <td>19</td>\n",
       "      <td>0</td>\n",
       "      <td>66</td>\n",
       "      <td>55</td>\n",
       "      <td>20</td>\n",
       "      <td>16</td>\n",
       "    </tr>\n",
       "    <tr>\n",
       "      <th>4</th>\n",
       "      <td>15/04/2025</td>\n",
       "      <td>martes 15-4</td>\n",
       "      <td>Urrejola Fabio</td>\n",
       "      <td>all</td>\n",
       "      <td>training</td>\n",
       "      <td>45762,8383</td>\n",
       "      <td>45762,9091</td>\n",
       "      <td>6115</td>\n",
       "      <td>4,5099</td>\n",
       "      <td>586</td>\n",
       "      <td>...</td>\n",
       "      <td>0</td>\n",
       "      <td>45</td>\n",
       "      <td>32</td>\n",
       "      <td>42</td>\n",
       "      <td>2</td>\n",
       "      <td>0</td>\n",
       "      <td>56</td>\n",
       "      <td>56</td>\n",
       "      <td>9</td>\n",
       "      <td>0</td>\n",
       "    </tr>\n",
       "    <tr>\n",
       "      <th>...</th>\n",
       "      <td>...</td>\n",
       "      <td>...</td>\n",
       "      <td>...</td>\n",
       "      <td>...</td>\n",
       "      <td>...</td>\n",
       "      <td>...</td>\n",
       "      <td>...</td>\n",
       "      <td>...</td>\n",
       "      <td>...</td>\n",
       "      <td>...</td>\n",
       "      <td>...</td>\n",
       "      <td>...</td>\n",
       "      <td>...</td>\n",
       "      <td>...</td>\n",
       "      <td>...</td>\n",
       "      <td>...</td>\n",
       "      <td>...</td>\n",
       "      <td>...</td>\n",
       "      <td>...</td>\n",
       "      <td>...</td>\n",
       "      <td>...</td>\n",
       "    </tr>\n",
       "    <tr>\n",
       "      <th>65</th>\n",
       "      <td>10/05/2025</td>\n",
       "      <td>Partido San Cirano</td>\n",
       "      <td>Lorito</td>\n",
       "      <td>game</td>\n",
       "      <td>game</td>\n",
       "      <td>45787,6461</td>\n",
       "      <td>45787,7189</td>\n",
       "      <td>5857</td>\n",
       "      <td>5,6624</td>\n",
       "      <td>552,27</td>\n",
       "      <td>...</td>\n",
       "      <td>0</td>\n",
       "      <td>77</td>\n",
       "      <td>73</td>\n",
       "      <td>31</td>\n",
       "      <td>12</td>\n",
       "      <td>0</td>\n",
       "      <td>82</td>\n",
       "      <td>47</td>\n",
       "      <td>29</td>\n",
       "      <td>28</td>\n",
       "    </tr>\n",
       "    <tr>\n",
       "      <th>66</th>\n",
       "      <td>10/05/2025</td>\n",
       "      <td>Partido San Cirano</td>\n",
       "      <td>Herrera Bautista</td>\n",
       "      <td>game</td>\n",
       "      <td>game</td>\n",
       "      <td>45787,6461</td>\n",
       "      <td>45787,7189</td>\n",
       "      <td>4364</td>\n",
       "      <td>3,6819</td>\n",
       "      <td>70,337</td>\n",
       "      <td>...</td>\n",
       "      <td>0</td>\n",
       "      <td>107</td>\n",
       "      <td>57</td>\n",
       "      <td>18</td>\n",
       "      <td>4</td>\n",
       "      <td>0</td>\n",
       "      <td>107</td>\n",
       "      <td>59</td>\n",
       "      <td>14</td>\n",
       "      <td>5</td>\n",
       "    </tr>\n",
       "    <tr>\n",
       "      <th>67</th>\n",
       "      <td>10/05/2025</td>\n",
       "      <td>Partido San Cirano</td>\n",
       "      <td>Rivera Cano Blas</td>\n",
       "      <td>game</td>\n",
       "      <td>game</td>\n",
       "      <td>45787,6461</td>\n",
       "      <td>45787,7189</td>\n",
       "      <td>5857</td>\n",
       "      <td>6,6254</td>\n",
       "      <td>718,851</td>\n",
       "      <td>...</td>\n",
       "      <td>0</td>\n",
       "      <td>102</td>\n",
       "      <td>88</td>\n",
       "      <td>55</td>\n",
       "      <td>11</td>\n",
       "      <td>0</td>\n",
       "      <td>85</td>\n",
       "      <td>75</td>\n",
       "      <td>46</td>\n",
       "      <td>41</td>\n",
       "    </tr>\n",
       "    <tr>\n",
       "      <th>68</th>\n",
       "      <td>10/05/2025</td>\n",
       "      <td>Partido San Cirano</td>\n",
       "      <td>Vergel Alejo</td>\n",
       "      <td>game</td>\n",
       "      <td>game</td>\n",
       "      <td>45787,6461</td>\n",
       "      <td>45787,7189</td>\n",
       "      <td>5857</td>\n",
       "      <td>6,301</td>\n",
       "      <td>856,934</td>\n",
       "      <td>...</td>\n",
       "      <td>0</td>\n",
       "      <td>60</td>\n",
       "      <td>69</td>\n",
       "      <td>35</td>\n",
       "      <td>12</td>\n",
       "      <td>0</td>\n",
       "      <td>74</td>\n",
       "      <td>42</td>\n",
       "      <td>35</td>\n",
       "      <td>28</td>\n",
       "    </tr>\n",
       "    <tr>\n",
       "      <th>69</th>\n",
       "      <td>10/05/2025</td>\n",
       "      <td>Partido San Cirano</td>\n",
       "      <td>Nicolas Morena</td>\n",
       "      <td>game</td>\n",
       "      <td>game</td>\n",
       "      <td>45787,6457</td>\n",
       "      <td>45787,718</td>\n",
       "      <td>5939</td>\n",
       "      <td>6,0785</td>\n",
       "      <td>415,753</td>\n",
       "      <td>...</td>\n",
       "      <td>0</td>\n",
       "      <td>115</td>\n",
       "      <td>66</td>\n",
       "      <td>37</td>\n",
       "      <td>14</td>\n",
       "      <td>0</td>\n",
       "      <td>83</td>\n",
       "      <td>69</td>\n",
       "      <td>26</td>\n",
       "      <td>28</td>\n",
       "    </tr>\n",
       "  </tbody>\n",
       "</table>\n",
       "<p>70 rows × 100 columns</p>\n",
       "</div>"
      ],
      "text/plain": [
       "          Date       Session Title       Player Name Split Name      Tags  \\\n",
       "0   15/04/2025         martes 15-4   Orrico Santiago        all  training   \n",
       "1   15/04/2025         martes 15-4     Espinosa Fede        all  training   \n",
       "2   15/04/2025         martes 15-4  Rivera Cano Blas        all  training   \n",
       "3   15/04/2025         martes 15-4  Esquerren Fermin        all  training   \n",
       "4   15/04/2025         martes 15-4    Urrejola Fabio        all  training   \n",
       "..         ...                 ...               ...        ...       ...   \n",
       "65  10/05/2025  Partido San Cirano            Lorito       game      game   \n",
       "66  10/05/2025  Partido San Cirano  Herrera Bautista       game      game   \n",
       "67  10/05/2025  Partido San Cirano  Rivera Cano Blas       game      game   \n",
       "68  10/05/2025  Partido San Cirano      Vergel Alejo       game      game   \n",
       "69  10/05/2025  Partido San Cirano    Nicolas Morena       game      game   \n",
       "\n",
       "   Split Start Time Split End Time  Duration Distance (km)  \\\n",
       "0        45762,8417     45762,9045      5426        5,6323   \n",
       "1        45762,8383     45762,9316      8058        6,4806   \n",
       "2         45762,788     45762,9321     12457        6,7728   \n",
       "3        45762,8383     45762,9329      8175        6,4737   \n",
       "4        45762,8383     45762,9091      6115        4,5099   \n",
       "..              ...            ...       ...           ...   \n",
       "65       45787,6461     45787,7189      5857        5,6624   \n",
       "66       45787,6461     45787,7189      4364        3,6819   \n",
       "67       45787,6461     45787,7189      5857        6,6254   \n",
       "68       45787,6461     45787,7189      5857         6,301   \n",
       "69       45787,6457      45787,718      5939        6,0785   \n",
       "\n",
       "   Sprint Distance (m)  ...  Accelerations Zone Count: 2 - 3 m/s/s  \\\n",
       "0                 2033  ...                                      0   \n",
       "1                 2108  ...                                      0   \n",
       "2                 1142  ...                                      0   \n",
       "3                 1795  ...                                      0   \n",
       "4                  586  ...                                      0   \n",
       "..                 ...  ...                                    ...   \n",
       "65              552,27  ...                                      0   \n",
       "66              70,337  ...                                      0   \n",
       "67             718,851  ...                                      0   \n",
       "68             856,934  ...                                      0   \n",
       "69             415,753  ...                                      0   \n",
       "\n",
       "   Accelerations Zone Count: 3 - 4 m/s/s  Accelerations Zone Count: > 4 m/s/s  \\\n",
       "0                                     17                                   14   \n",
       "1                                     26                                   32   \n",
       "2                                     30                                   32   \n",
       "3                                     60                                   29   \n",
       "4                                     45                                   32   \n",
       "..                                   ...                                  ...   \n",
       "65                                    77                                   73   \n",
       "66                                   107                                   57   \n",
       "67                                   102                                   88   \n",
       "68                                    60                                   69   \n",
       "69                                   115                                   66   \n",
       "\n",
       "    Deceleration Zone Count: 0 - 1 m/s/s  \\\n",
       "0                                     38   \n",
       "1                                     37   \n",
       "2                                     55   \n",
       "3                                     50   \n",
       "4                                     42   \n",
       "..                                   ...   \n",
       "65                                    31   \n",
       "66                                    18   \n",
       "67                                    55   \n",
       "68                                    35   \n",
       "69                                    37   \n",
       "\n",
       "    Deceleration Zone Count: 1 - 2 m/s/s Deceleration Zone Count: 2 - 3 m/s/s  \\\n",
       "0                                     24                                    0   \n",
       "1                                     38                                    0   \n",
       "2                                     15                                    0   \n",
       "3                                     19                                    0   \n",
       "4                                      2                                    0   \n",
       "..                                   ...                                  ...   \n",
       "65                                    12                                    0   \n",
       "66                                     4                                    0   \n",
       "67                                    11                                    0   \n",
       "68                                    12                                    0   \n",
       "69                                    14                                    0   \n",
       "\n",
       "   Deceleration Zone Count: 3 - 4 m/s/s Deceleration Zone Count: > 4 m/s/s  \\\n",
       "0                                    19                                 42   \n",
       "1                                    41                                 49   \n",
       "2                                    44                                 42   \n",
       "3                                    66                                 55   \n",
       "4                                    56                                 56   \n",
       "..                                  ...                                ...   \n",
       "65                                   82                                 47   \n",
       "66                                  107                                 59   \n",
       "67                                   85                                 75   \n",
       "68                                   74                                 42   \n",
       "69                                   83                                 69   \n",
       "\n",
       "   Unnamed: 98 Unnamed: 99  \n",
       "0            3          27  \n",
       "1           21          14  \n",
       "2           25           9  \n",
       "3           20          16  \n",
       "4            9           0  \n",
       "..         ...         ...  \n",
       "65          29          28  \n",
       "66          14           5  \n",
       "67          46          41  \n",
       "68          35          28  \n",
       "69          26          28  \n",
       "\n",
       "[70 rows x 100 columns]"
      ]
     },
     "execution_count": 52,
     "metadata": {},
     "output_type": "execute_result"
    }
   ],
   "source": [
    "df"
   ]
  },
  {
   "cell_type": "code",
   "execution_count": null,
   "id": "f766170c",
   "metadata": {},
   "outputs": [
    {
     "name": "stdout",
     "output_type": "stream",
     "text": [
      "Se encontraron 7 registros para Rivera Cano Blas\n",
      "\n",
      "=== RESULTADOS DE CARGA AGUDA PARA MATEO CECHI ===\n",
      "Carga aguda (últimos 3 días): 2992.01\n",
      "Carga aguda (últimos 5 días): 5403.91\n",
      "Carga aguda (últimos 7 días): 6875.22\n",
      "Carga aguda (últimos 10 días): No hay suficientes datos\n",
      "Carga aguda (últimos 14 días): No hay suficientes datos\n",
      "\n",
      "Últimas 10 sesiones:\n",
      "         Date       Session Title  Carga_Diaria\n",
      "67 2025-05-10  Partido San Cirano    1107.62442\n",
      "57 2025-05-06          martes 6-5     830.25128\n",
      "44 2025-05-03    Partido Matreros    1054.13042\n",
      "30 2025-04-29         martes 29-4    1224.40292\n",
      "23 2025-04-26  Partido San Andres    1187.49700\n",
      "14 2025-04-22         martes 22-4     878.69730\n",
      "2  2025-04-15         martes 15-4     592.61280\n"
     ]
    },
    {
     "name": "stderr",
     "output_type": "stream",
     "text": [
      "C:\\Users\\dell\\AppData\\Local\\Temp\\ipykernel_14332\\1424020056.py:16: UserWarning: Parsing dates in %d/%m/%Y format when dayfirst=False (the default) was specified. Pass `dayfirst=True` or specify a format to silence this warning.\n",
      "  datos_mateo['Date'] = pd.to_datetime(datos_mateo['Date'], errors='coerce')\n"
     ]
    },
    {
     "data": {
      "image/png": "[encoded data removed]",
      "text/plain": [
       "<Figure size 1000x600 with 1 Axes>"
      ]
     },
     "metadata": {},
     "output_type": "display_data"
    },
    {
     "data": {
      "image/png": "[encoded data removed]",
      "text/plain": [
       "<Figure size 1200x500 with 1 Axes>"
      ]
     },
     "metadata": {},
     "output_type": "display_data"
    }
   ],
   "source": [
    "# Código para filtrar datos de Mateo Cechi y calcular su carga aguda\n",
    "import pandas as pd\n",
    "import matplotlib.pyplot as plt\n",
    "\n",
    "# 1. Filtrar datos para Mateo Cechi\n",
    "jugador_seleccionado = \"Rivera Cano Blas\"\n",
    "datos_mateo_raw = df[df['Player Name'] == jugador_seleccionado].copy()\n",
    "\n",
    "if not datos_mateo_raw.empty:\n",
    "    print(f\"Se encontraron {len(datos_mateo_raw)} registros para {jugador_seleccionado}\")\n",
    "    \n",
    "    # 2. Preparar y convertir columnas a formato numérico\n",
    "    datos_mateo = datos_mateo_raw.copy()\n",
    "    \n",
    "    # Asegurarse que la fecha es datetime\n",
    "    datos_mateo['Date'] = pd.to_datetime(datos_mateo['Date'], errors='coerce')\n",
    "    \n",
    "    # Lista de columnas que necesitamos convertir a numérico\n",
    "    columnas_numericas = [\n",
    "        'Distance (km)', \n",
    "        'Sprint Distance (m)', \n",
    "        'Top Speed (m/s)',\n",
    "        'Accelerations Zone Count: 2 - 3 m/s/s',\n",
    "        'Accelerations Zone Count: 3 - 4 m/s/s',\n",
    "        'Accelerations Zone Count: > 4 m/s/s',\n",
    "        'Deceleration Zone Count: 2 - 3 m/s/s',\n",
    "        'Deceleration Zone Count: 3 - 4 m/s/s',\n",
    "        'Deceleration Zone Count: > 4 m/s/s'\n",
    "    ]\n",
    "    \n",
    "    # Convertir cada columna a numérico\n",
    "    for col in columnas_numericas:\n",
    "        if col in datos_mateo.columns:\n",
    "            # Reemplazar comas por puntos si es string\n",
    "            if datos_mateo[col].dtype == 'object':\n",
    "                datos_mateo[col] = datos_mateo[col].str.replace(',', '.', regex=True)\n",
    "            # Convertir a numérico con manejo de errores\n",
    "            datos_mateo[col] = pd.to_numeric(datos_mateo[col], errors='coerce')\n",
    "            # Reemplazar NaN con 0\n",
    "            datos_mateo[col] = datos_mateo[col].fillna(0)\n",
    "    \n",
    "    # 3. Calcular la carga aguda con ventanas de diferentes tamaños\n",
    "    ventanas = [3, 5, 7, 10, 14]\n",
    "    cargas = {}\n",
    "    \n",
    "    for ventana in ventanas:\n",
    "        if len(datos_mateo) >= ventana:\n",
    "            cargas[ventana] = calcular_carga_aguda(datos_mateo, ventana_aguda=ventana)\n",
    "        else:\n",
    "            cargas[ventana] = None\n",
    "    \n",
    "    # Mostrar resultados\n",
    "    print(\"\\n=== RESULTADOS DE CARGA AGUDA PARA MATEO CECHI ===\")\n",
    "    for ventana, carga in cargas.items():\n",
    "        if carga is not None:\n",
    "            print(f\"Carga aguda (últimos {ventana} días): {carga:.2f}\")\n",
    "        else:\n",
    "            print(f\"Carga aguda (últimos {ventana} días): No hay suficientes datos\")\n",
    "    \n",
    "    # 4. Analizar componentes de la carga diaria\n",
    "    # Crear DataFrame para análisis de componentes\n",
    "    pesos = {\n",
    "        'Distance (km)': 1.0,\n",
    "        'Sprint Distance (m)': 0.02,\n",
    "        'Top Speed (m/s)': 10.0,\n",
    "        'Accelerations Zone Count: 2 - 3 m/s/s': 1.5,\n",
    "        'Accelerations Zone Count: 3 - 4 m/s/s': 2.0,\n",
    "        'Accelerations Zone Count: > 4 m/s/s': 2.5,\n",
    "        'Deceleration Zone Count: 2 - 3 m/s/s': 1.5,\n",
    "        'Deceleration Zone Count: 3 - 4 m/s/s': 2.0,\n",
    "        'Deceleration Zone Count: > 4 m/s/s': 2.5\n",
    "    }\n",
    "    \n",
    "    # Calcular contribución de cada componente a la carga diaria\n",
    "    componentes = pd.DataFrame(index=datos_mateo.index)\n",
    "    for var, peso in pesos.items():\n",
    "        if var in datos_mateo.columns:\n",
    "            componentes[f'{var}'] = datos_mateo[var] * peso\n",
    "    \n",
    "    # Calcular carga total por día\n",
    "    datos_mateo['Carga_Diaria'] = componentes.sum(axis=1)\n",
    "    \n",
    "    # Mostrar las últimas 10 sesiones de entrenamiento\n",
    "    ultimas_sesiones = datos_mateo.sort_values('Date', ascending=False).head(10)[['Date', 'Session Title', 'Carga_Diaria']]\n",
    "    print(\"\\nÚltimas 10 sesiones:\")\n",
    "    print(ultimas_sesiones.to_string())\n",
    "    \n",
    "    # 5. Visualizar la composición de la carga\n",
    "    try:\n",
    "        # Crear gráfico de barras para visualizar distribución de componentes\n",
    "        plt.figure(figsize=(10, 6))\n",
    "        \n",
    "        # Sumar contribución de cada componente en la ventana de 7 días\n",
    "        ultimos_7_dias = datos_mateo.sort_values('Date').tail(7)\n",
    "        suma_componentes = componentes.loc[ultimos_7_dias.index].sum()\n",
    "        \n",
    "        # Graficar los componentes por su contribución (mostrar solo los más significativos)\n",
    "        top_componentes = suma_componentes.sort_values(ascending=False).head(5)\n",
    "        top_componentes.plot(kind='bar', color='skyblue')\n",
    "        plt.title(f'Principales contribuyentes a la carga de {jugador_seleccionado} (últimos 7 días)')\n",
    "        plt.ylabel('Unidades de carga')\n",
    "        plt.xticks(rotation=45, ha='right')\n",
    "        plt.tight_layout()\n",
    "        plt.show()\n",
    "        \n",
    "        # Graficar evolución de la carga diaria\n",
    "        plt.figure(figsize=(12, 5))\n",
    "        plt.plot(datos_mateo['Date'], datos_mateo['Carga_Diaria'], 'o-', linewidth=2)\n",
    "        plt.fill_between(datos_mateo['Date'], datos_mateo['Carga_Diaria'], alpha=0.2)\n",
    "        plt.title(f'Evolución de la carga diaria - {jugador_seleccionado}')\n",
    "        plt.xlabel('Fecha')\n",
    "        plt.ylabel('Carga diaria')\n",
    "        plt.grid(True, linestyle='--', alpha=0.7)\n",
    "        plt.xticks(rotation=45)\n",
    "        plt.tight_layout()\n",
    "        plt.show()\n",
    "    except Exception as e:\n",
    "        print(f\"Error al crear gráficos: {e}\")\n",
    "else:\n",
    "    print(f\"No se encontraron datos para el jugador {jugador_seleccionado}\")"
   ]
  },
  {
   "cell_type": "code",
   "execution_count": null,
   "id": "5d251aee",
   "metadata": {},
   "outputs": [
    {
     "ename": "SyntaxError",
     "evalue": "invalid syntax (3975673796.py, line 111)",
     "output_type": "error",
     "traceback": [
      "\u001b[1;36m  Cell \u001b[1;32mIn[65], line 111\u001b[1;36m\u001b[0m\n\u001b[1;33m    else:\u001b[0m\n\u001b[1;37m    ^\u001b[0m\n\u001b[1;31mSyntaxError\u001b[0m\u001b[1;31m:\u001b[0m invalid syntax\n"
     ]
    }
   ],
   "source": [
    "# Código simplificado para analizar carga de Mateo Cechi con gauge chart\n",
    "import pandas as pd\n",
    "import plotly.graph_objects as go\n",
    "import numpy as np\n",
    "import matplotlib.pyplot as plt\n",
    "\n",
    "# 1. Seleccionar jugador y filtrar datos\n",
    "jugador_seleccionado = \"Rivera Cano Blas\"\n",
    "datos_jugador = df[df['Player Name'] == jugador_seleccionado].copy()\n",
    "\n",
    "if not datos_jugador.empty:\n",
    "    print(f\"Se encontraron {len(datos_jugador)} registros para {jugador_seleccionado}\")\n",
    "    \n",
    "    # 2. Preparar datos (convertir fechas y columnas numéricas)\n",
    "    datos_jugador['Date'] = pd.to_datetime(datos_jugador['Date'], errors='coerce')\n",
    "    \n",
    "    # Columnas numéricas que necesitamos\n",
    "    columnas_numericas = [\n",
    "        'Distance (km)', \n",
    "        'Sprint Distance (m)', \n",
    "        'Top Speed (m/s)',\n",
    "        'Accelerations Zone Count: 2 - 3 m/s/s',\n",
    "        'Accelerations Zone Count: 3 - 4 m/s/s',\n",
    "        'Accelerations Zone Count: > 4 m/s/s',\n",
    "        'Deceleration Zone Count: 2 - 3 m/s/s',\n",
    "        'Deceleration Zone Count: 3 - 4 m/s/s',\n",
    "        'Deceleration Zone Count: > 4 m/s/s'\n",
    "    ]\n",
    "    \n",
    "    # Convertir columnas a formato numérico\n",
    "    for col in columnas_numericas:\n",
    "        if col in datos_jugador.columns:\n",
    "            # Reemplazar comas por puntos si es string\n",
    "            if datos_jugador[col].dtype == 'object':\n",
    "                datos_jugador[col] = datos_jugador[col].str.replace(',', '.', regex=True)\n",
    "            # Convertir a numérico\n",
    "            datos_jugador[col] = pd.to_numeric(datos_jugador[col], errors='coerce').fillna(0)\n",
    "    \n",
    "    # 3. Calcular carga diaria\n",
    "    pesos = {\n",
    "        'Distance (km)': 1.0,\n",
    "        'Sprint Distance (m)': 0.02,\n",
    "        'Top Speed (m/s)': 10.0,\n",
    "        'Accelerations Zone Count: 2 - 3 m/s/s': 1.5,\n",
    "        'Accelerations Zone Count: 3 - 4 m/s/s': 2.0,\n",
    "        'Accelerations Zone Count: > 4 m/s/s': 2.5,\n",
    "        'Deceleration Zone Count: 2 - 3 m/s/s': 1.5,\n",
    "        'Deceleration Zone Count: 3 - 4 m/s/s': 2.0,\n",
    "        'Deceleration Zone Count: > 4 m/s/s': 2.5\n",
    "    }\n",
    "    \n",
    "    # Calcular carga diaria aplicando ponderaciones\n",
    "    datos_jugador['Carga_Diaria'] = 0\n",
    "    for var, peso in pesos.items():\n",
    "        if var in datos_jugador.columns:\n",
    "            datos_jugador['Carga_Diaria'] += datos_jugador[var] * peso\n",
    "    \n",
    "    # 4. Obtener últimas 7 sesiones\n",
    "    datos_ultimos = datos_jugador.sort_values('Date', ascending=False).head(7)\n",
    "    datos_ultimos = datos_ultimos.sort_values('Date')  # Ordenar cronológicamente para visualización\n",
    "    \n",
    "    # 5. Crear gauge chart (tacómetro) con Plotly\n",
    "    # Calcular promedio de carga de las últimas 7 sesiones para el gauge\n",
    "    carga_promedio = datos_ultimos['Carga_Diaria'].mean()\n",
    "    \n",
    "    # Determinar el valor máximo para la escala del gauge (200% del promedio o un valor fijo)\n",
    "    max_gauge = max(carga_promedio * 2, datos_ultimos['Carga_Diaria'].max() * 1.2)\n",
    "    \n",
    "    # Crear figura con gauge chart\n",
    "    fig = go.Figure()\n",
    "    \n",
    "# Modificar la configuración del indicador gauge para eliminar \"Última sesión\" y simplificar el título\n",
    "fig.add_trace(go.Indicator(\n",
    "    mode=\"gauge+number+delta\",\n",
    "    value=datos_ultimos['Carga_Diaria'].iloc[-1],  # Valor más reciente\n",
    "    title={'text': \"Carga Aguda\"},  # Título simplificado sin el nombre del jugador ni \"Última sesión\"\n",
    "    delta={'reference': datos_ultimos['Carga_Diaria'].mean(), 'relative': True, 'valueformat': '.1%'},\n",
    "    gauge={\n",
    "        'axis': {'range': [0, max_gauge], 'tickwidth': 1, 'tickcolor': \"darkblue\"},\n",
    "        'bar': {'color': \"royalblue\"},\n",
    "        'bgcolor': \"white\",\n",
    "        'borderwidth': 2,\n",
    "        'bordercolor': \"gray\",\n",
    "        'steps': [\n",
    "            {'range': [0, max_gauge*0.3], 'color': 'lightgreen'},\n",
    "            {'range': [max_gauge*0.3, max_gauge*0.7], 'color': 'gold'},\n",
    "            {'range': [max_gauge*0.7, max_gauge], 'color': 'salmon'}\n",
    "        ],\n",
    "        'threshold': {\n",
    "            'line': {'color': \"red\", 'width': 4},\n",
    "            'thickness': 0.75,\n",
    "            'value': carga_promedio * 1.5  # Umbral en 150% del promedio\n",
    "        }\n",
    "    }\n",
    "))\n",
    "\n",
    "# Actualizar el layout para mostrar solo una vez el nombre del jugador en el título principal\n",
    "fig.update_layout(\n",
    "    title=f\"Carga Aguda - {jugador_seleccionado}\",\n",
    "    height=500,\n",
    "    font=dict(size=18),\n",
    "    margin=dict(l=40, r=40, t=100, b=40),\n",
    ")\n",
    "    \n",
    "    # Mostrar gráfico\n",
    "fig.show()\n",
    "    \n",
    "    \n",
    " \n",
    "    \n",
    "else:\n",
    "    print(f\"No se encontraron datos para el jugador {jugador_seleccionado}\")"
   ]
  },
  {
   "cell_type": "code",
   "execution_count": null,
   "id": "8e503d32",
   "metadata": {},
   "outputs": [
    {
     "name": "stdout",
     "output_type": "stream",
     "text": [
      "Se encontraron 7 registros para Rivera Cano Blas\n"
     ]
    },
    {
     "name": "stderr",
     "output_type": "stream",
     "text": [
      "C:\\Users\\dell\\AppData\\Local\\Temp\\ipykernel_14332\\740261564.py:15: UserWarning:\n",
      "\n",
      "Parsing dates in %d/%m/%Y format when dayfirst=False (the default) was specified. Pass `dayfirst=True` or specify a format to silence this warning.\n",
      "\n"
     ]
    },
    {
     "data": {
      "application/vnd.plotly.v1+json": {
       "config": {
        "plotlyServerURL": "https://plot.ly"
       },
       "data": [
        {
         "delta": {
          "reference": 982.1737342857143,
          "relative": true,
          "valueformat": ".1%"
         },
         "gauge": {
          "axis": {
           "range": [
            0,
            1964.3474685714286
           ],
           "tickcolor": "darkblue",
           "tickwidth": 1
          },
          "bar": {
           "color": "royalblue"
          },
          "bgcolor": "white",
          "bordercolor": "gray",
          "borderwidth": 2,
          "steps": [
           {
            "color": "lightgreen",
            "range": [
             0,
             589.3042405714285
            ]
           },
           {
            "color": "gold",
            "range": [
             589.3042405714285,
             1375.043228
            ]
           },
           {
            "color": "salmon",
            "range": [
             1375.043228,
             1964.3474685714286
            ]
           }
          ],
          "threshold": {
           "line": {
            "color": "red",
            "width": 4
           },
           "thickness": 0.75,
           "value": 1473.2606014285716
          }
         },
         "mode": "gauge+number+delta",
         "title": {
          "text": "Carga Aguda"
         },
         "type": "indicator",
         "value": 1107.62442
        }
       ],
       "layout": {
        "font": {
         "size": 18
        },
        "height": 500,
        "margin": {
         "b": 40,
         "l": 40,
         "r": 40,
         "t": 100
        },
        "template": {
         "data": {
          "bar": [
           {
            "error_x": {
             "color": "#2a3f5f"
            },
            "error_y": {
             "color": "#2a3f5f"
            },
            "marker": {
             "line": {
              "color": "#E5ECF6",
              "width": 0.5
             },
             "pattern": {
              "fillmode": "overlay",
              "size": 10,
              "solidity": 0.2
             }
            },
            "type": "bar"
           }
          ],
          "barpolar": [
           {
            "marker": {
             "line": {
              "color": "#E5ECF6",
              "width": 0.5
             },
             "pattern": {
              "fillmode": "overlay",
              "size": 10,
              "solidity": 0.2
             }
            },
            "type": "barpolar"
           }
          ],
          "carpet": [
           {
            "aaxis": {
             "endlinecolor": "#2a3f5f",
             "gridcolor": "white",
             "linecolor": "white",
             "minorgridcolor": "white",
             "startlinecolor": "#2a3f5f"
            },
            "baxis": {
             "endlinecolor": "#2a3f5f",
             "gridcolor": "white",
             "linecolor": "white",
             "minorgridcolor": "white",
             "startlinecolor": "#2a3f5f"
            },
            "type": "carpet"
           }
          ],
          "choropleth": [
           {
            "colorbar": {
             "outlinewidth": 0,
             "ticks": ""
            },
            "type": "choropleth"
           }
          ],
          "contour": [
           {
            "colorbar": {
             "outlinewidth": 0,
             "ticks": ""
            },
            "colorscale": [
             [
              0,
              "#0d0887"
             ],
             [
              0.1111111111111111,
              "#46039f"
             ],
             [
              0.2222222222222222,
              "#7201a8"
             ],
             [
              0.3333333333333333,
              "#9c179e"
             ],
             [
              0.4444444444444444,
              "#bd3786"
             ],
             [
              0.5555555555555556,
              "#d8576b"
             ],
             [
              0.6666666666666666,
              "#ed7953"
             ],
             [
              0.7777777777777778,
              "#fb9f3a"
             ],
             [
              0.8888888888888888,
              "#fdca26"
             ],
             [
              1,
              "#f0f921"
             ]
            ],
            "type": "contour"
           }
          ],
          "contourcarpet": [
           {
            "colorbar": {
             "outlinewidth": 0,
             "ticks": ""
            },
            "type": "contourcarpet"
           }
          ],
          "heatmap": [
           {
            "colorbar": {
             "outlinewidth": 0,
             "ticks": ""
            },
            "colorscale": [
             [
              0,
              "#0d0887"
             ],
             [
              0.1111111111111111,
              "#46039f"
             ],
             [
              0.2222222222222222,
              "#7201a8"
             ],
             [
              0.3333333333333333,
              "#9c179e"
             ],
             [
              0.4444444444444444,
              "#bd3786"
             ],
             [
              0.5555555555555556,
              "#d8576b"
             ],
             [
              0.6666666666666666,
              "#ed7953"
             ],
             [
              0.7777777777777778,
              "#fb9f3a"
             ],
             [
              0.8888888888888888,
              "#fdca26"
             ],
             [
              1,
              "#f0f921"
             ]
            ],
            "type": "heatmap"
           }
          ],
          "histogram": [
           {
            "marker": {
             "pattern": {
              "fillmode": "overlay",
              "size": 10,
              "solidity": 0.2
             }
            },
            "type": "histogram"
           }
          ],
          "histogram2d": [
           {
            "colorbar": {
             "outlinewidth": 0,
             "ticks": ""
            },
            "colorscale": [
             [
              0,
              "#0d0887"
             ],
             [
              0.1111111111111111,
              "#46039f"
             ],
             [
              0.2222222222222222,
              "#7201a8"
             ],
             [
              0.3333333333333333,
              "#9c179e"
             ],
             [
              0.4444444444444444,
              "#bd3786"
             ],
             [
              0.5555555555555556,
              "#d8576b"
             ],
             [
              0.6666666666666666,
              "#ed7953"
             ],
             [
              0.7777777777777778,
              "#fb9f3a"
             ],
             [
              0.8888888888888888,
              "#fdca26"
             ],
             [
              1,
              "#f0f921"
             ]
            ],
            "type": "histogram2d"
           }
          ],
          "histogram2dcontour": [
           {
            "colorbar": {
             "outlinewidth": 0,
             "ticks": ""
            },
            "colorscale": [
             [
              0,
              "#0d0887"
             ],
             [
              0.1111111111111111,
              "#46039f"
             ],
             [
              0.2222222222222222,
              "#7201a8"
             ],
             [
              0.3333333333333333,
              "#9c179e"
             ],
             [
              0.4444444444444444,
              "#bd3786"
             ],
             [
              0.5555555555555556,
              "#d8576b"
             ],
             [
              0.6666666666666666,
              "#ed7953"
             ],
             [
              0.7777777777777778,
              "#fb9f3a"
             ],
             [
              0.8888888888888888,
              "#fdca26"
             ],
             [
              1,
              "#f0f921"
             ]
            ],
            "type": "histogram2dcontour"
           }
          ],
          "mesh3d": [
           {
            "colorbar": {
             "outlinewidth": 0,
             "ticks": ""
            },
            "type": "mesh3d"
           }
          ],
          "parcoords": [
           {
            "line": {
             "colorbar": {
              "outlinewidth": 0,
              "ticks": ""
             }
            },
            "type": "parcoords"
           }
          ],
          "pie": [
           {
            "automargin": true,
            "type": "pie"
           }
          ],
          "scatter": [
           {
            "fillpattern": {
             "fillmode": "overlay",
             "size": 10,
             "solidity": 0.2
            },
            "type": "scatter"
           }
          ],
          "scatter3d": [
           {
            "line": {
             "colorbar": {
              "outlinewidth": 0,
              "ticks": ""
             }
            },
            "marker": {
             "colorbar": {
              "outlinewidth": 0,
              "ticks": ""
             }
            },
            "type": "scatter3d"
           }
          ],
          "scattercarpet": [
           {
            "marker": {
             "colorbar": {
              "outlinewidth": 0,
              "ticks": ""
             }
            },
            "type": "scattercarpet"
           }
          ],
          "scattergeo": [
           {
            "marker": {
             "colorbar": {
              "outlinewidth": 0,
              "ticks": ""
             }
            },
            "type": "scattergeo"
           }
          ],
          "scattergl": [
           {
            "marker": {
             "colorbar": {
              "outlinewidth": 0,
              "ticks": ""
             }
            },
            "type": "scattergl"
           }
          ],
          "scattermap": [
           {
            "marker": {
             "colorbar": {
              "outlinewidth": 0,
              "ticks": ""
             }
            },
            "type": "scattermap"
           }
          ],
          "scattermapbox": [
           {
            "marker": {
             "colorbar": {
              "outlinewidth": 0,
              "ticks": ""
             }
            },
            "type": "scattermapbox"
           }
          ],
          "scatterpolar": [
           {
            "marker": {
             "colorbar": {
              "outlinewidth": 0,
              "ticks": ""
             }
            },
            "type": "scatterpolar"
           }
          ],
          "scatterpolargl": [
           {
            "marker": {
             "colorbar": {
              "outlinewidth": 0,
              "ticks": ""
             }
            },
            "type": "scatterpolargl"
           }
          ],
          "scatterternary": [
           {
            "marker": {
             "colorbar": {
              "outlinewidth": 0,
              "ticks": ""
             }
            },
            "type": "scatterternary"
           }
          ],
          "surface": [
           {
            "colorbar": {
             "outlinewidth": 0,
             "ticks": ""
            },
            "colorscale": [
             [
              0,
              "#0d0887"
             ],
             [
              0.1111111111111111,
              "#46039f"
             ],
             [
              0.2222222222222222,
              "#7201a8"
             ],
             [
              0.3333333333333333,
              "#9c179e"
             ],
             [
              0.4444444444444444,
              "#bd3786"
             ],
             [
              0.5555555555555556,
              "#d8576b"
             ],
             [
              0.6666666666666666,
              "#ed7953"
             ],
             [
              0.7777777777777778,
              "#fb9f3a"
             ],
             [
              0.8888888888888888,
              "#fdca26"
             ],
             [
              1,
              "#f0f921"
             ]
            ],
            "type": "surface"
           }
          ],
          "table": [
           {
            "cells": {
             "fill": {
              "color": "#EBF0F8"
             },
             "line": {
              "color": "white"
             }
            },
            "header": {
             "fill": {
              "color": "#C8D4E3"
             },
             "line": {
              "color": "white"
             }
            },
            "type": "table"
           }
          ]
         },
         "layout": {
          "annotationdefaults": {
           "arrowcolor": "#2a3f5f",
           "arrowhead": 0,
           "arrowwidth": 1
          },
          "autotypenumbers": "strict",
          "coloraxis": {
           "colorbar": {
            "outlinewidth": 0,
            "ticks": ""
           }
          },
          "colorscale": {
           "diverging": [
            [
             0,
             "#8e0152"
            ],
            [
             0.1,
             "#c51b7d"
            ],
            [
             0.2,
             "#de77ae"
            ],
            [
             0.3,
             "#f1b6da"
            ],
            [
             0.4,
             "#fde0ef"
            ],
            [
             0.5,
             "#f7f7f7"
            ],
            [
             0.6,
             "#e6f5d0"
            ],
            [
             0.7,
             "#b8e186"
            ],
            [
             0.8,
             "#7fbc41"
            ],
            [
             0.9,
             "#4d9221"
            ],
            [
             1,
             "#276419"
            ]
           ],
           "sequential": [
            [
             0,
             "#0d0887"
            ],
            [
             0.1111111111111111,
             "#46039f"
            ],
            [
             0.2222222222222222,
             "#7201a8"
            ],
            [
             0.3333333333333333,
             "#9c179e"
            ],
            [
             0.4444444444444444,
             "#bd3786"
            ],
            [
             0.5555555555555556,
             "#d8576b"
            ],
            [
             0.6666666666666666,
             "#ed7953"
            ],
            [
             0.7777777777777778,
             "#fb9f3a"
            ],
            [
             0.8888888888888888,
             "#fdca26"
            ],
            [
             1,
             "#f0f921"
            ]
           ],
           "sequentialminus": [
            [
             0,
             "#0d0887"
            ],
            [
             0.1111111111111111,
             "#46039f"
            ],
            [
             0.2222222222222222,
             "#7201a8"
            ],
            [
             0.3333333333333333,
             "#9c179e"
            ],
            [
             0.4444444444444444,
             "#bd3786"
            ],
            [
             0.5555555555555556,
             "#d8576b"
            ],
            [
             0.6666666666666666,
             "#ed7953"
            ],
            [
             0.7777777777777778,
             "#fb9f3a"
            ],
            [
             0.8888888888888888,
             "#fdca26"
            ],
            [
             1,
             "#f0f921"
            ]
           ]
          },
          "colorway": [
           "#636efa",
           "#EF553B",
           "#00cc96",
           "#ab63fa",
           "#FFA15A",
           "#19d3f3",
           "#FF6692",
           "#B6E880",
           "#FF97FF",
           "#FECB52"
          ],
          "font": {
           "color": "#2a3f5f"
          },
          "geo": {
           "bgcolor": "white",
           "lakecolor": "white",
           "landcolor": "#E5ECF6",
           "showlakes": true,
           "showland": true,
           "subunitcolor": "white"
          },
          "hoverlabel": {
           "align": "left"
          },
          "hovermode": "closest",
          "mapbox": {
           "style": "light"
          },
          "paper_bgcolor": "white",
          "plot_bgcolor": "#E5ECF6",
          "polar": {
           "angularaxis": {
            "gridcolor": "white",
            "linecolor": "white",
            "ticks": ""
           },
           "bgcolor": "#E5ECF6",
           "radialaxis": {
            "gridcolor": "white",
            "linecolor": "white",
            "ticks": ""
           }
          },
          "scene": {
           "xaxis": {
            "backgroundcolor": "#E5ECF6",
            "gridcolor": "white",
            "gridwidth": 2,
            "linecolor": "white",
            "showbackground": true,
            "ticks": "",
            "zerolinecolor": "white"
           },
           "yaxis": {
            "backgroundcolor": "#E5ECF6",
            "gridcolor": "white",
            "gridwidth": 2,
            "linecolor": "white",
            "showbackground": true,
            "ticks": "",
            "zerolinecolor": "white"
           },
           "zaxis": {
            "backgroundcolor": "#E5ECF6",
            "gridcolor": "white",
            "gridwidth": 2,
            "linecolor": "white",
            "showbackground": true,
            "ticks": "",
            "zerolinecolor": "white"
           }
          },
          "shapedefaults": {
           "line": {
            "color": "#2a3f5f"
           }
          },
          "ternary": {
           "aaxis": {
            "gridcolor": "white",
            "linecolor": "white",
            "ticks": ""
           },
           "baxis": {
            "gridcolor": "white",
            "linecolor": "white",
            "ticks": ""
           },
           "bgcolor": "#E5ECF6",
           "caxis": {
            "gridcolor": "white",
            "linecolor": "white",
            "ticks": ""
           }
          },
          "title": {
           "x": 0.05
          },
          "xaxis": {
           "automargin": true,
           "gridcolor": "white",
           "linecolor": "white",
           "ticks": "",
           "title": {
            "standoff": 15
           },
           "zerolinecolor": "white",
           "zerolinewidth": 2
          },
          "yaxis": {
           "automargin": true,
           "gridcolor": "white",
           "linecolor": "white",
           "ticks": "",
           "title": {
            "standoff": 15
           },
           "zerolinecolor": "white",
           "zerolinewidth": 2
          }
         }
        },
        "title": {
         "text": "Carga Aguda - Rivera Cano Blas"
        }
       }
      }
     },
     "metadata": {},
     "output_type": "display_data"
    }
   ],
   "source": [
    "# Código simplificado para analizar carga de Mateo Cechi con gauge chart\n",
    "import pandas as pd\n",
    "import plotly.graph_objects as go\n",
    "import numpy as np\n",
    "import matplotlib.pyplot as plt\n",
    "\n",
    "# 1. Seleccionar jugador y filtrar datos\n",
    "jugador_seleccionado = \"Rivera Cano Blas\"\n",
    "datos_jugador = df[df['Player Name'] == jugador_seleccionado].copy()\n",
    "\n",
    "if not datos_jugador.empty:\n",
    "    print(f\"Se encontraron {len(datos_jugador)} registros para {jugador_seleccionado}\")\n",
    "    \n",
    "    # 2. Preparar datos (convertir fechas y columnas numéricas)\n",
    "    datos_jugador['Date'] = pd.to_datetime(datos_jugador['Date'], errors='coerce')\n",
    "    \n",
    "    # Columnas numéricas que necesitamos\n",
    "    columnas_numericas = [\n",
    "        'Distance (km)', \n",
    "        'Sprint Distance (m)', \n",
    "        'Top Speed (m/s)',\n",
    "        'Accelerations Zone Count: 2 - 3 m/s/s',\n",
    "        'Accelerations Zone Count: 3 - 4 m/s/s',\n",
    "        'Accelerations Zone Count: > 4 m/s/s',\n",
    "        'Deceleration Zone Count: 2 - 3 m/s/s',\n",
    "        'Deceleration Zone Count: 3 - 4 m/s/s',\n",
    "        'Deceleration Zone Count: > 4 m/s/s'\n",
    "    ]\n",
    "    \n",
    "    # Convertir columnas a formato numérico\n",
    "    for col in columnas_numericas:\n",
    "        if col in datos_jugador.columns:\n",
    "            # Reemplazar comas por puntos si es string\n",
    "            if datos_jugador[col].dtype == 'object':\n",
    "                datos_jugador[col] = datos_jugador[col].str.replace(',', '.', regex=True)\n",
    "            # Convertir a numérico\n",
    "            datos_jugador[col] = pd.to_numeric(datos_jugador[col], errors='coerce').fillna(0)\n",
    "    \n",
    "    # 3. Calcular carga diaria\n",
    "    pesos = {\n",
    "        'Distance (km)': 1.0,\n",
    "        'Sprint Distance (m)': 0.02,\n",
    "        'Top Speed (m/s)': 10.0,\n",
    "        'Accelerations Zone Count: 2 - 3 m/s/s': 1.5,\n",
    "        'Accelerations Zone Count: 3 - 4 m/s/s': 2.0,\n",
    "        'Accelerations Zone Count: > 4 m/s/s': 2.5,\n",
    "        'Deceleration Zone Count: 2 - 3 m/s/s': 1.5,\n",
    "        'Deceleration Zone Count: 3 - 4 m/s/s': 2.0,\n",
    "        'Deceleration Zone Count: > 4 m/s/s': 2.5\n",
    "    }\n",
    "    \n",
    "    # Calcular carga diaria aplicando ponderaciones\n",
    "    datos_jugador['Carga_Diaria'] = 0\n",
    "    for var, peso in pesos.items():\n",
    "        if var in datos_jugador.columns:\n",
    "            datos_jugador['Carga_Diaria'] += datos_jugador[var] * peso\n",
    "    \n",
    "    # 4. Obtener últimas 7 sesiones\n",
    "    datos_ultimos = datos_jugador.sort_values('Date', ascending=False).head(7)\n",
    "    datos_ultimos = datos_ultimos.sort_values('Date')  # Ordenar cronológicamente para visualización\n",
    "    \n",
    "    # 5. Crear gauge chart (tacómetro) con Plotly\n",
    "    # Calcular promedio de carga de las últimas 7 sesiones para el gauge\n",
    "    carga_promedio = datos_ultimos['Carga_Diaria'].mean()\n",
    "    \n",
    "    # Determinar el valor máximo para la escala del gauge (200% del promedio o un valor fijo)\n",
    "    max_gauge = max(carga_promedio * 2, datos_ultimos['Carga_Diaria'].max() * 1.2)\n",
    "    \n",
    "    # Crear figura con gauge chart\n",
    "    fig = go.Figure()\n",
    "    \n",
    "    # Añadir el indicador gauge\n",
    "    fig.add_trace(go.Indicator(\n",
    "        mode=\"gauge+number+delta\",\n",
    "        value=datos_ultimos['Carga_Diaria'].iloc[-1],  # Valor más reciente\n",
    "        title={'text': \"Carga Aguda\"},  # Título simplificado sin el nombre del jugador ni \"Última sesión\"\n",
    "        delta={'reference': datos_ultimos['Carga_Diaria'].mean(), 'relative': True, 'valueformat': '.1%'},\n",
    "        gauge={\n",
    "            'axis': {'range': [0, max_gauge], 'tickwidth': 1, 'tickcolor': \"darkblue\"},\n",
    "            'bar': {'color': \"royalblue\"},\n",
    "            'bgcolor': \"white\",\n",
    "            'borderwidth': 2,\n",
    "            'bordercolor': \"gray\",\n",
    "            'steps': [\n",
    "                {'range': [0, max_gauge*0.3], 'color': 'lightgreen'},\n",
    "                {'range': [max_gauge*0.3, max_gauge*0.7], 'color': 'gold'},\n",
    "                {'range': [max_gauge*0.7, max_gauge], 'color': 'salmon'}\n",
    "            ],\n",
    "            'threshold': {\n",
    "                'line': {'color': \"red\", 'width': 4},\n",
    "                'thickness': 0.75,\n",
    "                'value': carga_promedio * 1.5  # Umbral en 150% del promedio\n",
    "            }\n",
    "        }\n",
    "    ))\n",
    "\n",
    "    # Actualizar el layout para mostrar solo una vez el nombre del jugador en el título principal\n",
    "    fig.update_layout(\n",
    "        title=f\"Carga Aguda - {jugador_seleccionado}\",\n",
    "        height=500,\n",
    "        font=dict(size=18),\n",
    "        margin=dict(l=40, r=40, t=100, b=40),\n",
    "    )\n",
    "    \n",
    "    # Mostrar gráfico\n",
    "    fig.show()\n",
    "    \n",
    "else:\n",
    "    print(f\"No se encontraron datos para el jugador {jugador_seleccionado}\")"
   ]
  },
  {
   "cell_type": "code",
   "execution_count": 4,
   "id": "ba126ac9",
   "metadata": {},
   "outputs": [],
   "source": [
    "def crear_gauge_carga_aguda(df, jugador_seleccionado=None):\n",
    "    \"\"\"\n",
    "    Crea un gráfico gauge (tacómetro) para mostrar la carga aguda de un jugador.\n",
    "    \n",
    "    Parámetros:\n",
    "    - df: DataFrame con los datos de Catapult\n",
    "    - jugador_seleccionado: Nombre del jugador (opcional). Si no se proporciona, \n",
    "                          se usará el primer jugador disponible.\n",
    "    \n",
    "    Retorna:\n",
    "    - fig: Figura de Plotly con el gráfico gauge\n",
    "    - datos_procesados: DataFrame con los datos procesados del jugador\n",
    "    \"\"\"\n",
    "    import pandas as pd\n",
    "    import plotly.graph_objects as go\n",
    "    import numpy as np\n",
    "    \n",
    "    # Si no se proporciona un jugador, usar el primero disponible\n",
    "    if jugador_seleccionado is None:\n",
    "        if 'Player Name' in df.columns and not df.empty:\n",
    "            jugador_seleccionado = df['Player Name'].unique()[0]\n",
    "        else:\n",
    "            return None, None\n",
    "    \n",
    "    # 1. Filtrar datos del jugador\n",
    "    datos_jugador = df[df['Player Name'] == jugador_seleccionado].copy()\n",
    "    \n",
    "    if datos_jugador.empty:\n",
    "        print(f\"No se encontraron datos para el jugador {jugador_seleccionado}\")\n",
    "        return None, None\n",
    "    \n",
    "    print(f\"Se encontraron {len(datos_jugador)} registros para {jugador_seleccionado}\")\n",
    "    \n",
    "    # 2. Preparar datos (convertir fechas y columnas numéricas)\n",
    "    datos_jugador['Date'] = pd.to_datetime(datos_jugador['Date'], errors='coerce')\n",
    "    \n",
    "    # Columnas numéricas que necesitamos\n",
    "    columnas_numericas = [\n",
    "        'Distance (km)', \n",
    "        'Sprint Distance (m)', \n",
    "        'Top Speed (m/s)',\n",
    "        'Accelerations Zone Count: 2 - 3 m/s/s',\n",
    "        'Accelerations Zone Count: 3 - 4 m/s/s',\n",
    "        'Accelerations Zone Count: > 4 m/s/s',\n",
    "        'Deceleration Zone Count: 2 - 3 m/s/s',\n",
    "        'Deceleration Zone Count: 3 - 4 m/s/s',\n",
    "        'Deceleration Zone Count: > 4 m/s/s'\n",
    "    ]\n",
    "    \n",
    "    # Convertir columnas a formato numérico\n",
    "    for col in columnas_numericas:\n",
    "        if col in datos_jugador.columns:\n",
    "            # Reemplazar comas por puntos si es string\n",
    "            if datos_jugador[col].dtype == 'object':\n",
    "                datos_jugador[col] = datos_jugador[col].str.replace(',', '.', regex=True)\n",
    "            # Convertir a numérico\n",
    "            datos_jugador[col] = pd.to_numeric(datos_jugador[col], errors='coerce').fillna(0)\n",
    "    \n",
    "    # 3. Calcular carga diaria\n",
    "    pesos = {\n",
    "        'Distance (km)': 1.0,\n",
    "        'Sprint Distance (m)': 0.02,\n",
    "        'Top Speed (m/s)': 10.0,\n",
    "        'Accelerations Zone Count: 2 - 3 m/s/s': 1.5,\n",
    "        'Accelerations Zone Count: 3 - 4 m/s/s': 2.0,\n",
    "        'Accelerations Zone Count: > 4 m/s/s': 2.5,\n",
    "        'Deceleration Zone Count: 2 - 3 m/s/s': 1.5,\n",
    "        'Deceleration Zone Count: 3 - 4 m/s/s': 2.0,\n",
    "        'Deceleration Zone Count: > 4 m/s/s': 2.5\n",
    "    }\n",
    "    \n",
    "    # Calcular carga diaria aplicando ponderaciones\n",
    "    datos_jugador['Carga_Diaria'] = 0\n",
    "    for var, peso in pesos.items():\n",
    "        if var in datos_jugador.columns:\n",
    "            datos_jugador['Carga_Diaria'] += datos_jugador[var] * peso\n",
    "    \n",
    "    # 4. Obtener últimas 7 sesiones\n",
    "    datos_ultimos = datos_jugador.sort_values('Date', ascending=False).head(7)\n",
    "    datos_ultimos = datos_ultimos.sort_values('Date')  # Ordenar cronológicamente para visualización\n",
    "    \n",
    "    # 5. Crear gauge chart (tacómetro) con Plotly\n",
    "    # Calcular promedio de carga de las últimas 7 sesiones para el gauge\n",
    "    carga_promedio = datos_ultimos['Carga_Diaria'].mean()\n",
    "    \n",
    "    # Determinar el valor máximo para la escala del gauge (200% del promedio o un valor fijo)\n",
    "    max_gauge = max(carga_promedio * 2, datos_ultimos['Carga_Diaria'].max() * 1.2)\n",
    "    \n",
    "    # Crear figura con gauge chart\n",
    "    fig = go.Figure()\n",
    "    \n",
    "    # Añadir el indicador gauge\n",
    "    fig.add_trace(go.Indicator(\n",
    "        mode=\"gauge+number+delta\",\n",
    "        value=datos_ultimos['Carga_Diaria'].iloc[-1],  # Valor más reciente\n",
    "        title={'text': \"Carga Aguda\"},  # Título simplificado sin el nombre del jugador\n",
    "        delta={'reference': datos_ultimos['Carga_Diaria'].mean(), 'relative': True, 'valueformat': '.1%'},\n",
    "        gauge={\n",
    "            'axis': {'range': [0, max_gauge], 'tickwidth': 1, 'tickcolor': \"darkblue\"},\n",
    "            'bar': {'color': \"royalblue\"},\n",
    "            'bgcolor': \"white\",\n",
    "            'borderwidth': 2,\n",
    "            'bordercolor': \"gray\",\n",
    "            'steps': [\n",
    "                {'range': [0, max_gauge*0.3], 'color': 'lightgreen'},\n",
    "                {'range': [max_gauge*0.3, max_gauge*0.7], 'color': 'gold'},\n",
    "                {'range': [max_gauge*0.7, max_gauge], 'color': 'salmon'}\n",
    "            ],\n",
    "            'threshold': {\n",
    "                'line': {'color': \"red\", 'width': 4},\n",
    "                'thickness': 0.75,\n",
    "                'value': carga_promedio * 1.5  # Umbral en 150% del promedio\n",
    "            }\n",
    "        }\n",
    "    ))\n",
    "\n",
    "    # Actualizar el layout para mostrar el nombre del jugador en el título principal\n",
    "    fig.update_layout(\n",
    "        title=f\"Carga Aguda - {jugador_seleccionado}\",\n",
    "        height=500,\n",
    "        font=dict(size=18),\n",
    "        margin=dict(l=40, r=40, t=100, b=40),\n",
    "    )\n",
    "    \n",
    "    return fig, datos_jugador"
   ]
  },
  {
   "cell_type": "code",
   "execution_count": null,
   "id": "bac0e7a5",
   "metadata": {},
   "outputs": [
    {
     "data": {
      "text/html": [
       "<div>\n",
       "<style scoped>\n",
       "    .dataframe tbody tr th:only-of-type {\n",
       "        vertical-align: middle;\n",
       "    }\n",
       "\n",
       "    .dataframe tbody tr th {\n",
       "        vertical-align: top;\n",
       "    }\n",
       "\n",
       "    .dataframe thead th {\n",
       "        text-align: right;\n",
       "    }\n",
       "</style>\n",
       "<table border=\"1\" class=\"dataframe\">\n",
       "  <thead>\n",
       "    <tr style=\"text-align: right;\">\n",
       "      <th></th>\n",
       "      <th>Date</th>\n",
       "      <th>Session Title</th>\n",
       "      <th>Player Name</th>\n",
       "      <th>Split Name</th>\n",
       "      <th>Tags</th>\n",
       "      <th>Split Start Time</th>\n",
       "      <th>Split End Time</th>\n",
       "      <th>Duration</th>\n",
       "      <th>Distance (km)</th>\n",
       "      <th>Sprint Distance (m)</th>\n",
       "      <th>...</th>\n",
       "      <th>Accelerations Zone Count: 2 - 3 m/s/s</th>\n",
       "      <th>Accelerations Zone Count: 3 - 4 m/s/s</th>\n",
       "      <th>Accelerations Zone Count: &gt; 4 m/s/s</th>\n",
       "      <th>Deceleration Zone Count: 0 - 1 m/s/s</th>\n",
       "      <th>Deceleration Zone Count: 1 - 2 m/s/s</th>\n",
       "      <th>Deceleration Zone Count: 2 - 3 m/s/s</th>\n",
       "      <th>Deceleration Zone Count: 3 - 4 m/s/s</th>\n",
       "      <th>Deceleration Zone Count: &gt; 4 m/s/s</th>\n",
       "      <th>Unnamed: 98</th>\n",
       "      <th>Unnamed: 99</th>\n",
       "    </tr>\n",
       "  </thead>\n",
       "  <tbody>\n",
       "    <tr>\n",
       "      <th>0</th>\n",
       "      <td>15/04/2025</td>\n",
       "      <td>martes 15-4</td>\n",
       "      <td>Orrico Santiago</td>\n",
       "      <td>all</td>\n",
       "      <td>training</td>\n",
       "      <td>45762,8417</td>\n",
       "      <td>45762,9045</td>\n",
       "      <td>5426</td>\n",
       "      <td>5,6323</td>\n",
       "      <td>2033</td>\n",
       "      <td>...</td>\n",
       "      <td>0</td>\n",
       "      <td>17</td>\n",
       "      <td>14</td>\n",
       "      <td>38</td>\n",
       "      <td>24</td>\n",
       "      <td>0</td>\n",
       "      <td>19</td>\n",
       "      <td>42</td>\n",
       "      <td>3</td>\n",
       "      <td>27</td>\n",
       "    </tr>\n",
       "    <tr>\n",
       "      <th>1</th>\n",
       "      <td>15/04/2025</td>\n",
       "      <td>martes 15-4</td>\n",
       "      <td>Espinosa Fede</td>\n",
       "      <td>all</td>\n",
       "      <td>training</td>\n",
       "      <td>45762,8383</td>\n",
       "      <td>45762,9316</td>\n",
       "      <td>8058</td>\n",
       "      <td>6,4806</td>\n",
       "      <td>2108</td>\n",
       "      <td>...</td>\n",
       "      <td>0</td>\n",
       "      <td>26</td>\n",
       "      <td>32</td>\n",
       "      <td>37</td>\n",
       "      <td>38</td>\n",
       "      <td>0</td>\n",
       "      <td>41</td>\n",
       "      <td>49</td>\n",
       "      <td>21</td>\n",
       "      <td>14</td>\n",
       "    </tr>\n",
       "    <tr>\n",
       "      <th>2</th>\n",
       "      <td>15/04/2025</td>\n",
       "      <td>martes 15-4</td>\n",
       "      <td>Rivera Cano Blas</td>\n",
       "      <td>all</td>\n",
       "      <td>training</td>\n",
       "      <td>45762,788</td>\n",
       "      <td>45762,9321</td>\n",
       "      <td>12457</td>\n",
       "      <td>6,7728</td>\n",
       "      <td>1142</td>\n",
       "      <td>...</td>\n",
       "      <td>0</td>\n",
       "      <td>30</td>\n",
       "      <td>32</td>\n",
       "      <td>55</td>\n",
       "      <td>15</td>\n",
       "      <td>0</td>\n",
       "      <td>44</td>\n",
       "      <td>42</td>\n",
       "      <td>25</td>\n",
       "      <td>9</td>\n",
       "    </tr>\n",
       "    <tr>\n",
       "      <th>3</th>\n",
       "      <td>15/04/2025</td>\n",
       "      <td>martes 15-4</td>\n",
       "      <td>Esquerren Fermin</td>\n",
       "      <td>all</td>\n",
       "      <td>training</td>\n",
       "      <td>45762,8383</td>\n",
       "      <td>45762,9329</td>\n",
       "      <td>8175</td>\n",
       "      <td>6,4737</td>\n",
       "      <td>1795</td>\n",
       "      <td>...</td>\n",
       "      <td>0</td>\n",
       "      <td>60</td>\n",
       "      <td>29</td>\n",
       "      <td>50</td>\n",
       "      <td>19</td>\n",
       "      <td>0</td>\n",
       "      <td>66</td>\n",
       "      <td>55</td>\n",
       "      <td>20</td>\n",
       "      <td>16</td>\n",
       "    </tr>\n",
       "    <tr>\n",
       "      <th>4</th>\n",
       "      <td>15/04/2025</td>\n",
       "      <td>martes 15-4</td>\n",
       "      <td>Urrejola Fabio</td>\n",
       "      <td>all</td>\n",
       "      <td>training</td>\n",
       "      <td>45762,8383</td>\n",
       "      <td>45762,9091</td>\n",
       "      <td>6115</td>\n",
       "      <td>4,5099</td>\n",
       "      <td>586</td>\n",
       "      <td>...</td>\n",
       "      <td>0</td>\n",
       "      <td>45</td>\n",
       "      <td>32</td>\n",
       "      <td>42</td>\n",
       "      <td>2</td>\n",
       "      <td>0</td>\n",
       "      <td>56</td>\n",
       "      <td>56</td>\n",
       "      <td>9</td>\n",
       "      <td>0</td>\n",
       "    </tr>\n",
       "    <tr>\n",
       "      <th>...</th>\n",
       "      <td>...</td>\n",
       "      <td>...</td>\n",
       "      <td>...</td>\n",
       "      <td>...</td>\n",
       "      <td>...</td>\n",
       "      <td>...</td>\n",
       "      <td>...</td>\n",
       "      <td>...</td>\n",
       "      <td>...</td>\n",
       "      <td>...</td>\n",
       "      <td>...</td>\n",
       "      <td>...</td>\n",
       "      <td>...</td>\n",
       "      <td>...</td>\n",
       "      <td>...</td>\n",
       "      <td>...</td>\n",
       "      <td>...</td>\n",
       "      <td>...</td>\n",
       "      <td>...</td>\n",
       "      <td>...</td>\n",
       "      <td>...</td>\n",
       "    </tr>\n",
       "    <tr>\n",
       "      <th>65</th>\n",
       "      <td>10/05/2025</td>\n",
       "      <td>Partido San Cirano</td>\n",
       "      <td>Lorito</td>\n",
       "      <td>game</td>\n",
       "      <td>game</td>\n",
       "      <td>45787,6461</td>\n",
       "      <td>45787,7189</td>\n",
       "      <td>5857</td>\n",
       "      <td>5,6624</td>\n",
       "      <td>552,27</td>\n",
       "      <td>...</td>\n",
       "      <td>0</td>\n",
       "      <td>77</td>\n",
       "      <td>73</td>\n",
       "      <td>31</td>\n",
       "      <td>12</td>\n",
       "      <td>0</td>\n",
       "      <td>82</td>\n",
       "      <td>47</td>\n",
       "      <td>29</td>\n",
       "      <td>28</td>\n",
       "    </tr>\n",
       "    <tr>\n",
       "      <th>66</th>\n",
       "      <td>10/05/2025</td>\n",
       "      <td>Partido San Cirano</td>\n",
       "      <td>Herrera Bautista</td>\n",
       "      <td>game</td>\n",
       "      <td>game</td>\n",
       "      <td>45787,6461</td>\n",
       "      <td>45787,7189</td>\n",
       "      <td>4364</td>\n",
       "      <td>3,6819</td>\n",
       "      <td>70,337</td>\n",
       "      <td>...</td>\n",
       "      <td>0</td>\n",
       "      <td>107</td>\n",
       "      <td>57</td>\n",
       "      <td>18</td>\n",
       "      <td>4</td>\n",
       "      <td>0</td>\n",
       "      <td>107</td>\n",
       "      <td>59</td>\n",
       "      <td>14</td>\n",
       "      <td>5</td>\n",
       "    </tr>\n",
       "    <tr>\n",
       "      <th>67</th>\n",
       "      <td>10/05/2025</td>\n",
       "      <td>Partido San Cirano</td>\n",
       "      <td>Rivera Cano Blas</td>\n",
       "      <td>game</td>\n",
       "      <td>game</td>\n",
       "      <td>45787,6461</td>\n",
       "      <td>45787,7189</td>\n",
       "      <td>5857</td>\n",
       "      <td>6,6254</td>\n",
       "      <td>718,851</td>\n",
       "      <td>...</td>\n",
       "      <td>0</td>\n",
       "      <td>102</td>\n",
       "      <td>88</td>\n",
       "      <td>55</td>\n",
       "      <td>11</td>\n",
       "      <td>0</td>\n",
       "      <td>85</td>\n",
       "      <td>75</td>\n",
       "      <td>46</td>\n",
       "      <td>41</td>\n",
       "    </tr>\n",
       "    <tr>\n",
       "      <th>68</th>\n",
       "      <td>10/05/2025</td>\n",
       "      <td>Partido San Cirano</td>\n",
       "      <td>Vergel Alejo</td>\n",
       "      <td>game</td>\n",
       "      <td>game</td>\n",
       "      <td>45787,6461</td>\n",
       "      <td>45787,7189</td>\n",
       "      <td>5857</td>\n",
       "      <td>6,301</td>\n",
       "      <td>856,934</td>\n",
       "      <td>...</td>\n",
       "      <td>0</td>\n",
       "      <td>60</td>\n",
       "      <td>69</td>\n",
       "      <td>35</td>\n",
       "      <td>12</td>\n",
       "      <td>0</td>\n",
       "      <td>74</td>\n",
       "      <td>42</td>\n",
       "      <td>35</td>\n",
       "      <td>28</td>\n",
       "    </tr>\n",
       "    <tr>\n",
       "      <th>69</th>\n",
       "      <td>10/05/2025</td>\n",
       "      <td>Partido San Cirano</td>\n",
       "      <td>Nicolas Morena</td>\n",
       "      <td>game</td>\n",
       "      <td>game</td>\n",
       "      <td>45787,6457</td>\n",
       "      <td>45787,718</td>\n",
       "      <td>5939</td>\n",
       "      <td>6,0785</td>\n",
       "      <td>415,753</td>\n",
       "      <td>...</td>\n",
       "      <td>0</td>\n",
       "      <td>115</td>\n",
       "      <td>66</td>\n",
       "      <td>37</td>\n",
       "      <td>14</td>\n",
       "      <td>0</td>\n",
       "      <td>83</td>\n",
       "      <td>69</td>\n",
       "      <td>26</td>\n",
       "      <td>28</td>\n",
       "    </tr>\n",
       "  </tbody>\n",
       "</table>\n",
       "<p>70 rows × 100 columns</p>\n",
       "</div>"
      ],
      "text/plain": [
       "          Date       Session Title       Player Name Split Name      Tags  \\\n",
       "0   15/04/2025         martes 15-4   Orrico Santiago        all  training   \n",
       "1   15/04/2025         martes 15-4     Espinosa Fede        all  training   \n",
       "2   15/04/2025         martes 15-4  Rivera Cano Blas        all  training   \n",
       "3   15/04/2025         martes 15-4  Esquerren Fermin        all  training   \n",
       "4   15/04/2025         martes 15-4    Urrejola Fabio        all  training   \n",
       "..         ...                 ...               ...        ...       ...   \n",
       "65  10/05/2025  Partido San Cirano            Lorito       game      game   \n",
       "66  10/05/2025  Partido San Cirano  Herrera Bautista       game      game   \n",
       "67  10/05/2025  Partido San Cirano  Rivera Cano Blas       game      game   \n",
       "68  10/05/2025  Partido San Cirano      Vergel Alejo       game      game   \n",
       "69  10/05/2025  Partido San Cirano    Nicolas Morena       game      game   \n",
       "\n",
       "   Split Start Time Split End Time  Duration Distance (km)  \\\n",
       "0        45762,8417     45762,9045      5426        5,6323   \n",
       "1        45762,8383     45762,9316      8058        6,4806   \n",
       "2         45762,788     45762,9321     12457        6,7728   \n",
       "3        45762,8383     45762,9329      8175        6,4737   \n",
       "4        45762,8383     45762,9091      6115        4,5099   \n",
       "..              ...            ...       ...           ...   \n",
       "65       45787,6461     45787,7189      5857        5,6624   \n",
       "66       45787,6461     45787,7189      4364        3,6819   \n",
       "67       45787,6461     45787,7189      5857        6,6254   \n",
       "68       45787,6461     45787,7189      5857         6,301   \n",
       "69       45787,6457      45787,718      5939        6,0785   \n",
       "\n",
       "   Sprint Distance (m)  ...  Accelerations Zone Count: 2 - 3 m/s/s  \\\n",
       "0                 2033  ...                                      0   \n",
       "1                 2108  ...                                      0   \n",
       "2                 1142  ...                                      0   \n",
       "3                 1795  ...                                      0   \n",
       "4                  586  ...                                      0   \n",
       "..                 ...  ...                                    ...   \n",
       "65              552,27  ...                                      0   \n",
       "66              70,337  ...                                      0   \n",
       "67             718,851  ...                                      0   \n",
       "68             856,934  ...                                      0   \n",
       "69             415,753  ...                                      0   \n",
       "\n",
       "   Accelerations Zone Count: 3 - 4 m/s/s  Accelerations Zone Count: > 4 m/s/s  \\\n",
       "0                                     17                                   14   \n",
       "1                                     26                                   32   \n",
       "2                                     30                                   32   \n",
       "3                                     60                                   29   \n",
       "4                                     45                                   32   \n",
       "..                                   ...                                  ...   \n",
       "65                                    77                                   73   \n",
       "66                                   107                                   57   \n",
       "67                                   102                                   88   \n",
       "68                                    60                                   69   \n",
       "69                                   115                                   66   \n",
       "\n",
       "    Deceleration Zone Count: 0 - 1 m/s/s  \\\n",
       "0                                     38   \n",
       "1                                     37   \n",
       "2                                     55   \n",
       "3                                     50   \n",
       "4                                     42   \n",
       "..                                   ...   \n",
       "65                                    31   \n",
       "66                                    18   \n",
       "67                                    55   \n",
       "68                                    35   \n",
       "69                                    37   \n",
       "\n",
       "    Deceleration Zone Count: 1 - 2 m/s/s Deceleration Zone Count: 2 - 3 m/s/s  \\\n",
       "0                                     24                                    0   \n",
       "1                                     38                                    0   \n",
       "2                                     15                                    0   \n",
       "3                                     19                                    0   \n",
       "4                                      2                                    0   \n",
       "..                                   ...                                  ...   \n",
       "65                                    12                                    0   \n",
       "66                                     4                                    0   \n",
       "67                                    11                                    0   \n",
       "68                                    12                                    0   \n",
       "69                                    14                                    0   \n",
       "\n",
       "   Deceleration Zone Count: 3 - 4 m/s/s Deceleration Zone Count: > 4 m/s/s  \\\n",
       "0                                    19                                 42   \n",
       "1                                    41                                 49   \n",
       "2                                    44                                 42   \n",
       "3                                    66                                 55   \n",
       "4                                    56                                 56   \n",
       "..                                  ...                                ...   \n",
       "65                                   82                                 47   \n",
       "66                                  107                                 59   \n",
       "67                                   85                                 75   \n",
       "68                                   74                                 42   \n",
       "69                                   83                                 69   \n",
       "\n",
       "   Unnamed: 98 Unnamed: 99  \n",
       "0            3          27  \n",
       "1           21          14  \n",
       "2           25           9  \n",
       "3           20          16  \n",
       "4            9           0  \n",
       "..         ...         ...  \n",
       "65          29          28  \n",
       "66          14           5  \n",
       "67          46          41  \n",
       "68          35          28  \n",
       "69          26          28  \n",
       "\n",
       "[70 rows x 100 columns]"
      ]
     },
     "execution_count": 67,
     "metadata": {},
     "output_type": "execute_result"
    }
   ],
   "source": [
    "df"
   ]
  },
  {
   "cell_type": "code",
   "execution_count": 19,
   "id": "c745dea2",
   "metadata": {},
   "outputs": [],
   "source": [
    "def obtener_valores_maximos_por_jugador(dataframe, columnas, jugador=None):\n",
    "    \"\"\"\n",
    "    Obtiene los valores máximos históricos por jugador para las columnas especificadas.\n",
    "    \n",
    "    Parámetros:\n",
    "    - dataframe: DataFrame con los datos de Catapult\n",
    "    - columnas: Lista de nombres de columnas para obtener sus valores máximos\n",
    "    - jugador: (Opcional) Nombre del jugador específico. Si es None, devuelve para todos los jugadores\n",
    "    \n",
    "    Retorna:\n",
    "    - DataFrame con los valores máximos de cada columna para cada jugador\n",
    "    \"\"\"\n",
    "    if dataframe is None or dataframe.empty:\n",
    "        return pd.DataFrame()\n",
    "    \n",
    "    # Verificar que 'Player Name' está en las columnas\n",
    "    if 'Player Name' not in dataframe.columns:\n",
    "        print(\"Error: No se encuentra la columna 'Player Name' en el DataFrame\")\n",
    "        return pd.DataFrame()\n",
    "    \n",
    "    # Verificar que todas las columnas solicitadas existen\n",
    "    columnas_validas = [col for col in columnas if col in dataframe.columns]\n",
    "    if len(columnas_validas) < len(columnas):\n",
    "        columnas_faltantes = set(columnas) - set(columnas_validas)\n",
    "        print(f\"Advertencia: No se encontraron estas columnas: {columnas_faltantes}\")\n",
    "    \n",
    "    # Filtrar por jugador específico si se proporciona\n",
    "    if jugador:\n",
    "        df_filtrado = dataframe[dataframe['Player Name'] == jugador].copy()\n",
    "        if df_filtrado.empty:\n",
    "            print(f\"No se encontraron datos para el jugador: {jugador}\")\n",
    "            return pd.DataFrame()\n",
    "    else:\n",
    "        df_filtrado = dataframe.copy()\n",
    "    \n",
    "    # Convertir columnas numéricas (manejo de posibles formatos de texto)\n",
    "    for col in columnas_validas:\n",
    "        if df_filtrado[col].dtype == 'object':\n",
    "            # Reemplazar comas por puntos si es necesario\n",
    "            df_filtrado[col] = df_filtrado[col].str.replace(',', '.', regex=True)\n",
    "        # Convertir a numérico con manejo de errores\n",
    "        df_filtrado[col] = pd.to_numeric(df_filtrado[col], errors='coerce')\n",
    "    \n",
    "    # Agrupar por jugador y obtener máximos por columna\n",
    "    resultado = df_filtrado.groupby('Player Name')[columnas_validas].max().reset_index()\n",
    "    \n",
    "    # Renombrar columnas para mayor claridad\n",
    "    for col in columnas_validas:\n",
    "        resultado = resultado.rename(columns={col: f\"Máximo {col}\"})\n",
    "    \n",
    "    return resultado"
   ]
  },
  {
   "cell_type": "code",
   "execution_count": 6,
   "id": "ed020a3c",
   "metadata": {},
   "outputs": [
    {
     "name": "stdout",
     "output_type": "stream",
     "text": [
      "        Player Name  Máximo Distance (km)  Máximo Sprint Distance (m)  \\\n",
      "0  Rivera Cano Blas                 7.677                      1142.0   \n",
      "\n",
      "   Máximo Top Speed (m/s)  \n",
      "0                    32.0  \n",
      "        Player Name  Máximo Distance (km)  Máximo Sprint Distance (m)  \\\n",
      "0      Cachaza Pato                7.7338                     891.000   \n",
      "1       Cechi Mateo                7.4108                    2467.000   \n",
      "2              Chon                4.4105                     269.622   \n",
      "3      Ciro Scaglia                6.1935                     458.646   \n",
      "4  Damioli Bautista                6.1194                     457.726   \n",
      "\n",
      "   Máximo Top Speed (m/s)  \n",
      "0                 29.0000  \n",
      "1                 32.5603  \n",
      "2                 25.0242  \n",
      "3                 26.3682  \n",
      "4                 27.5362  \n"
     ]
    }
   ],
   "source": [
    "# Para un jugador específico\n",
    "columnas_de_interes = ['Distance (km)', 'Sprint Distance (m)', 'Top Speed (m/s)']\n",
    "jugador_seleccionado = \"Rivera Cano Blas\"\n",
    "maximos_jugador = obtener_valores_maximos_por_jugador(df, columnas_de_interes, jugador_seleccionado)\n",
    "print(maximos_jugador)\n",
    "\n",
    "# Para todos los jugadores\n",
    "maximos_todos = obtener_valores_maximos_por_jugador(df, columnas_de_interes)\n",
    "print(maximos_todos.head())  # Mostrar los primeros registros"
   ]
  },
  {
   "cell_type": "code",
   "execution_count": 7,
   "id": "2997f349",
   "metadata": {},
   "outputs": [],
   "source": [
    "def calcular_carga_cronica(datos_jugador, ventana_cronica=21):\n",
    "    \"\"\"\n",
    "    Calcula la carga crónica para un jugador, basada en los últimos 21 días (o días configurables).\n",
    "    Se basa en una carga ponderada de diferentes variables GPS, igual que la carga aguda.\n",
    "    \n",
    "    Parámetros:\n",
    "    - datos_jugador: DataFrame con los datos del jugador\n",
    "    - ventana_cronica: Número de días para calcular la carga crónica (por defecto 21 días)\n",
    "    \n",
    "    Retorna:\n",
    "    - carga_cronica: Valor de la carga crónica\n",
    "    - datos_jugador: DataFrame con los datos procesados, incluyendo la columna 'Carga_Diaria'\n",
    "    \"\"\"\n",
    "    # Ponderación subjetiva para cada variable (mismos pesos que la carga aguda)\n",
    "    pesos = {\n",
    "        'Distance (km)': 1.0,\n",
    "        'Sprint Distance (m)': 0.02,\n",
    "        'Top Speed (m/s)': 10.0,\n",
    "        'Accelerations Zone Count: 2 - 3 m/s/s': 1.5,\n",
    "        'Accelerations Zone Count: 3 - 4 m/s/s': 2.0,\n",
    "        'Accelerations Zone Count: > 4 m/s/s': 2.5,\n",
    "        'Deceleration Zone Count: 2 - 3 m/s/s': 1.5,\n",
    "        'Deceleration Zone Count: 3 - 4 m/s/s': 2.0,\n",
    "        'Deceleration Zone Count: > 4 m/s/s': 2.5\n",
    "    }\n",
    "\n",
    "    # Asegurarse de que las fechas estén en formato datetime\n",
    "    datos_jugador['Date'] = pd.to_datetime(datos_jugador['Date'])\n",
    "\n",
    "    # Ordenar por fecha y aplicar la fórmula de carga diaria si no existe ya\n",
    "    datos_jugador = datos_jugador.sort_values('Date').copy()\n",
    "    \n",
    "    # Verificar si ya existe la columna Carga_Diaria\n",
    "    if 'Carga_Diaria' not in datos_jugador.columns:\n",
    "        datos_jugador['Carga_Diaria'] = 0\n",
    "        for var, peso in pesos.items():\n",
    "            if var in datos_jugador.columns:\n",
    "                datos_jugador['Carga_Diaria'] += datos_jugador[var] * peso\n",
    "\n",
    "    # Calcular la carga crónica como media de los últimos 'ventana_cronica' días\n",
    "    if len(datos_jugador) >= ventana_cronica:\n",
    "        # Tomar los últimos registros según la ventana\n",
    "        datos_cronicos = datos_jugador.tail(ventana_cronica)\n",
    "        # Calcular la media de la carga diaria\n",
    "        carga_cronica = datos_cronicos['Carga_Diaria'].mean()\n",
    "    else:\n",
    "        # Si no hay suficientes datos, usar todos los disponibles\n",
    "        carga_cronica = datos_jugador['Carga_Diaria'].mean()\n",
    "    \n",
    "    return carga_cronica, datos_jugador"
   ]
  },
  {
   "cell_type": "code",
   "execution_count": null,
   "id": "d5f3e3a2",
   "metadata": {},
   "outputs": [],
   "source": []
  },
  {
   "cell_type": "code",
   "execution_count": 9,
   "id": "d83d6eab",
   "metadata": {},
   "outputs": [],
   "source": [
    "def calcular_carga_cronica(datos_jugador, ventana_cronica=21):\n",
    "    \"\"\"\n",
    "    Calcula la carga crónica para un jugador, basada en los últimos 21 días (o días configurables).\n",
    "    Se basa en una carga ponderada de diferentes variables GPS.\n",
    "    \n",
    "    Parámetros:\n",
    "    - datos_jugador: DataFrame con los datos del jugador\n",
    "    - ventana_cronica: Número de días para calcular la carga crónica (por defecto 21 días)\n",
    "    \n",
    "    Retorna:\n",
    "    - carga_cronica: Valor de la carga crónica\n",
    "    - datos_jugador: DataFrame con los datos procesados, incluyendo la columna 'Carga_Diaria'\n",
    "    \"\"\"\n",
    "    # Ponderación subjetiva para cada variable (mismos pesos que la carga aguda)\n",
    "    pesos = {\n",
    "        'Distance (km)': 1.0,\n",
    "        'Sprint Distance (m)': 0.02,\n",
    "        'Top Speed (m/s)': 10.0,\n",
    "        'Accelerations Zone Count: 2 - 3 m/s/s': 1.5,\n",
    "        'Accelerations Zone Count: 3 - 4 m/s/s': 2.0,\n",
    "        'Accelerations Zone Count: > 4 m/s/s': 2.5,\n",
    "        'Deceleration Zone Count: 2 - 3 m/s/s': 1.5,\n",
    "        'Deceleration Zone Count: 3 - 4 m/s/s': 2.0,\n",
    "        'Deceleration Zone Count: > 4 m/s/s': 2.5\n",
    "    }\n",
    "\n",
    "    # Asegurarse de que las fechas estén en formato datetime\n",
    "    datos_jugador['Date'] = pd.to_datetime(datos_jugador['Date'])\n",
    "\n",
    "    # Ordenar por fecha y aplicar la fórmula de carga diaria si no existe ya\n",
    "    datos_jugador = datos_jugador.sort_values('Date').copy()\n",
    "    \n",
    "    # Verificar si ya existe la columna Carga_Diaria\n",
    "    if 'Carga_Diaria' not in datos_jugador.columns:\n",
    "        datos_jugador['Carga_Diaria'] = 0\n",
    "        for var, peso in pesos.items():\n",
    "            if var in datos_jugador.columns:\n",
    "                datos_jugador['Carga_Diaria'] += datos_jugador[var] * peso\n",
    "\n",
    "    # Calcular la carga crónica como media de los últimos 'ventana_cronica' días\n",
    "    if len(datos_jugador) >= ventana_cronica:\n",
    "        # Tomar los últimos registros según la ventana\n",
    "        datos_cronicos = datos_jugador.tail(ventana_cronica)\n",
    "        # Calcular la media de la carga diaria\n",
    "        carga_cronica = datos_cronicos['Carga_Diaria'].mean()\n",
    "    else:\n",
    "        # Si no hay suficientes datos, usar todos los disponibles\n",
    "        carga_cronica = datos_jugador['Carga_Diaria'].mean()\n",
    "    \n",
    "    return carga_cronica, datos_jugador"
   ]
  },
  {
   "cell_type": "code",
   "execution_count": 16,
   "id": "0dba110c",
   "metadata": {},
   "outputs": [],
   "source": [
    "def crear_gauge_carga_cronica(df, jugador_seleccionado=None, ventana_cronica=21):\n",
    "    \"\"\"\n",
    "    Crea un gráfico gauge (tacómetro) para mostrar la carga crónica de un jugador.\n",
    "    \n",
    "    Parámetros:\n",
    "    - df: DataFrame con los datos de Catapult\n",
    "    - jugador_seleccionado: Nombre del jugador (opcional). Si no se proporciona, \n",
    "                          se usará el primer jugador disponible.\n",
    "    - ventana_cronica: Número de días para calcular la carga crónica (por defecto 21 días)\n",
    "    \n",
    "    Retorna:\n",
    "    - fig: Figura de Plotly con el gráfico gauge\n",
    "    - datos_jugador: DataFrame con los datos procesados del jugador\n",
    "    \"\"\"\n",
    "    import pandas as pd\n",
    "    import plotly.graph_objects as go\n",
    "    \n",
    "    # Si no se proporciona un jugador, usar el primero disponible\n",
    "    if jugador_seleccionado is None:\n",
    "        if 'Player Name' in df.columns and not df.empty:\n",
    "            jugador_seleccionado = df['Player Name'].unique()[0]\n",
    "        else:\n",
    "            return None, None\n",
    "    \n",
    "    # 1. Filtrar datos del jugador\n",
    "    datos_jugador = df[df['Player Name'] == jugador_seleccionado].copy()\n",
    "    \n",
    "    if datos_jugador.empty:\n",
    "        print(f\"No se encontraron datos para el jugador {jugador_seleccionado}\")\n",
    "        return None, None\n",
    "    \n",
    "    print(f\"Se encontraron {len(datos_jugador)} registros para {jugador_seleccionado}\")\n",
    "    \n",
    "    # 2. Preparar datos (convertir fechas y columnas numéricas)\n",
    "    datos_jugador['Date'] = pd.to_datetime(datos_jugador['Date'], errors='coerce')\n",
    "    \n",
    "    # Columnas numéricas que necesitamos\n",
    "    columnas_numericas = [\n",
    "        'Distance (km)', \n",
    "        'Sprint Distance (m)', \n",
    "        'Top Speed (m/s)',\n",
    "        'Accelerations Zone Count: 2 - 3 m/s/s',\n",
    "        'Accelerations Zone Count: 3 - 4 m/s/s',\n",
    "        'Accelerations Zone Count: > 4 m/s/s',\n",
    "        'Deceleration Zone Count: 2 - 3 m/s/s',\n",
    "        'Deceleration Zone Count: 3 - 4 m/s/s',\n",
    "        'Deceleration Zone Count: > 4 m/s/s'\n",
    "    ]\n",
    "    \n",
    "    # Convertir columnas a formato numérico\n",
    "    for col in columnas_numericas:\n",
    "        if col in datos_jugador.columns:\n",
    "            # Reemplazar comas por puntos si es string\n",
    "            if datos_jugador[col].dtype == 'object':\n",
    "                datos_jugador[col] = datos_jugador[col].str.replace(',', '.', regex=True)\n",
    "            # Convertir a numérico\n",
    "            datos_jugador[col] = pd.to_numeric(datos_jugador[col], errors='coerce').fillna(0)\n",
    "    \n",
    "    # 3. Ponderación subjetiva para cada variable (mismos pesos que la carga aguda)\n",
    "    pesos = {\n",
    "        'Distance (km)': 1.0,\n",
    "        'Sprint Distance (m)': 0.02,\n",
    "        'Top Speed (m/s)': 10.0,\n",
    "        'Accelerations Zone Count: 2 - 3 m/s/s': 1.5,\n",
    "        'Accelerations Zone Count: 3 - 4 m/s/s': 2.0,\n",
    "        'Accelerations Zone Count: > 4 m/s/s': 2.5,\n",
    "        'Deceleration Zone Count: 2 - 3 m/s/s': 1.5,\n",
    "        'Deceleration Zone Count: 3 - 4 m/s/s': 2.0,\n",
    "        'Deceleration Zone Count: > 4 m/s/s': 2.5\n",
    "    }\n",
    "    \n",
    "    # 4. Ordenar por fecha y aplicar la fórmula de carga diaria si no existe ya\n",
    "    datos_jugador = datos_jugador.sort_values('Date').copy()\n",
    "    \n",
    "    # Verificar si ya existe la columna Carga_Diaria\n",
    "    if 'Carga_Diaria' not in datos_jugador.columns:\n",
    "        datos_jugador['Carga_Diaria'] = 0\n",
    "        for var, peso in pesos.items():\n",
    "            if var in datos_jugador.columns:\n",
    "                datos_jugador['Carga_Diaria'] += datos_jugador[var] * peso\n",
    "    \n",
    "    # 5. Obtener datos para ventana crónica\n",
    "    datos_cronicos = datos_jugador.sort_values('Date', ascending=False).head(ventana_cronica)\n",
    "    datos_cronicos = datos_cronicos.sort_values('Date')  # Ordenar cronológicamente para visualización\n",
    "    \n",
    "    # 6. Calcular la carga crónica como media de la ventana\n",
    "    carga_cronica = datos_cronicos['Carga_Diaria'].mean()\n",
    "    \n",
    "    # 7. Crear gauge chart (tacómetro) con Plotly\n",
    "    # Determinar el valor máximo para la escala del gauge (200% del promedio o un valor fijo)\n",
    "    max_gauge = max(carga_cronica * 2, datos_cronicos['Carga_Diaria'].max() * 1.2)\n",
    "    \n",
    "    # Crear figura con gauge chart\n",
    "    fig = go.Figure()\n",
    "    \n",
    "    # Añadir el indicador gauge\n",
    "    fig.add_trace(go.Indicator(\n",
    "        mode=\"gauge+number+delta\",\n",
    "        value=datos_cronicos['Carga_Diaria'].iloc[-1],  # Valor más reciente\n",
    "        title={'text': f\"Carga Crónica - {jugador_seleccionado}\"},  # Incluir nombre del jugador en el título del gauge\n",
    "        delta={'reference': carga_cronica, 'relative': True, 'valueformat': '.1%'},\n",
    "        gauge={\n",
    "            'axis': {'range': [0, max_gauge], 'tickwidth': 1, 'tickcolor': \"darkgreen\"},\n",
    "            'bar': {'color': \"green\"},\n",
    "            'bgcolor': \"white\",\n",
    "            'borderwidth': 2,\n",
    "            'bordercolor': \"gray\",\n",
    "            'steps': [\n",
    "                {'range': [0, max_gauge*0.3], 'color': 'lightgreen'},\n",
    "                {'range': [max_gauge*0.3, max_gauge*0.7], 'color': 'gold'},\n",
    "                {'range': [max_gauge*0.7, max_gauge], 'color': 'salmon'}\n",
    "            ],\n",
    "            'threshold': {\n",
    "                'line': {'color': \"red\", 'width': 4},\n",
    "                'thickness': 0.75,\n",
    "                'value': carga_cronica * 1.5  # Umbral en 150% del promedio\n",
    "            }\n",
    "        }\n",
    "    ))\n",
    "\n",
    "    # Actualizar el layout - opción sin título principal, solo con información de los días\n",
    "    fig.update_layout(\n",
    "        title=f\"({ventana_cronica} días)\",\n",
    "        height=500,\n",
    "        font=dict(size=18),\n",
    "        margin=dict(l=40, r=40, t=100, b=40),\n",
    ")\n",
    "    \n",
    "    return fig, datos_jugador, carga_cronica"
   ]
  },
  {
   "cell_type": "code",
   "execution_count": 17,
   "id": "7b799577",
   "metadata": {},
   "outputs": [
    {
     "name": "stdout",
     "output_type": "stream",
     "text": [
      "Se encontraron 7 registros para Rivera Cano Blas\n"
     ]
    },
    {
     "name": "stderr",
     "output_type": "stream",
     "text": [
      "C:\\Users\\dell\\AppData\\Local\\Temp\\ipykernel_3604\\1427008491.py:35: UserWarning:\n",
      "\n",
      "Parsing dates in %d/%m/%Y format when dayfirst=False (the default) was specified. Pass `dayfirst=True` or specify a format to silence this warning.\n",
      "\n"
     ]
    },
    {
     "data": {
      "application/vnd.plotly.v1+json": {
       "config": {
        "plotlyServerURL": "https://plot.ly"
       },
       "data": [
        {
         "delta": {
          "reference": 982.1737342857143,
          "relative": true,
          "valueformat": ".1%"
         },
         "gauge": {
          "axis": {
           "range": [
            0,
            1964.3474685714286
           ],
           "tickcolor": "darkgreen",
           "tickwidth": 1
          },
          "bar": {
           "color": "green"
          },
          "bgcolor": "white",
          "bordercolor": "gray",
          "borderwidth": 2,
          "steps": [
           {
            "color": "lightgreen",
            "range": [
             0,
             589.3042405714285
            ]
           },
           {
            "color": "gold",
            "range": [
             589.3042405714285,
             1375.043228
            ]
           },
           {
            "color": "salmon",
            "range": [
             1375.043228,
             1964.3474685714286
            ]
           }
          ],
          "threshold": {
           "line": {
            "color": "red",
            "width": 4
           },
           "thickness": 0.75,
           "value": 1473.2606014285716
          }
         },
         "mode": "gauge+number+delta",
         "title": {
          "text": "Carga Crónica - Rivera Cano Blas"
         },
         "type": "indicator",
         "value": 1107.62442
        }
       ],
       "layout": {
        "font": {
         "size": 18
        },
        "height": 500,
        "margin": {
         "b": 40,
         "l": 40,
         "r": 40,
         "t": 100
        },
        "template": {
         "data": {
          "bar": [
           {
            "error_x": {
             "color": "#2a3f5f"
            },
            "error_y": {
             "color": "#2a3f5f"
            },
            "marker": {
             "line": {
              "color": "#E5ECF6",
              "width": 0.5
             },
             "pattern": {
              "fillmode": "overlay",
              "size": 10,
              "solidity": 0.2
             }
            },
            "type": "bar"
           }
          ],
          "barpolar": [
           {
            "marker": {
             "line": {
              "color": "#E5ECF6",
              "width": 0.5
             },
             "pattern": {
              "fillmode": "overlay",
              "size": 10,
              "solidity": 0.2
             }
            },
            "type": "barpolar"
           }
          ],
          "carpet": [
           {
            "aaxis": {
             "endlinecolor": "#2a3f5f",
             "gridcolor": "white",
             "linecolor": "white",
             "minorgridcolor": "white",
             "startlinecolor": "#2a3f5f"
            },
            "baxis": {
             "endlinecolor": "#2a3f5f",
             "gridcolor": "white",
             "linecolor": "white",
             "minorgridcolor": "white",
             "startlinecolor": "#2a3f5f"
            },
            "type": "carpet"
           }
          ],
          "choropleth": [
           {
            "colorbar": {
             "outlinewidth": 0,
             "ticks": ""
            },
            "type": "choropleth"
           }
          ],
          "contour": [
           {
            "colorbar": {
             "outlinewidth": 0,
             "ticks": ""
            },
            "colorscale": [
             [
              0,
              "#0d0887"
             ],
             [
              0.1111111111111111,
              "#46039f"
             ],
             [
              0.2222222222222222,
              "#7201a8"
             ],
             [
              0.3333333333333333,
              "#9c179e"
             ],
             [
              0.4444444444444444,
              "#bd3786"
             ],
             [
              0.5555555555555556,
              "#d8576b"
             ],
             [
              0.6666666666666666,
              "#ed7953"
             ],
             [
              0.7777777777777778,
              "#fb9f3a"
             ],
             [
              0.8888888888888888,
              "#fdca26"
             ],
             [
              1,
              "#f0f921"
             ]
            ],
            "type": "contour"
           }
          ],
          "contourcarpet": [
           {
            "colorbar": {
             "outlinewidth": 0,
             "ticks": ""
            },
            "type": "contourcarpet"
           }
          ],
          "heatmap": [
           {
            "colorbar": {
             "outlinewidth": 0,
             "ticks": ""
            },
            "colorscale": [
             [
              0,
              "#0d0887"
             ],
             [
              0.1111111111111111,
              "#46039f"
             ],
             [
              0.2222222222222222,
              "#7201a8"
             ],
             [
              0.3333333333333333,
              "#9c179e"
             ],
             [
              0.4444444444444444,
              "#bd3786"
             ],
             [
              0.5555555555555556,
              "#d8576b"
             ],
             [
              0.6666666666666666,
              "#ed7953"
             ],
             [
              0.7777777777777778,
              "#fb9f3a"
             ],
             [
              0.8888888888888888,
              "#fdca26"
             ],
             [
              1,
              "#f0f921"
             ]
            ],
            "type": "heatmap"
           }
          ],
          "histogram": [
           {
            "marker": {
             "pattern": {
              "fillmode": "overlay",
              "size": 10,
              "solidity": 0.2
             }
            },
            "type": "histogram"
           }
          ],
          "histogram2d": [
           {
            "colorbar": {
             "outlinewidth": 0,
             "ticks": ""
            },
            "colorscale": [
             [
              0,
              "#0d0887"
             ],
             [
              0.1111111111111111,
              "#46039f"
             ],
             [
              0.2222222222222222,
              "#7201a8"
             ],
             [
              0.3333333333333333,
              "#9c179e"
             ],
             [
              0.4444444444444444,
              "#bd3786"
             ],
             [
              0.5555555555555556,
              "#d8576b"
             ],
             [
              0.6666666666666666,
              "#ed7953"
             ],
             [
              0.7777777777777778,
              "#fb9f3a"
             ],
             [
              0.8888888888888888,
              "#fdca26"
             ],
             [
              1,
              "#f0f921"
             ]
            ],
            "type": "histogram2d"
           }
          ],
          "histogram2dcontour": [
           {
            "colorbar": {
             "outlinewidth": 0,
             "ticks": ""
            },
            "colorscale": [
             [
              0,
              "#0d0887"
             ],
             [
              0.1111111111111111,
              "#46039f"
             ],
             [
              0.2222222222222222,
              "#7201a8"
             ],
             [
              0.3333333333333333,
              "#9c179e"
             ],
             [
              0.4444444444444444,
              "#bd3786"
             ],
             [
              0.5555555555555556,
              "#d8576b"
             ],
             [
              0.6666666666666666,
              "#ed7953"
             ],
             [
              0.7777777777777778,
              "#fb9f3a"
             ],
             [
              0.8888888888888888,
              "#fdca26"
             ],
             [
              1,
              "#f0f921"
             ]
            ],
            "type": "histogram2dcontour"
           }
          ],
          "mesh3d": [
           {
            "colorbar": {
             "outlinewidth": 0,
             "ticks": ""
            },
            "type": "mesh3d"
           }
          ],
          "parcoords": [
           {
            "line": {
             "colorbar": {
              "outlinewidth": 0,
              "ticks": ""
             }
            },
            "type": "parcoords"
           }
          ],
          "pie": [
           {
            "automargin": true,
            "type": "pie"
           }
          ],
          "scatter": [
           {
            "fillpattern": {
             "fillmode": "overlay",
             "size": 10,
             "solidity": 0.2
            },
            "type": "scatter"
           }
          ],
          "scatter3d": [
           {
            "line": {
             "colorbar": {
              "outlinewidth": 0,
              "ticks": ""
             }
            },
            "marker": {
             "colorbar": {
              "outlinewidth": 0,
              "ticks": ""
             }
            },
            "type": "scatter3d"
           }
          ],
          "scattercarpet": [
           {
            "marker": {
             "colorbar": {
              "outlinewidth": 0,
              "ticks": ""
             }
            },
            "type": "scattercarpet"
           }
          ],
          "scattergeo": [
           {
            "marker": {
             "colorbar": {
              "outlinewidth": 0,
              "ticks": ""
             }
            },
            "type": "scattergeo"
           }
          ],
          "scattergl": [
           {
            "marker": {
             "colorbar": {
              "outlinewidth": 0,
              "ticks": ""
             }
            },
            "type": "scattergl"
           }
          ],
          "scattermap": [
           {
            "marker": {
             "colorbar": {
              "outlinewidth": 0,
              "ticks": ""
             }
            },
            "type": "scattermap"
           }
          ],
          "scattermapbox": [
           {
            "marker": {
             "colorbar": {
              "outlinewidth": 0,
              "ticks": ""
             }
            },
            "type": "scattermapbox"
           }
          ],
          "scatterpolar": [
           {
            "marker": {
             "colorbar": {
              "outlinewidth": 0,
              "ticks": ""
             }
            },
            "type": "scatterpolar"
           }
          ],
          "scatterpolargl": [
           {
            "marker": {
             "colorbar": {
              "outlinewidth": 0,
              "ticks": ""
             }
            },
            "type": "scatterpolargl"
           }
          ],
          "scatterternary": [
           {
            "marker": {
             "colorbar": {
              "outlinewidth": 0,
              "ticks": ""
             }
            },
            "type": "scatterternary"
           }
          ],
          "surface": [
           {
            "colorbar": {
             "outlinewidth": 0,
             "ticks": ""
            },
            "colorscale": [
             [
              0,
              "#0d0887"
             ],
             [
              0.1111111111111111,
              "#46039f"
             ],
             [
              0.2222222222222222,
              "#7201a8"
             ],
             [
              0.3333333333333333,
              "#9c179e"
             ],
             [
              0.4444444444444444,
              "#bd3786"
             ],
             [
              0.5555555555555556,
              "#d8576b"
             ],
             [
              0.6666666666666666,
              "#ed7953"
             ],
             [
              0.7777777777777778,
              "#fb9f3a"
             ],
             [
              0.8888888888888888,
              "#fdca26"
             ],
             [
              1,
              "#f0f921"
             ]
            ],
            "type": "surface"
           }
          ],
          "table": [
           {
            "cells": {
             "fill": {
              "color": "#EBF0F8"
             },
             "line": {
              "color": "white"
             }
            },
            "header": {
             "fill": {
              "color": "#C8D4E3"
             },
             "line": {
              "color": "white"
             }
            },
            "type": "table"
           }
          ]
         },
         "layout": {
          "annotationdefaults": {
           "arrowcolor": "#2a3f5f",
           "arrowhead": 0,
           "arrowwidth": 1
          },
          "autotypenumbers": "strict",
          "coloraxis": {
           "colorbar": {
            "outlinewidth": 0,
            "ticks": ""
           }
          },
          "colorscale": {
           "diverging": [
            [
             0,
             "#8e0152"
            ],
            [
             0.1,
             "#c51b7d"
            ],
            [
             0.2,
             "#de77ae"
            ],
            [
             0.3,
             "#f1b6da"
            ],
            [
             0.4,
             "#fde0ef"
            ],
            [
             0.5,
             "#f7f7f7"
            ],
            [
             0.6,
             "#e6f5d0"
            ],
            [
             0.7,
             "#b8e186"
            ],
            [
             0.8,
             "#7fbc41"
            ],
            [
             0.9,
             "#4d9221"
            ],
            [
             1,
             "#276419"
            ]
           ],
           "sequential": [
            [
             0,
             "#0d0887"
            ],
            [
             0.1111111111111111,
             "#46039f"
            ],
            [
             0.2222222222222222,
             "#7201a8"
            ],
            [
             0.3333333333333333,
             "#9c179e"
            ],
            [
             0.4444444444444444,
             "#bd3786"
            ],
            [
             0.5555555555555556,
             "#d8576b"
            ],
            [
             0.6666666666666666,
             "#ed7953"
            ],
            [
             0.7777777777777778,
             "#fb9f3a"
            ],
            [
             0.8888888888888888,
             "#fdca26"
            ],
            [
             1,
             "#f0f921"
            ]
           ],
           "sequentialminus": [
            [
             0,
             "#0d0887"
            ],
            [
             0.1111111111111111,
             "#46039f"
            ],
            [
             0.2222222222222222,
             "#7201a8"
            ],
            [
             0.3333333333333333,
             "#9c179e"
            ],
            [
             0.4444444444444444,
             "#bd3786"
            ],
            [
             0.5555555555555556,
             "#d8576b"
            ],
            [
             0.6666666666666666,
             "#ed7953"
            ],
            [
             0.7777777777777778,
             "#fb9f3a"
            ],
            [
             0.8888888888888888,
             "#fdca26"
            ],
            [
             1,
             "#f0f921"
            ]
           ]
          },
          "colorway": [
           "#636efa",
           "#EF553B",
           "#00cc96",
           "#ab63fa",
           "#FFA15A",
           "#19d3f3",
           "#FF6692",
           "#B6E880",
           "#FF97FF",
           "#FECB52"
          ],
          "font": {
           "color": "#2a3f5f"
          },
          "geo": {
           "bgcolor": "white",
           "lakecolor": "white",
           "landcolor": "#E5ECF6",
           "showlakes": true,
           "showland": true,
           "subunitcolor": "white"
          },
          "hoverlabel": {
           "align": "left"
          },
          "hovermode": "closest",
          "mapbox": {
           "style": "light"
          },
          "paper_bgcolor": "white",
          "plot_bgcolor": "#E5ECF6",
          "polar": {
           "angularaxis": {
            "gridcolor": "white",
            "linecolor": "white",
            "ticks": ""
           },
           "bgcolor": "#E5ECF6",
           "radialaxis": {
            "gridcolor": "white",
            "linecolor": "white",
            "ticks": ""
           }
          },
          "scene": {
           "xaxis": {
            "backgroundcolor": "#E5ECF6",
            "gridcolor": "white",
            "gridwidth": 2,
            "linecolor": "white",
            "showbackground": true,
            "ticks": "",
            "zerolinecolor": "white"
           },
           "yaxis": {
            "backgroundcolor": "#E5ECF6",
            "gridcolor": "white",
            "gridwidth": 2,
            "linecolor": "white",
            "showbackground": true,
            "ticks": "",
            "zerolinecolor": "white"
           },
           "zaxis": {
            "backgroundcolor": "#E5ECF6",
            "gridcolor": "white",
            "gridwidth": 2,
            "linecolor": "white",
            "showbackground": true,
            "ticks": "",
            "zerolinecolor": "white"
           }
          },
          "shapedefaults": {
           "line": {
            "color": "#2a3f5f"
           }
          },
          "ternary": {
           "aaxis": {
            "gridcolor": "white",
            "linecolor": "white",
            "ticks": ""
           },
           "baxis": {
            "gridcolor": "white",
            "linecolor": "white",
            "ticks": ""
           },
           "bgcolor": "#E5ECF6",
           "caxis": {
            "gridcolor": "white",
            "linecolor": "white",
            "ticks": ""
           }
          },
          "title": {
           "x": 0.05
          },
          "xaxis": {
           "automargin": true,
           "gridcolor": "white",
           "linecolor": "white",
           "ticks": "",
           "title": {
            "standoff": 15
           },
           "zerolinecolor": "white",
           "zerolinewidth": 2
          },
          "yaxis": {
           "automargin": true,
           "gridcolor": "white",
           "linecolor": "white",
           "ticks": "",
           "title": {
            "standoff": 15
           },
           "zerolinecolor": "white",
           "zerolinewidth": 2
          }
         }
        },
        "title": {
         "text": "(21 días)"
        }
       }
      }
     },
     "metadata": {},
     "output_type": "display_data"
    },
    {
     "name": "stdout",
     "output_type": "stream",
     "text": [
      "Carga crónica de Rivera Cano Blas: 982.17\n"
     ]
    }
   ],
   "source": [
    "# Probar la función\n",
    "jugador_seleccionado = \"Rivera Cano Blas\"\n",
    "fig_cronica, datos_jugador, valor_carga_cronica = crear_gauge_carga_cronica(df, jugador_seleccionado)\n",
    "\n",
    "# Mostrar el gráfico\n",
    "fig_cronica.show()\n",
    "\n",
    "# Imprimir el valor de carga crónica\n",
    "print(f\"Carga crónica de {jugador_seleccionado}: {valor_carga_cronica:.2f}\")"
   ]
  },
  {
   "cell_type": "code",
   "execution_count": 18,
   "id": "067ff12f",
   "metadata": {},
   "outputs": [
    {
     "data": {
      "text/html": [
       "<div>\n",
       "<style scoped>\n",
       "    .dataframe tbody tr th:only-of-type {\n",
       "        vertical-align: middle;\n",
       "    }\n",
       "\n",
       "    .dataframe tbody tr th {\n",
       "        vertical-align: top;\n",
       "    }\n",
       "\n",
       "    .dataframe thead th {\n",
       "        text-align: right;\n",
       "    }\n",
       "</style>\n",
       "<table border=\"1\" class=\"dataframe\">\n",
       "  <thead>\n",
       "    <tr style=\"text-align: right;\">\n",
       "      <th></th>\n",
       "      <th>Date</th>\n",
       "      <th>Session Title</th>\n",
       "      <th>Player Name</th>\n",
       "      <th>Split Name</th>\n",
       "      <th>Tags</th>\n",
       "      <th>Split Start Time</th>\n",
       "      <th>Split End Time</th>\n",
       "      <th>Duration</th>\n",
       "      <th>Distance (km)</th>\n",
       "      <th>Sprint Distance (m)</th>\n",
       "      <th>...</th>\n",
       "      <th>Accelerations Zone Count: 2 - 3 m/s/s</th>\n",
       "      <th>Accelerations Zone Count: 3 - 4 m/s/s</th>\n",
       "      <th>Accelerations Zone Count: &gt; 4 m/s/s</th>\n",
       "      <th>Deceleration Zone Count: 0 - 1 m/s/s</th>\n",
       "      <th>Deceleration Zone Count: 1 - 2 m/s/s</th>\n",
       "      <th>Deceleration Zone Count: 2 - 3 m/s/s</th>\n",
       "      <th>Deceleration Zone Count: 3 - 4 m/s/s</th>\n",
       "      <th>Deceleration Zone Count: &gt; 4 m/s/s</th>\n",
       "      <th>Unnamed: 98</th>\n",
       "      <th>Unnamed: 99</th>\n",
       "    </tr>\n",
       "  </thead>\n",
       "  <tbody>\n",
       "    <tr>\n",
       "      <th>0</th>\n",
       "      <td>15/04/2025</td>\n",
       "      <td>martes 15-4</td>\n",
       "      <td>Orrico Santiago</td>\n",
       "      <td>all</td>\n",
       "      <td>training</td>\n",
       "      <td>45762,8417</td>\n",
       "      <td>45762,9045</td>\n",
       "      <td>5426</td>\n",
       "      <td>5,6323</td>\n",
       "      <td>2033</td>\n",
       "      <td>...</td>\n",
       "      <td>0</td>\n",
       "      <td>17</td>\n",
       "      <td>14</td>\n",
       "      <td>38</td>\n",
       "      <td>24</td>\n",
       "      <td>0</td>\n",
       "      <td>19</td>\n",
       "      <td>42</td>\n",
       "      <td>3</td>\n",
       "      <td>27</td>\n",
       "    </tr>\n",
       "    <tr>\n",
       "      <th>1</th>\n",
       "      <td>15/04/2025</td>\n",
       "      <td>martes 15-4</td>\n",
       "      <td>Espinosa Fede</td>\n",
       "      <td>all</td>\n",
       "      <td>training</td>\n",
       "      <td>45762,8383</td>\n",
       "      <td>45762,9316</td>\n",
       "      <td>8058</td>\n",
       "      <td>6,4806</td>\n",
       "      <td>2108</td>\n",
       "      <td>...</td>\n",
       "      <td>0</td>\n",
       "      <td>26</td>\n",
       "      <td>32</td>\n",
       "      <td>37</td>\n",
       "      <td>38</td>\n",
       "      <td>0</td>\n",
       "      <td>41</td>\n",
       "      <td>49</td>\n",
       "      <td>21</td>\n",
       "      <td>14</td>\n",
       "    </tr>\n",
       "    <tr>\n",
       "      <th>2</th>\n",
       "      <td>15/04/2025</td>\n",
       "      <td>martes 15-4</td>\n",
       "      <td>Rivera Cano Blas</td>\n",
       "      <td>all</td>\n",
       "      <td>training</td>\n",
       "      <td>45762,788</td>\n",
       "      <td>45762,9321</td>\n",
       "      <td>12457</td>\n",
       "      <td>6,7728</td>\n",
       "      <td>1142</td>\n",
       "      <td>...</td>\n",
       "      <td>0</td>\n",
       "      <td>30</td>\n",
       "      <td>32</td>\n",
       "      <td>55</td>\n",
       "      <td>15</td>\n",
       "      <td>0</td>\n",
       "      <td>44</td>\n",
       "      <td>42</td>\n",
       "      <td>25</td>\n",
       "      <td>9</td>\n",
       "    </tr>\n",
       "    <tr>\n",
       "      <th>3</th>\n",
       "      <td>15/04/2025</td>\n",
       "      <td>martes 15-4</td>\n",
       "      <td>Esquerren Fermin</td>\n",
       "      <td>all</td>\n",
       "      <td>training</td>\n",
       "      <td>45762,8383</td>\n",
       "      <td>45762,9329</td>\n",
       "      <td>8175</td>\n",
       "      <td>6,4737</td>\n",
       "      <td>1795</td>\n",
       "      <td>...</td>\n",
       "      <td>0</td>\n",
       "      <td>60</td>\n",
       "      <td>29</td>\n",
       "      <td>50</td>\n",
       "      <td>19</td>\n",
       "      <td>0</td>\n",
       "      <td>66</td>\n",
       "      <td>55</td>\n",
       "      <td>20</td>\n",
       "      <td>16</td>\n",
       "    </tr>\n",
       "    <tr>\n",
       "      <th>4</th>\n",
       "      <td>15/04/2025</td>\n",
       "      <td>martes 15-4</td>\n",
       "      <td>Urrejola Fabio</td>\n",
       "      <td>all</td>\n",
       "      <td>training</td>\n",
       "      <td>45762,8383</td>\n",
       "      <td>45762,9091</td>\n",
       "      <td>6115</td>\n",
       "      <td>4,5099</td>\n",
       "      <td>586</td>\n",
       "      <td>...</td>\n",
       "      <td>0</td>\n",
       "      <td>45</td>\n",
       "      <td>32</td>\n",
       "      <td>42</td>\n",
       "      <td>2</td>\n",
       "      <td>0</td>\n",
       "      <td>56</td>\n",
       "      <td>56</td>\n",
       "      <td>9</td>\n",
       "      <td>0</td>\n",
       "    </tr>\n",
       "    <tr>\n",
       "      <th>...</th>\n",
       "      <td>...</td>\n",
       "      <td>...</td>\n",
       "      <td>...</td>\n",
       "      <td>...</td>\n",
       "      <td>...</td>\n",
       "      <td>...</td>\n",
       "      <td>...</td>\n",
       "      <td>...</td>\n",
       "      <td>...</td>\n",
       "      <td>...</td>\n",
       "      <td>...</td>\n",
       "      <td>...</td>\n",
       "      <td>...</td>\n",
       "      <td>...</td>\n",
       "      <td>...</td>\n",
       "      <td>...</td>\n",
       "      <td>...</td>\n",
       "      <td>...</td>\n",
       "      <td>...</td>\n",
       "      <td>...</td>\n",
       "      <td>...</td>\n",
       "    </tr>\n",
       "    <tr>\n",
       "      <th>65</th>\n",
       "      <td>10/05/2025</td>\n",
       "      <td>Partido San Cirano</td>\n",
       "      <td>Lorito</td>\n",
       "      <td>game</td>\n",
       "      <td>game</td>\n",
       "      <td>45787,6461</td>\n",
       "      <td>45787,7189</td>\n",
       "      <td>5857</td>\n",
       "      <td>5,6624</td>\n",
       "      <td>552,27</td>\n",
       "      <td>...</td>\n",
       "      <td>0</td>\n",
       "      <td>77</td>\n",
       "      <td>73</td>\n",
       "      <td>31</td>\n",
       "      <td>12</td>\n",
       "      <td>0</td>\n",
       "      <td>82</td>\n",
       "      <td>47</td>\n",
       "      <td>29</td>\n",
       "      <td>28</td>\n",
       "    </tr>\n",
       "    <tr>\n",
       "      <th>66</th>\n",
       "      <td>10/05/2025</td>\n",
       "      <td>Partido San Cirano</td>\n",
       "      <td>Herrera Bautista</td>\n",
       "      <td>game</td>\n",
       "      <td>game</td>\n",
       "      <td>45787,6461</td>\n",
       "      <td>45787,7189</td>\n",
       "      <td>4364</td>\n",
       "      <td>3,6819</td>\n",
       "      <td>70,337</td>\n",
       "      <td>...</td>\n",
       "      <td>0</td>\n",
       "      <td>107</td>\n",
       "      <td>57</td>\n",
       "      <td>18</td>\n",
       "      <td>4</td>\n",
       "      <td>0</td>\n",
       "      <td>107</td>\n",
       "      <td>59</td>\n",
       "      <td>14</td>\n",
       "      <td>5</td>\n",
       "    </tr>\n",
       "    <tr>\n",
       "      <th>67</th>\n",
       "      <td>10/05/2025</td>\n",
       "      <td>Partido San Cirano</td>\n",
       "      <td>Rivera Cano Blas</td>\n",
       "      <td>game</td>\n",
       "      <td>game</td>\n",
       "      <td>45787,6461</td>\n",
       "      <td>45787,7189</td>\n",
       "      <td>5857</td>\n",
       "      <td>6,6254</td>\n",
       "      <td>718,851</td>\n",
       "      <td>...</td>\n",
       "      <td>0</td>\n",
       "      <td>102</td>\n",
       "      <td>88</td>\n",
       "      <td>55</td>\n",
       "      <td>11</td>\n",
       "      <td>0</td>\n",
       "      <td>85</td>\n",
       "      <td>75</td>\n",
       "      <td>46</td>\n",
       "      <td>41</td>\n",
       "    </tr>\n",
       "    <tr>\n",
       "      <th>68</th>\n",
       "      <td>10/05/2025</td>\n",
       "      <td>Partido San Cirano</td>\n",
       "      <td>Vergel Alejo</td>\n",
       "      <td>game</td>\n",
       "      <td>game</td>\n",
       "      <td>45787,6461</td>\n",
       "      <td>45787,7189</td>\n",
       "      <td>5857</td>\n",
       "      <td>6,301</td>\n",
       "      <td>856,934</td>\n",
       "      <td>...</td>\n",
       "      <td>0</td>\n",
       "      <td>60</td>\n",
       "      <td>69</td>\n",
       "      <td>35</td>\n",
       "      <td>12</td>\n",
       "      <td>0</td>\n",
       "      <td>74</td>\n",
       "      <td>42</td>\n",
       "      <td>35</td>\n",
       "      <td>28</td>\n",
       "    </tr>\n",
       "    <tr>\n",
       "      <th>69</th>\n",
       "      <td>10/05/2025</td>\n",
       "      <td>Partido San Cirano</td>\n",
       "      <td>Nicolas Morena</td>\n",
       "      <td>game</td>\n",
       "      <td>game</td>\n",
       "      <td>45787,6457</td>\n",
       "      <td>45787,718</td>\n",
       "      <td>5939</td>\n",
       "      <td>6,0785</td>\n",
       "      <td>415,753</td>\n",
       "      <td>...</td>\n",
       "      <td>0</td>\n",
       "      <td>115</td>\n",
       "      <td>66</td>\n",
       "      <td>37</td>\n",
       "      <td>14</td>\n",
       "      <td>0</td>\n",
       "      <td>83</td>\n",
       "      <td>69</td>\n",
       "      <td>26</td>\n",
       "      <td>28</td>\n",
       "    </tr>\n",
       "  </tbody>\n",
       "</table>\n",
       "<p>70 rows × 100 columns</p>\n",
       "</div>"
      ],
      "text/plain": [
       "          Date       Session Title       Player Name Split Name      Tags  \\\n",
       "0   15/04/2025         martes 15-4   Orrico Santiago        all  training   \n",
       "1   15/04/2025         martes 15-4     Espinosa Fede        all  training   \n",
       "2   15/04/2025         martes 15-4  Rivera Cano Blas        all  training   \n",
       "3   15/04/2025         martes 15-4  Esquerren Fermin        all  training   \n",
       "4   15/04/2025         martes 15-4    Urrejola Fabio        all  training   \n",
       "..         ...                 ...               ...        ...       ...   \n",
       "65  10/05/2025  Partido San Cirano            Lorito       game      game   \n",
       "66  10/05/2025  Partido San Cirano  Herrera Bautista       game      game   \n",
       "67  10/05/2025  Partido San Cirano  Rivera Cano Blas       game      game   \n",
       "68  10/05/2025  Partido San Cirano      Vergel Alejo       game      game   \n",
       "69  10/05/2025  Partido San Cirano    Nicolas Morena       game      game   \n",
       "\n",
       "   Split Start Time Split End Time  Duration Distance (km)  \\\n",
       "0        45762,8417     45762,9045      5426        5,6323   \n",
       "1        45762,8383     45762,9316      8058        6,4806   \n",
       "2         45762,788     45762,9321     12457        6,7728   \n",
       "3        45762,8383     45762,9329      8175        6,4737   \n",
       "4        45762,8383     45762,9091      6115        4,5099   \n",
       "..              ...            ...       ...           ...   \n",
       "65       45787,6461     45787,7189      5857        5,6624   \n",
       "66       45787,6461     45787,7189      4364        3,6819   \n",
       "67       45787,6461     45787,7189      5857        6,6254   \n",
       "68       45787,6461     45787,7189      5857         6,301   \n",
       "69       45787,6457      45787,718      5939        6,0785   \n",
       "\n",
       "   Sprint Distance (m)  ...  Accelerations Zone Count: 2 - 3 m/s/s  \\\n",
       "0                 2033  ...                                      0   \n",
       "1                 2108  ...                                      0   \n",
       "2                 1142  ...                                      0   \n",
       "3                 1795  ...                                      0   \n",
       "4                  586  ...                                      0   \n",
       "..                 ...  ...                                    ...   \n",
       "65              552,27  ...                                      0   \n",
       "66              70,337  ...                                      0   \n",
       "67             718,851  ...                                      0   \n",
       "68             856,934  ...                                      0   \n",
       "69             415,753  ...                                      0   \n",
       "\n",
       "   Accelerations Zone Count: 3 - 4 m/s/s  Accelerations Zone Count: > 4 m/s/s  \\\n",
       "0                                     17                                   14   \n",
       "1                                     26                                   32   \n",
       "2                                     30                                   32   \n",
       "3                                     60                                   29   \n",
       "4                                     45                                   32   \n",
       "..                                   ...                                  ...   \n",
       "65                                    77                                   73   \n",
       "66                                   107                                   57   \n",
       "67                                   102                                   88   \n",
       "68                                    60                                   69   \n",
       "69                                   115                                   66   \n",
       "\n",
       "    Deceleration Zone Count: 0 - 1 m/s/s  \\\n",
       "0                                     38   \n",
       "1                                     37   \n",
       "2                                     55   \n",
       "3                                     50   \n",
       "4                                     42   \n",
       "..                                   ...   \n",
       "65                                    31   \n",
       "66                                    18   \n",
       "67                                    55   \n",
       "68                                    35   \n",
       "69                                    37   \n",
       "\n",
       "    Deceleration Zone Count: 1 - 2 m/s/s Deceleration Zone Count: 2 - 3 m/s/s  \\\n",
       "0                                     24                                    0   \n",
       "1                                     38                                    0   \n",
       "2                                     15                                    0   \n",
       "3                                     19                                    0   \n",
       "4                                      2                                    0   \n",
       "..                                   ...                                  ...   \n",
       "65                                    12                                    0   \n",
       "66                                     4                                    0   \n",
       "67                                    11                                    0   \n",
       "68                                    12                                    0   \n",
       "69                                    14                                    0   \n",
       "\n",
       "   Deceleration Zone Count: 3 - 4 m/s/s Deceleration Zone Count: > 4 m/s/s  \\\n",
       "0                                    19                                 42   \n",
       "1                                    41                                 49   \n",
       "2                                    44                                 42   \n",
       "3                                    66                                 55   \n",
       "4                                    56                                 56   \n",
       "..                                  ...                                ...   \n",
       "65                                   82                                 47   \n",
       "66                                  107                                 59   \n",
       "67                                   85                                 75   \n",
       "68                                   74                                 42   \n",
       "69                                   83                                 69   \n",
       "\n",
       "   Unnamed: 98 Unnamed: 99  \n",
       "0            3          27  \n",
       "1           21          14  \n",
       "2           25           9  \n",
       "3           20          16  \n",
       "4            9           0  \n",
       "..         ...         ...  \n",
       "65          29          28  \n",
       "66          14           5  \n",
       "67          46          41  \n",
       "68          35          28  \n",
       "69          26          28  \n",
       "\n",
       "[70 rows x 100 columns]"
      ]
     },
     "execution_count": 18,
     "metadata": {},
     "output_type": "execute_result"
    }
   ],
   "source": [
    "df"
   ]
  }
 ],
 "metadata": {
  "kernelspec": {
   "display_name": "Python 3",
   "language": "python",
   "name": "python3"
  },
  "language_info": {
   "codemirror_mode": {
    "name": "ipython",
    "version": 3
   },
   "file_extension": ".py",
   "mimetype": "text/x-python",
   "name": "python",
   "nbconvert_exporter": "python",
   "pygments_lexer": "ipython3",
   "version": "3.13.2"
  }
 },
 "nbformat": 4,
 "nbformat_minor": 5
}
