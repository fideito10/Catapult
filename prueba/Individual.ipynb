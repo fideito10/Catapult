{
 "cells": [
  {
   "cell_type": "code",
   "execution_count": 10,
   "id": "98255385",
   "metadata": {},
   "outputs": [
    {
     "name": "stdout",
     "output_type": "stream",
     "text": [
      "         Date  Session Title      Player Name Split Name      Tags  \\\n",
      "0  16/08/2021  Entrenamiento  Orrico Santiago     Fisico  training   \n",
      "1  16/08/2021  Entrenamiento           Lorito     Fisico  training   \n",
      "2  17/08/2021  Entrenamiento           Lorito     Fisico  training   \n",
      "3  17/08/2021  Entrenamiento  Orrico Santiago     Fisico  training   \n",
      "4  19/08/2021  Entrenamiento  Orrico Santiago     Fisico  training   \n",
      "\n",
      "  Split Start Time Split End Time  Duration Distance (km) Sprint Distance (m)  \\\n",
      "0       16/08/2021     16/08/2021      3810          3,05                  89   \n",
      "1       16/08/2021     16/08/2021      3780          2,51                  50   \n",
      "2       17/08/2021     17/08/2021      6622          6,21                 433   \n",
      "3       17/08/2021     17/08/2021      6864          6,78                 932   \n",
      "4       19/08/2021     19/08/2021      5509          5,92                 687   \n",
      "\n",
      "   ...  Accelerations Zone Count: 2 - 3 m/s/s  \\\n",
      "0  ...                                     33   \n",
      "1  ...                                     23   \n",
      "2  ...                                     59   \n",
      "3  ...                                     61   \n",
      "4  ...                                     56   \n",
      "\n",
      "  Accelerations Zone Count: 3 - 4 m/s/s  Accelerations Zone Count: > 4 m/s/s  \\\n",
      "0                                    12                                    3   \n",
      "1                                    14                                    1   \n",
      "2                                    70                                   31   \n",
      "3                                    71                                   51   \n",
      "4                                    35                                   13   \n",
      "\n",
      "   Deceleration Zone Count: 0 - 1 m/s/s  Deceleration Zone Count: 1 - 2 m/s/s  \\\n",
      "0                                     0                                    34   \n",
      "1                                     0                                    35   \n",
      "2                                     0                                    96   \n",
      "3                                     0                                    77   \n",
      "4                                     0                                    66   \n",
      "\n",
      "  Deceleration Zone Count: 2 - 3 m/s/s Deceleration Zone Count: 3 - 4 m/s/s  \\\n",
      "0                                   23                                   10   \n",
      "1                                   32                                    5   \n",
      "2                                   59                                   46   \n",
      "3                                   75                                   36   \n",
      "4                                   52                                   17   \n",
      "\n",
      "  Deceleration Zone Count: > 4 m/s/s Unnamed: 98 Unnamed: 99  \n",
      "0                                  7         NaN         NaN  \n",
      "1                                  4         NaN         NaN  \n",
      "2                                 19         NaN         NaN  \n",
      "3                                 59         NaN         NaN  \n",
      "4                                 10         NaN         NaN  \n",
      "\n",
      "[5 rows x 100 columns]\n"
     ]
    }
   ],
   "source": [
    "# Método alternativo usando pandas directamente\n",
    "import pandas as pd\n",
    "\n",
    "# URL en formato CSV (adaptamos la URL del documento)\n",
    "sheet_id = \"1kajUuZwL9l1suipRNy7t2g_SGJUcDVh6MeTu66yK-Z4\"\n",
    "url = f\"https://docs.google.com/spreadsheets/d/{sheet_id}/export?format=csv\"\n",
    "\n",
    "try:\n",
    "    # Leer directamente como DataFrame\n",
    "    df = pd.read_csv(url)\n",
    "    \n",
    "    # Mostrar primeros registros\n",
    "    print(df.head())\n",
    "except Exception as e:\n",
    "    print(f\"Error al acceder al documento: {e}\")\n",
    "    print(\"Nota: Este método solo funciona si la hoja es pública o tienes permisos de acceso.\")"
   ]
  },
  {
   "cell_type": "code",
   "execution_count": 11,
   "id": "0d1078e6",
   "metadata": {},
   "outputs": [
    {
     "name": "stdout",
     "output_type": "stream",
     "text": [
      "['Date', 'Session Title', 'Player Name', 'Split Name', 'Tags', 'Split Start Time', 'Split End Time', 'Duration', 'Distance (km)', 'Sprint Distance (m)', 'Power Plays', 'Energy (kcal)', 'Impacts', 'Hr Load', 'Time In Red Zone (min)', 'Player Load (estres mecanico)', 'Top Speed (m/s)', 'Distance Per Min (m/min)', 'Power Score (w/kg)', 'Work Ratio', 'Hr Max (bpm)', 'Distance in Speed Zone 1 (km)', 'Distance in Speed Zone 2 (km)', 'Distance in Speed Zone 3 (km)', 'Distance in Speed Zone 4 (km)', 'Distance in Speed Zone 5 (km)', 'Time in Speed Zone 1 (secs)', 'Time in Speed Zone 2 (secs)', 'Time in Speed Zone 3 (secs)', 'Time in Speed Zone 4 (secs)', 'Time in Speed Zone 5 (secs)', 'Impact Zones: 3 - 5 G (Impacts)', 'Impact Zones: 5 - 10 G (Impacts)', 'Impact Zones: 10 - 15 G (Impacts)', 'Impact Zones: 15 - 20 G (Impacts)', 'Impact Zones: > 20 G (Impacts)', 'Power Play Duration Zones: 0 - 2.5 s (Power Plays)', 'Power Play Duration Zones: 2.5 - 5 s (Power Plays)', 'Power Play Duration Zones: 5 - 7.5 s (Power Plays)', 'Power Play Duration Zones: 7.5 - 10 s (Power Plays)', 'Power Play Duration Zones: > 10 s (Power Plays)', 'Distance in Deceleration Zones: 0 - 1 m/s/s (km)', 'Distance in Deceleration Zones: 1 - 2 m/s/s (km)', 'Distance in Deceleration Zones: 2 - 3 m/s/s (km)', 'Distance in Deceleration Zones: 3 - 4 m/s/s (km)', 'Distance in Deceleration Zones: > 4 m/s/s (km)', 'Time in Deceleration Zones: 0 - 1 m/s/s (secs)', 'Time in Deceleration Zones: 1 - 2 m/s/s (secs)', 'Time in Deceleration Zones: 2 - 3 m/s/s (secs)', 'Time in Deceleration Zones: 3 - 4 m/s/s (secs)', 'Time in Deceleration Zones: > 4 m/s/s (secs)', 'Distance in Acceleration Zones: 0 - 1 m/s/s (km)', 'Distance in Acceleration Zones: 1 - 2 m/s/s (km)', 'Distance in Acceleration Zones: 2 - 3 m/s/s (km)', 'Distance in Acceleration Zones: 3 - 4 m/s/s (km)', 'Distance in Acceleration Zones: > 4 m/s/s (km)', 'Time in Acceleration Zones: 0 - 1 m/s/s (secs)', 'Time in Acceleration Zones: 1 - 2 m/s/s (secs)', 'Time in Acceleration Zones: 2 - 3 m/s/s (secs)', 'Time in Acceleration Zones: 3 - 4 m/s/s (secs)', 'Time in Acceleration Zones: > 4 m/s/s (secs)', 'Distance in Power Zone: 0 - 5 w/kg (km)', 'Distance in Power Zone: 5 - 10 w/kg (km)', 'Distance in Power Zone: 10 - 15 w/kg (km)', 'Distance in Power Zone: 15 - 20 w/kg (km)', 'Distance in Power Zone: 20 - 25 w/kg (km)', 'Distance in Power Zone: 25 - 30 w/kg (km)', 'Distance in Power Zone: 30 - 35 w/kg (km)', 'Distance in Power Zone: 35 - 40 w/kg (km)', 'Distance in Power Zone: 40 - 45 w/kg (km)', 'Distance in Power Zone: 45 - 50 w/kg (km)', 'Distance in Power Zone: > 50 w/kg (km)', 'Time in Power Zone: 0 - 5 w/kg (secs)', 'Time in Power Zone: 5 - 10 w/kg (secs)', 'Time in Power Zone: 10 - 15 w/kg (secs)', 'Time in Power Zone: 15 - 20 w/kg (secs)', 'Time in Power Zone: 20 - 25 w/kg (secs)', 'Time in Power Zone: 25 - 30 w/kg (secs)', 'Time in Power Zone: 30 - 35 w/kg (secs)', 'Time in Power Zone: 35 - 40 w/kg (secs)', 'Time in Power Zone: 40 - 45 w/kg (secs)', 'Time in Power Zone: 45 - 50 w/kg (secs)', 'Time in Power Zone: > 50 w/kg (secs)', 'Time in HR Load Zone 0% - 60% Max HR(secs)', 'Time in HR Load Zone 60% - 75% Max HR (secs)', 'Time in HR Load Zone 75% - 85% Max HR (secs)', 'Time in HR Load Zone 85% - 96% Max HR (secs)', 'Time in HR Load Zone 96% - 100% Max HR (secs)', 'Accelerations Zone Count: 0 - 1 m/s/s', 'Accelerations Zone Count: 1 - 2 m/s/s', 'Accelerations Zone Count: 2 - 3 m/s/s', 'Accelerations Zone Count: 3 - 4 m/s/s', 'Accelerations Zone Count: > 4 m/s/s', 'Deceleration Zone Count: 0 - 1 m/s/s', 'Deceleration Zone Count: 1 - 2 m/s/s', 'Deceleration Zone Count: 2 - 3 m/s/s', 'Deceleration Zone Count: 3 - 4 m/s/s', 'Deceleration Zone Count: > 4 m/s/s', 'Unnamed: 98', 'Unnamed: 99']\n"
     ]
    }
   ],
   "source": [
    "# Imprimir las columnas del DataFrame\n",
    "print(df.columns.tolist())"
   ]
  },
  {
   "cell_type": "code",
   "execution_count": null,
   "id": "f81b506f",
   "metadata": {},
   "outputs": [],
   "source": [
    "yer Name', 'Split Name', 'Tags', 'Split Start Time', 'Split End Time', 'Duration', 'Distance (km)', 'Sprint Distance (m)', 'Power Plays', 'Energy (kcal)', 'Impacts', 'Hr Load', 'Time In Red Zone (min)', 'Player Load (estres mecanico)', 'Top Speed (m/s)', 'Distance Per Min (m/min)', 'Power Score (w/kg)', 'Work Ratio', 'Hr Max (bpm)', 'Distance in Speed Zone 1 (km)', 'Distance in Speed Zone 2 (km)', 'Distance in Speed Zone 3 (km)', 'Distance in Speed Zone 4 (km)', 'Distance in Speed Zone 5 (km)', 'Time in Speed Zone 1 (secs)', 'Time in Speed Zone 2 (secs)', 'Time in Speed Zone 3 (secs)', 'Time in Speed Zone 4 (secs)', 'Time in Speed Zone 5 (secs)', 'Impact Zones: 3 - 5 G (Impacts)', 'Impact Zones: 5 - 10 G (Impacts)', 'Impact Zones: 10 - 15 G (Impacts)', 'Impact Zones: 15 - 20 G (Impacts)', 'Impact Zones: > 20 G (Impacts)', 'Power Play Duration Zones: 0 - 2.5 s (Power Plays)', 'Power Play Duration Zones: 2.5 - 5 s (Power Plays)', 'Power Play Duration Zones: 5 - 7.5 s (Power Plays)', 'Power Play Duration Zones: 7.5 - 10 s (Power Plays)', 'Power Play Duration Zones: > 10 s (Power Plays)', 'Distance in Deceleration Zones: 0 - 1 m/s/s (km)', 'Distance in Deceleration Zones: 1 - 2 m/s/s (km)', 'Distance in Deceleration Zones: 2 - 3 m/s/s (km)', 'Distance in Deceleration Zones: 3 - 4 m/s/s (km)', 'Distance in Deceleration Zones: > 4 m/s/s (km)', 'Time in Deceleration Zones: 0 - 1 m/s/s (secs)', 'Time in Deceleration Zones: 1 - 2 m/s/s (secs)', 'Time in Deceleration Zones: 2 - 3 m/s/s (secs)', 'Time in Deceleration Zones: 3 - 4 m/s/s (secs)', 'Time in Deceleration Zones: > 4 m/s/s (secs)', 'Distance in Acceleration Zones: 0 - 1 m/s/s (km)', 'Distance in Acceleration Zones: 1 - 2 m/s/s (km)', 'Distance in Acceleration Zones: 2 - 3 m/s/s (km)', 'Distance in Acceleration Zones: 3 - 4 m/s/s (km)', 'Distance in Acceleration Zones: > 4 m/s/s (km)', 'Time in Acceleration Zones: 0 - 1 m/s/s (secs)', 'Time in Acceleration Zones: 1 - 2 m/s/s (secs)', 'Time in Acceleration Zones: 2 - 3 m/s/s (secs)', 'Time in Acceleration Zones: 3 - 4 m/s/s (secs)', 'Time in Acceleration Zones: > 4 m/s/s (secs)', 'Distance in Power Zone: 0 - 5 w/kg (km)', 'Distance in Power Zone: 5 - 10 w/kg (km)', 'Distance in Power Zone: 10 - 15 w/kg (km)', 'Distance in Power Zone: 15 - 20 w/kg (km)', 'Distance in Power Zone: 20 - 25 w/kg (km)', 'Distance in Power Zone: 25 - 30 w/kg (km)', 'Distance in Power Zone: 30 - 35 w/kg (km)', 'Distance in Power Zone: 35 - 40 w/kg (km)', 'Distance in Power Zone: 40 - 45 w/kg (km)', 'Distance in Power Zone: 45 - 50 w/kg (km)', 'Distance in Power Zone: > 50 w/kg (km)', 'Time in Power Zone: 0 - 5 w/kg (secs)', 'Time in Power Zone: 5 - 10 w/kg (secs)', 'Time in Power Zone: 10 - 15 w/kg (secs)', 'Time in Power Zone: 15 - 20 w/kg (secs)', 'Time in Power Zone: 20 - 25 w/kg (secs)', 'Time in Power Zone: 25 - 30 w/kg (secs)', 'Time in Power Zone: 30 - 35 w/kg (secs)', 'Time in Power Zone: 35 - 40 w/kg (secs)', 'Time in Power Zone: 40 - 45 w/kg (secs)', 'Time in Power Zone: 45 - 50 w/kg (secs)', 'Time in Power Zone: > 50 w/kg (secs)', 'Time in HR Load Zone 0% - 60% Max HR(secs)', 'Time in HR Load Zone 60% - 75% Max HR (secs)', 'Time in HR Load Zone 75% - 85% Max HR (secs)', 'Time in HR Load Zone 85% - 96% Max HR (secs)', 'Time in HR Load Zone 96% - 100% Max HR (secs)', 'Accelerations Zone Count: 0 - 1 m/s/s', 'Accelerations Zone Count: 1 - 2 m/s/s', 'Accelerations Zone Count: 2 - 3 m/s/s', 'Accelerations Zone Count: 3 - 4 m/s/s', 'Accelerations Zone Count: > 4 m/s/s', 'Deceleration Zone Count: 0 - 1 m/s/s', 'Deceleration Zone Count: 1 - 2 m/s/s', 'Deceleration Zone Count: 2 - 3 m/s/s', 'Deceleration Zone Count: 3 - 4 m/s/s', 'Deceleration Zone Count: > 4 m/s/s', 'Unnamed: 98', 'Unnamed: 99']['Date', 'Session Title', 'Pla"
   ]
  },
  {
   "cell_type": "code",
   "execution_count": 1,
   "id": "5fa41cd9",
   "metadata": {},
   "outputs": [],
   "source": [
    "def calcular_ratio_AC(datos_jugador, ventana_aguda=7, ventana_cronica=28):\n",
    "    \"\"\"\n",
    "    Calcula el ratio de carga aguda:crónica basado en la distancia recorrida.\n",
    "    \n",
    "    Parámetros:\n",
    "    - datos_jugador: DataFrame con los datos del jugador\n",
    "    - ventana_aguda: Número de días para la carga aguda (por defecto 7 días)\n",
    "    - ventana_cronica: Número de días para la carga crónica (por defecto 28 días)\n",
    "    \n",
    "    Retorna:\n",
    "    - DataFrame con fechas, distancias, carga aguda, carga crónica y ratio A:C\n",
    "    \"\"\"\n",
    "    if datos_jugador is None or datos_jugador.empty or 'Date' not in datos_jugador.columns:\n",
    "        return None\n",
    "    \n",
    "    # Asegurar que la fecha está ordenada cronológicamente\n",
    "    datos_ordenados = datos_jugador.sort_values('Date')\n",
    "    \n",
    "    # Crear lista para almacenar resultados\n",
    "    resultados = []\n",
    "    \n",
    "    # Para cada fecha, calcular cargas y ratio\n",
    "    fechas_unicas = datos_ordenados['Date'].unique()\n",
    "    \n",
    "    for i in range(ventana_cronica, len(fechas_unicas) + 1):\n",
    "        fecha_actual = fechas_unicas[i-1]\n",
    "        \n",
    "        # Datos de la sesión actual\n",
    "        datos_sesion_actual = datos_ordenados[datos_ordenados['Date'] == fecha_actual]\n",
    "        distancia_sesion = datos_sesion_actual['Distance (km)'].sum()\n",
    "        \n",
    "        # Datos para ventana aguda (últimos 7 días)\n",
    "        indice_inicio_agudo = max(0, i - ventana_aguda)\n",
    "        fechas_agudo = fechas_unicas[indice_inicio_agudo:i]\n",
    "        datos_agudo = datos_ordenados[datos_ordenados['Date'].isin(fechas_agudo)]\n",
    "        \n",
    "        # Datos para ventana crónica (últimos 28 días)\n",
    "        indice_inicio_cronico = max(0, i - ventana_cronica)\n",
    "        fechas_cronico = fechas_unicas[indice_inicio_cronico:i]\n",
    "        datos_cronico = datos_ordenados[datos_ordenados['Date'].isin(fechas_cronico)]\n",
    "        \n",
    "        # Calcular carga aguda y crónica (promedios diarios)\n",
    "        carga_aguda = datos_agudo['Distance (km)'].mean()\n",
    "        carga_cronica = datos_cronico['Distance (km)'].mean()\n",
    "        \n",
    "        # Calcular ratio A:C\n",
    "        ratio_ac = carga_aguda / carga_cronica if carga_cronica > 0 else 0\n",
    "        \n",
    "        # Guardar resultados\n",
    "        resultados.append({\n",
    "            'Fecha': fecha_actual,\n",
    "            'Session Title': datos_sesion_actual['Session Title'].iloc[0],\n",
    "            'Distancia (km)': distancia_sesion,\n",
    "            'Carga Aguda': carga_aguda,\n",
    "            'Carga Crónica': carga_cronica,\n",
    "            'Ratio A:C': ratio_ac\n",
    "        })\n",
    "    \n",
    "    # Convertir resultados a DataFrame\n",
    "    if resultados:\n",
    "        df_resultados = pd.DataFrame(resultados)\n",
    "        # Ordenar por fecha descendente para mostrar los más recientes primero\n",
    "        return df_resultados.sort_values('Fecha', ascending=False)\n",
    "    else:\n",
    "        return None\n"
   ]
  },
  {
   "cell_type": "code",
   "execution_count": 2,
   "id": "5deef6c4",
   "metadata": {},
   "outputs": [
    {
     "ename": "NameError",
     "evalue": "name 'procesar_datos_jugador' is not defined",
     "output_type": "error",
     "traceback": [
      "\u001b[1;31m---------------------------------------------------------------------------\u001b[0m",
      "\u001b[1;31mNameError\u001b[0m                                 Traceback (most recent call last)",
      "Cell \u001b[1;32mIn[2], line 2\u001b[0m\n\u001b[0;32m      1\u001b[0m \u001b[38;5;66;03m# Procesar datos del jugador seleccionado\u001b[39;00m\n\u001b[1;32m----> 2\u001b[0m datos_jugador \u001b[38;5;241m=\u001b[39m \u001b[43mprocesar_datos_jugador\u001b[49m(df, jugador_seleccionado)\n\u001b[0;32m      4\u001b[0m \u001b[38;5;28;01mif\u001b[39;00m datos_jugador \u001b[38;5;129;01mis\u001b[39;00m \u001b[38;5;129;01mnot\u001b[39;00m \u001b[38;5;28;01mNone\u001b[39;00m \u001b[38;5;129;01mand\u001b[39;00m \u001b[38;5;129;01mnot\u001b[39;00m datos_jugador\u001b[38;5;241m.\u001b[39mempty:\n\u001b[0;32m      5\u001b[0m     st\u001b[38;5;241m.\u001b[39minfo(\u001b[38;5;124mf\u001b[39m\u001b[38;5;124m\"\u001b[39m\u001b[38;5;124mSe encontraron \u001b[39m\u001b[38;5;132;01m{\u001b[39;00m\u001b[38;5;28mlen\u001b[39m(datos_jugador)\u001b[38;5;132;01m}\u001b[39;00m\u001b[38;5;124m registros para \u001b[39m\u001b[38;5;132;01m{\u001b[39;00mjugador_seleccionado\u001b[38;5;132;01m}\u001b[39;00m\u001b[38;5;124m\"\u001b[39m)\n",
      "\u001b[1;31mNameError\u001b[0m: name 'procesar_datos_jugador' is not defined"
     ]
    }
   ],
   "source": [
    "            # Procesar datos del jugador seleccionado\n",
    "            datos_jugador = procesar_datos_jugador(df, jugador_seleccionado)\n",
    "            \n",
    "            if datos_jugador is not None and not datos_jugador.empty:\n",
    "                st.info(f\"Se encontraron {len(datos_jugador)} registros para {jugador_seleccionado}\")\n",
    "                \n",
    "                # Selector para cantidad de sesiones a mostrar en gráficos\n",
    "                n_sesiones = st.slider(\n",
    "                    \"Número de sesiones a mostrar en gráficos\",\n",
    "                    min_value=5,\n",
    "                    max_value=min(30, len(datos_jugador)),\n",
    "                    value=10,\n",
    "                    step=1\n",
    "                )\n",
    "                \n",
    "                # Mostrar métricas recientes\n",
    "                st.markdown(\"## 📊 Métricas Recientes (Últimos 30 días)\")\n",
    "                mostrar_metricas_recientes(datos_jugador)"
   ]
  }
 ],
 "metadata": {
  "kernelspec": {
   "display_name": "Python 3",
   "language": "python",
   "name": "python3"
  },
  "language_info": {
   "codemirror_mode": {
    "name": "ipython",
    "version": 3
   },
   "file_extension": ".py",
   "mimetype": "text/x-python",
   "name": "python",
   "nbconvert_exporter": "python",
   "pygments_lexer": "ipython3",
   "version": "3.11.2"
  }
 },
 "nbformat": 4,
 "nbformat_minor": 5
}
