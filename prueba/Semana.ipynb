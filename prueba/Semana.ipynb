{
 "cells": [
  {
   "cell_type": "code",
   "execution_count": 3,
   "id": "6ed0a247",
   "metadata": {},
   "outputs": [],
   "source": [
    "import pandas as pd\n",
    "import streamlit as st"
   ]
  },
  {
   "cell_type": "code",
   "execution_count": 4,
   "id": "b398fc24",
   "metadata": {},
   "outputs": [],
   "source": [
    "def load_data():\n",
    "    sheet_id = \"1kajUuZwL9l1suipRNy7t2g_SGJUcDVh6MeTu66yK-Z4\"\n",
    "    url = f\"https://docs.google.com/spreadsheets/d/{sheet_id}/export?format=csv\"\n",
    "    # Leer directamente como DataFrame\n",
    "    df = pd.read_csv(url)\n",
    "    return df\n",
    "\n",
    "# Simplemente llama a la función sin parámetros\n",
    "df = load_data()\n"
   ]
  },
  {
   "cell_type": "code",
   "execution_count": 5,
   "id": "7fb29521",
   "metadata": {},
   "outputs": [
    {
     "name": "stdout",
     "output_type": "stream",
     "text": [
      "Columns in the dataframe:\n",
      "['Date', 'Session Title', 'Player Name', 'Split Name', 'Tags', 'Split Start Time', 'Split End Time', 'Duration', 'Distance (km)', 'Sprint Distance (m)', 'Power Plays', 'Energy (kcal)', 'Impacts', 'Hr Load', 'Time In Red Zone (min)', 'Player Load (estres mecanico)', 'Top Speed (m/s)', 'Distance Per Min (m/min)', 'Power Score (w/kg)', 'Work Ratio', 'Hr Max (bpm)', 'Distance in Speed Zone 1 (km)', 'Distance in Speed Zone 2 (km)', 'Distance in Speed Zone 3 (km)', 'Distance in Speed Zone 4 (km)', 'Distance in Speed Zone 5 (km)', 'Time in Speed Zone 1 (secs)', 'Time in Speed Zone 2 (secs)', 'Time in Speed Zone 3 (secs)', 'Time in Speed Zone 4 (secs)', 'Time in Speed Zone 5 (secs)', 'Impact Zones: 3 - 5 G (Impacts)', 'Impact Zones: 5 - 10 G (Impacts)', 'Impact Zones: 10 - 15 G (Impacts)', 'Impact Zones: 15 - 20 G (Impacts)', 'Impact Zones: > 20 G (Impacts)', 'Power Play Duration Zones: 0 - 2.5 s (Power Plays)', 'Power Play Duration Zones: 2.5 - 5 s (Power Plays)', 'Power Play Duration Zones: 5 - 7.5 s (Power Plays)', 'Power Play Duration Zones: 7.5 - 10 s (Power Plays)', 'Power Play Duration Zones: > 10 s (Power Plays)', 'Distance in Deceleration Zones: 0 - 1 m/s/s (km)', 'Distance in Deceleration Zones: 1 - 2 m/s/s (km)', 'Distance in Deceleration Zones: 2 - 3 m/s/s (km)', 'Distance in Deceleration Zones: 3 - 4 m/s/s (km)', 'Distance in Deceleration Zones: > 4 m/s/s (km)', 'Time in Deceleration Zones: 0 - 1 m/s/s (secs)', 'Time in Deceleration Zones: 1 - 2 m/s/s (secs)', 'Time in Deceleration Zones: 2 - 3 m/s/s (secs)', 'Time in Deceleration Zones: 3 - 4 m/s/s (secs)', 'Time in Deceleration Zones: > 4 m/s/s (secs)', 'Distance in Acceleration Zones: 0 - 1 m/s/s (km)', 'Distance in Acceleration Zones: 1 - 2 m/s/s (km)', 'Distance in Acceleration Zones: 2 - 3 m/s/s (km)', 'Distance in Acceleration Zones: 3 - 4 m/s/s (km)', 'Distance in Acceleration Zones: > 4 m/s/s (km)', 'Time in Acceleration Zones: 0 - 1 m/s/s (secs)', 'Time in Acceleration Zones: 1 - 2 m/s/s (secs)', 'Time in Acceleration Zones: 2 - 3 m/s/s (secs)', 'Time in Acceleration Zones: 3 - 4 m/s/s (secs)', 'Time in Acceleration Zones: > 4 m/s/s (secs)', 'Distance in Power Zone: 0 - 5 w/kg (km)', 'Distance in Power Zone: 5 - 10 w/kg (km)', 'Distance in Power Zone: 10 - 15 w/kg (km)', 'Distance in Power Zone: 15 - 20 w/kg (km)', 'Distance in Power Zone: 20 - 25 w/kg (km)', 'Distance in Power Zone: 25 - 30 w/kg (km)', 'Distance in Power Zone: 30 - 35 w/kg (km)', 'Distance in Power Zone: 35 - 40 w/kg (km)', 'Distance in Power Zone: 40 - 45 w/kg (km)', 'Distance in Power Zone: 45 - 50 w/kg (km)', 'Distance in Power Zone: > 50 w/kg (km)', 'Time in Power Zone: 0 - 5 w/kg (secs)', 'Time in Power Zone: 5 - 10 w/kg (secs)', 'Time in Power Zone: 10 - 15 w/kg (secs)', 'Time in Power Zone: 15 - 20 w/kg (secs)', 'Time in Power Zone: 20 - 25 w/kg (secs)', 'Time in Power Zone: 25 - 30 w/kg (secs)', 'Time in Power Zone: 30 - 35 w/kg (secs)', 'Time in Power Zone: 35 - 40 w/kg (secs)', 'Time in Power Zone: 40 - 45 w/kg (secs)', 'Time in Power Zone: 45 - 50 w/kg (secs)', 'Time in Power Zone: > 50 w/kg (secs)', 'Time in HR Load Zone 0% - 60% Max HR(secs)', 'Time in HR Load Zone 60% - 75% Max HR (secs)', 'Time in HR Load Zone 75% - 85% Max HR (secs)', 'Time in HR Load Zone 85% - 96% Max HR (secs)', 'Time in HR Load Zone 96% - 100% Max HR (secs)', 'Accelerations Zone Count: 0 - 1 m/s/s', 'Accelerations Zone Count: 1 - 2 m/s/s', 'Accelerations Zone Count: 2 - 3 m/s/s', 'Accelerations Zone Count: 3 - 4 m/s/s', 'Accelerations Zone Count: > 4 m/s/s', 'Deceleration Zone Count: 0 - 1 m/s/s', 'Deceleration Zone Count: 1 - 2 m/s/s', 'Deceleration Zone Count: 2 - 3 m/s/s', 'Deceleration Zone Count: 3 - 4 m/s/s', 'Deceleration Zone Count: > 4 m/s/s', 'Unnamed: 98', 'Unnamed: 99']\n"
     ]
    }
   ],
   "source": [
    "# Display dataframe columns as a list\n",
    "print(\"Columns in the dataframe:\")\n",
    "print(list(df.columns))"
   ]
  },
  {
   "cell_type": "code",
   "execution_count": 1,
   "id": "ca9304e3",
   "metadata": {},
   "outputs": [
    {
     "ename": "NameError",
     "evalue": "name 'df' is not defined",
     "output_type": "error",
     "traceback": [
      "\u001b[1;31m---------------------------------------------------------------------------\u001b[0m",
      "\u001b[1;31mNameError\u001b[0m                                 Traceback (most recent call last)",
      "Cell \u001b[1;32mIn[1], line 1\u001b[0m\n\u001b[1;32m----> 1\u001b[0m \u001b[43mdf\u001b[49m\u001b[38;5;241m.\u001b[39mcolumns()\n",
      "\u001b[1;31mNameError\u001b[0m: name 'df' is not defined"
     ]
    }
   ],
   "source": [
    "df.columns()"
   ]
  },
  {
   "cell_type": "code",
   "execution_count": 6,
   "id": "a015b2e4",
   "metadata": {},
   "outputs": [],
   "source": [
    "def obtener_estadisticas_aceleraciones(sesiones_df):\n",
    "    \"\"\"\n",
    "    Obtiene estadísticas relacionadas con las aceleraciones y desaceleraciones de los jugadores\n",
    "    \n",
    "    Parámetros:\n",
    "    - sesiones_df: DataFrame con los datos de sesiones filtrados\n",
    "    \n",
    "    Retorna:\n",
    "    - DataFrame con estadísticas de aceleraciones y desaceleraciones\n",
    "    \"\"\"\n",
    "    try:\n",
    "        # Columnas de aceleraciones\n",
    "        columnas_aceleraciones = [\n",
    "            'Accelerations Zone Count: 2 - 3 m/s/s', \n",
    "            'Accelerations Zone Count: 3 - 4 m/s/s', \n",
    "            'Accelerations Zone Count: > 4 m/s/s'\n",
    "        ]\n",
    "        \n",
    "        # Columnas de desaceleraciones\n",
    "        columnas_desaceleraciones = [\n",
    "            'Deceleration Zone Count: 1 - 2 m/s/s', \n",
    "            'Deceleration Zone Count: 2 - 3 m/s/s', \n",
    "            'Deceleration Zone Count: 3 - 4 m/s/s', \n",
    "            'Deceleration Zone Count: > 4 m/s/s'\n",
    "        ]\n",
    "        \n",
    "        # Convertir columnas a numéricas si es necesario\n",
    "        for col in columnas_aceleraciones + columnas_desaceleraciones:\n",
    "            if isinstance(sesiones_df[col].iloc[0], str):\n",
    "                sesiones_df[col] = sesiones_df[col].str.replace(',', '.').astype(float)\n",
    "            elif not pd.api.types.is_numeric_dtype(sesiones_df[col]):\n",
    "                sesiones_df[col] = pd.to_numeric(sesiones_df[col], errors='coerce')\n",
    "        \n",
    "        # Crear columnas con la suma de aceleraciones y desaceleraciones\n",
    "        sesiones_df['Total Aceleraciones'] = sesiones_df[columnas_aceleraciones].sum(axis=1)\n",
    "        sesiones_df['Total Desaceleraciones'] = sesiones_df[columnas_desaceleraciones].sum(axis=1)\n",
    "        \n",
    "        # Agrupar por Session Title\n",
    "        aceleraciones_stats = sesiones_df.groupby(['Session Title'])[\n",
    "            ['Total Aceleraciones', 'Total Desaceleraciones']].agg(['mean', 'count']).reset_index()\n",
    "        \n",
    "        # Reorganizar columnas para facilitar su uso\n",
    "        aceleraciones_stats.columns = [\n",
    "            'Sesión',\n",
    "            'Media Aceleraciones', 'Count Aceleraciones',\n",
    "            'Media Desaceleraciones', 'Count Desaceleraciones'\n",
    "        ]\n",
    "        \n",
    "        # Ordenar alfabéticamente por el nombre de la sesión\n",
    "        aceleraciones_stats = aceleraciones_stats.sort_values('Sesión', ascending=True)\n",
    "        \n",
    "        return aceleraciones_stats\n",
    "        \n",
    "    except Exception as e:\n",
    "        print(f\"Error al obtener estadísticas de aceleraciones: {e}\")\n",
    "        return None\n",
    "\n",
    "def graficar_aceleraciones(aceleraciones_stats, tipo_sesion, n_sesiones=10):\n",
    "    \"\"\"\n",
    "    Genera un gráfico de barras comparando aceleraciones (azul) y desaceleraciones (rojo)\n",
    "    \"\"\"\n",
    "    import plotly.graph_objects as go\n",
    "    from plotly.subplots import make_subplots\n",
    "    \n",
    "    if aceleraciones_stats is None or aceleraciones_stats.empty:\n",
    "        print(\"No hay datos de aceleraciones para visualizar\")\n",
    "        return None\n",
    "    \n",
    "    # Limitar a las últimas n sesiones para mejor visualización\n",
    "    if len(aceleraciones_stats) > n_sesiones:\n",
    "        aceleraciones_stats = aceleraciones_stats.tail(n_sesiones)\n",
    "    \n",
    "    # Crear figura con Plotly\n",
    "    fig = go.Figure()\n",
    "    \n",
    "    # Añadir barras para aceleraciones (en azul)\n",
    "    fig.add_trace(go.Bar(\n",
    "        x=aceleraciones_stats['Sesión'],\n",
    "        y=aceleraciones_stats['Media Aceleraciones'],\n",
    "        name='Aceleraciones',\n",
    "        marker_color='rgb(65, 105, 225)',  # Azul royal\n",
    "        text=aceleraciones_stats['Media Aceleraciones'].round(1),\n",
    "        textposition='outside',\n",
    "        hovertemplate='<b>%{x}</b><br>Aceleraciones: %{y:.1f}<br>Conteo: %{customdata}<extra></extra>',\n",
    "        customdata=aceleraciones_stats['Count Aceleraciones']\n",
    "    ))\n",
    "    \n",
    "    # Añadir barras para desaceleraciones (en rojo)\n",
    "    fig.add_trace(go.Bar(\n",
    "        x=aceleraciones_stats['Sesión'],\n",
    "        y=aceleraciones_stats['Media Desaceleraciones'],\n",
    "        name='Desaceleraciones',\n",
    "        marker_color='rgb(220, 20, 60)',  # Rojo carmesí\n",
    "        text=aceleraciones_stats['Media Desaceleraciones'].round(1),\n",
    "        textposition='outside',\n",
    "        hovertemplate='<b>%{x}</b><br>Desaceleraciones: %{y:.1f}<br>Conteo: %{customdata}<extra></extra>',\n",
    "        customdata=aceleraciones_stats['Count Desaceleraciones']\n",
    "    ))\n",
    "    \n",
    "    # Actualizar diseño\n",
    "    fig.update_layout(\n",
    "        title={\n",
    "            'text': f'Aceleraciones vs Desaceleraciones - {tipo_sesion}',\n",
    "            'font': {'size': 24},\n",
    "            'x': 0.5,\n",
    "            'xanchor': 'center'\n",
    "        },\n",
    "        xaxis=dict(\n",
    "            title='Sesión',\n",
    "            tickangle=-30,\n",
    "            tickfont=dict(size=14),\n",
    "            title_font=dict(size=16)\n",
    "        ),\n",
    "        yaxis=dict(\n",
    "            title='Cantidad promedio',\n",
    "            gridcolor='rgb(220, 220, 220)'\n",
    "        ),\n",
    "        plot_bgcolor='rgb(250, 250, 250)',\n",
    "        paper_bgcolor='rgb(250, 250, 250)',\n",
    "        font=dict(color='rgb(20, 20, 20)'),\n",
    "        barmode='group',  # Barras agrupadas\n",
    "        bargap=0.15,\n",
    "        bargroupgap=0.1,\n",
    "        legend=dict(orientation='h', yanchor='bottom', y=1.02, xanchor='right', x=1),\n",
    "        height=500\n",
    "    )\n",
    "    \n",
    "    return fig\n",
    "\n"
   ]
  },
  {
   "cell_type": "code",
   "execution_count": 7,
   "id": "a7d143b6",
   "metadata": {},
   "outputs": [
    {
     "data": {
      "application/vnd.plotly.v1+json": {
       "config": {
        "plotlyServerURL": "https://plot.ly"
       },
       "data": [
        {
         "customdata": {
          "bdata": "HgUQBA8GAQIBAQ==",
          "dtype": "i1"
         },
         "hovertemplate": "<b>%{x}</b><br>Aceleraciones: %{y:.1f}<br>Conteo: %{customdata}<extra></extra>",
         "marker": {
          "color": "rgb(65, 105, 225)"
         },
         "name": "Aceleraciones",
         "text": {
          "bdata": "mpmZmZlpYEAzMzMzMxNjQJqZmZmZmV1AzczMzMxMUkAAAAAAABBiQGZmZmZmpmFAAAAAAAAAX0AAAAAAAOBfQAAAAAAAgFJAAAAAAABAVkA=",
          "dtype": "f8"
         },
         "textposition": "outside",
         "type": "bar",
         "x": [
          "Partido San Carlos",
          "Partido San Fer",
          "Partido San Fernando",
          "Partido San Martin",
          "Partido San Patricio",
          "Partido Sitas",
          "Partido Vicentino",
          "Partido vs SITAS",
          "Partido vs San Fernando",
          "partido Liceo Militar"
         ],
         "y": {
          "bdata": "iYiIiIhoYEAzMzMzMxNjQAAAAAAAnF1AAAAAAABQUkARERERERFiQFVVVVVVpWFAAAAAAAAAX0AAAAAAAOBfQAAAAAAAgFJAAAAAAABAVkA=",
          "dtype": "f8"
         }
        },
        {
         "customdata": {
          "bdata": "HgUQBA8GAQIBAQ==",
          "dtype": "i1"
         },
         "hovertemplate": "<b>%{x}</b><br>Desaceleraciones: %{y:.1f}<br>Conteo: %{customdata}<extra></extra>",
         "marker": {
          "color": "rgb(220, 20, 60)"
         },
         "name": "Desaceleraciones",
         "text": {
          "bdata": "ZmZmZmYmYUCamZmZmTliQAAAAAAAIGFAAAAAAABAX0DNzMzMzDxiQGZmZmZmVmNAAAAAAABAbkAAAAAAAABpQAAAAAAAAGpAAAAAAAAgZkA=",
          "dtype": "f8"
         },
         "textposition": "outside",
         "type": "bar",
         "x": [
          "Partido San Carlos",
          "Partido San Fer",
          "Partido San Fernando",
          "Partido San Martin",
          "Partido San Patricio",
          "Partido Sitas",
          "Partido Vicentino",
          "Partido vs SITAS",
          "Partido vs San Fernando",
          "partido Liceo Militar"
         ],
         "y": {
          "bdata": "VVVVVVUlYUCamZmZmTliQAAAAAAAIGFAAAAAAABAX0De3d3d3T1iQFVVVVVVVWNAAAAAAABAbkAAAAAAAABpQAAAAAAAAGpAAAAAAAAgZkA=",
          "dtype": "f8"
         }
        }
       ],
       "layout": {
        "bargap": 0.15,
        "bargroupgap": 0.1,
        "barmode": "group",
        "font": {
         "color": "rgb(20, 20, 20)"
        },
        "height": 500,
        "legend": {
         "orientation": "h",
         "x": 1,
         "xanchor": "right",
         "y": 1.02,
         "yanchor": "bottom"
        },
        "paper_bgcolor": "rgb(250, 250, 250)",
        "plot_bgcolor": "rgb(250, 250, 250)",
        "template": {
         "data": {
          "candlestick": [
           {
            "decreasing": {
             "line": {
              "color": "#000033"
             }
            },
            "increasing": {
             "line": {
              "color": "#000032"
             }
            },
            "type": "candlestick"
           }
          ],
          "contour": [
           {
            "colorscale": [
             [
              0,
              "#000011"
             ],
             [
              0.1111111111111111,
              "#000012"
             ],
             [
              0.2222222222222222,
              "#000013"
             ],
             [
              0.3333333333333333,
              "#000014"
             ],
             [
              0.4444444444444444,
              "#000015"
             ],
             [
              0.5555555555555556,
              "#000016"
             ],
             [
              0.6666666666666666,
              "#000017"
             ],
             [
              0.7777777777777778,
              "#000018"
             ],
             [
              0.8888888888888888,
              "#000019"
             ],
             [
              1,
              "#000020"
             ]
            ],
            "type": "contour"
           }
          ],
          "contourcarpet": [
           {
            "colorscale": [
             [
              0,
              "#000011"
             ],
             [
              0.1111111111111111,
              "#000012"
             ],
             [
              0.2222222222222222,
              "#000013"
             ],
             [
              0.3333333333333333,
              "#000014"
             ],
             [
              0.4444444444444444,
              "#000015"
             ],
             [
              0.5555555555555556,
              "#000016"
             ],
             [
              0.6666666666666666,
              "#000017"
             ],
             [
              0.7777777777777778,
              "#000018"
             ],
             [
              0.8888888888888888,
              "#000019"
             ],
             [
              1,
              "#000020"
             ]
            ],
            "type": "contourcarpet"
           }
          ],
          "heatmap": [
           {
            "colorscale": [
             [
              0,
              "#000011"
             ],
             [
              0.1111111111111111,
              "#000012"
             ],
             [
              0.2222222222222222,
              "#000013"
             ],
             [
              0.3333333333333333,
              "#000014"
             ],
             [
              0.4444444444444444,
              "#000015"
             ],
             [
              0.5555555555555556,
              "#000016"
             ],
             [
              0.6666666666666666,
              "#000017"
             ],
             [
              0.7777777777777778,
              "#000018"
             ],
             [
              0.8888888888888888,
              "#000019"
             ],
             [
              1,
              "#000020"
             ]
            ],
            "type": "heatmap"
           }
          ],
          "histogram2d": [
           {
            "colorscale": [
             [
              0,
              "#000011"
             ],
             [
              0.1111111111111111,
              "#000012"
             ],
             [
              0.2222222222222222,
              "#000013"
             ],
             [
              0.3333333333333333,
              "#000014"
             ],
             [
              0.4444444444444444,
              "#000015"
             ],
             [
              0.5555555555555556,
              "#000016"
             ],
             [
              0.6666666666666666,
              "#000017"
             ],
             [
              0.7777777777777778,
              "#000018"
             ],
             [
              0.8888888888888888,
              "#000019"
             ],
             [
              1,
              "#000020"
             ]
            ],
            "type": "histogram2d"
           }
          ],
          "icicle": [
           {
            "textfont": {
             "color": "white"
            },
            "type": "icicle"
           }
          ],
          "sankey": [
           {
            "textfont": {
             "color": "#000036"
            },
            "type": "sankey"
           }
          ],
          "scatter": [
           {
            "marker": {
             "line": {
              "width": 0
             }
            },
            "type": "scatter"
           }
          ],
          "table": [
           {
            "cells": {
             "fill": {
              "color": "#000038"
             },
             "font": {
              "color": "#000037"
             },
             "line": {
              "color": "#000039"
             }
            },
            "header": {
             "fill": {
              "color": "#000040"
             },
             "font": {
              "color": "#000036"
             },
             "line": {
              "color": "#000039"
             }
            },
            "type": "table"
           }
          ],
          "waterfall": [
           {
            "connector": {
             "line": {
              "color": "#000036",
              "width": 2
             }
            },
            "decreasing": {
             "marker": {
              "color": "#000033"
             }
            },
            "increasing": {
             "marker": {
              "color": "#000032"
             }
            },
            "totals": {
             "marker": {
              "color": "#000034"
             }
            },
            "type": "waterfall"
           }
          ]
         },
         "layout": {
          "coloraxis": {
           "colorscale": [
            [
             0,
             "#000011"
            ],
            [
             0.1111111111111111,
             "#000012"
            ],
            [
             0.2222222222222222,
             "#000013"
            ],
            [
             0.3333333333333333,
             "#000014"
            ],
            [
             0.4444444444444444,
             "#000015"
            ],
            [
             0.5555555555555556,
             "#000016"
            ],
            [
             0.6666666666666666,
             "#000017"
            ],
            [
             0.7777777777777778,
             "#000018"
            ],
            [
             0.8888888888888888,
             "#000019"
            ],
            [
             1,
             "#000020"
            ]
           ]
          },
          "colorscale": {
           "diverging": [
            [
             0,
             "#000021"
            ],
            [
             0.1,
             "#000022"
            ],
            [
             0.2,
             "#000023"
            ],
            [
             0.3,
             "#000024"
            ],
            [
             0.4,
             "#000025"
            ],
            [
             0.5,
             "#000026"
            ],
            [
             0.6,
             "#000027"
            ],
            [
             0.7,
             "#000028"
            ],
            [
             0.8,
             "#000029"
            ],
            [
             0.9,
             "#000030"
            ],
            [
             1,
             "#000031"
            ]
           ],
           "sequential": [
            [
             0,
             "#000011"
            ],
            [
             0.1111111111111111,
             "#000012"
            ],
            [
             0.2222222222222222,
             "#000013"
            ],
            [
             0.3333333333333333,
             "#000014"
            ],
            [
             0.4444444444444444,
             "#000015"
            ],
            [
             0.5555555555555556,
             "#000016"
            ],
            [
             0.6666666666666666,
             "#000017"
            ],
            [
             0.7777777777777778,
             "#000018"
            ],
            [
             0.8888888888888888,
             "#000019"
            ],
            [
             1,
             "#000020"
            ]
           ],
           "sequentialminus": [
            [
             0,
             "#000011"
            ],
            [
             0.1111111111111111,
             "#000012"
            ],
            [
             0.2222222222222222,
             "#000013"
            ],
            [
             0.3333333333333333,
             "#000014"
            ],
            [
             0.4444444444444444,
             "#000015"
            ],
            [
             0.5555555555555556,
             "#000016"
            ],
            [
             0.6666666666666666,
             "#000017"
            ],
            [
             0.7777777777777778,
             "#000018"
            ],
            [
             0.8888888888888888,
             "#000019"
            ],
            [
             1,
             "#000020"
            ]
           ]
          },
          "colorway": [
           "#000001",
           "#000002",
           "#000003",
           "#000004",
           "#000005",
           "#000006",
           "#000007",
           "#000008",
           "#000009",
           "#000010"
          ]
         }
        },
        "title": {
         "font": {
          "size": 24
         },
         "text": "Aceleraciones vs Desaceleraciones - Partido",
         "x": 0.5,
         "xanchor": "center"
        },
        "xaxis": {
         "tickangle": -30,
         "tickfont": {
          "size": 14
         },
         "title": {
          "font": {
           "size": 16
          },
          "text": "Sesión"
         }
        },
        "yaxis": {
         "gridcolor": "rgb(220, 220, 220)",
         "title": {
          "text": "Cantidad promedio"
         }
        }
       }
      }
     },
     "metadata": {},
     "output_type": "display_data"
    }
   ],
   "source": [
    "# Filtrar datos por tipo de sesión (por ejemplo, \"Partido\")\n",
    "tipo_seleccionado = \"Partido\"  # Puedes cambiar esto según necesites\n",
    "sesiones_df = df[df['Session Title'].str.contains(tipo_seleccionado, case=False, na=False)].copy()\n",
    "\n",
    "# Obtener estadísticas de aceleraciones y desaceleraciones\n",
    "aceleraciones_stats = obtener_estadisticas_aceleraciones(sesiones_df)\n",
    "\n",
    "# Crear gráfico\n",
    "fig = graficar_aceleraciones(aceleraciones_stats, tipo_seleccionado)\n",
    "\n",
    "# Mostrar el gráfico\n",
    "fig.show()"
   ]
  },
  {
   "cell_type": "code",
   "execution_count": 8,
   "id": "9d6555d5",
   "metadata": {},
   "outputs": [],
   "source": [
    "def obtener_estadisticas_aceleraciones(sesiones_df):\n",
    "    \"\"\"\n",
    "    Obtiene estadísticas relacionadas con las aceleraciones y desaceleraciones de los jugadores\n",
    "    \n",
    "    Parámetros:\n",
    "    - sesiones_df: DataFrame con los datos de sesiones filtrados\n",
    "    \n",
    "    Retorna:\n",
    "    - DataFrame con estadísticas de aceleraciones y desaceleraciones\n",
    "    \"\"\"\n",
    "    try:\n",
    "        # Columnas de aceleraciones\n",
    "        columnas_aceleraciones = [\n",
    "            'Accelerations Zone Count: 2 - 3 m/s/s', \n",
    "            'Accelerations Zone Count: 3 - 4 m/s/s', \n",
    "            'Accelerations Zone Count: > 4 m/s/s'\n",
    "        ]\n",
    "        \n",
    "        # Columnas de desaceleraciones\n",
    "        columnas_desaceleraciones = [\n",
    "            'Deceleration Zone Count: 1 - 2 m/s/s', \n",
    "            'Deceleration Zone Count: 2 - 3 m/s/s', \n",
    "            'Deceleration Zone Count: 3 - 4 m/s/s', \n",
    "            'Deceleration Zone Count: > 4 m/s/s'\n",
    "        ]\n",
    "        \n",
    "        # Convertir columnas a numéricas si es necesario\n",
    "        for col in columnas_aceleraciones + columnas_desaceleraciones:\n",
    "            if isinstance(sesiones_df[col].iloc[0], str):\n",
    "                sesiones_df[col] = sesiones_df[col].str.replace(',', '.').astype(float)\n",
    "            elif not pd.api.types.is_numeric_dtype(sesiones_df[col]):\n",
    "                sesiones_df[col] = pd.to_numeric(sesiones_df[col], errors='coerce')\n",
    "        \n",
    "        # Crear columnas con la suma de aceleraciones y desaceleraciones\n",
    "        sesiones_df['Total Aceleraciones'] = sesiones_df[columnas_aceleraciones].sum(axis=1)\n",
    "        sesiones_df['Total Desaceleraciones'] = sesiones_df[columnas_desaceleraciones].sum(axis=1)\n",
    "        \n",
    "        # Agrupar por Session Title\n",
    "        aceleraciones_stats = sesiones_df.groupby(['Session Title'])[\n",
    "            ['Total Aceleraciones', 'Total Desaceleraciones']].agg(['mean', 'count']).reset_index()\n",
    "        \n",
    "        # Reorganizar columnas para facilitar su uso\n",
    "        aceleraciones_stats.columns = [\n",
    "            'Sesión',\n",
    "            'Media Aceleraciones', 'Count Aceleraciones',\n",
    "            'Media Desaceleraciones', 'Count Desaceleraciones'\n",
    "        ]\n",
    "        \n",
    "        # Ordenar alfabéticamente por el nombre de la sesión\n",
    "        aceleraciones_stats = aceleraciones_stats.sort_values('Sesión', ascending=True)\n",
    "        \n",
    "        return aceleraciones_stats\n",
    "        \n",
    "    except Exception as e:\n",
    "        print(f\"Error al obtener estadísticas de aceleraciones: {e}\")\n",
    "        return None\n",
    "\n",
    "def graficar_aceleraciones(aceleraciones_stats, tipo_sesion, n_sesiones=10):\n",
    "    \"\"\"\n",
    "    Genera un gráfico de barras comparando aceleraciones (azul) y desaceleraciones (rojo)\n",
    "    \"\"\"\n",
    "    import plotly.graph_objects as go\n",
    "    \n",
    "    if aceleraciones_stats is None or aceleraciones_stats.empty:\n",
    "        print(\"No hay datos de aceleraciones para visualizar\")\n",
    "        return None\n",
    "    \n",
    "    # Limitar a las últimas n sesiones para mejor visualización\n",
    "    if len(aceleraciones_stats) > n_sesiones:\n",
    "        aceleraciones_stats = aceleraciones_stats.tail(n_sesiones)\n",
    "    \n",
    "    # Crear figura con Plotly\n",
    "    fig = go.Figure()\n",
    "    \n",
    "    # Añadir barras para aceleraciones (en azul)\n",
    "    fig.add_trace(go.Bar(\n",
    "        x=aceleraciones_stats['Sesión'],\n",
    "        y=aceleraciones_stats['Media Aceleraciones'],\n",
    "        name='Aceleraciones',\n",
    "        marker_color='rgb(65, 105, 225)',  # Azul royal\n",
    "        text=aceleraciones_stats['Media Aceleraciones'].round(1),\n",
    "        textposition='outside',\n",
    "        hovertemplate='<b>%{x}</b><br>Aceleraciones: %{y:.1f}<br>Conteo: %{customdata}<extra></extra>',\n",
    "        customdata=aceleraciones_stats['Count Aceleraciones']\n",
    "    ))\n",
    "    \n",
    "    # Añadir barras para desaceleraciones (en rojo)\n",
    "    fig.add_trace(go.Bar(\n",
    "        x=aceleraciones_stats['Sesión'],\n",
    "        y=aceleraciones_stats['Media Desaceleraciones'],\n",
    "        name='Desaceleraciones',\n",
    "        marker_color='rgb(220, 20, 60)',  # Rojo carmesí\n",
    "        text=aceleraciones_stats['Media Desaceleraciones'].round(1),\n",
    "        textposition='outside',\n",
    "        hovertemplate='<b>%{x}</b><br>Desaceleraciones: %{y:.1f}<br>Conteo: %{customdata}<extra></extra>',\n",
    "        customdata=aceleraciones_stats['Count Desaceleraciones']\n",
    "    ))\n",
    "    \n",
    "    # Actualizar diseño\n",
    "    fig.update_layout(\n",
    "        title={\n",
    "            'text': f'Aceleraciones vs Desaceleraciones - {tipo_sesion}',\n",
    "            'font': {'size': 24},\n",
    "            'x': 0.5,\n",
    "            'xanchor': 'center'\n",
    "        },\n",
    "        xaxis=dict(\n",
    "            title='Sesión',\n",
    "            tickangle=-30,\n",
    "            tickfont=dict(size=14),\n",
    "            title_font=dict(size=16)\n",
    "        ),\n",
    "        yaxis=dict(\n",
    "            title='Cantidad promedio',\n",
    "            gridcolor='rgb(220, 220, 220)'\n",
    "        ),\n",
    "        plot_bgcolor='rgb(250, 250, 250)',\n",
    "        paper_bgcolor='rgb(250, 250, 250)',\n",
    "        font=dict(color='rgb(20, 20, 20)'),\n",
    "        barmode='group',  # Barras agrupadas\n",
    "        bargap=0.15,\n",
    "        bargroupgap=0.1,\n",
    "        legend=dict(orientation='h', yanchor='bottom', y=1.02, xanchor='right', x=1),\n",
    "        height=500\n",
    "    )\n",
    "    \n",
    "    return fig"
   ]
  },
  {
   "cell_type": "code",
   "execution_count": 9,
   "id": "e96ae947",
   "metadata": {},
   "outputs": [
    {
     "name": "stdout",
     "output_type": "stream",
     "text": [
      "Analizando datos de: Partido\n",
      "Registros encontrados: 276\n",
      "Sesiones analizadas: 25\n"
     ]
    },
    {
     "data": {
      "application/vnd.plotly.v1+json": {
       "config": {
        "plotlyServerURL": "https://plot.ly"
       },
       "data": [
        {
         "customdata": {
          "bdata": "HgUQBA8GAQIBAQ==",
          "dtype": "i1"
         },
         "hovertemplate": "<b>%{x}</b><br>Aceleraciones: %{y:.1f}<br>Conteo: %{customdata}<extra></extra>",
         "marker": {
          "color": "rgb(65, 105, 225)"
         },
         "name": "Aceleraciones",
         "text": {
          "bdata": "mpmZmZlpYEAzMzMzMxNjQJqZmZmZmV1AzczMzMxMUkAAAAAAABBiQGZmZmZmpmFAAAAAAAAAX0AAAAAAAOBfQAAAAAAAgFJAAAAAAABAVkA=",
          "dtype": "f8"
         },
         "textposition": "outside",
         "type": "bar",
         "x": [
          "Partido San Carlos",
          "Partido San Fer",
          "Partido San Fernando",
          "Partido San Martin",
          "Partido San Patricio",
          "Partido Sitas",
          "Partido Vicentino",
          "Partido vs SITAS",
          "Partido vs San Fernando",
          "partido Liceo Militar"
         ],
         "y": {
          "bdata": "iYiIiIhoYEAzMzMzMxNjQAAAAAAAnF1AAAAAAABQUkARERERERFiQFVVVVVVpWFAAAAAAAAAX0AAAAAAAOBfQAAAAAAAgFJAAAAAAABAVkA=",
          "dtype": "f8"
         }
        },
        {
         "customdata": {
          "bdata": "HgUQBA8GAQIBAQ==",
          "dtype": "i1"
         },
         "hovertemplate": "<b>%{x}</b><br>Desaceleraciones: %{y:.1f}<br>Conteo: %{customdata}<extra></extra>",
         "marker": {
          "color": "rgb(220, 20, 60)"
         },
         "name": "Desaceleraciones",
         "text": {
          "bdata": "ZmZmZmYmYUCamZmZmTliQAAAAAAAIGFAAAAAAABAX0DNzMzMzDxiQGZmZmZmVmNAAAAAAABAbkAAAAAAAABpQAAAAAAAAGpAAAAAAAAgZkA=",
          "dtype": "f8"
         },
         "textposition": "outside",
         "type": "bar",
         "x": [
          "Partido San Carlos",
          "Partido San Fer",
          "Partido San Fernando",
          "Partido San Martin",
          "Partido San Patricio",
          "Partido Sitas",
          "Partido Vicentino",
          "Partido vs SITAS",
          "Partido vs San Fernando",
          "partido Liceo Militar"
         ],
         "y": {
          "bdata": "VVVVVVUlYUCamZmZmTliQAAAAAAAIGFAAAAAAABAX0De3d3d3T1iQFVVVVVVVWNAAAAAAABAbkAAAAAAAABpQAAAAAAAAGpAAAAAAAAgZkA=",
          "dtype": "f8"
         }
        }
       ],
       "layout": {
        "bargap": 0.15,
        "bargroupgap": 0.1,
        "barmode": "group",
        "font": {
         "color": "rgb(20, 20, 20)"
        },
        "height": 500,
        "legend": {
         "orientation": "h",
         "x": 1,
         "xanchor": "right",
         "y": 1.02,
         "yanchor": "bottom"
        },
        "paper_bgcolor": "rgb(250, 250, 250)",
        "plot_bgcolor": "rgb(250, 250, 250)",
        "template": {
         "data": {
          "candlestick": [
           {
            "decreasing": {
             "line": {
              "color": "#000033"
             }
            },
            "increasing": {
             "line": {
              "color": "#000032"
             }
            },
            "type": "candlestick"
           }
          ],
          "contour": [
           {
            "colorscale": [
             [
              0,
              "#000011"
             ],
             [
              0.1111111111111111,
              "#000012"
             ],
             [
              0.2222222222222222,
              "#000013"
             ],
             [
              0.3333333333333333,
              "#000014"
             ],
             [
              0.4444444444444444,
              "#000015"
             ],
             [
              0.5555555555555556,
              "#000016"
             ],
             [
              0.6666666666666666,
              "#000017"
             ],
             [
              0.7777777777777778,
              "#000018"
             ],
             [
              0.8888888888888888,
              "#000019"
             ],
             [
              1,
              "#000020"
             ]
            ],
            "type": "contour"
           }
          ],
          "contourcarpet": [
           {
            "colorscale": [
             [
              0,
              "#000011"
             ],
             [
              0.1111111111111111,
              "#000012"
             ],
             [
              0.2222222222222222,
              "#000013"
             ],
             [
              0.3333333333333333,
              "#000014"
             ],
             [
              0.4444444444444444,
              "#000015"
             ],
             [
              0.5555555555555556,
              "#000016"
             ],
             [
              0.6666666666666666,
              "#000017"
             ],
             [
              0.7777777777777778,
              "#000018"
             ],
             [
              0.8888888888888888,
              "#000019"
             ],
             [
              1,
              "#000020"
             ]
            ],
            "type": "contourcarpet"
           }
          ],
          "heatmap": [
           {
            "colorscale": [
             [
              0,
              "#000011"
             ],
             [
              0.1111111111111111,
              "#000012"
             ],
             [
              0.2222222222222222,
              "#000013"
             ],
             [
              0.3333333333333333,
              "#000014"
             ],
             [
              0.4444444444444444,
              "#000015"
             ],
             [
              0.5555555555555556,
              "#000016"
             ],
             [
              0.6666666666666666,
              "#000017"
             ],
             [
              0.7777777777777778,
              "#000018"
             ],
             [
              0.8888888888888888,
              "#000019"
             ],
             [
              1,
              "#000020"
             ]
            ],
            "type": "heatmap"
           }
          ],
          "histogram2d": [
           {
            "colorscale": [
             [
              0,
              "#000011"
             ],
             [
              0.1111111111111111,
              "#000012"
             ],
             [
              0.2222222222222222,
              "#000013"
             ],
             [
              0.3333333333333333,
              "#000014"
             ],
             [
              0.4444444444444444,
              "#000015"
             ],
             [
              0.5555555555555556,
              "#000016"
             ],
             [
              0.6666666666666666,
              "#000017"
             ],
             [
              0.7777777777777778,
              "#000018"
             ],
             [
              0.8888888888888888,
              "#000019"
             ],
             [
              1,
              "#000020"
             ]
            ],
            "type": "histogram2d"
           }
          ],
          "icicle": [
           {
            "textfont": {
             "color": "white"
            },
            "type": "icicle"
           }
          ],
          "sankey": [
           {
            "textfont": {
             "color": "#000036"
            },
            "type": "sankey"
           }
          ],
          "scatter": [
           {
            "marker": {
             "line": {
              "width": 0
             }
            },
            "type": "scatter"
           }
          ],
          "table": [
           {
            "cells": {
             "fill": {
              "color": "#000038"
             },
             "font": {
              "color": "#000037"
             },
             "line": {
              "color": "#000039"
             }
            },
            "header": {
             "fill": {
              "color": "#000040"
             },
             "font": {
              "color": "#000036"
             },
             "line": {
              "color": "#000039"
             }
            },
            "type": "table"
           }
          ],
          "waterfall": [
           {
            "connector": {
             "line": {
              "color": "#000036",
              "width": 2
             }
            },
            "decreasing": {
             "marker": {
              "color": "#000033"
             }
            },
            "increasing": {
             "marker": {
              "color": "#000032"
             }
            },
            "totals": {
             "marker": {
              "color": "#000034"
             }
            },
            "type": "waterfall"
           }
          ]
         },
         "layout": {
          "coloraxis": {
           "colorscale": [
            [
             0,
             "#000011"
            ],
            [
             0.1111111111111111,
             "#000012"
            ],
            [
             0.2222222222222222,
             "#000013"
            ],
            [
             0.3333333333333333,
             "#000014"
            ],
            [
             0.4444444444444444,
             "#000015"
            ],
            [
             0.5555555555555556,
             "#000016"
            ],
            [
             0.6666666666666666,
             "#000017"
            ],
            [
             0.7777777777777778,
             "#000018"
            ],
            [
             0.8888888888888888,
             "#000019"
            ],
            [
             1,
             "#000020"
            ]
           ]
          },
          "colorscale": {
           "diverging": [
            [
             0,
             "#000021"
            ],
            [
             0.1,
             "#000022"
            ],
            [
             0.2,
             "#000023"
            ],
            [
             0.3,
             "#000024"
            ],
            [
             0.4,
             "#000025"
            ],
            [
             0.5,
             "#000026"
            ],
            [
             0.6,
             "#000027"
            ],
            [
             0.7,
             "#000028"
            ],
            [
             0.8,
             "#000029"
            ],
            [
             0.9,
             "#000030"
            ],
            [
             1,
             "#000031"
            ]
           ],
           "sequential": [
            [
             0,
             "#000011"
            ],
            [
             0.1111111111111111,
             "#000012"
            ],
            [
             0.2222222222222222,
             "#000013"
            ],
            [
             0.3333333333333333,
             "#000014"
            ],
            [
             0.4444444444444444,
             "#000015"
            ],
            [
             0.5555555555555556,
             "#000016"
            ],
            [
             0.6666666666666666,
             "#000017"
            ],
            [
             0.7777777777777778,
             "#000018"
            ],
            [
             0.8888888888888888,
             "#000019"
            ],
            [
             1,
             "#000020"
            ]
           ],
           "sequentialminus": [
            [
             0,
             "#000011"
            ],
            [
             0.1111111111111111,
             "#000012"
            ],
            [
             0.2222222222222222,
             "#000013"
            ],
            [
             0.3333333333333333,
             "#000014"
            ],
            [
             0.4444444444444444,
             "#000015"
            ],
            [
             0.5555555555555556,
             "#000016"
            ],
            [
             0.6666666666666666,
             "#000017"
            ],
            [
             0.7777777777777778,
             "#000018"
            ],
            [
             0.8888888888888888,
             "#000019"
            ],
            [
             1,
             "#000020"
            ]
           ]
          },
          "colorway": [
           "#000001",
           "#000002",
           "#000003",
           "#000004",
           "#000005",
           "#000006",
           "#000007",
           "#000008",
           "#000009",
           "#000010"
          ]
         }
        },
        "title": {
         "font": {
          "size": 24
         },
         "text": "Aceleraciones vs Desaceleraciones - Partido",
         "x": 0.5,
         "xanchor": "center"
        },
        "xaxis": {
         "tickangle": -30,
         "tickfont": {
          "size": 14
         },
         "title": {
          "font": {
           "size": 16
          },
          "text": "Sesión"
         }
        },
        "yaxis": {
         "gridcolor": "rgb(220, 220, 220)",
         "title": {
          "text": "Cantidad promedio"
         }
        }
       }
      }
     },
     "metadata": {},
     "output_type": "display_data"
    },
    {
     "name": "stdout",
     "output_type": "stream",
     "text": [
      "Analizando datos de: Martes\n",
      "Registros encontrados: 60\n",
      "Sesiones analizadas: 6\n"
     ]
    },
    {
     "data": {
      "application/vnd.plotly.v1+json": {
       "config": {
        "plotlyServerURL": "https://plot.ly"
       },
       "data": [
        {
         "customdata": {
          "bdata": "CQgIAxgI",
          "dtype": "i1"
         },
         "hovertemplate": "<b>%{x}</b><br>Aceleraciones: %{y:.1f}<br>Conteo: %{customdata}<extra></extra>",
         "marker": {
          "color": "rgb(65, 105, 225)"
         },
         "name": "Aceleraciones",
         "text": {
          "bdata": "zczMzMxsUkAAAAAAAGBZQAAAAAAA4FZAZmZmZmamTUAzMzMzM/NGQGZmZmZmJldA",
          "dtype": "f8"
         },
         "textposition": "outside",
         "type": "bar",
         "x": [
          "Entrenamiento Martes",
          "Entrenamiento Martes 20/6",
          "Martes 27",
          "Pretemporada Martes",
          "martes 15-4",
          "martes 6/8"
         ],
         "y": {
          "bdata": "q6qqqqpqUkAAAAAAAGBZQAAAAAAA4FZAq6qqqqqqTUAAAAAAAPBGQAAAAAAAKFdA",
          "dtype": "f8"
         }
        },
        {
         "customdata": {
          "bdata": "CQgIAxgI",
          "dtype": "i1"
         },
         "hovertemplate": "<b>%{x}</b><br>Desaceleraciones: %{y:.1f}<br>Conteo: %{customdata}<extra></extra>",
         "marker": {
          "color": "rgb(220, 20, 60)"
         },
         "name": "Desaceleraciones",
         "text": {
          "bdata": "zczMzMyMXkBmZmZmZqZgQAAAAAAAoFdAMzMzMzPTUUBmZmZmZoZUQGZmZmZmJllA",
          "dtype": "f8"
         },
         "textposition": "outside",
         "type": "bar",
         "x": [
          "Entrenamiento Martes",
          "Entrenamiento Martes 20/6",
          "Martes 27",
          "Pretemporada Martes",
          "martes 15-4",
          "martes 6/8"
         ],
         "y": {
          "bdata": "5DiO4ziOXkAAAAAAAKhgQAAAAAAAoFdAVVVVVVXVUUAAAAAAAIhUQAAAAAAAKFlA",
          "dtype": "f8"
         }
        }
       ],
       "layout": {
        "bargap": 0.15,
        "bargroupgap": 0.1,
        "barmode": "group",
        "font": {
         "color": "rgb(20, 20, 20)"
        },
        "height": 500,
        "legend": {
         "orientation": "h",
         "x": 1,
         "xanchor": "right",
         "y": 1.02,
         "yanchor": "bottom"
        },
        "paper_bgcolor": "rgb(250, 250, 250)",
        "plot_bgcolor": "rgb(250, 250, 250)",
        "template": {
         "data": {
          "candlestick": [
           {
            "decreasing": {
             "line": {
              "color": "#000033"
             }
            },
            "increasing": {
             "line": {
              "color": "#000032"
             }
            },
            "type": "candlestick"
           }
          ],
          "contour": [
           {
            "colorscale": [
             [
              0,
              "#000011"
             ],
             [
              0.1111111111111111,
              "#000012"
             ],
             [
              0.2222222222222222,
              "#000013"
             ],
             [
              0.3333333333333333,
              "#000014"
             ],
             [
              0.4444444444444444,
              "#000015"
             ],
             [
              0.5555555555555556,
              "#000016"
             ],
             [
              0.6666666666666666,
              "#000017"
             ],
             [
              0.7777777777777778,
              "#000018"
             ],
             [
              0.8888888888888888,
              "#000019"
             ],
             [
              1,
              "#000020"
             ]
            ],
            "type": "contour"
           }
          ],
          "contourcarpet": [
           {
            "colorscale": [
             [
              0,
              "#000011"
             ],
             [
              0.1111111111111111,
              "#000012"
             ],
             [
              0.2222222222222222,
              "#000013"
             ],
             [
              0.3333333333333333,
              "#000014"
             ],
             [
              0.4444444444444444,
              "#000015"
             ],
             [
              0.5555555555555556,
              "#000016"
             ],
             [
              0.6666666666666666,
              "#000017"
             ],
             [
              0.7777777777777778,
              "#000018"
             ],
             [
              0.8888888888888888,
              "#000019"
             ],
             [
              1,
              "#000020"
             ]
            ],
            "type": "contourcarpet"
           }
          ],
          "heatmap": [
           {
            "colorscale": [
             [
              0,
              "#000011"
             ],
             [
              0.1111111111111111,
              "#000012"
             ],
             [
              0.2222222222222222,
              "#000013"
             ],
             [
              0.3333333333333333,
              "#000014"
             ],
             [
              0.4444444444444444,
              "#000015"
             ],
             [
              0.5555555555555556,
              "#000016"
             ],
             [
              0.6666666666666666,
              "#000017"
             ],
             [
              0.7777777777777778,
              "#000018"
             ],
             [
              0.8888888888888888,
              "#000019"
             ],
             [
              1,
              "#000020"
             ]
            ],
            "type": "heatmap"
           }
          ],
          "histogram2d": [
           {
            "colorscale": [
             [
              0,
              "#000011"
             ],
             [
              0.1111111111111111,
              "#000012"
             ],
             [
              0.2222222222222222,
              "#000013"
             ],
             [
              0.3333333333333333,
              "#000014"
             ],
             [
              0.4444444444444444,
              "#000015"
             ],
             [
              0.5555555555555556,
              "#000016"
             ],
             [
              0.6666666666666666,
              "#000017"
             ],
             [
              0.7777777777777778,
              "#000018"
             ],
             [
              0.8888888888888888,
              "#000019"
             ],
             [
              1,
              "#000020"
             ]
            ],
            "type": "histogram2d"
           }
          ],
          "icicle": [
           {
            "textfont": {
             "color": "white"
            },
            "type": "icicle"
           }
          ],
          "sankey": [
           {
            "textfont": {
             "color": "#000036"
            },
            "type": "sankey"
           }
          ],
          "scatter": [
           {
            "marker": {
             "line": {
              "width": 0
             }
            },
            "type": "scatter"
           }
          ],
          "table": [
           {
            "cells": {
             "fill": {
              "color": "#000038"
             },
             "font": {
              "color": "#000037"
             },
             "line": {
              "color": "#000039"
             }
            },
            "header": {
             "fill": {
              "color": "#000040"
             },
             "font": {
              "color": "#000036"
             },
             "line": {
              "color": "#000039"
             }
            },
            "type": "table"
           }
          ],
          "waterfall": [
           {
            "connector": {
             "line": {
              "color": "#000036",
              "width": 2
             }
            },
            "decreasing": {
             "marker": {
              "color": "#000033"
             }
            },
            "increasing": {
             "marker": {
              "color": "#000032"
             }
            },
            "totals": {
             "marker": {
              "color": "#000034"
             }
            },
            "type": "waterfall"
           }
          ]
         },
         "layout": {
          "coloraxis": {
           "colorscale": [
            [
             0,
             "#000011"
            ],
            [
             0.1111111111111111,
             "#000012"
            ],
            [
             0.2222222222222222,
             "#000013"
            ],
            [
             0.3333333333333333,
             "#000014"
            ],
            [
             0.4444444444444444,
             "#000015"
            ],
            [
             0.5555555555555556,
             "#000016"
            ],
            [
             0.6666666666666666,
             "#000017"
            ],
            [
             0.7777777777777778,
             "#000018"
            ],
            [
             0.8888888888888888,
             "#000019"
            ],
            [
             1,
             "#000020"
            ]
           ]
          },
          "colorscale": {
           "diverging": [
            [
             0,
             "#000021"
            ],
            [
             0.1,
             "#000022"
            ],
            [
             0.2,
             "#000023"
            ],
            [
             0.3,
             "#000024"
            ],
            [
             0.4,
             "#000025"
            ],
            [
             0.5,
             "#000026"
            ],
            [
             0.6,
             "#000027"
            ],
            [
             0.7,
             "#000028"
            ],
            [
             0.8,
             "#000029"
            ],
            [
             0.9,
             "#000030"
            ],
            [
             1,
             "#000031"
            ]
           ],
           "sequential": [
            [
             0,
             "#000011"
            ],
            [
             0.1111111111111111,
             "#000012"
            ],
            [
             0.2222222222222222,
             "#000013"
            ],
            [
             0.3333333333333333,
             "#000014"
            ],
            [
             0.4444444444444444,
             "#000015"
            ],
            [
             0.5555555555555556,
             "#000016"
            ],
            [
             0.6666666666666666,
             "#000017"
            ],
            [
             0.7777777777777778,
             "#000018"
            ],
            [
             0.8888888888888888,
             "#000019"
            ],
            [
             1,
             "#000020"
            ]
           ],
           "sequentialminus": [
            [
             0,
             "#000011"
            ],
            [
             0.1111111111111111,
             "#000012"
            ],
            [
             0.2222222222222222,
             "#000013"
            ],
            [
             0.3333333333333333,
             "#000014"
            ],
            [
             0.4444444444444444,
             "#000015"
            ],
            [
             0.5555555555555556,
             "#000016"
            ],
            [
             0.6666666666666666,
             "#000017"
            ],
            [
             0.7777777777777778,
             "#000018"
            ],
            [
             0.8888888888888888,
             "#000019"
            ],
            [
             1,
             "#000020"
            ]
           ]
          },
          "colorway": [
           "#000001",
           "#000002",
           "#000003",
           "#000004",
           "#000005",
           "#000006",
           "#000007",
           "#000008",
           "#000009",
           "#000010"
          ]
         }
        },
        "title": {
         "font": {
          "size": 24
         },
         "text": "Aceleraciones vs Desaceleraciones - Martes",
         "x": 0.5,
         "xanchor": "center"
        },
        "xaxis": {
         "tickangle": -30,
         "tickfont": {
          "size": 14
         },
         "title": {
          "font": {
           "size": 16
          },
          "text": "Sesión"
         }
        },
        "yaxis": {
         "gridcolor": "rgb(220, 220, 220)",
         "title": {
          "text": "Cantidad promedio"
         }
        }
       }
      }
     },
     "metadata": {},
     "output_type": "display_data"
    },
    {
     "name": "stdout",
     "output_type": "stream",
     "text": [
      "Analizando datos de: Jueves\n",
      "Registros encontrados: 9\n",
      "Sesiones analizadas: 4\n"
     ]
    },
    {
     "data": {
      "application/vnd.plotly.v1+json": {
       "config": {
        "plotlyServerURL": "https://plot.ly"
       },
       "data": [
        {
         "customdata": {
          "bdata": "AQMEAQ==",
          "dtype": "i1"
         },
         "hovertemplate": "<b>%{x}</b><br>Aceleraciones: %{y:.1f}<br>Conteo: %{customdata}<extra></extra>",
         "marker": {
          "color": "rgb(65, 105, 225)"
         },
         "name": "Aceleraciones",
         "text": {
          "bdata": "AAAAAABAY0DNzMzMzCxRQAAAAAAAwFVAAAAAAAAASUA=",
          "dtype": "f8"
         },
         "textposition": "outside",
         "type": "bar",
         "x": [
          "Entrenamiento Jueves",
          "Entrenamiento Jueves 6/7",
          "Jueves Entrenamiento",
          "Pretemporada Jueves"
         ],
         "y": {
          "bdata": "AAAAAABAY0CrqqqqqipRQAAAAAAAwFVAAAAAAAAASUA=",
          "dtype": "f8"
         }
        },
        {
         "customdata": {
          "bdata": "AQMEAQ==",
          "dtype": "i1"
         },
         "hovertemplate": "<b>%{x}</b><br>Desaceleraciones: %{y:.1f}<br>Conteo: %{customdata}<extra></extra>",
         "marker": {
          "color": "rgb(220, 20, 60)"
         },
         "name": "Desaceleraciones",
         "text": {
          "bdata": "AAAAAAAgZUAzMzMzM9NbQAAAAAAAAF9AAAAAAACAVUA=",
          "dtype": "f8"
         },
         "textposition": "outside",
         "type": "bar",
         "x": [
          "Entrenamiento Jueves",
          "Entrenamiento Jueves 6/7",
          "Jueves Entrenamiento",
          "Pretemporada Jueves"
         ],
         "y": {
          "bdata": "AAAAAAAgZUBVVVVVVdVbQAAAAAAAAF9AAAAAAACAVUA=",
          "dtype": "f8"
         }
        }
       ],
       "layout": {
        "bargap": 0.15,
        "bargroupgap": 0.1,
        "barmode": "group",
        "font": {
         "color": "rgb(20, 20, 20)"
        },
        "height": 500,
        "legend": {
         "orientation": "h",
         "x": 1,
         "xanchor": "right",
         "y": 1.02,
         "yanchor": "bottom"
        },
        "paper_bgcolor": "rgb(250, 250, 250)",
        "plot_bgcolor": "rgb(250, 250, 250)",
        "template": {
         "data": {
          "candlestick": [
           {
            "decreasing": {
             "line": {
              "color": "#000033"
             }
            },
            "increasing": {
             "line": {
              "color": "#000032"
             }
            },
            "type": "candlestick"
           }
          ],
          "contour": [
           {
            "colorscale": [
             [
              0,
              "#000011"
             ],
             [
              0.1111111111111111,
              "#000012"
             ],
             [
              0.2222222222222222,
              "#000013"
             ],
             [
              0.3333333333333333,
              "#000014"
             ],
             [
              0.4444444444444444,
              "#000015"
             ],
             [
              0.5555555555555556,
              "#000016"
             ],
             [
              0.6666666666666666,
              "#000017"
             ],
             [
              0.7777777777777778,
              "#000018"
             ],
             [
              0.8888888888888888,
              "#000019"
             ],
             [
              1,
              "#000020"
             ]
            ],
            "type": "contour"
           }
          ],
          "contourcarpet": [
           {
            "colorscale": [
             [
              0,
              "#000011"
             ],
             [
              0.1111111111111111,
              "#000012"
             ],
             [
              0.2222222222222222,
              "#000013"
             ],
             [
              0.3333333333333333,
              "#000014"
             ],
             [
              0.4444444444444444,
              "#000015"
             ],
             [
              0.5555555555555556,
              "#000016"
             ],
             [
              0.6666666666666666,
              "#000017"
             ],
             [
              0.7777777777777778,
              "#000018"
             ],
             [
              0.8888888888888888,
              "#000019"
             ],
             [
              1,
              "#000020"
             ]
            ],
            "type": "contourcarpet"
           }
          ],
          "heatmap": [
           {
            "colorscale": [
             [
              0,
              "#000011"
             ],
             [
              0.1111111111111111,
              "#000012"
             ],
             [
              0.2222222222222222,
              "#000013"
             ],
             [
              0.3333333333333333,
              "#000014"
             ],
             [
              0.4444444444444444,
              "#000015"
             ],
             [
              0.5555555555555556,
              "#000016"
             ],
             [
              0.6666666666666666,
              "#000017"
             ],
             [
              0.7777777777777778,
              "#000018"
             ],
             [
              0.8888888888888888,
              "#000019"
             ],
             [
              1,
              "#000020"
             ]
            ],
            "type": "heatmap"
           }
          ],
          "histogram2d": [
           {
            "colorscale": [
             [
              0,
              "#000011"
             ],
             [
              0.1111111111111111,
              "#000012"
             ],
             [
              0.2222222222222222,
              "#000013"
             ],
             [
              0.3333333333333333,
              "#000014"
             ],
             [
              0.4444444444444444,
              "#000015"
             ],
             [
              0.5555555555555556,
              "#000016"
             ],
             [
              0.6666666666666666,
              "#000017"
             ],
             [
              0.7777777777777778,
              "#000018"
             ],
             [
              0.8888888888888888,
              "#000019"
             ],
             [
              1,
              "#000020"
             ]
            ],
            "type": "histogram2d"
           }
          ],
          "icicle": [
           {
            "textfont": {
             "color": "white"
            },
            "type": "icicle"
           }
          ],
          "sankey": [
           {
            "textfont": {
             "color": "#000036"
            },
            "type": "sankey"
           }
          ],
          "scatter": [
           {
            "marker": {
             "line": {
              "width": 0
             }
            },
            "type": "scatter"
           }
          ],
          "table": [
           {
            "cells": {
             "fill": {
              "color": "#000038"
             },
             "font": {
              "color": "#000037"
             },
             "line": {
              "color": "#000039"
             }
            },
            "header": {
             "fill": {
              "color": "#000040"
             },
             "font": {
              "color": "#000036"
             },
             "line": {
              "color": "#000039"
             }
            },
            "type": "table"
           }
          ],
          "waterfall": [
           {
            "connector": {
             "line": {
              "color": "#000036",
              "width": 2
             }
            },
            "decreasing": {
             "marker": {
              "color": "#000033"
             }
            },
            "increasing": {
             "marker": {
              "color": "#000032"
             }
            },
            "totals": {
             "marker": {
              "color": "#000034"
             }
            },
            "type": "waterfall"
           }
          ]
         },
         "layout": {
          "coloraxis": {
           "colorscale": [
            [
             0,
             "#000011"
            ],
            [
             0.1111111111111111,
             "#000012"
            ],
            [
             0.2222222222222222,
             "#000013"
            ],
            [
             0.3333333333333333,
             "#000014"
            ],
            [
             0.4444444444444444,
             "#000015"
            ],
            [
             0.5555555555555556,
             "#000016"
            ],
            [
             0.6666666666666666,
             "#000017"
            ],
            [
             0.7777777777777778,
             "#000018"
            ],
            [
             0.8888888888888888,
             "#000019"
            ],
            [
             1,
             "#000020"
            ]
           ]
          },
          "colorscale": {
           "diverging": [
            [
             0,
             "#000021"
            ],
            [
             0.1,
             "#000022"
            ],
            [
             0.2,
             "#000023"
            ],
            [
             0.3,
             "#000024"
            ],
            [
             0.4,
             "#000025"
            ],
            [
             0.5,
             "#000026"
            ],
            [
             0.6,
             "#000027"
            ],
            [
             0.7,
             "#000028"
            ],
            [
             0.8,
             "#000029"
            ],
            [
             0.9,
             "#000030"
            ],
            [
             1,
             "#000031"
            ]
           ],
           "sequential": [
            [
             0,
             "#000011"
            ],
            [
             0.1111111111111111,
             "#000012"
            ],
            [
             0.2222222222222222,
             "#000013"
            ],
            [
             0.3333333333333333,
             "#000014"
            ],
            [
             0.4444444444444444,
             "#000015"
            ],
            [
             0.5555555555555556,
             "#000016"
            ],
            [
             0.6666666666666666,
             "#000017"
            ],
            [
             0.7777777777777778,
             "#000018"
            ],
            [
             0.8888888888888888,
             "#000019"
            ],
            [
             1,
             "#000020"
            ]
           ],
           "sequentialminus": [
            [
             0,
             "#000011"
            ],
            [
             0.1111111111111111,
             "#000012"
            ],
            [
             0.2222222222222222,
             "#000013"
            ],
            [
             0.3333333333333333,
             "#000014"
            ],
            [
             0.4444444444444444,
             "#000015"
            ],
            [
             0.5555555555555556,
             "#000016"
            ],
            [
             0.6666666666666666,
             "#000017"
            ],
            [
             0.7777777777777778,
             "#000018"
            ],
            [
             0.8888888888888888,
             "#000019"
            ],
            [
             1,
             "#000020"
            ]
           ]
          },
          "colorway": [
           "#000001",
           "#000002",
           "#000003",
           "#000004",
           "#000005",
           "#000006",
           "#000007",
           "#000008",
           "#000009",
           "#000010"
          ]
         }
        },
        "title": {
         "font": {
          "size": 24
         },
         "text": "Aceleraciones vs Desaceleraciones - Jueves",
         "x": 0.5,
         "xanchor": "center"
        },
        "xaxis": {
         "tickangle": -30,
         "tickfont": {
          "size": 14
         },
         "title": {
          "font": {
           "size": 16
          },
          "text": "Sesión"
         }
        },
        "yaxis": {
         "gridcolor": "rgb(220, 220, 220)",
         "title": {
          "text": "Cantidad promedio"
         }
        }
       }
      }
     },
     "metadata": {},
     "output_type": "display_data"
    }
   ],
   "source": [
    "def visualizar_sesion(tipo_seleccionado=\"Partido\"):\n",
    "    print(f\"Analizando datos de: {tipo_seleccionado}\")\n",
    "    \n",
    "    # Filtrar datos por tipo de sesión seleccionado\n",
    "    sesiones_df = df[df['Session Title'].str.contains(tipo_seleccionado, case=False, na=False)].copy()\n",
    "    \n",
    "    # Mostrar cuántos registros se encontraron\n",
    "    print(f\"Registros encontrados: {len(sesiones_df)}\")\n",
    "    \n",
    "    if len(sesiones_df) == 0:\n",
    "        print(f\"No se encontraron datos para {tipo_seleccionado}\")\n",
    "        return\n",
    "    \n",
    "    # Obtener estadísticas de aceleraciones y desaceleraciones\n",
    "    aceleraciones_stats = obtener_estadisticas_aceleraciones(sesiones_df)\n",
    "    \n",
    "    if aceleraciones_stats is None or aceleraciones_stats.empty:\n",
    "        print(f\"No se pudieron calcular estadísticas para {tipo_seleccionado}\")\n",
    "        return\n",
    "        \n",
    "    print(f\"Sesiones analizadas: {len(aceleraciones_stats)}\")\n",
    "    \n",
    "    # Crear gráfico\n",
    "    fig = graficar_aceleraciones(aceleraciones_stats, tipo_seleccionado)\n",
    "    \n",
    "    # Mostrar el gráfico\n",
    "    fig.show()\n",
    "    \n",
    "    return aceleraciones_stats, fig  # Devolver los datos y el gráfico para uso posterior\n",
    "\n",
    "# Probar con los diferentes tipos de sesión\n",
    "tipos_sesion = [\"Partido\", \"Martes\", \"Jueves\"]\n",
    "\n",
    "for tipo in tipos_sesion:\n",
    "    visualizar_sesion(tipo)"
   ]
  }
 ],
 "metadata": {
  "kernelspec": {
   "display_name": "Python 3",
   "language": "python",
   "name": "python3"
  },
  "language_info": {
   "codemirror_mode": {
    "name": "ipython",
    "version": 3
   },
   "file_extension": ".py",
   "mimetype": "text/x-python",
   "name": "python",
   "nbconvert_exporter": "python",
   "pygments_lexer": "ipython3",
   "version": "3.13.2"
  }
 },
 "nbformat": 4,
 "nbformat_minor": 5
}
