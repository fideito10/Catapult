{
 "cells": [
  {
   "cell_type": "markdown",
   "id": "1b258877",
   "metadata": {},
   "source": [
    "# Análisis de Datos de Google Sheets\n",
    "\n",
    "Este notebook permite cargar, visualizar y analizar datos nutricionales de jugadores de rugby desde Google Sheets."
   ]
  },
  {
   "cell_type": "code",
   "execution_count": 1,
   "id": "f930581c",
   "metadata": {},
   "outputs": [],
   "source": [
    "# Importación de librerías necesarias\n",
    "import pandas as pd\n",
    "import numpy as np\n",
    "import matplotlib.pyplot as plt\n",
    "import seaborn as sns\n",
    "import datetime\n",
    "import plotly.express as px\n",
    "import plotly.graph_objects as go\n",
    "from PIL import Image\n",
    "import os\n",
    "\n",
    "# Configurar estilo de visualización\n",
    "plt.style.use('ggplot')\n",
    "sns.set_style('whitegrid')\n",
    "%matplotlib inline"
   ]
  },
  {
   "cell_type": "markdown",
   "id": "13280ac0",
   "metadata": {},
   "source": [
    "## Carga de Datos desde Google Sheets\n",
    "\n",
    "La siguiente función permite cargar datos directamente desde una hoja de Google Sheets compartida."
   ]
  },
  {
   "cell_type": "code",
   "execution_count": null,
   "id": "95d3eecd",
   "metadata": {},
   "outputs": [],
   "source": [
    "def cargar_datos_google_sheets(sheet_url=None):\n",
    "    if sheet_url is None:\n",
    "        # URL de la hoja de cálculo compartida por defecto\n",
    "        sheet_url = \"https://docs.google.com/spreadsheets/d/17rtbwMwGMXvoE4sXdGNXXr19z73mdCSjxTApoG5v_6o/edit?gid=0#gid=0\"\n",
    "    \n",
    "    # Extraer el ID de la hoja de cálculo de la URL\n",
    "    try:\n",
    "        if 'spreadsheets/d/' in sheet_url:\n",
    "            sheet_id = sheet_url.split('spreadsheets/d/')[1].split('/')[0]\n",
    "        else:\n",
    "            # Si no tiene el formato esperado\n",
    "            raise ValueError(\"La URL no parece ser una URL válida de Google Sheets\")\n",
    "        \n",
    "        # Construir la URL para exportar como CSV\n",
    "        csv_url = f\"https://docs.google.com/spreadsheets/d/{sheet_id}/export?format=csv\"\n",
    "        \n",
    "        # Leer los datos directamente desde la URL\n",
    "        print(f\"Intentando cargar datos desde: {csv_url}\")\n",
    "        df = pd.read_csv(csv_url)\n",
    "        print(f\"✅ Datos cargados exitosamente: {df.shape[0]} filas y {df.shape[1]} columnas\")\n",
    "        \n",
    "        # Convertir fechas si hay una columna de fecha\n",
    "        if 'fecha' in df.columns:\n",
    "            # Lista de formatos a probar para mayor flexibilidad\n",
    "            formatos = ['%d-%m-%Y', '%d/%m/%Y', '%Y-%m-%d', '%d-%m-%y', '%d/%m/%y']\n",
    "            \n",
    "            # Intentar cada formato hasta que uno funcione\n",
    "            fecha_convertida = False\n",
    "            for formato in formatos:\n",
    "                try:\n",
    "                    # Intentar convertir con el formato actual\n",
    "                    df['fecha'] = pd.to_datetime(df['fecha'], format=formato, errors='coerce')\n",
    "                    \n",
    "                    # Si no hay fechas NaN, hemos encontrado el formato correcto\n",
    "                    if not df['fecha'].isna().any():\n",
    "                        fecha_convertida = True\n",
    "                        print(f\"✅ Fechas convertidas correctamente usando el formato: {formato}\")\n",
    "                        break\n",
    "                except:\n",
    "                    continue\n",
    "            \n",
    "            # Si aún hay fechas nulas después de intentar todos los formatos\n",
    "            if df['fecha'].isna().any():\n",
    "                # Detectar filas con problemas\n",
    "                filas_problematicas = df[df['fecha'].isna()]\n",
    "                print(f\"⚠️ Algunas fechas no pudieron ser convertidas. Verificar que el formato sea día-mes-año (ej: 3-2-2025)\")\n",
    "                print(f\"⚠️ Ejemplo de valor problemático: {filas_problematicas['fecha'].iloc[0] if len(filas_problematicas) > 0 else 'No disponible'}\")\n",
    "            \n",
    "            # Crear columna con formato legible\n",
    "            df['fecha_str'] = df['fecha'].dt.strftime('%d/%m/%Y')\n",
    "        else:\n",
    "            print(\"⚠️ No se encontró la columna 'fecha' en los datos. Verificar estructura del Google Sheet.\")\n",
    "        \n",
    "        return df\n",
    "    except Exception as e:\n",
    "        print(f\"❌ Error al cargar datos: {e}\")\n",
    "        # Proporcionar datos de ejemplo en caso de error\n",
    "        print(\"Generando datos de ejemplo para demostración...\")\n",
    "        fechas = pd.date_range(start='2024-01-01', periods=6, freq='MS')\n",
    "        datos = {\n",
    "            'fecha': fechas,\n",
    "            'Peso (kg)': [95.2, 94.8, 93.5, 92.9, 92.3, 91.8],\n",
    "            'altura': [1.88] * 6,\n",
    "            'masa_muscular': [42.5, 42.8, 43.2, 43.5, 43.7, 43.9],\n",
    "            'masa_adiposa': [24.3, 23.5, 22.1, 21.2, 20.5, 19.8],\n",
    "            'masa_osea': [15.1, 15.1, 15.1, 15.2, 15.2, 15.2],\n",
    "            'pliegue_triceps': [15.2, 14.8, 14.1, 13.7, 13.2, 12.8],\n",
    "            'pliegue_subescapular': [16.8, 16.3, 15.7, 15.2, 14.8, 14.3],\n",
    "            'pliegue_suprailiaco': [18.2, 17.5, 16.8, 16.2, 15.6, 15.1],\n",
    "            'pliegue_abdominal': [22.5, 21.8, 20.5, 19.8, 19.2, 18.5],\n",
    "            'pliegue_muslo': [15.7, 15.2, 14.6, 14.2, 13.8, 13.5],\n",
    "            'pliegue_pantorrilla': [10.2, 9.8, 9.5, 9.2, 8.9, 8.7],\n",
    "        }\n",
    "        df = pd.DataFrame(datos)\n",
    "        df['fecha_str'] = df['fecha'].dt.strftime('%d/%m/%Y')\n",
    "        return df\n"
   ]
  },
  {
   "cell_type": "code",
   "execution_count": 5,
   "id": "e9af9772",
   "metadata": {},
   "outputs": [],
   "source": [
    "def normalizar_valores_nan(dataframe):\n",
    "    \"\"\"\n",
    "    Normaliza el DataFrame reemplazando los valores NaN por 0.\n",
    "    \n",
    "    Args:\n",
    "        dataframe (pd.DataFrame): El DataFrame a normalizar\n",
    "        \n",
    "    Returns:\n",
    "        pd.DataFrame: DataFrame con valores NaN reemplazados por 0\n",
    "    \"\"\"\n",
    "    try:\n",
    "        # Crear una copia para no modificar el original directamente\n",
    "        df_normalizado = dataframe.copy()\n",
    "        \n",
    "        # Reemplazar todos los valores NaN por 0\n",
    "        df_normalizado = df_normalizado.fillna(0)\n",
    "        \n",
    "        # Contar cuántos valores fueron reemplazados\n",
    "        total_nan = dataframe.isna().sum().sum()\n",
    "        print(f\"✅ Se han normalizado {total_nan} valores NaN a 0 en el DataFrame\")\n",
    "        \n",
    "        # Mostrar un resumen de las columnas afectadas\n",
    "        columnas_afectadas = dataframe.columns[dataframe.isna().any()].tolist()\n",
    "        if columnas_afectadas:\n",
    "            print(\"\\nColumnas normalizadas:\")\n",
    "            for col in columnas_afectadas:\n",
    "                num_nan = dataframe[col].isna().sum()\n",
    "                print(f\"- {col}: {num_nan} valores reemplazados\")\n",
    "                \n",
    "        return df_normalizado\n",
    "    except Exception as e:\n",
    "        print(f\"❌ Error al normalizar valores: {e}\")\n",
    "        return dataframe  # Devolver el DataFrame original en caso de error\n"
   ]
  },
  {
   "cell_type": "markdown",
   "id": "905b857a",
   "metadata": {},
   "source": [
    "## Carga de Datos\n",
    "\n",
    "Puedes usar la URL por defecto o introducir tu propia URL de Google Sheets."
   ]
  },
  {
   "cell_type": "code",
   "execution_count": 6,
   "id": "bb6142a2",
   "metadata": {},
   "outputs": [
    {
     "name": "stdout",
     "output_type": "stream",
     "text": [
      "Intentando cargar datos desde: https://docs.google.com/spreadsheets/d/17rtbwMwGMXvoE4sXdGNXXr19z73mdCSjxTApoG5v_6o/export?format=csv\n",
      "✅ Datos cargados exitosamente: 189 filas y 20 columnas\n",
      "⚠️ Algunas fechas no pudieron ser convertidas. Verificar que el formato sea día-mes-año (ej: 3-2-2025)\n",
      "⚠️ Ejemplo de valor problemático: NaT\n",
      "✅ Se han normalizado 3000 valores NaN a 0 en el DataFrame\n",
      "\n",
      "Columnas normalizadas:\n",
      "- fecha: 137 valores reemplazados\n",
      "- Apellido: 121 valores reemplazados\n",
      "- DNI: 95 valores reemplazados\n",
      "- Categoria: 163 valores reemplazados\n",
      "- EMAIL: 189 valores reemplazados\n",
      "- Posición : 141 valores reemplazados\n",
      "- Peso (kg): 144 valores reemplazados\n",
      "- Talla (cm): 144 valores reemplazados\n",
      "- IMC: 145 valores reemplazados\n",
      "- Talla sentado (cm): 144 valores reemplazados\n",
      "- kg MA: 144 valores reemplazados\n",
      "- % MA : 144 valores reemplazados\n",
      "- Z Adiposo: 144 valores reemplazados\n",
      "- 6 Pliegues: 144 valores reemplazados\n",
      "- kg MM: 144 valores reemplazados\n",
      "- % MM : 144 valores reemplazados\n",
      "- Z MM: 144 valores reemplazados\n",
      "- kg de MO: 144 valores reemplazados\n",
      "- IMO: 144 valores reemplazados\n",
      "- Objetivo 1: 144 valores reemplazados\n",
      "- fecha_str: 137 valores reemplazados\n"
     ]
    },
    {
     "data": {
      "text/html": [
       "<div>\n",
       "<style scoped>\n",
       "    .dataframe tbody tr th:only-of-type {\n",
       "        vertical-align: middle;\n",
       "    }\n",
       "\n",
       "    .dataframe tbody tr th {\n",
       "        vertical-align: top;\n",
       "    }\n",
       "\n",
       "    .dataframe thead th {\n",
       "        text-align: right;\n",
       "    }\n",
       "</style>\n",
       "<table border=\"1\" class=\"dataframe\">\n",
       "  <thead>\n",
       "    <tr style=\"text-align: right;\">\n",
       "      <th></th>\n",
       "      <th>fecha</th>\n",
       "      <th>Apellido</th>\n",
       "      <th>DNI</th>\n",
       "      <th>Categoria</th>\n",
       "      <th>EMAIL</th>\n",
       "      <th>Posición</th>\n",
       "      <th>Peso (kg)</th>\n",
       "      <th>Talla (cm)</th>\n",
       "      <th>IMC</th>\n",
       "      <th>Talla sentado (cm)</th>\n",
       "      <th>...</th>\n",
       "      <th>% MA</th>\n",
       "      <th>Z Adiposo</th>\n",
       "      <th>6 Pliegues</th>\n",
       "      <th>kg MM</th>\n",
       "      <th>% MM</th>\n",
       "      <th>Z MM</th>\n",
       "      <th>kg de MO</th>\n",
       "      <th>IMO</th>\n",
       "      <th>Objetivo 1</th>\n",
       "      <th>fecha_str</th>\n",
       "    </tr>\n",
       "  </thead>\n",
       "  <tbody>\n",
       "    <tr>\n",
       "      <th>0</th>\n",
       "      <td>2025-02-03 00:00:00</td>\n",
       "      <td>Alegre, Diego</td>\n",
       "      <td>30281398</td>\n",
       "      <td>0</td>\n",
       "      <td>0.0</td>\n",
       "      <td>Pilar</td>\n",
       "      <td>0</td>\n",
       "      <td>0</td>\n",
       "      <td>0</td>\n",
       "      <td>0</td>\n",
       "      <td>...</td>\n",
       "      <td>0</td>\n",
       "      <td>0</td>\n",
       "      <td>0</td>\n",
       "      <td>0</td>\n",
       "      <td>0</td>\n",
       "      <td>0</td>\n",
       "      <td>0</td>\n",
       "      <td>0</td>\n",
       "      <td>0</td>\n",
       "      <td>03/02/2025</td>\n",
       "    </tr>\n",
       "    <tr>\n",
       "      <th>1</th>\n",
       "      <td>2025-02-03 00:00:00</td>\n",
       "      <td>Alvarez, Dylan</td>\n",
       "      <td>45742224</td>\n",
       "      <td>0</td>\n",
       "      <td>0.0</td>\n",
       "      <td>Wing</td>\n",
       "      <td>82,1</td>\n",
       "      <td>177,00</td>\n",
       "      <td>26,20</td>\n",
       "      <td>92</td>\n",
       "      <td>...</td>\n",
       "      <td>22,78</td>\n",
       "      <td>-1,38</td>\n",
       "      <td>71</td>\n",
       "      <td>41,58</td>\n",
       "      <td>50,65</td>\n",
       "      <td>2,67</td>\n",
       "      <td>8,62</td>\n",
       "      <td>4,82</td>\n",
       "      <td>Aumento de Masa Muscular</td>\n",
       "      <td>03/02/2025</td>\n",
       "    </tr>\n",
       "    <tr>\n",
       "      <th>2</th>\n",
       "      <td>2025-02-03 00:00:00</td>\n",
       "      <td>Amigorena, Gastón</td>\n",
       "      <td>26106150</td>\n",
       "      <td>0</td>\n",
       "      <td>0.0</td>\n",
       "      <td>Pilar</td>\n",
       "      <td>0</td>\n",
       "      <td>0</td>\n",
       "      <td>0</td>\n",
       "      <td>0</td>\n",
       "      <td>...</td>\n",
       "      <td>0</td>\n",
       "      <td>0</td>\n",
       "      <td>0</td>\n",
       "      <td>0</td>\n",
       "      <td>0</td>\n",
       "      <td>0</td>\n",
       "      <td>0</td>\n",
       "      <td>0</td>\n",
       "      <td>0</td>\n",
       "      <td>03/02/2025</td>\n",
       "    </tr>\n",
       "    <tr>\n",
       "      <th>3</th>\n",
       "      <td>2025-02-03 00:00:00</td>\n",
       "      <td>Amigorena, Valentin</td>\n",
       "      <td>46892621</td>\n",
       "      <td>0</td>\n",
       "      <td>0.0</td>\n",
       "      <td>Wing</td>\n",
       "      <td>0</td>\n",
       "      <td>0</td>\n",
       "      <td>0</td>\n",
       "      <td>0</td>\n",
       "      <td>...</td>\n",
       "      <td>0</td>\n",
       "      <td>0</td>\n",
       "      <td>0</td>\n",
       "      <td>0</td>\n",
       "      <td>0</td>\n",
       "      <td>0</td>\n",
       "      <td>0</td>\n",
       "      <td>0</td>\n",
       "      <td>0</td>\n",
       "      <td>03/02/2025</td>\n",
       "    </tr>\n",
       "    <tr>\n",
       "      <th>4</th>\n",
       "      <td>2025-03-11 00:00:00</td>\n",
       "      <td>Arévalo, Michay Federico</td>\n",
       "      <td>45742426</td>\n",
       "      <td>0</td>\n",
       "      <td>0.0</td>\n",
       "      <td>Medio Scrum</td>\n",
       "      <td>64,7</td>\n",
       "      <td>164,00</td>\n",
       "      <td>24,05</td>\n",
       "      <td>90</td>\n",
       "      <td>...</td>\n",
       "      <td>21,8</td>\n",
       "      <td>-1,62</td>\n",
       "      <td>58</td>\n",
       "      <td>32,6</td>\n",
       "      <td>50,4</td>\n",
       "      <td>2,36</td>\n",
       "      <td>6,5</td>\n",
       "      <td>4,9</td>\n",
       "      <td>Aumento de Masa Muscular</td>\n",
       "      <td>11/03/2025</td>\n",
       "    </tr>\n",
       "  </tbody>\n",
       "</table>\n",
       "<p>5 rows × 21 columns</p>\n",
       "</div>"
      ],
      "text/plain": [
       "                 fecha                  Apellido       DNI Categoria  EMAIL  \\\n",
       "0  2025-02-03 00:00:00             Alegre, Diego  30281398         0    0.0   \n",
       "1  2025-02-03 00:00:00            Alvarez, Dylan  45742224         0    0.0   \n",
       "2  2025-02-03 00:00:00         Amigorena, Gastón  26106150         0    0.0   \n",
       "3  2025-02-03 00:00:00       Amigorena, Valentin  46892621         0    0.0   \n",
       "4  2025-03-11 00:00:00  Arévalo, Michay Federico  45742426         0    0.0   \n",
       "\n",
       "     Posición  Peso (kg) Talla (cm)    IMC Talla sentado (cm)  ...  % MA   \\\n",
       "0        Pilar         0          0      0                  0  ...      0   \n",
       "1         Wing      82,1     177,00  26,20                 92  ...  22,78   \n",
       "2        Pilar         0          0      0                  0  ...      0   \n",
       "3         Wing         0          0      0                  0  ...      0   \n",
       "4  Medio Scrum      64,7     164,00  24,05                 90  ...   21,8   \n",
       "\n",
       "  Z Adiposo 6 Pliegues  kg MM  % MM   Z MM kg de MO   IMO  \\\n",
       "0         0          0      0      0     0        0     0   \n",
       "1     -1,38         71  41,58  50,65  2,67     8,62  4,82   \n",
       "2         0          0      0      0     0        0     0   \n",
       "3         0          0      0      0     0        0     0   \n",
       "4     -1,62         58   32,6   50,4  2,36      6,5   4,9   \n",
       "\n",
       "                 Objetivo 1   fecha_str  \n",
       "0                         0  03/02/2025  \n",
       "1  Aumento de Masa Muscular  03/02/2025  \n",
       "2                         0  03/02/2025  \n",
       "3                         0  03/02/2025  \n",
       "4  Aumento de Masa Muscular  11/03/2025  \n",
       "\n",
       "[5 rows x 21 columns]"
      ]
     },
     "execution_count": 6,
     "metadata": {},
     "output_type": "execute_result"
    }
   ],
   "source": [
    "# Puedes colocar tu URL de Google Sheets aquí si deseas usar otra diferente\n",
    "# Si dejas este campo en blanco, se usará la URL predeterminada\n",
    "mi_url = \"\"  # Ejemplo: \"https://docs.google.com/spreadsheets/d/tu_id_sheet/edit?usp=sharing\"\n",
    "\n",
    "# Cargar los datos\n",
    "if mi_url:\n",
    "    df = cargar_datos_google_sheets(mi_url)\n",
    "else:\n",
    "    df = cargar_datos_google_sheets()\n",
    "\n",
    "# Normalizar los valores NaN a 0\n",
    "df_normalizado = normalizar_valores_nan(df)\n",
    "\n",
    "# Usar el DataFrame normalizado para el resto del análisis\n",
    "df = df_normalizado\n",
    "\n",
    "# Mostrar las primeras filas del DataFrame\n",
    "df.head()"
   ]
  },
  {
   "cell_type": "markdown",
   "id": "bb810a44",
   "metadata": {},
   "source": [
    "## Información General del DataFrame\n",
    "\n",
    "Veamos información básica sobre los datos cargados."
   ]
  },
  {
   "cell_type": "code",
   "execution_count": 26,
   "id": "d79717d1",
   "metadata": {},
   "outputs": [
    {
     "data": {
      "text/plain": [
       "Index(['fecha', 'Apellido', 'DNI', 'Categoria', 'EMAIL', 'Posición ',\n",
       "       'Peso (kg)', 'Talla (cm)', 'IMC', 'Talla sentado (cm)', 'kg MA',\n",
       "       '% MA ', 'Z Adiposo', '6 Pliegues', 'kg MM', '% MM ', 'Z MM',\n",
       "       'kg de MO', 'IMO', 'Objetivo 1', 'fecha_str'],\n",
       "      dtype='object')"
      ]
     },
     "execution_count": 26,
     "metadata": {},
     "output_type": "execute_result"
    }
   ],
   "source": [
    "df.columns\n"
   ]
  },
  {
   "cell_type": "code",
   "execution_count": 35,
   "id": "4f66f3e6",
   "metadata": {},
   "outputs": [],
   "source": [
    "def mostrar_info_jugador(apellido):\n",
    "    \"\"\"\n",
    "    Muestra un dashboard con información personal del jugador seleccionado.\n",
    "    \n",
    "    Args:\n",
    "        apellido (str): Apellido del jugador a buscar\n",
    "    \"\"\"\n",
    "    try:\n",
    "        # Buscar el jugador en el DataFrame (ignorando mayúsculas/minúsculas)\n",
    "        jugador = df[df['Apellido'].str.contains(apellido, case=False, na=False)]\n",
    "        \n",
    "        if len(jugador) == 0:\n",
    "            print(f\"❌ No se encontró ningún jugador con el apellido '{apellido}'\")\n",
    "            return\n",
    "        \n",
    "        # Tomar el primer registro si hay múltiples coincidencias\n",
    "        jugador = jugador.iloc[0]\n",
    "        \n",
    "        # Crear el dashboard usando caracteres ASCII\n",
    "        print(\"\\n\" + \"=\"*50)\n",
    "        print(\"🏉 DASHBOARD DE COMPOSICIÓN CORPORAL - JUGADOR DE RUGBY\")\n",
    "        print(\"=\"*50)\n",
    "        \n",
    "        print(\"\\n🧍‍♂️ INFORMACIÓN PERSONAL\")\n",
    "        print(\"-\"*30)\n",
    "        print(f\"👤 Nombre: {jugador['Apellido']}\")\n",
    "        \n",
    "        # Verificar si existe cada columna antes de mostrarla\n",
    "        if 'Posición' in jugador:\n",
    "            print(f\"🏈 Posición: {jugador['Posición']}\")\n",
    "        elif 'Posicion' in jugador:  # Alternativa sin tilde\n",
    "            print(f\"🏈 Posición: {jugador['Posicion']}\")\n",
    "        \n",
    "        if 'Talla (cm)' in jugador:\n",
    "            print(f\"📏 Altura: {jugador['Talla (cm)']} cm\")\n",
    "        elif 'Altura' in jugador:\n",
    "            print(f\"📏 Altura: {jugador['Altura']} cm\")\n",
    "        \n",
    "        if 'Peso (kg)' in jugador:\n",
    "            print(f\"⚖️ Peso: {jugador['Peso (kg)']} kg\")\n",
    "        elif 'Peso' in jugador:\n",
    "            print(f\"⚖️ Peso: {jugador['Peso']} kg\")\n",
    "        \n",
    "        if 'fecha_str' in jugador:\n",
    "            print(f\"📅 Última medición: {jugador['fecha_str']}\")\n",
    "        \n",
    "        if 'Objetivo 1' in jugador:\n",
    "            print(f\"🎯 Objetivo: {jugador['Objetivo 1']}\")\n",
    "        elif 'Objetivo' in jugador:\n",
    "            print(f\"🎯 Objetivo: {jugador['Objetivo']}\")\n",
    "        \n",
    "        print(\"\\n\" + \"=\"*50)\n",
    "        \n",
    "    except Exception as e:\n",
    "        print(f\"❌ Error al procesar la información: {e}\")\n",
    "        \n",
    "        # Mostrar las columnas disponibles para ayudar a depurar\n",
    "        print(\"\\nColumnas disponibles en el DataFrame:\")\n",
    "        for i, col in enumerate(df.columns):\n",
    "            print(f\"{i+1}. {col}\")\n",
    "        \n",
    "    return"
   ]
  },
  {
   "cell_type": "code",
   "execution_count": null,
   "id": "e7fa21af",
   "metadata": {},
   "outputs": [
    {
     "name": "stdout",
     "output_type": "stream",
     "text": [
      "\n",
      "==================================================\n",
      "🏉 DASHBOARD DE COMPOSICIÓN CORPORAL - JUGADOR DE RUGBY\n",
      "==================================================\n",
      "\n",
      "🧍‍♂️ INFORMACIÓN PERSONAL\n",
      "------------------------------\n",
      "👤 Nombre: Alvarez, Dylan\n",
      "📏 Altura: 177,00 cm\n",
      "⚖️ Peso: 82,1 kg\n",
      "📅 Última medición: 03/02/2025\n",
      "🎯 Objetivo: Aumento de Masa Muscular\n",
      "\n",
      "==================================================\n"
     ]
    }
   ],
   "source": [
    "d = mostrar_info_jugador(\"Alvarez, Dylan\")  # Cambia \"Gonzalez\" por el apellido que desees buscar"
   ]
  },
  {
   "cell_type": "code",
   "execution_count": null,
   "id": "84747afd",
   "metadata": {},
   "outputs": [],
   "source": []
  },
  {
   "cell_type": "markdown",
   "id": "002ae39e",
   "metadata": {},
   "source": [
    "## Visualización de Datos\n",
    "\n",
    "A continuación, creamos algunas visualizaciones para entender mejor los datos."
   ]
  },
  {
   "cell_type": "code",
   "execution_count": null,
   "id": "8819c2cd",
   "metadata": {},
   "outputs": [],
   "source": [
    "# Verificar si existen columnas numéricas para graficar\n",
    "columnas_numericas = df.select_dtypes(include=['float64', 'int64']).columns.tolist()\n",
    "\n",
    "if 'fecha' in df.columns and len(columnas_numericas) > 0:\n",
    "    print(f\"Columnas numéricas disponibles para graficar: {columnas_numericas}\")\n",
    "    \n",
    "    # Seleccionar algunas columnas numéricas para graficar (máximo 5)\n",
    "    columnas_para_graficar = columnas_numericas[:5]\n",
    "    \n",
    "    # Crear un gráfico de líneas para las columnas seleccionadas\n",
    "    plt.figure(figsize=(14, 8))\n",
    "    for columna in columnas_para_graficar:\n",
    "        plt.plot(df['fecha'], df[columna], marker='o', label=columna)\n",
    "    \n",
    "    plt.title('Evolución de Variables en el Tiempo', fontsize=16)\n",
    "    plt.xlabel('Fecha', fontsize=12)\n",
    "    plt.ylabel('Valor', fontsize=12)\n",
    "    plt.grid(True, linestyle='--', alpha=0.7)\n",
    "    plt.legend()\n",
    "    plt.xticks(rotation=45)\n",
    "    plt.tight_layout()\n",
    "    plt.show()\n",
    "    \n",
    "    # Graficamos un mapa de calor para ver correlaciones\n",
    "    if len(columnas_numericas) > 1:\n",
    "        plt.figure(figsize=(12, 10))\n",
    "        correlation_matrix = df[columnas_numericas].corr()\n",
    "        sns.heatmap(correlation_matrix, annot=True, cmap='coolwarm', linewidths=0.5)\n",
    "        plt.title('Matriz de Correlación entre Variables', fontsize=16)\n",
    "        plt.tight_layout()\n",
    "        plt.show()\n",
    "else:\n",
    "    print(\"No hay suficientes datos numéricos o de fecha para crear visualizaciones\")"
   ]
  },
  {
   "cell_type": "markdown",
   "id": "4cbc1b59",
   "metadata": {},
   "source": [
    "## Gráficos Interactivos con Plotly\n",
    "\n",
    "Creamos visualizaciones interactivas para un análisis más detallado."
   ]
  },
  {
   "cell_type": "code",
   "execution_count": 9,
   "id": "a053e26a",
   "metadata": {},
   "outputs": [
    {
     "data": {
      "application/vnd.plotly.v1+json": {
       "config": {
        "plotlyServerURL": "https://plot.ly"
       },
       "data": [
        {
         "mode": "lines+markers",
         "name": "EMAIL",
         "type": "scatter",
         "x": [
          "2025-02-03T00:00:00",
          "2025-02-03T00:00:00",
          "2025-02-03T00:00:00",
          "2025-02-03T00:00:00",
          "2025-03-11T00:00:00",
          0,
          0,
          0,
          0,
          0,
          0,
          0,
          0,
          0,
          "2025-02-03T00:00:00",
          "2025-02-10T00:00:00",
          "2025-02-03T00:00:00",
          "2025-02-03T00:00:00",
          "2025-02-03T00:00:00",
          "2025-02-03T00:00:00",
          "2025-02-24T00:00:00",
          "2025-02-24T00:00:00",
          "2025-02-04T00:00:00",
          "2025-02-04T00:00:00",
          "2025-02-04T00:00:00",
          "2025-03-10T00:00:00",
          "2025-02-11T00:00:00",
          0,
          "2025-02-11T00:00:00",
          "2025-02-10T00:00:00",
          "2025-02-10T00:00:00",
          "2025-02-18T00:00:00",
          "2025-02-18T00:00:00",
          "2025-03-10T00:00:00",
          "2025-02-11T00:00:00",
          "2025-02-11T00:00:00",
          "2025-02-11T00:00:00",
          "2025-02-03T00:00:00",
          "2025-02-03T00:00:00",
          0,
          "2025-02-03T00:00:00",
          "2025-02-04T00:00:00",
          "2025-02-25T00:00:00",
          "2025-02-25T00:00:00",
          "2025-02-04T00:00:00",
          "2025-02-04T00:00:00",
          "2025-02-04T00:00:00",
          "2025-02-03T00:00:00",
          "2025-02-03T00:00:00",
          0,
          0,
          0,
          "2025-02-18T00:00:00",
          "2025-02-18T00:00:00",
          "2025-02-18T00:00:00",
          "2025-02-18T00:00:00",
          "2025-02-04T00:00:00",
          "2025-02-04T00:00:00",
          0,
          0,
          "2025-03-10T00:00:00",
          "2025-02-11T00:00:00",
          "2025-02-11T00:00:00",
          "2025-02-11T00:00:00",
          "2025-02-11T00:00:00",
          "2025-02-11T00:00:00",
          "2025-02-10T00:00:00",
          "2025-02-24T00:00:00",
          0,
          0,
          0,
          0,
          0,
          0,
          0,
          0,
          0,
          0,
          0,
          0,
          0,
          0,
          0,
          0,
          0,
          0,
          0,
          0,
          0,
          0,
          0,
          0,
          0,
          0,
          0,
          0,
          0,
          0,
          0,
          0,
          0,
          0,
          0,
          0,
          0,
          0,
          0,
          0,
          0,
          0,
          0,
          0,
          0,
          0,
          0,
          0,
          0,
          0,
          0,
          0,
          0,
          0,
          0,
          0,
          0,
          0,
          0,
          0,
          0,
          0,
          0,
          0,
          0,
          0,
          0,
          0,
          0,
          0,
          0,
          0,
          0,
          0,
          0,
          0,
          0,
          0,
          0,
          0,
          0,
          0,
          0,
          0,
          0,
          0,
          0,
          0,
          0,
          0,
          0,
          0,
          0,
          0,
          0,
          0,
          0,
          0,
          0,
          0,
          0,
          0,
          0,
          0,
          0,
          0,
          0,
          0,
          0,
          0,
          0,
          0,
          0,
          0,
          0,
          0,
          0,
          0,
          0,
          0,
          0
         ],
         "y": {
          "bdata": "AAAAAAAAAAAAAAAAAAAAAAAAAAAAAAAAAAAAAAAAAAAAAAAAAAAAAAAAAAAAAAAAAAAAAAAAAAAAAAAAAAAAAAAAAAAAAAAAAAAAAAAAAAAAAAAAAAAAAAAAAAAAAAAAAAAAAAAAAAAAAAAAAAAAAAAAAAAAAAAAAAAAAAAAAAAAAAAAAAAAAAAAAAAAAAAAAAAAAAAAAAAAAAAAAAAAAAAAAAAAAAAAAAAAAAAAAAAAAAAAAAAAAAAAAAAAAAAAAAAAAAAAAAAAAAAAAAAAAAAAAAAAAAAAAAAAAAAAAAAAAAAAAAAAAAAAAAAAAAAAAAAAAAAAAAAAAAAAAAAAAAAAAAAAAAAAAAAAAAAAAAAAAAAAAAAAAAAAAAAAAAAAAAAAAAAAAAAAAAAAAAAAAAAAAAAAAAAAAAAAAAAAAAAAAAAAAAAAAAAAAAAAAAAAAAAAAAAAAAAAAAAAAAAAAAAAAAAAAAAAAAAAAAAAAAAAAAAAAAAAAAAAAAAAAAAAAAAAAAAAAAAAAAAAAAAAAAAAAAAAAAAAAAAAAAAAAAAAAAAAAAAAAAAAAAAAAAAAAAAAAAAAAAAAAAAAAAAAAAAAAAAAAAAAAAAAAAAAAAAAAAAAAAAAAAAAAAAAAAAAAAAAAAAAAAAAAAAAAAAAAAAAAAAAAAAAAAAAAAAAAAAAAAAAAAAAAAAAAAAAAAAAAAAAAAAAAAAAAAAAAAAAAAAAAAAAAAAAAAAAAAAAAAAAAAAAAAAAAAAAAAAAAAAAAAAAAAAAAAAAAAAAAAAAAAAAAAAAAAAAAAAAAAAAAAAAAAAAAAAAAAAAAAAAAAAAAAAAAAAAAAAAAAAAAAAAAAAAAAAAAAAAAAAAAAAAAAAAAAAAAAAAAAAAAAAAAAAAAAAAAAAAAAAAAAAAAAAAAAAAAAAAAAAAAAAAAAAAAAAAAAAAAAAAAAAAAAAAAAAAAAAAAAAAAAAAAAAAAAAAAAAAAAAAAAAAAAAAAAAAAAAAAAAAAAAAAAAAAAAAAAAAAAAAAAAAAAAAAAAAAAAAAAAAAAAAAAAAAAAAAAAAAAAAAAAAAAAAAAAAAAAAAAAAAAAAAAAAAAAAAAAAAAAAAAAAAAAAAAAAAAAAAAAAAAAAAAAAAAAAAAAAAAAAAAAAAAAAAAAAAAAAAAAAAAAAAAAAAAAAAAAAAAAAAAAAAAAAAAAAAAAAAAAAAAAAAAAAAAAAAAAAAAAAAAAAAAAAAAAAAAAAAAAAAAAAAAAAAAAAAAAAAAAAAAAAAAAAAAAAAAAAAAAAAAAAAAAAAAAAAAAAAAAAAAAAAAAAAAAAAAAAAAAAAAAAAAAAAAAAAAAAAAAAAAAAAAAAAAAAAAAAAAAAAAAAAAAAAAAAAAAAAAAAAAAAAAAAAAAAAAAAAAAAAAAAAAAAAAAAAAAAAAAAAAAAAAAAAAAAAAAAAAAAAAAAAAAAAAAAAAAAAAAAAAAAAAAAAAAAAAAAAAAAAAAAAAAAAAAAAAAAAAAAAAAAAAAAAAAAAAAAAAAAAAAAAAAAAAAAAAAAAAAAAAAAAAAAAAAAAAAAAAAAAAAAAAAAAAAAAAAAAAAAAAAAAAAAAAAAAAAAAAAAAAAAAAAAAAAAAAAAAAAAAAAAAAAAAAAAAAAAAAAAAAAAAAAAAAAAAAAAAAAAAAAAAAAAAAAAAAAAAAAAAAAAAAAAAAAAAAAAAAAAAAAAAAAAAAAAAAAAAAAAAAAAAAAAAAAAAAAAAAAAAAAAAAAAAAAAAAAAAAAAAAAAAAAAAAAAAAAAAAAAAAAAAAAAAAAAAAAAAAAAAAAAAAAAAAAAAAAAAAAAAAAAAAAAAAAAAAAAAAAAAAAAAAAAAAAAAAAAAAAAAAAAAAAAAAAAAAAAAAAAAAAAAAAAAAAAAAAAAAAAAAAAAAAAAAAAAAAAAAAAAAAAAAAAAAAAAAAAAAAAAAAAAAAAAAAAAAAAAAAAAAAAAAAAAAAAAAAAAAAAAAAAAAAAAAAAAAAAAAAAAAAAAAAA",
          "dtype": "f8"
         }
        }
       ],
       "layout": {
        "height": 600,
        "hovermode": "x unified",
        "template": {
         "data": {
          "bar": [
           {
            "error_x": {
             "color": "#2a3f5f"
            },
            "error_y": {
             "color": "#2a3f5f"
            },
            "marker": {
             "line": {
              "color": "white",
              "width": 0.5
             },
             "pattern": {
              "fillmode": "overlay",
              "size": 10,
              "solidity": 0.2
             }
            },
            "type": "bar"
           }
          ],
          "barpolar": [
           {
            "marker": {
             "line": {
              "color": "white",
              "width": 0.5
             },
             "pattern": {
              "fillmode": "overlay",
              "size": 10,
              "solidity": 0.2
             }
            },
            "type": "barpolar"
           }
          ],
          "carpet": [
           {
            "aaxis": {
             "endlinecolor": "#2a3f5f",
             "gridcolor": "#C8D4E3",
             "linecolor": "#C8D4E3",
             "minorgridcolor": "#C8D4E3",
             "startlinecolor": "#2a3f5f"
            },
            "baxis": {
             "endlinecolor": "#2a3f5f",
             "gridcolor": "#C8D4E3",
             "linecolor": "#C8D4E3",
             "minorgridcolor": "#C8D4E3",
             "startlinecolor": "#2a3f5f"
            },
            "type": "carpet"
           }
          ],
          "choropleth": [
           {
            "colorbar": {
             "outlinewidth": 0,
             "ticks": ""
            },
            "type": "choropleth"
           }
          ],
          "contour": [
           {
            "colorbar": {
             "outlinewidth": 0,
             "ticks": ""
            },
            "colorscale": [
             [
              0,
              "#0d0887"
             ],
             [
              0.1111111111111111,
              "#46039f"
             ],
             [
              0.2222222222222222,
              "#7201a8"
             ],
             [
              0.3333333333333333,
              "#9c179e"
             ],
             [
              0.4444444444444444,
              "#bd3786"
             ],
             [
              0.5555555555555556,
              "#d8576b"
             ],
             [
              0.6666666666666666,
              "#ed7953"
             ],
             [
              0.7777777777777778,
              "#fb9f3a"
             ],
             [
              0.8888888888888888,
              "#fdca26"
             ],
             [
              1,
              "#f0f921"
             ]
            ],
            "type": "contour"
           }
          ],
          "contourcarpet": [
           {
            "colorbar": {
             "outlinewidth": 0,
             "ticks": ""
            },
            "type": "contourcarpet"
           }
          ],
          "heatmap": [
           {
            "colorbar": {
             "outlinewidth": 0,
             "ticks": ""
            },
            "colorscale": [
             [
              0,
              "#0d0887"
             ],
             [
              0.1111111111111111,
              "#46039f"
             ],
             [
              0.2222222222222222,
              "#7201a8"
             ],
             [
              0.3333333333333333,
              "#9c179e"
             ],
             [
              0.4444444444444444,
              "#bd3786"
             ],
             [
              0.5555555555555556,
              "#d8576b"
             ],
             [
              0.6666666666666666,
              "#ed7953"
             ],
             [
              0.7777777777777778,
              "#fb9f3a"
             ],
             [
              0.8888888888888888,
              "#fdca26"
             ],
             [
              1,
              "#f0f921"
             ]
            ],
            "type": "heatmap"
           }
          ],
          "histogram": [
           {
            "marker": {
             "pattern": {
              "fillmode": "overlay",
              "size": 10,
              "solidity": 0.2
             }
            },
            "type": "histogram"
           }
          ],
          "histogram2d": [
           {
            "colorbar": {
             "outlinewidth": 0,
             "ticks": ""
            },
            "colorscale": [
             [
              0,
              "#0d0887"
             ],
             [
              0.1111111111111111,
              "#46039f"
             ],
             [
              0.2222222222222222,
              "#7201a8"
             ],
             [
              0.3333333333333333,
              "#9c179e"
             ],
             [
              0.4444444444444444,
              "#bd3786"
             ],
             [
              0.5555555555555556,
              "#d8576b"
             ],
             [
              0.6666666666666666,
              "#ed7953"
             ],
             [
              0.7777777777777778,
              "#fb9f3a"
             ],
             [
              0.8888888888888888,
              "#fdca26"
             ],
             [
              1,
              "#f0f921"
             ]
            ],
            "type": "histogram2d"
           }
          ],
          "histogram2dcontour": [
           {
            "colorbar": {
             "outlinewidth": 0,
             "ticks": ""
            },
            "colorscale": [
             [
              0,
              "#0d0887"
             ],
             [
              0.1111111111111111,
              "#46039f"
             ],
             [
              0.2222222222222222,
              "#7201a8"
             ],
             [
              0.3333333333333333,
              "#9c179e"
             ],
             [
              0.4444444444444444,
              "#bd3786"
             ],
             [
              0.5555555555555556,
              "#d8576b"
             ],
             [
              0.6666666666666666,
              "#ed7953"
             ],
             [
              0.7777777777777778,
              "#fb9f3a"
             ],
             [
              0.8888888888888888,
              "#fdca26"
             ],
             [
              1,
              "#f0f921"
             ]
            ],
            "type": "histogram2dcontour"
           }
          ],
          "mesh3d": [
           {
            "colorbar": {
             "outlinewidth": 0,
             "ticks": ""
            },
            "type": "mesh3d"
           }
          ],
          "parcoords": [
           {
            "line": {
             "colorbar": {
              "outlinewidth": 0,
              "ticks": ""
             }
            },
            "type": "parcoords"
           }
          ],
          "pie": [
           {
            "automargin": true,
            "type": "pie"
           }
          ],
          "scatter": [
           {
            "fillpattern": {
             "fillmode": "overlay",
             "size": 10,
             "solidity": 0.2
            },
            "type": "scatter"
           }
          ],
          "scatter3d": [
           {
            "line": {
             "colorbar": {
              "outlinewidth": 0,
              "ticks": ""
             }
            },
            "marker": {
             "colorbar": {
              "outlinewidth": 0,
              "ticks": ""
             }
            },
            "type": "scatter3d"
           }
          ],
          "scattercarpet": [
           {
            "marker": {
             "colorbar": {
              "outlinewidth": 0,
              "ticks": ""
             }
            },
            "type": "scattercarpet"
           }
          ],
          "scattergeo": [
           {
            "marker": {
             "colorbar": {
              "outlinewidth": 0,
              "ticks": ""
             }
            },
            "type": "scattergeo"
           }
          ],
          "scattergl": [
           {
            "marker": {
             "colorbar": {
              "outlinewidth": 0,
              "ticks": ""
             }
            },
            "type": "scattergl"
           }
          ],
          "scattermap": [
           {
            "marker": {
             "colorbar": {
              "outlinewidth": 0,
              "ticks": ""
             }
            },
            "type": "scattermap"
           }
          ],
          "scattermapbox": [
           {
            "marker": {
             "colorbar": {
              "outlinewidth": 0,
              "ticks": ""
             }
            },
            "type": "scattermapbox"
           }
          ],
          "scatterpolar": [
           {
            "marker": {
             "colorbar": {
              "outlinewidth": 0,
              "ticks": ""
             }
            },
            "type": "scatterpolar"
           }
          ],
          "scatterpolargl": [
           {
            "marker": {
             "colorbar": {
              "outlinewidth": 0,
              "ticks": ""
             }
            },
            "type": "scatterpolargl"
           }
          ],
          "scatterternary": [
           {
            "marker": {
             "colorbar": {
              "outlinewidth": 0,
              "ticks": ""
             }
            },
            "type": "scatterternary"
           }
          ],
          "surface": [
           {
            "colorbar": {
             "outlinewidth": 0,
             "ticks": ""
            },
            "colorscale": [
             [
              0,
              "#0d0887"
             ],
             [
              0.1111111111111111,
              "#46039f"
             ],
             [
              0.2222222222222222,
              "#7201a8"
             ],
             [
              0.3333333333333333,
              "#9c179e"
             ],
             [
              0.4444444444444444,
              "#bd3786"
             ],
             [
              0.5555555555555556,
              "#d8576b"
             ],
             [
              0.6666666666666666,
              "#ed7953"
             ],
             [
              0.7777777777777778,
              "#fb9f3a"
             ],
             [
              0.8888888888888888,
              "#fdca26"
             ],
             [
              1,
              "#f0f921"
             ]
            ],
            "type": "surface"
           }
          ],
          "table": [
           {
            "cells": {
             "fill": {
              "color": "#EBF0F8"
             },
             "line": {
              "color": "white"
             }
            },
            "header": {
             "fill": {
              "color": "#C8D4E3"
             },
             "line": {
              "color": "white"
             }
            },
            "type": "table"
           }
          ]
         },
         "layout": {
          "annotationdefaults": {
           "arrowcolor": "#2a3f5f",
           "arrowhead": 0,
           "arrowwidth": 1
          },
          "autotypenumbers": "strict",
          "coloraxis": {
           "colorbar": {
            "outlinewidth": 0,
            "ticks": ""
           }
          },
          "colorscale": {
           "diverging": [
            [
             0,
             "#8e0152"
            ],
            [
             0.1,
             "#c51b7d"
            ],
            [
             0.2,
             "#de77ae"
            ],
            [
             0.3,
             "#f1b6da"
            ],
            [
             0.4,
             "#fde0ef"
            ],
            [
             0.5,
             "#f7f7f7"
            ],
            [
             0.6,
             "#e6f5d0"
            ],
            [
             0.7,
             "#b8e186"
            ],
            [
             0.8,
             "#7fbc41"
            ],
            [
             0.9,
             "#4d9221"
            ],
            [
             1,
             "#276419"
            ]
           ],
           "sequential": [
            [
             0,
             "#0d0887"
            ],
            [
             0.1111111111111111,
             "#46039f"
            ],
            [
             0.2222222222222222,
             "#7201a8"
            ],
            [
             0.3333333333333333,
             "#9c179e"
            ],
            [
             0.4444444444444444,
             "#bd3786"
            ],
            [
             0.5555555555555556,
             "#d8576b"
            ],
            [
             0.6666666666666666,
             "#ed7953"
            ],
            [
             0.7777777777777778,
             "#fb9f3a"
            ],
            [
             0.8888888888888888,
             "#fdca26"
            ],
            [
             1,
             "#f0f921"
            ]
           ],
           "sequentialminus": [
            [
             0,
             "#0d0887"
            ],
            [
             0.1111111111111111,
             "#46039f"
            ],
            [
             0.2222222222222222,
             "#7201a8"
            ],
            [
             0.3333333333333333,
             "#9c179e"
            ],
            [
             0.4444444444444444,
             "#bd3786"
            ],
            [
             0.5555555555555556,
             "#d8576b"
            ],
            [
             0.6666666666666666,
             "#ed7953"
            ],
            [
             0.7777777777777778,
             "#fb9f3a"
            ],
            [
             0.8888888888888888,
             "#fdca26"
            ],
            [
             1,
             "#f0f921"
            ]
           ]
          },
          "colorway": [
           "#636efa",
           "#EF553B",
           "#00cc96",
           "#ab63fa",
           "#FFA15A",
           "#19d3f3",
           "#FF6692",
           "#B6E880",
           "#FF97FF",
           "#FECB52"
          ],
          "font": {
           "color": "#2a3f5f"
          },
          "geo": {
           "bgcolor": "white",
           "lakecolor": "white",
           "landcolor": "white",
           "showlakes": true,
           "showland": true,
           "subunitcolor": "#C8D4E3"
          },
          "hoverlabel": {
           "align": "left"
          },
          "hovermode": "closest",
          "mapbox": {
           "style": "light"
          },
          "paper_bgcolor": "white",
          "plot_bgcolor": "white",
          "polar": {
           "angularaxis": {
            "gridcolor": "#EBF0F8",
            "linecolor": "#EBF0F8",
            "ticks": ""
           },
           "bgcolor": "white",
           "radialaxis": {
            "gridcolor": "#EBF0F8",
            "linecolor": "#EBF0F8",
            "ticks": ""
           }
          },
          "scene": {
           "xaxis": {
            "backgroundcolor": "white",
            "gridcolor": "#DFE8F3",
            "gridwidth": 2,
            "linecolor": "#EBF0F8",
            "showbackground": true,
            "ticks": "",
            "zerolinecolor": "#EBF0F8"
           },
           "yaxis": {
            "backgroundcolor": "white",
            "gridcolor": "#DFE8F3",
            "gridwidth": 2,
            "linecolor": "#EBF0F8",
            "showbackground": true,
            "ticks": "",
            "zerolinecolor": "#EBF0F8"
           },
           "zaxis": {
            "backgroundcolor": "white",
            "gridcolor": "#DFE8F3",
            "gridwidth": 2,
            "linecolor": "#EBF0F8",
            "showbackground": true,
            "ticks": "",
            "zerolinecolor": "#EBF0F8"
           }
          },
          "shapedefaults": {
           "line": {
            "color": "#2a3f5f"
           }
          },
          "ternary": {
           "aaxis": {
            "gridcolor": "#DFE8F3",
            "linecolor": "#A2B1C6",
            "ticks": ""
           },
           "baxis": {
            "gridcolor": "#DFE8F3",
            "linecolor": "#A2B1C6",
            "ticks": ""
           },
           "bgcolor": "white",
           "caxis": {
            "gridcolor": "#DFE8F3",
            "linecolor": "#A2B1C6",
            "ticks": ""
           }
          },
          "title": {
           "x": 0.05
          },
          "xaxis": {
           "automargin": true,
           "gridcolor": "#EBF0F8",
           "linecolor": "#EBF0F8",
           "ticks": "",
           "title": {
            "standoff": 15
           },
           "zerolinecolor": "#EBF0F8",
           "zerolinewidth": 2
          },
          "yaxis": {
           "automargin": true,
           "gridcolor": "#EBF0F8",
           "linecolor": "#EBF0F8",
           "ticks": "",
           "title": {
            "standoff": 15
           },
           "zerolinecolor": "#EBF0F8",
           "zerolinewidth": 2
          }
         }
        },
        "title": {
         "text": "Evolución Temporal Interactiva"
        },
        "xaxis": {
         "title": {
          "text": "Fecha"
         }
        },
        "yaxis": {
         "title": {
          "text": "Valor"
         }
        }
       }
      }
     },
     "metadata": {},
     "output_type": "display_data"
    }
   ],
   "source": []
  },
  {
   "cell_type": "markdown",
   "id": "e41e2b0c",
   "metadata": {},
   "source": [
    "## Exportación de Datos\n",
    "\n",
    "Puedes exportar los datos procesados a diferentes formatos si es necesario."
   ]
  },
  {
   "cell_type": "code",
   "execution_count": null,
   "id": "15ecf801",
   "metadata": {},
   "outputs": [],
   "source": []
  }
 ],
 "metadata": {
  "kernelspec": {
   "display_name": "Python 3",
   "language": "python",
   "name": "python3"
  },
  "language_info": {
   "codemirror_mode": {
    "name": "ipython",
    "version": 3
   },
   "file_extension": ".py",
   "mimetype": "text/x-python",
   "name": "python",
   "nbconvert_exporter": "python",
   "pygments_lexer": "ipython3",
   "version": "3.11.2"
  }
 },
 "nbformat": 4,
 "nbformat_minor": 5
}
